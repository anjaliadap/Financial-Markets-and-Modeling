{
 "cells": [
  {
   "cell_type": "markdown",
   "id": "b3ba32d0",
   "metadata": {},
   "source": [
    "## Import Libraries"
   ]
  },
  {
   "cell_type": "code",
   "execution_count": 1,
   "id": "585972f1",
   "metadata": {},
   "outputs": [],
   "source": [
    "import requests \n",
    "import pandas as pd\n",
    "from pandas_datareader import data as pdr\n",
    "import numpy as np\n",
    "import yfinance as yf\n",
    "from datetime import date\n",
    "import matplotlib.pyplot as plt"
   ]
  },
  {
   "cell_type": "markdown",
   "id": "fd2749c2",
   "metadata": {},
   "source": [
    "## Setting dates"
   ]
  },
  {
   "cell_type": "code",
   "execution_count": 2,
   "id": "58f4fa4d",
   "metadata": {},
   "outputs": [],
   "source": [
    "# Getting data from \n",
    "START_DATE = \"2024-09-30\"\n",
    "END_DATE = date.today().isoformat()\n",
    "\n",
    "# Starting trades on \n",
    "TRADE_DATE = \"2024-10-01\""
   ]
  },
  {
   "cell_type": "markdown",
   "id": "ef21e7e9",
   "metadata": {},
   "source": [
    "## Setting trading values"
   ]
  },
  {
   "cell_type": "code",
   "execution_count": 3,
   "id": "a43b0e47",
   "metadata": {},
   "outputs": [],
   "source": [
    "NVDA_NOTIONAL = 1_000_000.0\n",
    "AVGO_NOTIONAL = 1_000_000.0\n",
    "INIT_DEPOSIT_CASH = 1_000_000.0"
   ]
  },
  {
   "cell_type": "markdown",
   "id": "bbd1cc27",
   "metadata": {},
   "source": [
    "## Getting SOFR data"
   ]
  },
  {
   "cell_type": "code",
   "execution_count": 4,
   "id": "16da21ae",
   "metadata": {},
   "outputs": [],
   "source": [
    "def fetch_sofr(start=START_DATE, end=END_DATE):\n",
    "    s = pdr.DataReader('SOFR', 'fred', start, end)\n",
    "    s = s.rename(columns={'SOFR': 'SOFR'}).astype(float) / 100.0 # FRED returns percent\n",
    "\n",
    "    return s"
   ]
  },
  {
   "cell_type": "code",
   "execution_count": 5,
   "id": "a280a8eb",
   "metadata": {},
   "outputs": [
    {
     "data": {
      "text/html": [
       "<div>\n",
       "<style scoped>\n",
       "    .dataframe tbody tr th:only-of-type {\n",
       "        vertical-align: middle;\n",
       "    }\n",
       "\n",
       "    .dataframe tbody tr th {\n",
       "        vertical-align: top;\n",
       "    }\n",
       "\n",
       "    .dataframe thead th {\n",
       "        text-align: right;\n",
       "    }\n",
       "</style>\n",
       "<table border=\"1\" class=\"dataframe\">\n",
       "  <thead>\n",
       "    <tr style=\"text-align: right;\">\n",
       "      <th></th>\n",
       "      <th>SOFR</th>\n",
       "    </tr>\n",
       "    <tr>\n",
       "      <th>DATE</th>\n",
       "      <th></th>\n",
       "    </tr>\n",
       "  </thead>\n",
       "  <tbody>\n",
       "    <tr>\n",
       "      <th>2024-09-30</th>\n",
       "      <td>0.0496</td>\n",
       "    </tr>\n",
       "    <tr>\n",
       "      <th>2024-10-01</th>\n",
       "      <td>0.0505</td>\n",
       "    </tr>\n",
       "    <tr>\n",
       "      <th>2024-10-02</th>\n",
       "      <td>0.0492</td>\n",
       "    </tr>\n",
       "    <tr>\n",
       "      <th>2024-10-03</th>\n",
       "      <td>0.0485</td>\n",
       "    </tr>\n",
       "    <tr>\n",
       "      <th>2024-10-04</th>\n",
       "      <td>0.0483</td>\n",
       "    </tr>\n",
       "    <tr>\n",
       "      <th>...</th>\n",
       "      <td>...</td>\n",
       "    </tr>\n",
       "    <tr>\n",
       "      <th>2025-09-29</th>\n",
       "      <td>0.0413</td>\n",
       "    </tr>\n",
       "    <tr>\n",
       "      <th>2025-09-30</th>\n",
       "      <td>0.0424</td>\n",
       "    </tr>\n",
       "    <tr>\n",
       "      <th>2025-10-01</th>\n",
       "      <td>0.0420</td>\n",
       "    </tr>\n",
       "    <tr>\n",
       "      <th>2025-10-02</th>\n",
       "      <td>0.0420</td>\n",
       "    </tr>\n",
       "    <tr>\n",
       "      <th>2025-10-03</th>\n",
       "      <td>0.0418</td>\n",
       "    </tr>\n",
       "  </tbody>\n",
       "</table>\n",
       "<p>265 rows × 1 columns</p>\n",
       "</div>"
      ],
      "text/plain": [
       "              SOFR\n",
       "DATE              \n",
       "2024-09-30  0.0496\n",
       "2024-10-01  0.0505\n",
       "2024-10-02  0.0492\n",
       "2024-10-03  0.0485\n",
       "2024-10-04  0.0483\n",
       "...            ...\n",
       "2025-09-29  0.0413\n",
       "2025-09-30  0.0424\n",
       "2025-10-01  0.0420\n",
       "2025-10-02  0.0420\n",
       "2025-10-03  0.0418\n",
       "\n",
       "[265 rows x 1 columns]"
      ]
     },
     "execution_count": 5,
     "metadata": {},
     "output_type": "execute_result"
    }
   ],
   "source": [
    "sofr_df = fetch_sofr()\n",
    "sofr_df"
   ]
  },
  {
   "cell_type": "code",
   "execution_count": 6,
   "id": "2ed10b0c",
   "metadata": {},
   "outputs": [
    {
     "data": {
      "text/plain": [
       "SOFR \n",
       "False    253\n",
       "True      12\n",
       "Name: count, dtype: int64"
      ]
     },
     "execution_count": 6,
     "metadata": {},
     "output_type": "execute_result"
    }
   ],
   "source": [
    "sofr_df.isna().value_counts()"
   ]
  },
  {
   "cell_type": "markdown",
   "id": "cbf827d2",
   "metadata": {},
   "source": [
    "## Getting NVDA and AVGO price data from YFinance"
   ]
  },
  {
   "cell_type": "code",
   "execution_count": 7,
   "id": "41c7d213",
   "metadata": {},
   "outputs": [
    {
     "name": "stderr",
     "output_type": "stream",
     "text": [
      "[*********************100%***********************]  2 of 2 completed\n"
     ]
    }
   ],
   "source": [
    "tickers = ['NVDA', 'AVGO']\n",
    "\n",
    "price_df = yf.download(tickers=tickers\n",
    "                       , start=START_DATE # Don't specify period with start-end\n",
    "                       , end=END_DATE\n",
    "                       , interval=\"1d\"\n",
    "                       , auto_adjust=True)[\"Close\"]"
   ]
  },
  {
   "cell_type": "code",
   "execution_count": 8,
   "id": "d44766f6",
   "metadata": {},
   "outputs": [
    {
     "data": {
      "text/html": [
       "<div>\n",
       "<style scoped>\n",
       "    .dataframe tbody tr th:only-of-type {\n",
       "        vertical-align: middle;\n",
       "    }\n",
       "\n",
       "    .dataframe tbody tr th {\n",
       "        vertical-align: top;\n",
       "    }\n",
       "\n",
       "    .dataframe thead th {\n",
       "        text-align: right;\n",
       "    }\n",
       "</style>\n",
       "<table border=\"1\" class=\"dataframe\">\n",
       "  <thead>\n",
       "    <tr style=\"text-align: right;\">\n",
       "      <th>Ticker</th>\n",
       "      <th>AVGO</th>\n",
       "      <th>NVDA</th>\n",
       "    </tr>\n",
       "    <tr>\n",
       "      <th>Date</th>\n",
       "      <th></th>\n",
       "      <th></th>\n",
       "    </tr>\n",
       "  </thead>\n",
       "  <tbody>\n",
       "    <tr>\n",
       "      <th>2024-09-30</th>\n",
       "      <td>170.824585</td>\n",
       "      <td>121.405182</td>\n",
       "    </tr>\n",
       "    <tr>\n",
       "      <th>2024-10-01</th>\n",
       "      <td>165.843445</td>\n",
       "      <td>116.966454</td>\n",
       "    </tr>\n",
       "    <tr>\n",
       "      <th>2024-10-02</th>\n",
       "      <td>169.002472</td>\n",
       "      <td>118.815933</td>\n",
       "    </tr>\n",
       "    <tr>\n",
       "      <th>2024-10-03</th>\n",
       "      <td>170.220505</td>\n",
       "      <td>122.814781</td>\n",
       "    </tr>\n",
       "    <tr>\n",
       "      <th>2024-10-04</th>\n",
       "      <td>174.924377</td>\n",
       "      <td>124.884186</td>\n",
       "    </tr>\n",
       "    <tr>\n",
       "      <th>...</th>\n",
       "      <td>...</td>\n",
       "      <td>...</td>\n",
       "    </tr>\n",
       "    <tr>\n",
       "      <th>2025-09-29</th>\n",
       "      <td>327.899994</td>\n",
       "      <td>181.850006</td>\n",
       "    </tr>\n",
       "    <tr>\n",
       "      <th>2025-09-30</th>\n",
       "      <td>329.910004</td>\n",
       "      <td>186.580002</td>\n",
       "    </tr>\n",
       "    <tr>\n",
       "      <th>2025-10-01</th>\n",
       "      <td>333.390015</td>\n",
       "      <td>187.240005</td>\n",
       "    </tr>\n",
       "    <tr>\n",
       "      <th>2025-10-02</th>\n",
       "      <td>338.179993</td>\n",
       "      <td>188.889999</td>\n",
       "    </tr>\n",
       "    <tr>\n",
       "      <th>2025-10-03</th>\n",
       "      <td>338.369995</td>\n",
       "      <td>187.619995</td>\n",
       "    </tr>\n",
       "  </tbody>\n",
       "</table>\n",
       "<p>254 rows × 2 columns</p>\n",
       "</div>"
      ],
      "text/plain": [
       "Ticker            AVGO        NVDA\n",
       "Date                              \n",
       "2024-09-30  170.824585  121.405182\n",
       "2024-10-01  165.843445  116.966454\n",
       "2024-10-02  169.002472  118.815933\n",
       "2024-10-03  170.220505  122.814781\n",
       "2024-10-04  174.924377  124.884186\n",
       "...                ...         ...\n",
       "2025-09-29  327.899994  181.850006\n",
       "2025-09-30  329.910004  186.580002\n",
       "2025-10-01  333.390015  187.240005\n",
       "2025-10-02  338.179993  188.889999\n",
       "2025-10-03  338.369995  187.619995\n",
       "\n",
       "[254 rows x 2 columns]"
      ]
     },
     "execution_count": 8,
     "metadata": {},
     "output_type": "execute_result"
    }
   ],
   "source": [
    "price_df"
   ]
  },
  {
   "cell_type": "markdown",
   "id": "1842c62c",
   "metadata": {},
   "source": [
    "## Margin Requirements & Rates Setup\n",
    "\n",
    "#### 1. Regulation T (RegT) Initial Margin\n",
    "- Initial margin requirement set by Regulation T.\n",
    "- Equal to 50% of the trade value.\n",
    "- To open a position, the trader must deposit at least 50% of the total trade amount in cash or marginable securities.\n",
    "\n",
    "#### 2. Account Variation Margin\n",
    "- Minimum equity maintenance requirement.\n",
    "- Account equity must not fall below 40% of the current market value.\n",
    "- If equity falls below this, a margin call occurs, requiring additional deposit.\n",
    "\n",
    "#### 3. Interest Rate Earned on Cash Credit\n",
    "- Interest paid to the trader for available positive cash balances.\n",
    "- This rate applies when the account has surplus cash.\\\n",
    "\n",
    "#### 4. Margin Loan Financing Rate\n",
    "- Interest rate charged on borrowed funds (debit balance).\n",
    "- This cost accrues when the trader borrows money to finance positions.\n",
    "\n",
    "#### 5. Stock Borrow Rate\n",
    "- A constant 0.5% annual rate on the value of borrowed stock for short positions.\n",
    "- Reflects the cost of borrowing shares to short sell."
   ]
  },
  {
   "cell_type": "code",
   "execution_count": 9,
   "id": "74e63d5a",
   "metadata": {},
   "outputs": [],
   "source": [
    "# --- Params ---\n",
    "REG_T_INITIAL_MARGIN = 0.50        # 50% initial margin (documented)\n",
    "VARIATION_MARGIN_RATIO = 0.40      # 40% account variation margin requirement"
   ]
  },
  {
   "cell_type": "code",
   "execution_count": 10,
   "id": "4fcaa3de",
   "metadata": {},
   "outputs": [],
   "source": [
    "# Interest rate earned on cash credit\n",
    "def cash_credit_interest_rate(sofr_rate):\n",
    "    \"\"\"\n",
    "    SOFR - 50 bps\n",
    "    \"\"\"\n",
    "    adjusted_rate = sofr_rate - 0.005\n",
    "\n",
    "    return max(adjusted_rate, 0)  # floor at 0 (no negative interest)"
   ]
  },
  {
   "cell_type": "code",
   "execution_count": 11,
   "id": "72011798",
   "metadata": {},
   "outputs": [],
   "source": [
    "# Margin loan financing rate\n",
    "def margin_loan_interest_rate(sofr_rate):\n",
    "    \"\"\"\n",
    "    SOFR + 50 bps\n",
    "    \"\"\"\n",
    "    return sofr_rate + 0.005"
   ]
  },
  {
   "cell_type": "markdown",
   "id": "b6a86894",
   "metadata": {},
   "source": [
    "## Merging sofr_df and price_df"
   ]
  },
  {
   "cell_type": "code",
   "execution_count": 12,
   "id": "2bec2d1e",
   "metadata": {},
   "outputs": [],
   "source": [
    "df = price_df.copy()\n",
    "df = df.join(sofr_df, how=\"left\")\n",
    "\n",
    "df[\"SOFR\"] = df[\"SOFR\"].ffill()"
   ]
  },
  {
   "cell_type": "code",
   "execution_count": 13,
   "id": "b35f0fc0",
   "metadata": {},
   "outputs": [
    {
     "data": {
      "text/plain": [
       "AVGO   NVDA   SOFR \n",
       "False  False  False    254\n",
       "Name: count, dtype: int64"
      ]
     },
     "execution_count": 13,
     "metadata": {},
     "output_type": "execute_result"
    }
   ],
   "source": [
    "df.isna().value_counts()"
   ]
  },
  {
   "cell_type": "code",
   "execution_count": 14,
   "id": "ffc030e8",
   "metadata": {},
   "outputs": [],
   "source": [
    "df[\"cash_credit_rate\"] = df[\"SOFR\"].apply(cash_credit_interest_rate)\n",
    "df[\"margin_loan_rate\"] = df[\"SOFR\"].apply(margin_loan_interest_rate)\n",
    "df[\"stock_borrow_rate\"] = 0.005"
   ]
  },
  {
   "cell_type": "code",
   "execution_count": 15,
   "id": "0653d756",
   "metadata": {},
   "outputs": [],
   "source": [
    "# No of days between each trading day \n",
    "df[\"cal_days\"] = df.index.to_series().diff().dt.days.fillna(0).astype(int)"
   ]
  },
  {
   "cell_type": "code",
   "execution_count": 16,
   "id": "0d106655",
   "metadata": {},
   "outputs": [],
   "source": [
    "# Entry prices & share counts\n",
    "trade_ts = pd.to_datetime(TRADE_DATE)\n",
    "if trade_ts not in df.index:\n",
    "    raise RuntimeError(f\"No price for trade date {TRADE_DATE}. Check holidays/start date.\")\n",
    "\n",
    "nvda_entry = float(df.loc[trade_ts, \"NVDA\"])\n",
    "avgo_entry = float(df.loc[trade_ts, \"AVGO\"])\n",
    "nvda_shares = NVDA_NOTIONAL / nvda_entry             # long shares\n",
    "avgo_shares = AVGO_NOTIONAL / avgo_entry             # short shares"
   ]
  },
  {
   "cell_type": "code",
   "execution_count": 17,
   "id": "a27ea7d1",
   "metadata": {},
   "outputs": [],
   "source": [
    "DAY_COUNT = 360  # ACT/360"
   ]
  },
  {
   "cell_type": "code",
   "execution_count": 18,
   "id": "0eace351",
   "metadata": {},
   "outputs": [],
   "source": [
    "# Daily market values (positive numbers for absolute MVs)\n",
    "df[\"MV_long\"]  = nvda_shares * df[\"NVDA\"]\n",
    "df[\"MV_short\"] = avgo_shares * df[\"AVGO\"]\n",
    "df[\"Gross_Exposure\"] = df[\"MV_long\"] + df[\"MV_short\"]"
   ]
  },
  {
   "cell_type": "code",
   "execution_count": 26,
   "id": "36b27cda",
   "metadata": {},
   "outputs": [],
   "source": [
    "# --- State arrays ---\n",
    "n = len(df)\n",
    "start_idx = df.index.get_loc(trade_ts)\n",
    "\n",
    "cash = np.zeros(n)\n",
    "equity = np.zeros(n)\n",
    "contrib = np.zeros(n) # external top-ups (margin calls)\n",
    "int_cash = np.zeros(n) # interest on cash (credit or debit)\n",
    "borrow_fee = np.zeros(n) # stock borrow accrual\n",
    "daily_roe = np.full(n, np.nan) # contribution-adjusted"
   ]
  },
  {
   "cell_type": "markdown",
   "id": "68fe700e",
   "metadata": {},
   "source": [
    "## Daily portfolio update using present-day balances and rates"
   ]
  },
  {
   "cell_type": "code",
   "execution_count": null,
   "id": "0a5f3be7",
   "metadata": {},
   "outputs": [
    {
     "name": "stdout",
     "output_type": "stream",
     "text": [
      "\n",
      "Updated daily portfolio results:\n",
      "\n",
      "Average Daily Return: 0.002547\n",
      "Daily Volatility: 0.023336\n",
      "Annualized Sharpe Ratio: 1.73\n",
      "Final Equity: $1,773,239.81\n",
      "Total Margin Additions: $1,159,850.14\n"
     ]
    }
   ],
   "source": [
    "first_day = first_day = pd.to_datetime(TRADE_DATE)\n",
    "\n",
    "# Initial cash position at trade close:\n",
    "# Deposit (+), buy long (-), receive short sale proceeds (+)\n",
    "cash_balance = INIT_DEPOSIT_CASH - NVDA_NOTIONAL + AVGO_NOTIONAL\n",
    "\n",
    "# Initial equity position: cash + long position value − short position value\n",
    "equity_prev  = cash_balance \\\n",
    "               + (nvda_shares * df.loc[first_day, \"NVDA\"]) \\\n",
    "               - (avgo_shares * df.loc[first_day, \"AVGO\"])\n",
    "\n",
    "prev_date    = first_day\n",
    "records = []\n",
    "\n",
    "# Subset of the df from trade date onward\n",
    "subset_df = df.loc[first_day:]\n",
    "\n",
    "for date, row in subset_df.iterrows():\n",
    "    if date == first_day:\n",
    "        # Initial entry record, before any interest or market movement\n",
    "        records.append({\n",
    "            \"date\": date,\n",
    "            \"days\": 0,\n",
    "            \"NVDA\": row[\"NVDA\"],\n",
    "            \"AVGO\": row[\"AVGO\"],\n",
    "            \"long_value\": nvda_shares * row[\"NVDA\"],\n",
    "            \"short_value\": avgo_shares * row[\"AVGO\"],\n",
    "            \"gross_exposure\": nvda_shares * row[\"NVDA\"] + avgo_shares * row[\"AVGO\"],\n",
    "            \"cash_balance\": cash_balance,\n",
    "            \"interest_accrued\": 0.0,\n",
    "            \"borrow_cost\": 0.0,\n",
    "            \"margin_added\": 0.0,\n",
    "            \"equity\": equity_prev,\n",
    "            \"daily_return\": np.nan,\n",
    "        })\n",
    "        continue\n",
    "\n",
    "    # Number of calendar days since the previous trading day\n",
    "    days = (date - prev_date).days\n",
    "    if days <= 0:\n",
    "        continue\n",
    "\n",
    "    # Market values based on today's closing prices\n",
    "    long_value  = nvda_shares * row[\"NVDA\"]\n",
    "    short_value = avgo_shares * row[\"AVGO\"]\n",
    "    gross_exposure = long_value + short_value\n",
    "\n",
    "    # Interest rate parameters for today's environment\n",
    "    rate_credit = max(row[\"cash_credit_rate\"], 0.0)\n",
    "    rate_debit  = row[\"margin_loan_rate\"]\n",
    "    rate_borrow = row[\"stock_borrow_rate\"]\n",
    "\n",
    "    # Interest earned or paid on cash (ACT/360 day count)\n",
    "    if cash_balance >= 0:\n",
    "        interest_accrued = cash_balance * rate_credit * (days / DAY_COUNT)\n",
    "    else:\n",
    "        interest_accrued = cash_balance * rate_debit * (days / DAY_COUNT)\n",
    "\n",
    "    # Stock borrow cost on short position\n",
    "    # Treated as a negative cash flow (reduces cash)\n",
    "    borrow_cost = - short_value * rate_borrow * (days / DAY_COUNT)\n",
    "\n",
    "    # Updated cash balance after applying interest and borrow cost\n",
    "    cash_balance += interest_accrued + borrow_cost\n",
    "\n",
    "    # Current total equity = cash + long position − short position\n",
    "    equity_now = cash_balance + long_value - short_value\n",
    "\n",
    "    # Daily margin requirement check:\n",
    "    # If equity is below 40% of gross exposure, deposit enough cash to restore it\n",
    "    required_equity = VARIATION_MARGIN_RATIO * gross_exposure\n",
    "    margin_added = 0.0\n",
    "    if equity_now < required_equity:\n",
    "        margin_added  = (required_equity - equity_now) + 1.0\n",
    "        cash_balance += margin_added\n",
    "        equity_now   += margin_added\n",
    "\n",
    "    # Daily portfolio return based on change in total equity\n",
    "    daily_return = (equity_now - equity_prev) / equity_prev if equity_prev != 0 else np.nan\n",
    "\n",
    "    # Record daily summary\n",
    "    records.append({\n",
    "        \"date\": date,\n",
    "        \"days\": days,\n",
    "        \"NVDA\": row[\"NVDA\"],\n",
    "        \"AVGO\": row[\"AVGO\"],\n",
    "        \"long_value\": long_value,\n",
    "        \"short_value\": short_value,\n",
    "        \"gross_exposure\": gross_exposure,\n",
    "        \"cash_balance\": cash_balance,\n",
    "        \"interest_accrued\": interest_accrued,\n",
    "        \"borrow_cost\": borrow_cost,\n",
    "        \"margin_added\": margin_added,\n",
    "        \"equity\": equity_now,\n",
    "        \"daily_return\": daily_return,\n",
    "    })\n",
    "\n",
    "    # Prepare for next iteration\n",
    "    equity_prev = equity_now\n",
    "    prev_date   = date\n",
    "\n",
    "# Convert to DataFrame for analysis\n",
    "ledger_updated = pd.DataFrame(records).set_index(\"date\")\n",
    "\n",
    "# Performance summary\n",
    "returns = ledger_updated[\"daily_return\"].dropna()\n",
    "mean_return = returns.mean()\n",
    "volatility  = returns.std(ddof=1)\n",
    "sharpe_ratio = (mean_return / volatility) * np.sqrt(252) if volatility > 0 else np.nan\n",
    "\n",
    "print(\"\\nUpdated daily portfolio results:\\n\")\n",
    "print(f\"Average Daily Return: {mean_return:.6f}\")\n",
    "print(f\"Daily Volatility: {volatility:.6f}\")\n",
    "print(f\"Annualized Sharpe Ratio: {sharpe_ratio:.2f}\")\n",
    "print(f\"Final Equity: ${ledger_updated['equity'].iloc[-1]:,.2f}\")\n",
    "print(f\"Total Margin Additions: ${ledger_updated['margin_added'].sum():,.2f}\")\n"
   ]
  },
  {
   "cell_type": "markdown",
   "id": "463076ab",
   "metadata": {},
   "source": [
    "## Histogram of Daily Returns"
   ]
  },
  {
   "cell_type": "code",
   "execution_count": null,
   "id": "1bb32cd0",
   "metadata": {},
   "outputs": [
    {
     "data": {
      "image/png": "[encoded data removed]",
      "text/plain": [
       "<Figure size 1000x600 with 1 Axes>"
      ]
     },
     "metadata": {},
     "output_type": "display_data"
    }
   ],
   "source": [
    "plt.figure(figsize=(10, 6))\n",
    "plt.hist(ledger_updated[\"daily_return\"].dropna(), bins=40, color=\"skyblue\", edgecolor=\"black\", alpha=0.7)\n",
    "\n",
    "# Add mean and +-1 std lines\n",
    "mean_ret = ledger_updated[\"daily_return\"].mean()\n",
    "std_ret  = ledger_updated[\"daily_return\"].std(ddof=1)\n",
    "\n",
    "plt.axvline(mean_ret, color=\"red\", linestyle=\"--\", linewidth=2, label=f\"Mean = {mean_ret:.4f}\")\n",
    "plt.axvline(mean_ret + std_ret, color=\"orange\", linestyle=\"--\", linewidth=1, label=f\"+1 Std = {mean_ret + std_ret:.4f}\")\n",
    "plt.axvline(mean_ret - std_ret, color=\"orange\", linestyle=\"--\", linewidth=1, label=f\"-1 Std = {mean_ret - std_ret:.4f}\")\n",
    "\n",
    "# Labels and title\n",
    "plt.title(\"Distribution of Daily Portfolio Returns\", fontsize=14)\n",
    "plt.xlabel(\"Daily Return\", fontsize=12)\n",
    "plt.ylabel(\"Frequency\", fontsize=12)\n",
    "plt.legend()\n",
    "plt.grid(True, linestyle=\"--\", alpha=0.6)\n",
    "plt.tight_layout()\n",
    "plt.show()"
   ]
  },
  {
   "cell_type": "markdown",
   "id": "e701d73d",
   "metadata": {},
   "source": [
    "## Reflection\n",
    "\n",
    "Working on this project helped me understand how real trading strategies are affected by much more than just price movements. \n",
    "\n",
    "Building the return-on-capital model step by step made it clear how financing rates, stock borrow costs, and margin rules can change the outcome of a trade. \n",
    "\n",
    "I also learned how daily interest accruals and variation margin requirements play a big role in managing risk and maintaining sufficient equity. \n",
    "\n",
    "It was interesting to see how even a market-neutral pair trade like NVDA vs AVGO can still experience gains or losses depending on funding and market conditions. \n",
    "\n",
    "Overall, this exercise gave me a more practical view of how leverage and margin affect performance in an actual trading environment."
   ]
  }
 ],
 "metadata": {
  "kernelspec": {
   "display_name": "base",
   "language": "python",
   "name": "python3"
  },
  "language_info": {
   "codemirror_mode": {
    "name": "ipython",
    "version": 3
   },
   "file_extension": ".py",
   "mimetype": "text/x-python",
   "name": "python",
   "nbconvert_exporter": "python",
   "pygments_lexer": "ipython3",
   "version": "3.11.5"
  }
 },
 "nbformat": 4,
 "nbformat_minor": 5
}
