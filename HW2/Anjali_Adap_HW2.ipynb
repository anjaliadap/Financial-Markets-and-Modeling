{
 "cells": [
  {
   "cell_type": "markdown",
   "id": "c2a37fad",
   "metadata": {},
   "source": [
    "## Importing Libraries"
   ]
  },
  {
   "cell_type": "code",
   "execution_count": 62,
   "id": "38a0c8d9",
   "metadata": {},
   "outputs": [],
   "source": [
    "import requests\n",
    "import pandas as pd\n",
    "import numpy as np\n",
    "import matplotlib.pyplot as plt\n",
    "from datetime import datetime, date, timedelta\n",
    "from dateutil.relativedelta import relativedelta\n",
    "import plotly.graph_objects as go\n",
    "import re\n",
    "\n",
    "import holidays\n",
    "us_holidays = holidays.UnitedStates()"
   ]
  },
  {
   "cell_type": "markdown",
   "id": "65887a40",
   "metadata": {},
   "source": [
    "This is a two-week long homework composed of the following portions:\n",
    "\n",
    "1. Bond construction \n",
    "2. Duration calculation (should be pretty simple!)\n",
    "3. Using the FRED API to plot the yield/forward/zero curve\n",
    "4. Using treasury coupon bond prices as of 09/19/2025 to bootstrap spot rates from coupon bonds. \n",
    "    Write a small piece comparing that with the zero curve. \n",
    "5. From the spot curve in Q4, plot the forward curve and classify the yield shape (is it inverted/normal etc)\n",
    "\n",
    "\n",
    "For all data collection purposes get the data as of **09/19/2025**."
   ]
  },
  {
   "cell_type": "markdown",
   "id": "976b835d",
   "metadata": {},
   "source": [
    "# Question 1\n",
    "\n",
    "Constructure hypothetical treasury par bond of a given time to maturity (in years) with given yield that pays semiannual coupons. Just define the functions."
   ]
  },
  {
   "cell_type": "code",
   "execution_count": 26,
   "id": "4a14f0bb",
   "metadata": {},
   "outputs": [],
   "source": [
    "class Treasury_Par_Bond:\n",
    "\n",
    "    n_bonds = 0\n",
    "\n",
    "    # ----- Instance Details -----\n",
    "    def __init__(self, fv, ytm, freq, T, issue_date: date): # force issue date to be entered \n",
    "        self.fv = fv\n",
    "        self.ytm = ytm\n",
    "        self.freq = freq\n",
    "        self.T = T\n",
    "\n",
    "        # accept str or date for issue_date\n",
    "        self.issue_date = issue_date if isinstance(issue_date, date) else date.fromisoformat(issue_date)\n",
    "\n",
    "        # For a par bond, coupon rate = YTM\n",
    "        self.coupon_rate = ytm\n",
    "\n",
    "        # Total number of payments\n",
    "        self.n_periods = self.T * self.freq # N\n",
    "\n",
    "        # Counting the number of bonds\n",
    "        Treasury_Par_Bond.n_bonds += 1\n",
    "\n",
    "    # ----- HELPER FUNCTIONS -----\n",
    "    def yield_per_coupon(self):\n",
    "        return self.ytm / self.freq\n",
    "\n",
    "    def discount_factor(self, t):\n",
    "        \"\"\" \n",
    "        Don't directly use n_periods. \n",
    "        Discount factor is individualised for each payment. \n",
    "        \n",
    "        \"\"\"\n",
    "        return 1 / ((1 + self.yield_per_coupon()) ** t)\n",
    "\n",
    "    @staticmethod\n",
    "    def is_business_day(d: date, holidays=us_holidays) -> bool:\n",
    "        return d.weekday() < 5 and (not holidays or d not in holidays)\n",
    "\n",
    "    @staticmethod\n",
    "    def adjusted_business_day(d: date, holiday_calendar=us_holidays) -> date:\n",
    "        \"\"\"\n",
    "        Roll forward to the next business day if d is weekend/holiday.\n",
    "        \n",
    "        \"\"\"\n",
    "        while d.weekday() >= 5 or d in holiday_calendar:  # 5=Sat, 6=Sun\n",
    "            d += timedelta(days=1)\n",
    "        \n",
    "        return d\n",
    "\n",
    "    # ----- Value of Each Coupon Payment -----\n",
    "    def coupon_payment(self):\n",
    "        return self.fv * self.coupon_rate / self.freq\n",
    "\n",
    "    # ----- Cash Flow Schedule for the Bond -----\n",
    "    def cash_flows(self):\n",
    "        \"\"\"\n",
    "        Returns a list of all coupon payments,\n",
    "        with the face value added to the last payment. \n",
    "        \n",
    "        \"\"\"\n",
    "        c = self.coupon_payment()\n",
    "        cash_flows = [c] * self.n_periods # N coupon payments\n",
    "        cash_flows[-1] += self.fv # Nth payment = coupon + principal\n",
    "\n",
    "        return cash_flows \n",
    "\n",
    "    # ----- Bond Price from YTM -----\n",
    "    def bond_price_from_ytm(self):\n",
    "        \"\"\"\n",
    "        Returns the present value (price) of the bond\n",
    "        based on its yield to maturity (ytm).\n",
    "\n",
    "        Note: US Treasuries use discrete compounding discouting\n",
    "        \n",
    "        \"\"\"\n",
    "        cash_flows = self.cash_flows()\n",
    "        bond_price = sum(cf * self.discount_factor(t) for t, cf in enumerate (cash_flows, start=1)) # returns (index, value)\n",
    "\n",
    "        return bond_price\n",
    "\n",
    "    # ----- Cash Flows of the Bond -----\n",
    "    def table_of_cash_flows(self):\n",
    "        \"\"\"\n",
    "        Returns a list of dicts: period t, cash_flow, discount_factor, present_value.\n",
    "\n",
    "        \"\"\"\n",
    "        # Setting up coupon payment date calculation \n",
    "        months_between_payments = 12 // self.freq\n",
    "        scheduled_coupon_payment_date = self.issue_date \n",
    "\n",
    "        table = []\n",
    "        for t, cf in enumerate(self.cash_flows(), start=1):\n",
    "            scheduled_coupon_payment_date += relativedelta(months = months_between_payments) # Add months_between_payments to the issue_date for payment date \n",
    "            \n",
    "            # adjust coupon payment date if it is a holiday \n",
    "            actual_coupon_payment_date = Treasury_Par_Bond.adjusted_business_day(scheduled_coupon_payment_date)\n",
    "\n",
    "            df = self.discount_factor(t)\n",
    "\n",
    "            table.append({\n",
    "                \"t\": t,\n",
    "                \"scheduled_date\": scheduled_coupon_payment_date,   # fixed calendar schedule\n",
    "                \"coupon_payment_date\": actual_coupon_payment_date, # business-day adjusted\n",
    "                \"cash_flow\": cf,\n",
    "                \"discount_factor\": df,\n",
    "                \"present_value\": cf * df\n",
    "            })\n",
    "        \n",
    "        return table\n",
    "\n",
    "    # ----- Accrued Interest, Dirty Price and Clean Price -----\n",
    "    # Dirty Price = Clean Price + Accured Interest \n",
    "\n",
    "    @staticmethod\n",
    "    def get_settlement_date_from_trade_date(trade_date, holidays=us_holidays):\n",
    "        \"\"\"\n",
    "        US Treasury settlement: T+1 (roll forward for weekends/holidays).\n",
    "        \n",
    "        \"\"\"\n",
    "        # Base case: T+1 calendar day\n",
    "        settlement_date = trade_date + timedelta(days=1)\n",
    "        \n",
    "        # Roll forward until business day\n",
    "        while settlement_date.weekday() >= 5 or settlement_date in holidays:  # 5=Sat, 6=Sun\n",
    "            settlement_date += timedelta(days=1)\n",
    "        \n",
    "        return settlement_date\n",
    "\n",
    "    def accrued_days(self, trade_date, holidays=us_holidays) -> int:\n",
    "        settlement_date = self.get_settlement_date_from_trade_date(trade_date, holidays)\n",
    "        coupon_payment_dates = [row[\"coupon_payment_date\"] for row in self.table_of_cash_flows()]\n",
    "\n",
    "        if settlement_date >= coupon_payment_dates[-1]:\n",
    "            return 0\n",
    "\n",
    "        if settlement_date < coupon_payment_dates[0]:\n",
    "            return max(0, (settlement_date - self.issue_date).days)\n",
    "\n",
    "        for i in range(1, len(coupon_payment_dates)):\n",
    "            if coupon_payment_dates[i-1] <= settlement_date < coupon_payment_dates[i]:\n",
    "                last_coupon_date = coupon_payment_dates[i-1]\n",
    "                return (settlement_date - last_coupon_date).days\n",
    "\n",
    "        return 0\n",
    "\n",
    "    def days_in_coupon_period(self, trade_date, holidays=us_holidays) -> int:\n",
    "        \"\"\"\n",
    "        Actual days in the current coupon period (denominator for Actual/Actual).\n",
    "        If pre-first-coupon: (first_coupon - issue_date). If post-final: 0.\n",
    "\n",
    "        \"\"\"\n",
    "        settlement_date = self.get_settlement_date_from_trade_date(trade_date, holidays)\n",
    "        coupon_payment_dates = [row[\"coupon_payment_date\"] for row in self.table_of_cash_flows()]\n",
    "\n",
    "        # After (or on) final coupon -> no period\n",
    "        if settlement_date >= coupon_payment_dates[-1]:\n",
    "            return 0\n",
    "\n",
    "        # Before first coupon -> period is (first_coupon - issue_date)\n",
    "        if settlement_date < coupon_payment_dates[0]:\n",
    "            return (coupon_payment_dates[0] - self.issue_date).days\n",
    "\n",
    "        # Between coupons\n",
    "        for i in range(1, len(coupon_payment_dates)):\n",
    "            if coupon_payment_dates[i-1] <= settlement_date < coupon_payment_dates[i]:\n",
    "                last_coupon_date = coupon_payment_dates[i-1]\n",
    "                next_coupon_date = coupon_payment_dates[i]\n",
    "                return (next_coupon_date - last_coupon_date).days\n",
    "\n",
    "        return 0\n",
    "\n",
    "    def accrued_fraction(self, trade_date, holidays=us_holidays):\n",
    "        \"\"\"\n",
    "        Actual/Actual fraction elapsed in the current coupon period.\n",
    "        \n",
    "        \"\"\"\n",
    "        denom = self.days_in_coupon_period(trade_date, holidays)\n",
    "        \n",
    "        if denom <= 0:\n",
    "            return 0.0\n",
    "        \n",
    "        numer = self.accrued_days(trade_date, holidays)  \n",
    "\n",
    "        x = numer / denom\n",
    "        \n",
    "        return 0.0 if x < 0 else (0.999999 if x >= 1 else x)\n",
    "    \n",
    "\n",
    "    def accrued_interest(self, trade_date, holidays=us_holidays):\n",
    "        \"\"\"\n",
    "        Accrued = coupon per period × accrued_fraction (Actual/Actual).\n",
    "        \n",
    "        \"\"\"\n",
    "        return self.coupon_payment() * self.accrued_fraction(trade_date, holidays)\n",
    "\n",
    "    def clean_price(self):\n",
    "        \"\"\"\n",
    "        Quoted clean price (uses coupon-date PV).\n",
    "        \n",
    "        \"\"\"\n",
    "        return self.bond_price_from_ytm()\n",
    "\n",
    "    def dirty_price_from_trade(self, trade_date, holidays=us_holidays) -> float:\n",
    "        \"\"\"\n",
    "        Dirty = Clean + Accrued (accrued computed at settlement).\n",
    "        \n",
    "        \"\"\"\n",
    "        return self.clean_price() + self.accrued_interest(trade_date, holidays)\n",
    "\n",
    "    # ----- Bond Duration -----\n",
    "    def macaulay_duration(self):\n",
    "        \"\"\"\n",
    "        Macaulay Duration (in years).\n",
    "        \n",
    "        \"\"\"\n",
    "        price = self.bond_price_from_ytm()\n",
    "        weighted_sum = sum(\n",
    "            t * cf * self.discount_factor(t)\n",
    "            for t, cf in enumerate(self.cash_flows(), start=1)\n",
    "        )\n",
    "        \n",
    "        return weighted_sum / price / self.freq  # divide by freq to convert periods → years\n",
    "\n",
    "    def modified_duration(self):\n",
    "        mod_duration = self.macaulay_duration() / (1 + self.yield_per_coupon())\n",
    "\n",
    "        return mod_duration\n",
    "\n",
    "    def pv01(self) -> float:\n",
    "        \"\"\"\n",
    "        Price Value of 1bp (DV01).\n",
    "        \n",
    "        \"\"\"\n",
    "        return self.modified_duration() * self.clean_price() * 0.0001\n",
    "\n",
    "    \n",
    "    def convexity(self) -> float:\n",
    "        \"\"\"\n",
    "        Convexity in years^2 (discrete compounding, standard textbook formula):\n",
    "        C = [ Σ CF_t * t*(t+1) / (1+y_per)^(t+2) ] / P   (per-period units)\n",
    "        Convert to years^2 by dividing by freq^2.\n",
    "        \n",
    "        \"\"\"\n",
    "        price = self.bond_price_from_ytm()\n",
    "        \n",
    "        if price <= 0:\n",
    "            return 0.0\n",
    "        \n",
    "        per = self.yield_per_coupon()\n",
    "        \n",
    "        conv_per_period = (\n",
    "            sum(\n",
    "                cf * t * (t + 1) / ((1 + per) ** (t + 2))\n",
    "                for t, cf in enumerate(self.cash_flows(), start=1)\n",
    "            ) / price\n",
    "        )\n",
    "        \n",
    "        return conv_per_period / (self.freq ** 2)\n",
    "\n",
    "    def dollar_convexity(self) -> float:\n",
    "        \"\"\"\n",
    "        Dollar convexity = price × convexity (units: currency per (Δy)^2).\n",
    "        \n",
    "        \"\"\"\n",
    "        return self.clean_price() * self.convexity()"
   ]
  },
  {
   "cell_type": "code",
   "execution_count": null,
   "id": "389a636f",
   "metadata": {},
   "outputs": [
    {
     "name": "stdout",
     "output_type": "stream",
     "text": [
      "Face Value: 1000\n",
      "YTM: 0.03\n",
      "Coupon Frequency: 2\n",
      "Maturity (years): 5\n",
      "Number of Periods: 10\n",
      "\n",
      "Coupon Payment per Period: 15.0\n",
      "Cash Flows: [15.0, 15.0, 15.0, 15.0, 15.0, 15.0, 15.0, 15.0, 15.0, 1015.0]\n",
      "Bond Price from YTM (Clean): 1000.0\n",
      "\n",
      "--- Cash Flow Table ---\n",
      "t= 1, Scheduled=2025-07-01, Payment Date=2025-07-01, CF=$   15.00, DF=0.985222, PV=$  14.78\n",
      "t= 2, Scheduled=2026-01-01, Payment Date=2026-01-02, CF=$   15.00, DF=0.970662, PV=$  14.56\n",
      "t= 3, Scheduled=2026-07-01, Payment Date=2026-07-01, CF=$   15.00, DF=0.956317, PV=$  14.34\n",
      "t= 4, Scheduled=2027-01-01, Payment Date=2027-01-04, CF=$   15.00, DF=0.942184, PV=$  14.13\n",
      "t= 5, Scheduled=2027-07-01, Payment Date=2027-07-01, CF=$   15.00, DF=0.928260, PV=$  13.92\n",
      "t= 6, Scheduled=2028-01-01, Payment Date=2028-01-03, CF=$   15.00, DF=0.914542, PV=$  13.72\n",
      "t= 7, Scheduled=2028-07-01, Payment Date=2028-07-03, CF=$   15.00, DF=0.901027, PV=$  13.52\n",
      "t= 8, Scheduled=2029-01-01, Payment Date=2029-01-02, CF=$   15.00, DF=0.887711, PV=$  13.32\n",
      "t= 9, Scheduled=2029-07-01, Payment Date=2029-07-02, CF=$   15.00, DF=0.874592, PV=$  13.12\n",
      "t=10, Scheduled=2030-01-01, Payment Date=2030-01-02, CF=$ 1015.00, DF=0.861667, PV=$ 874.59\n",
      "\n",
      "--- Pricing ---\n",
      "Trade Date: 2025-06-10\n",
      "Settlement Date: 2025-06-11\n",
      "Accrued Days: 161\n",
      "Days in Coupon Period: 181\n",
      "Accrued Fraction: 0.889503\n",
      "Accrued Interest: 13.342541\n",
      "Clean Price: 1000.0\n",
      "Dirty Price: 1013.342541\n",
      "\n",
      "--- Duration ---\n",
      "Macaulay Duration (years): 4.680259\n",
      "Modified Duration (years): 4.611092\n",
      "PV01:  0.461109\n",
      "\n",
      "--- Convexity ---\n",
      "Convexity:  24.428407\n",
      "Dollar Convexity:  24428.407321\n"
     ]
    }
   ],
   "source": [
    "# Instantiate a 5y semiannual par Treasury (issue dated 2025-01-01)\n",
    "bond_1 = Treasury_Par_Bond(1000, 0.03, 2, 5, '2025-01-01')\n",
    "\n",
    "print(\"Face Value:\", bond_1.fv)\n",
    "print(\"YTM:\", bond_1.ytm)\n",
    "print(\"Coupon Frequency:\", bond_1.freq)\n",
    "print(\"Maturity (years):\", bond_1.T)\n",
    "print(\"Number of Periods:\", bond_1.n_periods)\n",
    "\n",
    "print(\"\\nCoupon Payment per Period:\", bond_1.coupon_payment())\n",
    "print(\"Cash Flows:\", bond_1.cash_flows())\n",
    "print(\"Bond Price from YTM (Clean):\", round(bond_1.bond_price_from_ytm(), 2))\n",
    "\n",
    "print(\"\\n--- Cash Flow Table ---\")\n",
    "for row in bond_1.table_of_cash_flows():\n",
    "    print(\n",
    "        f\"t={row['t']:2d}, \"\n",
    "        f\"Scheduled={row['scheduled_date']}, \"\n",
    "        f\"Payment Date={row['coupon_payment_date']}, \"\n",
    "        f\"CF=${row['cash_flow']:8.2f}, \"\n",
    "        f\"DF={row['discount_factor']:.6f}, \"\n",
    "        f\"PV=${row['present_value']:7.2f}\"\n",
    "    )\n",
    "\n",
    "# ---- Accrued, Clean, and Dirty Prices ----\n",
    "trade_date = date(2025, 6, 10)   # example trade date\n",
    "settlement_date = bond_1.get_settlement_date_from_trade_date(trade_date)\n",
    "\n",
    "print(\"\\n--- Pricing ---\")\n",
    "print(\"Trade Date:\", trade_date)\n",
    "print(\"Settlement Date:\", settlement_date)\n",
    "print(\"Accrued Days:\", bond_1.accrued_days(trade_date))\n",
    "print(\"Days in Coupon Period:\", bond_1.days_in_coupon_period(trade_date))\n",
    "print(\"Accrued Fraction:\", round(bond_1.accrued_fraction(trade_date), 6))\n",
    "print(\"Accrued Interest:\", round(bond_1.accrued_interest(trade_date), 6))\n",
    "print(\"Clean Price:\", round(bond_1.clean_price(), 6))\n",
    "print(\"Dirty Price:\", round(bond_1.dirty_price_from_trade(trade_date), 6))\n",
    "\n",
    "# ---- Duration ----\n",
    "print(\"\\n--- Duration ---\")\n",
    "print(\"Macaulay Duration (years):\", round(bond_1.macaulay_duration(), 6))\n",
    "print(\"Modified Duration (years):\", round(bond_1.modified_duration(), 6))\n",
    "print(\"PV01: \", round(bond_1.pv01(), 6))\n",
    "\n",
    "# ---- Convexity ----\n",
    "print(\"\\n--- Convexity ---\")\n",
    "print(\"Convexity: \", round(bond_1.convexity(), 6))\n",
    "print(\"Dollar Convexity: \", round(bond_1.dollar_convexity(), 6))"
   ]
  },
  {
   "cell_type": "markdown",
   "id": "de8835ee",
   "metadata": {},
   "source": [
    "# Question 2\n",
    "\n",
    "Calculate its duration (Macaulay Bond Duration)"
   ]
  },
  {
   "cell_type": "markdown",
   "id": "7fc9ecc0",
   "metadata": {},
   "source": [
    "### Answered above. \n",
    "\n",
    "Method is defined as macaulay_duration. "
   ]
  },
  {
   "cell_type": "markdown",
   "id": "6efb848e",
   "metadata": {},
   "source": [
    "# Question 3 \n",
    "Use the FRED API to get the yields by maturity.  Plot the yield curve, forward curve and zero curve. "
   ]
  },
  {
   "cell_type": "code",
   "execution_count": null,
   "id": "b3e020cd",
   "metadata": {},
   "outputs": [],
   "source": [
    "# FRED series IDs for Treasury yields by maturity \n",
    "\n",
    "# US Gov bond interest rates for different maturities \n",
    "# <= 1 year - T-Bills\n",
    "# 2 - 10 years - T-Notes \n",
    "# 20 and 30 years - T-Bonds \n",
    "\n",
    "series_ids = { '3M': 'DGS3MO'\n",
    "                , '6M': 'DGS6MO'\n",
    "                , '1Y': 'DGS1'\n",
    "                , '2Y': 'DGS2'\n",
    "                , '3Y': 'DGS3'\n",
    "                , '5Y': 'DGS5'\n",
    "                , '7Y': 'DGS7'\n",
    "                , '10Y': 'DGS10'\n",
    "                , '20Y': 'DGS20'\n",
    "                , '30Y': 'DGS30' }\n",
    "\n",
    "API_KEY = \"a6710e81fd45204490adffed360ffd42\""
   ]
  },
  {
   "cell_type": "code",
   "execution_count": 35,
   "id": "25a5af8a",
   "metadata": {},
   "outputs": [],
   "source": [
    "def fetch_fred_series(series_id, start=None, end=None, api_key=None):\n",
    "    \"\"\"\n",
    "    Fetch a FRED series into a pandas Series (index = datetime, values = float).\n",
    "    Skips missing '.' values and raises on HTTP errors.\n",
    "\n",
    "    ---- Notes ----\n",
    "    JSON is easiest to parse in Python. \n",
    "    `requests` library has .json() built in, so you get a Python dictionary immediately.\n",
    "    \n",
    "    \"\"\"\n",
    "    url = \"https://api.stlouisfed.org/fred/series/observations\"\n",
    "\n",
    "    # adds api_key, start date and end date to the params dictionary if they are passed     \n",
    "    params = {\"series_id\": series_id, \"file_type\": \"json\"}\n",
    "    if api_key: params[\"api_key\"] = api_key\n",
    "    if start:   params[\"observation_start\"] = start\n",
    "    if end:     params[\"observation_end\"] = end\n",
    "\n",
    "    r = requests.get(url, params=params) # send request for data and get it back in r\n",
    "    r.raise_for_status()  # raise if HTTP error\n",
    "\n",
    "    # go here to see what the data looks like -> https://fred.stlouisfed.org/docs/api/fred/series_observations.html#example_json\n",
    "    data = r.json() # .json() converts data into a python dict\n",
    "\n",
    "    # this is a list of dictionaries\n",
    "    obs = data.get(\"observations\", []) # .get(key, default) is a dictionary method that takes. default -> value to return if data is not available\n",
    "\n",
    "    # creating two columns extracted from obs to get date and yield for that date\n",
    "    dates, vals = [], [] # create empty lists \n",
    "    for o in obs:\n",
    "        # what to do if there is no value\n",
    "        v = o.get(\"value\", \".\")\n",
    "        if v == \".\":\n",
    "            continue  # skip missing\n",
    "        \n",
    "        # add the date to date column\n",
    "        dates.append(datetime.strptime(o[\"date\"], \"%Y-%m-%d\"))\n",
    "        # add the yields to values column\n",
    "        vals.append(float(v))  # FRED yields are in PERCENT (e.g., 4.25)\n",
    "\n",
    "    # return the data in a series format with index as the date \n",
    "    return pd.Series(vals, index=dates, name=series_id)"
   ]
  },
  {
   "cell_type": "code",
   "execution_count": null,
   "id": "fceafe46",
   "metadata": {},
   "outputs": [
    {
     "name": "stdout",
     "output_type": "stream",
     "text": [
      "Shape: (184, 10)\n",
      "              3M    6M    1Y    2Y    3Y    5Y    7Y   10Y   20Y   30Y\n",
      "2025-09-19  4.03  3.81  3.60  3.57  3.56  3.68  3.88  4.14  4.71  4.75\n",
      "2025-09-22  4.00  3.81  3.61  3.61  3.59  3.71  3.90  4.15  4.73  4.77\n",
      "2025-09-23  4.00  3.81  3.61  3.53  3.57  3.68  3.87  4.12  4.70  4.73\n",
      "2025-09-24  4.02  3.82  3.63  3.57  3.60  3.70  3.91  4.16  4.73  4.76\n",
      "2025-09-25  4.04  3.85  3.68  3.64  3.66  3.75  3.94  4.18  4.73  4.75\n"
     ]
    }
   ],
   "source": [
    "# ---- Fetch all maturities into one DataFrame ----\n",
    "\n",
    "# Create an empty dictionary to store all the yield curves\n",
    "curves = {}\n",
    "\n",
    "# Loop through each key-value pair in series_ids\n",
    "#   label   = shorthand (e.g., '3M', '2Y', '10Y')\n",
    "#   fred_id = actual FRED series ID (e.g., 'DGS3MO', 'DGS2', 'DGS10')\n",
    "for label, fred_id in series_ids.items():  \n",
    "    \n",
    "    # For each maturity, fetch the yield time series from FRED\n",
    "    # and store it in the curves dict with label as the key.\n",
    "    \n",
    "    # Example: curves['3M'] = pandas.Series with 2025 yield data for DGS3MO\n",
    "\n",
    "    # curves is key=fred_id and value=pd.Series\n",
    "    curves[label] = fetch_fred_series(\n",
    "        fred_id, \n",
    "        start=\"2025-01-01\", \n",
    "        end=\"2025-12-31\", \n",
    "        api_key=API_KEY\n",
    "    )\n",
    "\n",
    "curve_df = pd.DataFrame(curves)  # rows=dates, cols=labels (3M..30Y)\n",
    "\n",
    "print(\"Shape:\", curve_df.shape)"
   ]
  },
  {
   "cell_type": "code",
   "execution_count": null,
   "id": "839eac0f",
   "metadata": {},
   "outputs": [
    {
     "data": {
      "application/vnd.plotly.v1+json": {
       "config": {
        "plotlyServerURL": "https://plot.ly"
       },
       "data": [
        {
         "mode": "lines+markers",
         "type": "scatter",
         "x": [
          0.25,
          0.5,
          1,
          2,
          3,
          5,
          7,
          10,
          20,
          30
         ],
         "y": [
          4.36,
          4.25,
          4.17,
          4.25,
          4.29,
          4.38,
          4.47,
          4.57,
          4.86,
          4.79
         ]
        }
       ],
       "frames": [
        {
         "data": [
          {
           "mode": "lines+markers",
           "type": "scatter",
           "x": [
            0.25,
            0.5,
            1,
            2,
            3,
            5,
            7,
            10,
            20,
            30
           ],
           "y": [
            4.36,
            4.25,
            4.17,
            4.25,
            4.29,
            4.38,
            4.47,
            4.57,
            4.86,
            4.79
           ]
          }
         ],
         "name": "2025-01-02"
        },
        {
         "data": [
          {
           "mode": "lines+markers",
           "type": "scatter",
           "x": [
            0.25,
            0.5,
            1,
            2,
            3,
            5,
            7,
            10,
            20,
            30
           ],
           "y": [
            4.34,
            4.25,
            4.18,
            4.28,
            4.32,
            4.41,
            4.51,
            4.6,
            4.88,
            4.82
           ]
          }
         ],
         "name": "2025-01-03"
        },
        {
         "data": [
          {
           "mode": "lines+markers",
           "type": "scatter",
           "x": [
            0.25,
            0.5,
            1,
            2,
            3,
            5,
            7,
            10,
            20,
            30
           ],
           "y": [
            4.35,
            4.24,
            4.17,
            4.28,
            4.3,
            4.42,
            4.52,
            4.62,
            4.91,
            4.85
           ]
          }
         ],
         "name": "2025-01-06"
        },
        {
         "data": [
          {
           "mode": "lines+markers",
           "type": "scatter",
           "x": [
            0.25,
            0.5,
            1,
            2,
            3,
            5,
            7,
            10,
            20,
            30
           ],
           "y": [
            4.35,
            4.24,
            4.19,
            4.3,
            4.33,
            4.46,
            4.57,
            4.67,
            4.97,
            4.91
           ]
          }
         ],
         "name": "2025-01-07"
        },
        {
         "data": [
          {
           "mode": "lines+markers",
           "type": "scatter",
           "x": [
            0.25,
            0.5,
            1,
            2,
            3,
            5,
            7,
            10,
            20,
            30
           ],
           "y": [
            4.35,
            4.25,
            4.19,
            4.28,
            4.31,
            4.45,
            4.56,
            4.67,
            4.97,
            4.91
           ]
          }
         ],
         "name": "2025-01-08"
        },
        {
         "data": [
          {
           "mode": "lines+markers",
           "type": "scatter",
           "x": [
            0.25,
            0.5,
            1,
            2,
            3,
            5,
            7,
            10,
            20,
            30
           ],
           "y": [
            4.35,
            4.24,
            4.16,
            4.27,
            4.31,
            4.46,
            4.57,
            4.68,
            4.98,
            4.92
           ]
          }
         ],
         "name": "2025-01-09"
        },
        {
         "data": [
          {
           "mode": "lines+markers",
           "type": "scatter",
           "x": [
            0.25,
            0.5,
            1,
            2,
            3,
            5,
            7,
            10,
            20,
            30
           ],
           "y": [
            4.36,
            4.27,
            4.25,
            4.4,
            4.46,
            4.59,
            4.7,
            4.77,
            5.04,
            4.96
           ]
          }
         ],
         "name": "2025-01-10"
        },
        {
         "data": [
          {
           "mode": "lines+markers",
           "type": "scatter",
           "x": [
            0.25,
            0.5,
            1,
            2,
            3,
            5,
            7,
            10,
            20,
            30
           ],
           "y": [
            4.37,
            4.3,
            4.24,
            4.4,
            4.49,
            4.61,
            4.71,
            4.79,
            5.05,
            4.97
           ]
          }
         ],
         "name": "2025-01-13"
        },
        {
         "data": [
          {
           "mode": "lines+markers",
           "type": "scatter",
           "x": [
            0.25,
            0.5,
            1,
            2,
            3,
            5,
            7,
            10,
            20,
            30
           ],
           "y": [
            4.36,
            4.29,
            4.22,
            4.37,
            4.46,
            4.59,
            4.7,
            4.78,
            5.06,
            4.98
           ]
          }
         ],
         "name": "2025-01-14"
        },
        {
         "data": [
          {
           "mode": "lines+markers",
           "type": "scatter",
           "x": [
            0.25,
            0.5,
            1,
            2,
            3,
            5,
            7,
            10,
            20,
            30
           ],
           "y": [
            4.35,
            4.26,
            4.19,
            4.27,
            4.34,
            4.45,
            4.55,
            4.66,
            4.95,
            4.88
           ]
          }
         ],
         "name": "2025-01-15"
        },
        {
         "data": [
          {
           "mode": "lines+markers",
           "type": "scatter",
           "x": [
            0.25,
            0.5,
            1,
            2,
            3,
            5,
            7,
            10,
            20,
            30
           ],
           "y": [
            4.34,
            4.26,
            4.18,
            4.23,
            4.29,
            4.39,
            4.5,
            4.61,
            4.91,
            4.84
           ]
          }
         ],
         "name": "2025-01-16"
        },
        {
         "data": [
          {
           "mode": "lines+markers",
           "type": "scatter",
           "x": [
            0.25,
            0.5,
            1,
            2,
            3,
            5,
            7,
            10,
            20,
            30
           ],
           "y": [
            4.34,
            4.28,
            4.21,
            4.27,
            4.33,
            4.42,
            4.52,
            4.61,
            4.91,
            4.84
           ]
          }
         ],
         "name": "2025-01-17"
        },
        {
         "data": [
          {
           "mode": "lines+markers",
           "type": "scatter",
           "x": [
            0.25,
            0.5,
            1,
            2,
            3,
            5,
            7,
            10,
            20,
            30
           ],
           "y": [
            4.36,
            4.28,
            4.21,
            4.29,
            4.33,
            4.4,
            4.49,
            4.57,
            4.87,
            4.8
           ]
          }
         ],
         "name": "2025-01-21"
        },
        {
         "data": [
          {
           "mode": "lines+markers",
           "type": "scatter",
           "x": [
            0.25,
            0.5,
            1,
            2,
            3,
            5,
            7,
            10,
            20,
            30
           ],
           "y": [
            4.36,
            4.28,
            4.2,
            4.29,
            4.34,
            4.43,
            4.51,
            4.6,
            4.89,
            4.82
           ]
          }
         ],
         "name": "2025-01-22"
        },
        {
         "data": [
          {
           "mode": "lines+markers",
           "type": "scatter",
           "x": [
            0.25,
            0.5,
            1,
            2,
            3,
            5,
            7,
            10,
            20,
            30
           ],
           "y": [
            4.36,
            4.27,
            4.18,
            4.29,
            4.35,
            4.45,
            4.55,
            4.65,
            4.92,
            4.87
           ]
          }
         ],
         "name": "2025-01-23"
        },
        {
         "data": [
          {
           "mode": "lines+markers",
           "type": "scatter",
           "x": [
            0.25,
            0.5,
            1,
            2,
            3,
            5,
            7,
            10,
            20,
            30
           ],
           "y": [
            4.35,
            4.25,
            4.17,
            4.27,
            4.33,
            4.43,
            4.53,
            4.63,
            4.91,
            4.85
           ]
          }
         ],
         "name": "2025-01-24"
        },
        {
         "data": [
          {
           "mode": "lines+markers",
           "type": "scatter",
           "x": [
            0.25,
            0.5,
            1,
            2,
            3,
            5,
            7,
            10,
            20,
            30
           ],
           "y": [
            4.32,
            4.25,
            4.13,
            4.17,
            4.24,
            4.32,
            4.43,
            4.53,
            4.82,
            4.76
           ]
          }
         ],
         "name": "2025-01-27"
        },
        {
         "data": [
          {
           "mode": "lines+markers",
           "type": "scatter",
           "x": [
            0.25,
            0.5,
            1,
            2,
            3,
            5,
            7,
            10,
            20,
            30
           ],
           "y": [
            4.31,
            4.26,
            4.14,
            4.19,
            4.25,
            4.33,
            4.43,
            4.55,
            4.84,
            4.78
           ]
          }
         ],
         "name": "2025-01-28"
        },
        {
         "data": [
          {
           "mode": "lines+markers",
           "type": "scatter",
           "x": [
            0.25,
            0.5,
            1,
            2,
            3,
            5,
            7,
            10,
            20,
            30
           ],
           "y": [
            4.31,
            4.27,
            4.17,
            4.21,
            4.27,
            4.35,
            4.44,
            4.55,
            4.85,
            4.79
           ]
          }
         ],
         "name": "2025-01-29"
        },
        {
         "data": [
          {
           "mode": "lines+markers",
           "type": "scatter",
           "x": [
            0.25,
            0.5,
            1,
            2,
            3,
            5,
            7,
            10,
            20,
            30
           ],
           "y": [
            4.3,
            4.27,
            4.16,
            4.18,
            4.24,
            4.31,
            4.41,
            4.52,
            4.81,
            4.76
           ]
          }
         ],
         "name": "2025-01-30"
        },
        {
         "data": [
          {
           "mode": "lines+markers",
           "type": "scatter",
           "x": [
            0.25,
            0.5,
            1,
            2,
            3,
            5,
            7,
            10,
            20,
            30
           ],
           "y": [
            4.31,
            4.28,
            4.17,
            4.22,
            4.27,
            4.36,
            4.47,
            4.58,
            4.88,
            4.83
           ]
          }
         ],
         "name": "2025-01-31"
        },
        {
         "data": [
          {
           "mode": "lines+markers",
           "type": "scatter",
           "x": [
            0.25,
            0.5,
            1,
            2,
            3,
            5,
            7,
            10,
            20,
            30
           ],
           "y": [
            4.34,
            4.28,
            4.2,
            4.26,
            4.28,
            4.35,
            4.45,
            4.54,
            4.82,
            4.77
           ]
          }
         ],
         "name": "2025-02-03"
        },
        {
         "data": [
          {
           "mode": "lines+markers",
           "type": "scatter",
           "x": [
            0.25,
            0.5,
            1,
            2,
            3,
            5,
            7,
            10,
            20,
            30
           ],
           "y": [
            4.33,
            4.27,
            4.18,
            4.21,
            4.25,
            4.31,
            4.42,
            4.52,
            4.81,
            4.75
           ]
          }
         ],
         "name": "2025-02-04"
        },
        {
         "data": [
          {
           "mode": "lines+markers",
           "type": "scatter",
           "x": [
            0.25,
            0.5,
            1,
            2,
            3,
            5,
            7,
            10,
            20,
            30
           ],
           "y": [
            4.33,
            4.27,
            4.17,
            4.17,
            4.19,
            4.24,
            4.33,
            4.43,
            4.69,
            4.64
           ]
          }
         ],
         "name": "2025-02-05"
        },
        {
         "data": [
          {
           "mode": "lines+markers",
           "type": "scatter",
           "x": [
            0.25,
            0.5,
            1,
            2,
            3,
            5,
            7,
            10,
            20,
            30
           ],
           "y": [
            4.34,
            4.28,
            4.19,
            4.21,
            4.23,
            4.28,
            4.36,
            4.45,
            4.7,
            4.65
           ]
          }
         ],
         "name": "2025-02-06"
        },
        {
         "data": [
          {
           "mode": "lines+markers",
           "type": "scatter",
           "x": [
            0.25,
            0.5,
            1,
            2,
            3,
            5,
            7,
            10,
            20,
            30
           ],
           "y": [
            4.35,
            4.3,
            4.25,
            4.29,
            4.31,
            4.34,
            4.42,
            4.49,
            4.75,
            4.69
           ]
          }
         ],
         "name": "2025-02-07"
        },
        {
         "data": [
          {
           "mode": "lines+markers",
           "type": "scatter",
           "x": [
            0.25,
            0.5,
            1,
            2,
            3,
            5,
            7,
            10,
            20,
            30
           ],
           "y": [
            4.35,
            4.31,
            4.24,
            4.28,
            4.3,
            4.34,
            4.42,
            4.51,
            4.76,
            4.71
           ]
          }
         ],
         "name": "2025-02-10"
        },
        {
         "data": [
          {
           "mode": "lines+markers",
           "type": "scatter",
           "x": [
            0.25,
            0.5,
            1,
            2,
            3,
            5,
            7,
            10,
            20,
            30
           ],
           "y": [
            4.35,
            4.31,
            4.25,
            4.29,
            4.28,
            4.37,
            4.45,
            4.54,
            4.8,
            4.75
           ]
          }
         ],
         "name": "2025-02-11"
        },
        {
         "data": [
          {
           "mode": "lines+markers",
           "type": "scatter",
           "x": [
            0.25,
            0.5,
            1,
            2,
            3,
            5,
            7,
            10,
            20,
            30
           ],
           "y": [
            4.35,
            4.33,
            4.3,
            4.36,
            4.37,
            4.48,
            4.56,
            4.62,
            4.9,
            4.83
           ]
          }
         ],
         "name": "2025-02-12"
        },
        {
         "data": [
          {
           "mode": "lines+markers",
           "type": "scatter",
           "x": [
            0.25,
            0.5,
            1,
            2,
            3,
            5,
            7,
            10,
            20,
            30
           ],
           "y": [
            4.34,
            4.33,
            4.27,
            4.31,
            4.31,
            4.39,
            4.46,
            4.52,
            4.79,
            4.72
           ]
          }
         ],
         "name": "2025-02-13"
        },
        {
         "data": [
          {
           "mode": "lines+markers",
           "type": "scatter",
           "x": [
            0.25,
            0.5,
            1,
            2,
            3,
            5,
            7,
            10,
            20,
            30
           ],
           "y": [
            4.34,
            4.32,
            4.23,
            4.26,
            4.26,
            4.33,
            4.41,
            4.47,
            4.75,
            4.69
           ]
          }
         ],
         "name": "2025-02-14"
        },
        {
         "data": [
          {
           "mode": "lines+markers",
           "type": "scatter",
           "x": [
            0.25,
            0.5,
            1,
            2,
            3,
            5,
            7,
            10,
            20,
            30
           ],
           "y": [
            4.34,
            4.34,
            4.24,
            4.29,
            4.33,
            4.4,
            4.48,
            4.55,
            4.83,
            4.77
           ]
          }
         ],
         "name": "2025-02-18"
        },
        {
         "data": [
          {
           "mode": "lines+markers",
           "type": "scatter",
           "x": [
            0.25,
            0.5,
            1,
            2,
            3,
            5,
            7,
            10,
            20,
            30
           ],
           "y": [
            4.34,
            4.34,
            4.22,
            4.28,
            4.3,
            4.37,
            4.46,
            4.53,
            4.79,
            4.76
           ]
          }
         ],
         "name": "2025-02-19"
        },
        {
         "data": [
          {
           "mode": "lines+markers",
           "type": "scatter",
           "x": [
            0.25,
            0.5,
            1,
            2,
            3,
            5,
            7,
            10,
            20,
            30
           ],
           "y": [
            4.33,
            4.33,
            4.2,
            4.28,
            4.27,
            4.34,
            4.43,
            4.5,
            4.77,
            4.74
           ]
          }
         ],
         "name": "2025-02-20"
        },
        {
         "data": [
          {
           "mode": "lines+markers",
           "type": "scatter",
           "x": [
            0.25,
            0.5,
            1,
            2,
            3,
            5,
            7,
            10,
            20,
            30
           ],
           "y": [
            4.32,
            4.3,
            4.15,
            4.19,
            4.19,
            4.26,
            4.35,
            4.42,
            4.69,
            4.67
           ]
          }
         ],
         "name": "2025-02-21"
        },
        {
         "data": [
          {
           "mode": "lines+markers",
           "type": "scatter",
           "x": [
            0.25,
            0.5,
            1,
            2,
            3,
            5,
            7,
            10,
            20,
            30
           ],
           "y": [
            4.31,
            4.3,
            4.15,
            4.13,
            4.17,
            4.23,
            4.32,
            4.4,
            4.69,
            4.66
           ]
          }
         ],
         "name": "2025-02-24"
        },
        {
         "data": [
          {
           "mode": "lines+markers",
           "type": "scatter",
           "x": [
            0.25,
            0.5,
            1,
            2,
            3,
            5,
            7,
            10,
            20,
            30
           ],
           "y": [
            4.3,
            4.28,
            4.12,
            4.07,
            4.08,
            4.12,
            4.21,
            4.3,
            4.59,
            4.55
           ]
          }
         ],
         "name": "2025-02-25"
        },
        {
         "data": [
          {
           "mode": "lines+markers",
           "type": "scatter",
           "x": [
            0.25,
            0.5,
            1,
            2,
            3,
            5,
            7,
            10,
            20,
            30
           ],
           "y": [
            4.31,
            4.28,
            4.12,
            4.05,
            4.04,
            4.06,
            4.16,
            4.25,
            4.55,
            4.51
           ]
          }
         ],
         "name": "2025-02-26"
        },
        {
         "data": [
          {
           "mode": "lines+markers",
           "type": "scatter",
           "x": [
            0.25,
            0.5,
            1,
            2,
            3,
            5,
            7,
            10,
            20,
            30
           ],
           "y": [
            4.32,
            4.28,
            4.13,
            4.07,
            4.05,
            4.09,
            4.19,
            4.29,
            4.59,
            4.56
           ]
          }
         ],
         "name": "2025-02-27"
        },
        {
         "data": [
          {
           "mode": "lines+markers",
           "type": "scatter",
           "x": [
            0.25,
            0.5,
            1,
            2,
            3,
            5,
            7,
            10,
            20,
            30
           ],
           "y": [
            4.32,
            4.25,
            4.08,
            3.99,
            3.99,
            4.03,
            4.14,
            4.24,
            4.55,
            4.51
           ]
          }
         ],
         "name": "2025-02-28"
        },
        {
         "data": [
          {
           "mode": "lines+markers",
           "type": "scatter",
           "x": [
            0.25,
            0.5,
            1,
            2,
            3,
            5,
            7,
            10,
            20,
            30
           ],
           "y": [
            4.35,
            4.31,
            4.06,
            3.96,
            3.93,
            3.97,
            4.06,
            4.16,
            4.49,
            4.45
           ]
          }
         ],
         "name": "2025-03-03"
        },
        {
         "data": [
          {
           "mode": "lines+markers",
           "type": "scatter",
           "x": [
            0.25,
            0.5,
            1,
            2,
            3,
            5,
            7,
            10,
            20,
            30
           ],
           "y": [
            4.34,
            4.28,
            4.04,
            3.96,
            3.94,
            4.01,
            4.11,
            4.22,
            4.56,
            4.53
           ]
          }
         ],
         "name": "2025-03-04"
        },
        {
         "data": [
          {
           "mode": "lines+markers",
           "type": "scatter",
           "x": [
            0.25,
            0.5,
            1,
            2,
            3,
            5,
            7,
            10,
            20,
            30
           ],
           "y": [
            4.35,
            4.3,
            4.06,
            3.99,
            4.01,
            4.08,
            4.18,
            4.28,
            4.61,
            4.57
           ]
          }
         ],
         "name": "2025-03-05"
        },
        {
         "data": [
          {
           "mode": "lines+markers",
           "type": "scatter",
           "x": [
            0.25,
            0.5,
            1,
            2,
            3,
            5,
            7,
            10,
            20,
            30
           ],
           "y": [
            4.34,
            4.27,
            4.02,
            3.96,
            3.98,
            4.06,
            4.18,
            4.29,
            4.63,
            4.58
           ]
          }
         ],
         "name": "2025-03-06"
        },
        {
         "data": [
          {
           "mode": "lines+markers",
           "type": "scatter",
           "x": [
            0.25,
            0.5,
            1,
            2,
            3,
            5,
            7,
            10,
            20,
            30
           ],
           "y": [
            4.34,
            4.29,
            4.05,
            3.99,
            4.01,
            4.09,
            4.21,
            4.32,
            4.66,
            4.62
           ]
          }
         ],
         "name": "2025-03-07"
        },
        {
         "data": [
          {
           "mode": "lines+markers",
           "type": "scatter",
           "x": [
            0.25,
            0.5,
            1,
            2,
            3,
            5,
            7,
            10,
            20,
            30
           ],
           "y": [
            4.33,
            4.25,
            3.98,
            3.89,
            3.91,
            3.98,
            4.1,
            4.22,
            4.58,
            4.54
           ]
          }
         ],
         "name": "2025-03-10"
        },
        {
         "data": [
          {
           "mode": "lines+markers",
           "type": "scatter",
           "x": [
            0.25,
            0.5,
            1,
            2,
            3,
            5,
            7,
            10,
            20,
            30
           ],
           "y": [
            4.34,
            4.26,
            4.03,
            3.94,
            3.92,
            4.03,
            4.16,
            4.28,
            4.63,
            4.59
           ]
          }
         ],
         "name": "2025-03-11"
        },
        {
         "data": [
          {
           "mode": "lines+markers",
           "type": "scatter",
           "x": [
            0.25,
            0.5,
            1,
            2,
            3,
            5,
            7,
            10,
            20,
            30
           ],
           "y": [
            4.35,
            4.27,
            4.07,
            4.01,
            3.98,
            4.09,
            4.2,
            4.32,
            4.67,
            4.63
           ]
          }
         ],
         "name": "2025-03-12"
        },
        {
         "data": [
          {
           "mode": "lines+markers",
           "type": "scatter",
           "x": [
            0.25,
            0.5,
            1,
            2,
            3,
            5,
            7,
            10,
            20,
            30
           ],
           "y": [
            4.34,
            4.27,
            4.03,
            3.94,
            3.93,
            4.02,
            4.15,
            4.27,
            4.63,
            4.59
           ]
          }
         ],
         "name": "2025-03-13"
        },
        {
         "data": [
          {
           "mode": "lines+markers",
           "type": "scatter",
           "x": [
            0.25,
            0.5,
            1,
            2,
            3,
            5,
            7,
            10,
            20,
            30
           ],
           "y": [
            4.33,
            4.29,
            4.09,
            4.02,
            4,
            4.09,
            4.2,
            4.31,
            4.65,
            4.62
           ]
          }
         ],
         "name": "2025-03-14"
        },
        {
         "data": [
          {
           "mode": "lines+markers",
           "type": "scatter",
           "x": [
            0.25,
            0.5,
            1,
            2,
            3,
            5,
            7,
            10,
            20,
            30
           ],
           "y": [
            4.34,
            4.29,
            4.11,
            4.06,
            4.03,
            4.11,
            4.21,
            4.31,
            4.64,
            4.6
           ]
          }
         ],
         "name": "2025-03-17"
        },
        {
         "data": [
          {
           "mode": "lines+markers",
           "type": "scatter",
           "x": [
            0.25,
            0.5,
            1,
            2,
            3,
            5,
            7,
            10,
            20,
            30
           ],
           "y": [
            4.34,
            4.29,
            4.13,
            4.04,
            4.01,
            4.07,
            4.18,
            4.29,
            4.61,
            4.58
           ]
          }
         ],
         "name": "2025-03-18"
        },
        {
         "data": [
          {
           "mode": "lines+markers",
           "type": "scatter",
           "x": [
            0.25,
            0.5,
            1,
            2,
            3,
            5,
            7,
            10,
            20,
            30
           ],
           "y": [
            4.33,
            4.29,
            4.1,
            3.99,
            3.95,
            4.03,
            4.14,
            4.25,
            4.58,
            4.56
           ]
          }
         ],
         "name": "2025-03-19"
        },
        {
         "data": [
          {
           "mode": "lines+markers",
           "type": "scatter",
           "x": [
            0.25,
            0.5,
            1,
            2,
            3,
            5,
            7,
            10,
            20,
            30
           ],
           "y": [
            4.33,
            4.27,
            4.06,
            3.95,
            3.93,
            4.01,
            4.12,
            4.24,
            4.57,
            4.55
           ]
          }
         ],
         "name": "2025-03-20"
        },
        {
         "data": [
          {
           "mode": "lines+markers",
           "type": "scatter",
           "x": [
            0.25,
            0.5,
            1,
            2,
            3,
            5,
            7,
            10,
            20,
            30
           ],
           "y": [
            4.33,
            4.26,
            4.04,
            3.94,
            3.92,
            4,
            4.12,
            4.25,
            4.6,
            4.59
           ]
          }
         ],
         "name": "2025-03-21"
        },
        {
         "data": [
          {
           "mode": "lines+markers",
           "type": "scatter",
           "x": [
            0.25,
            0.5,
            1,
            2,
            3,
            5,
            7,
            10,
            20,
            30
           ],
           "y": [
            4.33,
            4.27,
            4.11,
            4.04,
            4.01,
            4.09,
            4.22,
            4.34,
            4.68,
            4.66
           ]
          }
         ],
         "name": "2025-03-24"
        },
        {
         "data": [
          {
           "mode": "lines+markers",
           "type": "scatter",
           "x": [
            0.25,
            0.5,
            1,
            2,
            3,
            5,
            7,
            10,
            20,
            30
           ],
           "y": [
            4.33,
            4.26,
            4.09,
            3.96,
            3.98,
            4.07,
            4.19,
            4.31,
            4.67,
            4.65
           ]
          }
         ],
         "name": "2025-03-25"
        },
        {
         "data": [
          {
           "mode": "lines+markers",
           "type": "scatter",
           "x": [
            0.25,
            0.5,
            1,
            2,
            3,
            5,
            7,
            10,
            20,
            30
           ],
           "y": [
            4.33,
            4.26,
            4.1,
            3.98,
            4.01,
            4.08,
            4.22,
            4.35,
            4.71,
            4.69
           ]
          }
         ],
         "name": "2025-03-26"
        },
        {
         "data": [
          {
           "mode": "lines+markers",
           "type": "scatter",
           "x": [
            0.25,
            0.5,
            1,
            2,
            3,
            5,
            7,
            10,
            20,
            30
           ],
           "y": [
            4.33,
            4.27,
            4.1,
            3.97,
            4,
            4.09,
            4.23,
            4.38,
            4.75,
            4.73
           ]
          }
         ],
         "name": "2025-03-27"
        },
        {
         "data": [
          {
           "mode": "lines+markers",
           "type": "scatter",
           "x": [
            0.25,
            0.5,
            1,
            2,
            3,
            5,
            7,
            10,
            20,
            30
           ],
           "y": [
            4.33,
            4.26,
            4.04,
            3.89,
            3.91,
            3.98,
            4.11,
            4.27,
            4.65,
            4.64
           ]
          }
         ],
         "name": "2025-03-28"
        },
        {
         "data": [
          {
           "mode": "lines+markers",
           "type": "scatter",
           "x": [
            0.25,
            0.5,
            1,
            2,
            3,
            5,
            7,
            10,
            20,
            30
           ],
           "y": [
            4.32,
            4.23,
            4.03,
            3.89,
            3.89,
            3.96,
            4.09,
            4.23,
            4.62,
            4.59
           ]
          }
         ],
         "name": "2025-03-31"
        },
        {
         "data": [
          {
           "mode": "lines+markers",
           "type": "scatter",
           "x": [
            0.25,
            0.5,
            1,
            2,
            3,
            5,
            7,
            10,
            20,
            30
           ],
           "y": [
            4.32,
            4.23,
            4.01,
            3.87,
            3.85,
            3.91,
            4.03,
            4.17,
            4.56,
            4.52
           ]
          }
         ],
         "name": "2025-04-01"
        },
        {
         "data": [
          {
           "mode": "lines+markers",
           "type": "scatter",
           "x": [
            0.25,
            0.5,
            1,
            2,
            3,
            5,
            7,
            10,
            20,
            30
           ],
           "y": [
            4.32,
            4.24,
            4.04,
            3.91,
            3.89,
            3.95,
            4.07,
            4.2,
            4.58,
            4.54
           ]
          }
         ],
         "name": "2025-04-02"
        },
        {
         "data": [
          {
           "mode": "lines+markers",
           "type": "scatter",
           "x": [
            0.25,
            0.5,
            1,
            2,
            3,
            5,
            7,
            10,
            20,
            30
           ],
           "y": [
            4.31,
            4.2,
            3.92,
            3.71,
            3.68,
            3.75,
            3.88,
            4.06,
            4.51,
            4.49
           ]
          }
         ],
         "name": "2025-04-03"
        },
        {
         "data": [
          {
           "mode": "lines+markers",
           "type": "scatter",
           "x": [
            0.25,
            0.5,
            1,
            2,
            3,
            5,
            7,
            10,
            20,
            30
           ],
           "y": [
            4.28,
            4.14,
            3.86,
            3.68,
            3.66,
            3.72,
            3.84,
            4.01,
            4.44,
            4.41
           ]
          }
         ],
         "name": "2025-04-04"
        },
        {
         "data": [
          {
           "mode": "lines+markers",
           "type": "scatter",
           "x": [
            0.25,
            0.5,
            1,
            2,
            3,
            5,
            7,
            10,
            20,
            30
           ],
           "y": [
            4.29,
            4.14,
            3.86,
            3.73,
            3.72,
            3.82,
            3.97,
            4.15,
            4.61,
            4.58
           ]
          }
         ],
         "name": "2025-04-07"
        },
        {
         "data": [
          {
           "mode": "lines+markers",
           "type": "scatter",
           "x": [
            0.25,
            0.5,
            1,
            2,
            3,
            5,
            7,
            10,
            20,
            30
           ],
           "y": [
            4.31,
            4.14,
            3.83,
            3.71,
            3.71,
            3.88,
            4.05,
            4.26,
            4.76,
            4.71
           ]
          }
         ],
         "name": "2025-04-08"
        },
        {
         "data": [
          {
           "mode": "lines+markers",
           "type": "scatter",
           "x": [
            0.25,
            0.5,
            1,
            2,
            3,
            5,
            7,
            10,
            20,
            30
           ],
           "y": [
            4.35,
            4.23,
            4.03,
            3.91,
            3.91,
            4.06,
            4.2,
            4.34,
            4.78,
            4.72
           ]
          }
         ],
         "name": "2025-04-09"
        },
        {
         "data": [
          {
           "mode": "lines+markers",
           "type": "scatter",
           "x": [
            0.25,
            0.5,
            1,
            2,
            3,
            5,
            7,
            10,
            20,
            30
           ],
           "y": [
            4.34,
            4.17,
            3.97,
            3.84,
            3.85,
            4.04,
            4.21,
            4.4,
            4.9,
            4.86
           ]
          }
         ],
         "name": "2025-04-10"
        },
        {
         "data": [
          {
           "mode": "lines+markers",
           "type": "scatter",
           "x": [
            0.25,
            0.5,
            1,
            2,
            3,
            5,
            7,
            10,
            20,
            30
           ],
           "y": [
            4.34,
            4.21,
            4.04,
            3.96,
            3.98,
            4.15,
            4.32,
            4.48,
            4.91,
            4.85
           ]
          }
         ],
         "name": "2025-04-11"
        },
        {
         "data": [
          {
           "mode": "lines+markers",
           "type": "scatter",
           "x": [
            0.25,
            0.5,
            1,
            2,
            3,
            5,
            7,
            10,
            20,
            30
           ],
           "y": [
            4.33,
            4.21,
            3.99,
            3.84,
            3.87,
            4.02,
            4.2,
            4.38,
            4.84,
            4.8
           ]
          }
         ],
         "name": "2025-04-14"
        },
        {
         "data": [
          {
           "mode": "lines+markers",
           "type": "scatter",
           "x": [
            0.25,
            0.5,
            1,
            2,
            3,
            5,
            7,
            10,
            20,
            30
           ],
           "y": [
            4.33,
            4.21,
            3.99,
            3.84,
            3.85,
            3.98,
            4.15,
            4.35,
            4.82,
            4.79
           ]
          }
         ],
         "name": "2025-04-15"
        },
        {
         "data": [
          {
           "mode": "lines+markers",
           "type": "scatter",
           "x": [
            0.25,
            0.5,
            1,
            2,
            3,
            5,
            7,
            10,
            20,
            30
           ],
           "y": [
            4.33,
            4.2,
            3.96,
            3.77,
            3.77,
            3.91,
            4.08,
            4.29,
            4.77,
            4.74
           ]
          }
         ],
         "name": "2025-04-16"
        },
        {
         "data": [
          {
           "mode": "lines+markers",
           "type": "scatter",
           "x": [
            0.25,
            0.5,
            1,
            2,
            3,
            5,
            7,
            10,
            20,
            30
           ],
           "y": [
            4.34,
            4.22,
            3.99,
            3.81,
            3.82,
            3.95,
            4.13,
            4.34,
            4.82,
            4.8
           ]
          }
         ],
         "name": "2025-04-17"
        },
        {
         "data": [
          {
           "mode": "lines+markers",
           "type": "scatter",
           "x": [
            0.25,
            0.5,
            1,
            2,
            3,
            5,
            7,
            10,
            20,
            30
           ],
           "y": [
            4.34,
            4.21,
            3.95,
            3.75,
            3.77,
            3.97,
            4.19,
            4.42,
            4.94,
            4.91
           ]
          }
         ],
         "name": "2025-04-21"
        },
        {
         "data": [
          {
           "mode": "lines+markers",
           "type": "scatter",
           "x": [
            0.25,
            0.5,
            1,
            2,
            3,
            5,
            7,
            10,
            20,
            30
           ],
           "y": [
            4.33,
            4.21,
            3.98,
            3.76,
            3.82,
            3.98,
            4.19,
            4.41,
            4.9,
            4.88
           ]
          }
         ],
         "name": "2025-04-22"
        },
        {
         "data": [
          {
           "mode": "lines+markers",
           "type": "scatter",
           "x": [
            0.25,
            0.5,
            1,
            2,
            3,
            5,
            7,
            10,
            20,
            30
           ],
           "y": [
            4.33,
            4.22,
            4.01,
            3.81,
            3.87,
            4,
            4.2,
            4.4,
            4.86,
            4.83
           ]
          }
         ],
         "name": "2025-04-23"
        },
        {
         "data": [
          {
           "mode": "lines+markers",
           "type": "scatter",
           "x": [
            0.25,
            0.5,
            1,
            2,
            3,
            5,
            7,
            10,
            20,
            30
           ],
           "y": [
            4.32,
            4.22,
            3.97,
            3.77,
            3.8,
            3.91,
            4.11,
            4.32,
            4.79,
            4.77
           ]
          }
         ],
         "name": "2025-04-24"
        },
        {
         "data": [
          {
           "mode": "lines+markers",
           "type": "scatter",
           "x": [
            0.25,
            0.5,
            1,
            2,
            3,
            5,
            7,
            10,
            20,
            30
           ],
           "y": [
            4.32,
            4.22,
            3.95,
            3.74,
            3.76,
            3.88,
            4.06,
            4.29,
            4.75,
            4.74
           ]
          }
         ],
         "name": "2025-04-25"
        },
        {
         "data": [
          {
           "mode": "lines+markers",
           "type": "scatter",
           "x": [
            0.25,
            0.5,
            1,
            2,
            3,
            5,
            7,
            10,
            20,
            30
           ],
           "y": [
            4.32,
            4.22,
            3.92,
            3.67,
            3.67,
            3.81,
            4.01,
            4.23,
            4.71,
            4.69
           ]
          }
         ],
         "name": "2025-04-28"
        },
        {
         "data": [
          {
           "mode": "lines+markers",
           "type": "scatter",
           "x": [
            0.25,
            0.5,
            1,
            2,
            3,
            5,
            7,
            10,
            20,
            30
           ],
           "y": [
            4.31,
            4.2,
            3.89,
            3.65,
            3.65,
            3.77,
            3.96,
            4.19,
            4.66,
            4.64
           ]
          }
         ],
         "name": "2025-04-29"
        },
        {
         "data": [
          {
           "mode": "lines+markers",
           "type": "scatter",
           "x": [
            0.25,
            0.5,
            1,
            2,
            3,
            5,
            7,
            10,
            20,
            30
           ],
           "y": [
            4.31,
            4.19,
            3.85,
            3.6,
            3.58,
            3.72,
            3.93,
            4.17,
            4.68,
            4.66
           ]
          }
         ],
         "name": "2025-04-30"
        },
        {
         "data": [
          {
           "mode": "lines+markers",
           "type": "scatter",
           "x": [
            0.25,
            0.5,
            1,
            2,
            3,
            5,
            7,
            10,
            20,
            30
           ],
           "y": [
            4.31,
            4.22,
            3.92,
            3.7,
            3.69,
            3.81,
            4.02,
            4.25,
            4.75,
            4.74
           ]
          }
         ],
         "name": "2025-05-01"
        },
        {
         "data": [
          {
           "mode": "lines+markers",
           "type": "scatter",
           "x": [
            0.25,
            0.5,
            1,
            2,
            3,
            5,
            7,
            10,
            20,
            30
           ],
           "y": [
            4.33,
            4.26,
            4,
            3.83,
            3.82,
            3.92,
            4.11,
            4.33,
            4.81,
            4.79
           ]
          }
         ],
         "name": "2025-05-02"
        },
        {
         "data": [
          {
           "mode": "lines+markers",
           "type": "scatter",
           "x": [
            0.25,
            0.5,
            1,
            2,
            3,
            5,
            7,
            10,
            20,
            30
           ],
           "y": [
            4.33,
            4.27,
            4.02,
            3.83,
            3.78,
            3.95,
            4.14,
            4.36,
            4.84,
            4.83
           ]
          }
         ],
         "name": "2025-05-05"
        },
        {
         "data": [
          {
           "mode": "lines+markers",
           "type": "scatter",
           "x": [
            0.25,
            0.5,
            1,
            2,
            3,
            5,
            7,
            10,
            20,
            30
           ],
           "y": [
            4.33,
            4.25,
            3.98,
            3.78,
            3.73,
            3.9,
            4.1,
            4.3,
            4.82,
            4.81
           ]
          }
         ],
         "name": "2025-05-06"
        },
        {
         "data": [
          {
           "mode": "lines+markers",
           "type": "scatter",
           "x": [
            0.25,
            0.5,
            1,
            2,
            3,
            5,
            7,
            10,
            20,
            30
           ],
           "y": [
            4.34,
            4.27,
            4,
            3.78,
            3.72,
            3.87,
            4.06,
            4.26,
            4.78,
            4.77
           ]
          }
         ],
         "name": "2025-05-07"
        },
        {
         "data": [
          {
           "mode": "lines+markers",
           "type": "scatter",
           "x": [
            0.25,
            0.5,
            1,
            2,
            3,
            5,
            7,
            10,
            20,
            30
           ],
           "y": [
            4.34,
            4.28,
            4.05,
            3.9,
            3.85,
            4,
            4.18,
            4.37,
            4.86,
            4.83
           ]
          }
         ],
         "name": "2025-05-08"
        },
        {
         "data": [
          {
           "mode": "lines+markers",
           "type": "scatter",
           "x": [
            0.25,
            0.5,
            1,
            2,
            3,
            5,
            7,
            10,
            20,
            30
           ],
           "y": [
            4.34,
            4.28,
            4.05,
            3.88,
            3.85,
            4,
            4.18,
            4.37,
            4.86,
            4.83
           ]
          }
         ],
         "name": "2025-05-09"
        },
        {
         "data": [
          {
           "mode": "lines+markers",
           "type": "scatter",
           "x": [
            0.25,
            0.5,
            1,
            2,
            3,
            5,
            7,
            10,
            20,
            30
           ],
           "y": [
            4.42,
            4.29,
            4.11,
            3.98,
            3.97,
            4.09,
            4.27,
            4.45,
            4.92,
            4.89
           ]
          }
         ],
         "name": "2025-05-12"
        },
        {
         "data": [
          {
           "mode": "lines+markers",
           "type": "scatter",
           "x": [
            0.25,
            0.5,
            1,
            2,
            3,
            5,
            7,
            10,
            20,
            30
           ],
           "y": [
            4.41,
            4.29,
            4.11,
            4.02,
            4,
            4.12,
            4.3,
            4.49,
            4.97,
            4.94
           ]
          }
         ],
         "name": "2025-05-13"
        },
        {
         "data": [
          {
           "mode": "lines+markers",
           "type": "scatter",
           "x": [
            0.25,
            0.5,
            1,
            2,
            3,
            5,
            7,
            10,
            20,
            30
           ],
           "y": [
            4.41,
            4.3,
            4.14,
            4.05,
            4.05,
            4.17,
            4.35,
            4.53,
            5,
            4.97
           ]
          }
         ],
         "name": "2025-05-14"
        },
        {
         "data": [
          {
           "mode": "lines+markers",
           "type": "scatter",
           "x": [
            0.25,
            0.5,
            1,
            2,
            3,
            5,
            7,
            10,
            20,
            30
           ],
           "y": [
            4.38,
            4.29,
            4.1,
            3.96,
            3.95,
            4.07,
            4.25,
            4.45,
            4.93,
            4.91
           ]
          }
         ],
         "name": "2025-05-15"
        },
        {
         "data": [
          {
           "mode": "lines+markers",
           "type": "scatter",
           "x": [
            0.25,
            0.5,
            1,
            2,
            3,
            5,
            7,
            10,
            20,
            30
           ],
           "y": [
            4.37,
            4.3,
            4.13,
            3.98,
            3.95,
            4.06,
            4.24,
            4.43,
            4.92,
            4.89
           ]
          }
         ],
         "name": "2025-05-16"
        },
        {
         "data": [
          {
           "mode": "lines+markers",
           "type": "scatter",
           "x": [
            0.25,
            0.5,
            1,
            2,
            3,
            5,
            7,
            10,
            20,
            30
           ],
           "y": [
            4.39,
            4.32,
            4.12,
            3.97,
            3.95,
            4.07,
            4.26,
            4.46,
            4.95,
            4.92
           ]
          }
         ],
         "name": "2025-05-19"
        },
        {
         "data": [
          {
           "mode": "lines+markers",
           "type": "scatter",
           "x": [
            0.25,
            0.5,
            1,
            2,
            3,
            5,
            7,
            10,
            20,
            30
           ],
           "y": [
            4.38,
            4.32,
            4.12,
            3.97,
            3.95,
            4.07,
            4.27,
            4.48,
            4.99,
            4.96
           ]
          }
         ],
         "name": "2025-05-20"
        },
        {
         "data": [
          {
           "mode": "lines+markers",
           "type": "scatter",
           "x": [
            0.25,
            0.5,
            1,
            2,
            3,
            5,
            7,
            10,
            20,
            30
           ],
           "y": [
            4.36,
            4.33,
            4.13,
            4,
            4,
            4.15,
            4.37,
            4.58,
            5.08,
            5.08
           ]
          }
         ],
         "name": "2025-05-21"
        },
        {
         "data": [
          {
           "mode": "lines+markers",
           "type": "scatter",
           "x": [
            0.25,
            0.5,
            1,
            2,
            3,
            5,
            7,
            10,
            20,
            30
           ],
           "y": [
            4.37,
            4.34,
            4.13,
            4,
            3.99,
            4.11,
            4.32,
            4.54,
            5.05,
            5.05
           ]
          }
         ],
         "name": "2025-05-22"
        },
        {
         "data": [
          {
           "mode": "lines+markers",
           "type": "scatter",
           "x": [
            0.25,
            0.5,
            1,
            2,
            3,
            5,
            7,
            10,
            20,
            30
           ],
           "y": [
            4.36,
            4.35,
            4.15,
            4,
            3.96,
            4.08,
            4.29,
            4.51,
            5.03,
            5.04
           ]
          }
         ],
         "name": "2025-05-23"
        },
        {
         "data": [
          {
           "mode": "lines+markers",
           "type": "scatter",
           "x": [
            0.25,
            0.5,
            1,
            2,
            3,
            5,
            7,
            10,
            20,
            30
           ],
           "y": [
            4.35,
            4.35,
            4.14,
            3.92,
            3.93,
            4.04,
            4.22,
            4.43,
            4.95,
            4.94
           ]
          }
         ],
         "name": "2025-05-27"
        },
        {
         "data": [
          {
           "mode": "lines+markers",
           "type": "scatter",
           "x": [
            0.25,
            0.5,
            1,
            2,
            3,
            5,
            7,
            10,
            20,
            30
           ],
           "y": [
            4.35,
            4.36,
            4.16,
            3.96,
            3.95,
            4.05,
            4.27,
            4.47,
            4.99,
            4.97
           ]
          }
         ],
         "name": "2025-05-28"
        },
        {
         "data": [
          {
           "mode": "lines+markers",
           "type": "scatter",
           "x": [
            0.25,
            0.5,
            1,
            2,
            3,
            5,
            7,
            10,
            20,
            30
           ],
           "y": [
            4.36,
            4.36,
            4.13,
            3.92,
            3.91,
            4,
            4.2,
            4.43,
            4.94,
            4.92
           ]
          }
         ],
         "name": "2025-05-29"
        },
        {
         "data": [
          {
           "mode": "lines+markers",
           "type": "scatter",
           "x": [
            0.25,
            0.5,
            1,
            2,
            3,
            5,
            7,
            10,
            20,
            30
           ],
           "y": [
            4.36,
            4.36,
            4.11,
            3.89,
            3.87,
            3.96,
            4.18,
            4.41,
            4.93,
            4.92
           ]
          }
         ],
         "name": "2025-05-30"
        },
        {
         "data": [
          {
           "mode": "lines+markers",
           "type": "scatter",
           "x": [
            0.25,
            0.5,
            1,
            2,
            3,
            5,
            7,
            10,
            20,
            30
           ],
           "y": [
            4.44,
            4.31,
            4.12,
            3.94,
            3.91,
            4.01,
            4.22,
            4.46,
            5,
            4.99
           ]
          }
         ],
         "name": "2025-06-02"
        },
        {
         "data": [
          {
           "mode": "lines+markers",
           "type": "scatter",
           "x": [
            0.25,
            0.5,
            1,
            2,
            3,
            5,
            7,
            10,
            20,
            30
           ],
           "y": [
            4.43,
            4.31,
            4.12,
            3.96,
            3.93,
            4.04,
            4.23,
            4.46,
            5,
            4.98
           ]
          }
         ],
         "name": "2025-06-03"
        },
        {
         "data": [
          {
           "mode": "lines+markers",
           "type": "scatter",
           "x": [
            0.25,
            0.5,
            1,
            2,
            3,
            5,
            7,
            10,
            20,
            30
           ],
           "y": [
            4.44,
            4.29,
            4.06,
            3.87,
            3.84,
            3.93,
            4.14,
            4.37,
            4.9,
            4.89
           ]
          }
         ],
         "name": "2025-06-04"
        },
        {
         "data": [
          {
           "mode": "lines+markers",
           "type": "scatter",
           "x": [
            0.25,
            0.5,
            1,
            2,
            3,
            5,
            7,
            10,
            20,
            30
           ],
           "y": [
            4.44,
            4.29,
            4.08,
            3.92,
            3.9,
            3.99,
            4.18,
            4.4,
            4.9,
            4.88
           ]
          }
         ],
         "name": "2025-06-05"
        },
        {
         "data": [
          {
           "mode": "lines+markers",
           "type": "scatter",
           "x": [
            0.25,
            0.5,
            1,
            2,
            3,
            5,
            7,
            10,
            20,
            30
           ],
           "y": [
            4.43,
            4.31,
            4.14,
            4.04,
            4.02,
            4.13,
            4.31,
            4.51,
            4.99,
            4.97
           ]
          }
         ],
         "name": "2025-06-06"
        },
        {
         "data": [
          {
           "mode": "lines+markers",
           "type": "scatter",
           "x": [
            0.25,
            0.5,
            1,
            2,
            3,
            5,
            7,
            10,
            20,
            30
           ],
           "y": [
            4.44,
            4.32,
            4.13,
            4.01,
            3.99,
            4.09,
            4.28,
            4.49,
            4.98,
            4.95
           ]
          }
         ],
         "name": "2025-06-09"
        },
        {
         "data": [
          {
           "mode": "lines+markers",
           "type": "scatter",
           "x": [
            0.25,
            0.5,
            1,
            2,
            3,
            5,
            7,
            10,
            20,
            30
           ],
           "y": [
            4.45,
            4.32,
            4.12,
            4.01,
            3.95,
            4.08,
            4.27,
            4.47,
            4.96,
            4.93
           ]
          }
         ],
         "name": "2025-06-10"
        },
        {
         "data": [
          {
           "mode": "lines+markers",
           "type": "scatter",
           "x": [
            0.25,
            0.5,
            1,
            2,
            3,
            5,
            7,
            10,
            20,
            30
           ],
           "y": [
            4.45,
            4.31,
            4.08,
            3.94,
            3.89,
            4.02,
            4.21,
            4.41,
            4.93,
            4.91
           ]
          }
         ],
         "name": "2025-06-11"
        },
        {
         "data": [
          {
           "mode": "lines+markers",
           "type": "scatter",
           "x": [
            0.25,
            0.5,
            1,
            2,
            3,
            5,
            7,
            10,
            20,
            30
           ],
           "y": [
            4.46,
            4.29,
            4.06,
            3.9,
            3.85,
            3.97,
            4.15,
            4.36,
            4.86,
            4.84
           ]
          }
         ],
         "name": "2025-06-12"
        },
        {
         "data": [
          {
           "mode": "lines+markers",
           "type": "scatter",
           "x": [
            0.25,
            0.5,
            1,
            2,
            3,
            5,
            7,
            10,
            20,
            30
           ],
           "y": [
            4.45,
            4.3,
            4.09,
            3.96,
            3.9,
            4.02,
            4.2,
            4.41,
            4.93,
            4.9
           ]
          }
         ],
         "name": "2025-06-13"
        },
        {
         "data": [
          {
           "mode": "lines+markers",
           "type": "scatter",
           "x": [
            0.25,
            0.5,
            1,
            2,
            3,
            5,
            7,
            10,
            20,
            30
           ],
           "y": [
            4.43,
            4.32,
            4.1,
            3.97,
            3.93,
            4.04,
            4.23,
            4.46,
            4.97,
            4.96
           ]
          }
         ],
         "name": "2025-06-16"
        },
        {
         "data": [
          {
           "mode": "lines+markers",
           "type": "scatter",
           "x": [
            0.25,
            0.5,
            1,
            2,
            3,
            5,
            7,
            10,
            20,
            30
           ],
           "y": [
            4.42,
            4.31,
            4.1,
            3.94,
            3.9,
            3.99,
            4.17,
            4.39,
            4.89,
            4.88
           ]
          }
         ],
         "name": "2025-06-17"
        },
        {
         "data": [
          {
           "mode": "lines+markers",
           "type": "scatter",
           "x": [
            0.25,
            0.5,
            1,
            2,
            3,
            5,
            7,
            10,
            20,
            30
           ],
           "y": [
            4.42,
            4.33,
            4.1,
            3.94,
            3.89,
            3.98,
            4.17,
            4.38,
            4.89,
            4.88
           ]
          }
         ],
         "name": "2025-06-18"
        },
        {
         "data": [
          {
           "mode": "lines+markers",
           "type": "scatter",
           "x": [
            0.25,
            0.5,
            1,
            2,
            3,
            5,
            7,
            10,
            20,
            30
           ],
           "y": [
            4.39,
            4.29,
            4.07,
            3.9,
            3.86,
            3.96,
            4.16,
            4.38,
            4.9,
            4.89
           ]
          }
         ],
         "name": "2025-06-20"
        },
        {
         "data": [
          {
           "mode": "lines+markers",
           "type": "scatter",
           "x": [
            0.25,
            0.5,
            1,
            2,
            3,
            5,
            7,
            10,
            20,
            30
           ],
           "y": [
            4.38,
            4.28,
            4,
            3.84,
            3.8,
            3.91,
            4.1,
            4.34,
            4.87,
            4.87
           ]
          }
         ],
         "name": "2025-06-23"
        },
        {
         "data": [
          {
           "mode": "lines+markers",
           "type": "scatter",
           "x": [
            0.25,
            0.5,
            1,
            2,
            3,
            5,
            7,
            10,
            20,
            30
           ],
           "y": [
            4.38,
            4.27,
            3.99,
            3.75,
            3.75,
            3.86,
            4.06,
            4.3,
            4.83,
            4.83
           ]
          }
         ],
         "name": "2025-06-24"
        },
        {
         "data": [
          {
           "mode": "lines+markers",
           "type": "scatter",
           "x": [
            0.25,
            0.5,
            1,
            2,
            3,
            5,
            7,
            10,
            20,
            30
           ],
           "y": [
            4.38,
            4.26,
            3.99,
            3.74,
            3.74,
            3.83,
            4.05,
            4.29,
            4.83,
            4.83
           ]
          }
         ],
         "name": "2025-06-25"
        },
        {
         "data": [
          {
           "mode": "lines+markers",
           "type": "scatter",
           "x": [
            0.25,
            0.5,
            1,
            2,
            3,
            5,
            7,
            10,
            20,
            30
           ],
           "y": [
            4.39,
            4.26,
            3.96,
            3.7,
            3.68,
            3.79,
            4,
            4.26,
            4.81,
            4.81
           ]
          }
         ],
         "name": "2025-06-26"
        },
        {
         "data": [
          {
           "mode": "lines+markers",
           "type": "scatter",
           "x": [
            0.25,
            0.5,
            1,
            2,
            3,
            5,
            7,
            10,
            20,
            30
           ],
           "y": [
            4.39,
            4.26,
            3.97,
            3.73,
            3.72,
            3.83,
            4.03,
            4.29,
            4.85,
            4.85
           ]
          }
         ],
         "name": "2025-06-27"
        },
        {
         "data": [
          {
           "mode": "lines+markers",
           "type": "scatter",
           "x": [
            0.25,
            0.5,
            1,
            2,
            3,
            5,
            7,
            10,
            20,
            30
           ],
           "y": [
            4.41,
            4.29,
            3.96,
            3.72,
            3.68,
            3.79,
            3.98,
            4.24,
            4.79,
            4.78
           ]
          }
         ],
         "name": "2025-06-30"
        },
        {
         "data": [
          {
           "mode": "lines+markers",
           "type": "scatter",
           "x": [
            0.25,
            0.5,
            1,
            2,
            3,
            5,
            7,
            10,
            20,
            30
           ],
           "y": [
            4.4,
            4.29,
            3.98,
            3.78,
            3.75,
            3.84,
            4.03,
            4.26,
            4.79,
            4.78
           ]
          }
         ],
         "name": "2025-07-01"
        },
        {
         "data": [
          {
           "mode": "lines+markers",
           "type": "scatter",
           "x": [
            0.25,
            0.5,
            1,
            2,
            3,
            5,
            7,
            10,
            20,
            30
           ],
           "y": [
            4.41,
            4.28,
            3.99,
            3.78,
            3.77,
            3.87,
            4.06,
            4.3,
            4.84,
            4.82
           ]
          }
         ],
         "name": "2025-07-02"
        },
        {
         "data": [
          {
           "mode": "lines+markers",
           "type": "scatter",
           "x": [
            0.25,
            0.5,
            1,
            2,
            3,
            5,
            7,
            10,
            20,
            30
           ],
           "y": [
            4.42,
            4.34,
            4.07,
            3.88,
            3.84,
            3.94,
            4.12,
            4.35,
            4.87,
            4.86
           ]
          }
         ],
         "name": "2025-07-03"
        },
        {
         "data": [
          {
           "mode": "lines+markers",
           "type": "scatter",
           "x": [
            0.25,
            0.5,
            1,
            2,
            3,
            5,
            7,
            10,
            20,
            30
           ],
           "y": [
            4.42,
            4.33,
            4.08,
            3.9,
            3.85,
            3.96,
            4.16,
            4.4,
            4.93,
            4.92
           ]
          }
         ],
         "name": "2025-07-07"
        },
        {
         "data": [
          {
           "mode": "lines+markers",
           "type": "scatter",
           "x": [
            0.25,
            0.5,
            1,
            2,
            3,
            5,
            7,
            10,
            20,
            30
           ],
           "y": [
            4.42,
            4.34,
            4.11,
            3.9,
            3.86,
            3.99,
            4.18,
            4.42,
            4.95,
            4.94
           ]
          }
         ],
         "name": "2025-07-08"
        },
        {
         "data": [
          {
           "mode": "lines+markers",
           "type": "scatter",
           "x": [
            0.25,
            0.5,
            1,
            2,
            3,
            5,
            7,
            10,
            20,
            30
           ],
           "y": [
            4.42,
            4.31,
            4.07,
            3.86,
            3.8,
            3.92,
            4.11,
            4.34,
            4.87,
            4.87
           ]
          }
         ],
         "name": "2025-07-09"
        },
        {
         "data": [
          {
           "mode": "lines+markers",
           "type": "scatter",
           "x": [
            0.25,
            0.5,
            1,
            2,
            3,
            5,
            7,
            10,
            20,
            30
           ],
           "y": [
            4.42,
            4.31,
            4.07,
            3.86,
            3.82,
            3.93,
            4.12,
            4.35,
            4.87,
            4.86
           ]
          }
         ],
         "name": "2025-07-10"
        },
        {
         "data": [
          {
           "mode": "lines+markers",
           "type": "scatter",
           "x": [
            0.25,
            0.5,
            1,
            2,
            3,
            5,
            7,
            10,
            20,
            30
           ],
           "y": [
            4.41,
            4.31,
            4.09,
            3.9,
            3.86,
            3.99,
            4.19,
            4.43,
            4.96,
            4.96
           ]
          }
         ],
         "name": "2025-07-11"
        },
        {
         "data": [
          {
           "mode": "lines+markers",
           "type": "scatter",
           "x": [
            0.25,
            0.5,
            1,
            2,
            3,
            5,
            7,
            10,
            20,
            30
           ],
           "y": [
            4.42,
            4.31,
            4.08,
            3.9,
            3.86,
            3.98,
            4.19,
            4.43,
            4.97,
            4.97
           ]
          }
         ],
         "name": "2025-07-14"
        },
        {
         "data": [
          {
           "mode": "lines+markers",
           "type": "scatter",
           "x": [
            0.25,
            0.5,
            1,
            2,
            3,
            5,
            7,
            10,
            20,
            30
           ],
           "y": [
            4.42,
            4.33,
            4.12,
            3.95,
            3.93,
            4.05,
            4.26,
            4.5,
            5.02,
            5.01
           ]
          }
         ],
         "name": "2025-07-15"
        },
        {
         "data": [
          {
           "mode": "lines+markers",
           "type": "scatter",
           "x": [
            0.25,
            0.5,
            1,
            2,
            3,
            5,
            7,
            10,
            20,
            30
           ],
           "y": [
            4.41,
            4.31,
            4.08,
            3.88,
            3.86,
            3.99,
            4.21,
            4.46,
            5.01,
            5.01
           ]
          }
         ],
         "name": "2025-07-16"
        },
        {
         "data": [
          {
           "mode": "lines+markers",
           "type": "scatter",
           "x": [
            0.25,
            0.5,
            1,
            2,
            3,
            5,
            7,
            10,
            20,
            30
           ],
           "y": [
            4.41,
            4.31,
            4.1,
            3.91,
            3.89,
            4.01,
            4.22,
            4.47,
            5.01,
            5.01
           ]
          }
         ],
         "name": "2025-07-17"
        },
        {
         "data": [
          {
           "mode": "lines+markers",
           "type": "scatter",
           "x": [
            0.25,
            0.5,
            1,
            2,
            3,
            5,
            7,
            10,
            20,
            30
           ],
           "y": [
            4.4,
            4.3,
            4.08,
            3.88,
            3.84,
            3.96,
            4.18,
            4.44,
            4.99,
            5
           ]
          }
         ],
         "name": "2025-07-18"
        },
        {
         "data": [
          {
           "mode": "lines+markers",
           "type": "scatter",
           "x": [
            0.25,
            0.5,
            1,
            2,
            3,
            5,
            7,
            10,
            20,
            30
           ],
           "y": [
            4.41,
            4.3,
            4.06,
            3.85,
            3.81,
            3.91,
            4.13,
            4.38,
            4.93,
            4.94
           ]
          }
         ],
         "name": "2025-07-21"
        },
        {
         "data": [
          {
           "mode": "lines+markers",
           "type": "scatter",
           "x": [
            0.25,
            0.5,
            1,
            2,
            3,
            5,
            7,
            10,
            20,
            30
           ],
           "y": [
            4.41,
            4.3,
            4.05,
            3.83,
            3.77,
            3.88,
            4.09,
            4.35,
            4.9,
            4.9
           ]
          }
         ],
         "name": "2025-07-22"
        },
        {
         "data": [
          {
           "mode": "lines+markers",
           "type": "scatter",
           "x": [
            0.25,
            0.5,
            1,
            2,
            3,
            5,
            7,
            10,
            20,
            30
           ],
           "y": [
            4.41,
            4.31,
            4.08,
            3.88,
            3.84,
            3.94,
            4.15,
            4.4,
            4.93,
            4.95
           ]
          }
         ],
         "name": "2025-07-23"
        },
        {
         "data": [
          {
           "mode": "lines+markers",
           "type": "scatter",
           "x": [
            0.25,
            0.5,
            1,
            2,
            3,
            5,
            7,
            10,
            20,
            30
           ],
           "y": [
            4.42,
            4.32,
            4.1,
            3.91,
            3.87,
            3.98,
            4.18,
            4.43,
            4.95,
            4.96
           ]
          }
         ],
         "name": "2025-07-24"
        },
        {
         "data": [
          {
           "mode": "lines+markers",
           "type": "scatter",
           "x": [
            0.25,
            0.5,
            1,
            2,
            3,
            5,
            7,
            10,
            20,
            30
           ],
           "y": [
            4.42,
            4.31,
            4.09,
            3.91,
            3.86,
            3.95,
            4.15,
            4.4,
            4.92,
            4.92
           ]
          }
         ],
         "name": "2025-07-25"
        },
        {
         "data": [
          {
           "mode": "lines+markers",
           "type": "scatter",
           "x": [
            0.25,
            0.5,
            1,
            2,
            3,
            5,
            7,
            10,
            20,
            30
           ],
           "y": [
            4.4,
            4.3,
            4.09,
            3.91,
            3.87,
            3.96,
            4.18,
            4.42,
            4.95,
            4.96
           ]
          }
         ],
         "name": "2025-07-28"
        },
        {
         "data": [
          {
           "mode": "lines+markers",
           "type": "scatter",
           "x": [
            0.25,
            0.5,
            1,
            2,
            3,
            5,
            7,
            10,
            20,
            30
           ],
           "y": [
            4.4,
            4.28,
            4.07,
            3.86,
            3.82,
            3.9,
            4.1,
            4.34,
            4.86,
            4.86
           ]
          }
         ],
         "name": "2025-07-29"
        },
        {
         "data": [
          {
           "mode": "lines+markers",
           "type": "scatter",
           "x": [
            0.25,
            0.5,
            1,
            2,
            3,
            5,
            7,
            10,
            20,
            30
           ],
           "y": [
            4.41,
            4.31,
            4.12,
            3.94,
            3.89,
            3.96,
            4.15,
            4.38,
            4.9,
            4.89
           ]
          }
         ],
         "name": "2025-07-30"
        },
        {
         "data": [
          {
           "mode": "lines+markers",
           "type": "scatter",
           "x": [
            0.25,
            0.5,
            1,
            2,
            3,
            5,
            7,
            10,
            20,
            30
           ],
           "y": [
            4.41,
            4.31,
            4.1,
            3.94,
            3.89,
            3.96,
            4.14,
            4.37,
            4.89,
            4.89
           ]
          }
         ],
         "name": "2025-07-31"
        },
        {
         "data": [
          {
           "mode": "lines+markers",
           "type": "scatter",
           "x": [
            0.25,
            0.5,
            1,
            2,
            3,
            5,
            7,
            10,
            20,
            30
           ],
           "y": [
            4.35,
            4.16,
            3.87,
            3.69,
            3.67,
            3.77,
            3.97,
            4.23,
            4.79,
            4.81
           ]
          }
         ],
         "name": "2025-08-01"
        },
        {
         "data": [
          {
           "mode": "lines+markers",
           "type": "scatter",
           "x": [
            0.25,
            0.5,
            1,
            2,
            3,
            5,
            7,
            10,
            20,
            30
           ],
           "y": [
            4.35,
            4.15,
            3.82,
            3.69,
            3.66,
            3.75,
            3.95,
            4.22,
            4.78,
            4.8
           ]
          }
         ],
         "name": "2025-08-04"
        },
        {
         "data": [
          {
           "mode": "lines+markers",
           "type": "scatter",
           "x": [
            0.25,
            0.5,
            1,
            2,
            3,
            5,
            7,
            10,
            20,
            30
           ],
           "y": [
            4.34,
            4.16,
            3.92,
            3.72,
            3.63,
            3.77,
            3.97,
            4.22,
            4.77,
            4.78
           ]
          }
         ],
         "name": "2025-08-05"
        },
        {
         "data": [
          {
           "mode": "lines+markers",
           "type": "scatter",
           "x": [
            0.25,
            0.5,
            1,
            2,
            3,
            5,
            7,
            10,
            20,
            30
           ],
           "y": [
            4.32,
            4.15,
            3.9,
            3.69,
            3.63,
            3.77,
            3.97,
            4.22,
            4.8,
            4.81
           ]
          }
         ],
         "name": "2025-08-06"
        },
        {
         "data": [
          {
           "mode": "lines+markers",
           "type": "scatter",
           "x": [
            0.25,
            0.5,
            1,
            2,
            3,
            5,
            7,
            10,
            20,
            30
           ],
           "y": [
            4.32,
            4.15,
            3.92,
            3.72,
            3.66,
            3.79,
            3.99,
            4.23,
            4.81,
            4.81
           ]
          }
         ],
         "name": "2025-08-07"
        },
        {
         "data": [
          {
           "mode": "lines+markers",
           "type": "scatter",
           "x": [
            0.25,
            0.5,
            1,
            2,
            3,
            5,
            7,
            10,
            20,
            30
           ],
           "y": [
            4.32,
            4.15,
            3.93,
            3.76,
            3.7,
            3.84,
            4.03,
            4.27,
            4.84,
            4.85
           ]
          }
         ],
         "name": "2025-08-08"
        },
        {
         "data": [
          {
           "mode": "lines+markers",
           "type": "scatter",
           "x": [
            0.25,
            0.5,
            1,
            2,
            3,
            5,
            7,
            10,
            20,
            30
           ],
           "y": [
            4.34,
            4.15,
            3.93,
            3.76,
            3.71,
            3.83,
            4.03,
            4.27,
            4.83,
            4.84
           ]
          }
         ],
         "name": "2025-08-11"
        },
        {
         "data": [
          {
           "mode": "lines+markers",
           "type": "scatter",
           "x": [
            0.25,
            0.5,
            1,
            2,
            3,
            5,
            7,
            10,
            20,
            30
           ],
           "y": [
            4.33,
            4.12,
            3.9,
            3.72,
            3.69,
            3.83,
            4.03,
            4.29,
            4.87,
            4.88
           ]
          }
         ],
         "name": "2025-08-12"
        },
        {
         "data": [
          {
           "mode": "lines+markers",
           "type": "scatter",
           "x": [
            0.25,
            0.5,
            1,
            2,
            3,
            5,
            7,
            10,
            20,
            30
           ],
           "y": [
            4.29,
            4.09,
            3.86,
            3.67,
            3.64,
            3.77,
            3.98,
            4.24,
            4.81,
            4.83
           ]
          }
         ],
         "name": "2025-08-13"
        },
        {
         "data": [
          {
           "mode": "lines+markers",
           "type": "scatter",
           "x": [
            0.25,
            0.5,
            1,
            2,
            3,
            5,
            7,
            10,
            20,
            30
           ],
           "y": [
            4.3,
            4.12,
            3.91,
            3.74,
            3.7,
            3.82,
            4.03,
            4.29,
            4.86,
            4.88
           ]
          }
         ],
         "name": "2025-08-14"
        },
        {
         "data": [
          {
           "mode": "lines+markers",
           "type": "scatter",
           "x": [
            0.25,
            0.5,
            1,
            2,
            3,
            5,
            7,
            10,
            20,
            30
           ],
           "y": [
            4.3,
            4.12,
            3.93,
            3.75,
            3.73,
            3.85,
            4.07,
            4.33,
            4.91,
            4.92
           ]
          }
         ],
         "name": "2025-08-15"
        },
        {
         "data": [
          {
           "mode": "lines+markers",
           "type": "scatter",
           "x": [
            0.25,
            0.5,
            1,
            2,
            3,
            5,
            7,
            10,
            20,
            30
           ],
           "y": [
            4.33,
            4.13,
            3.93,
            3.77,
            3.73,
            3.86,
            4.07,
            4.34,
            4.92,
            4.94
           ]
          }
         ],
         "name": "2025-08-18"
        },
        {
         "data": [
          {
           "mode": "lines+markers",
           "type": "scatter",
           "x": [
            0.25,
            0.5,
            1,
            2,
            3,
            5,
            7,
            10,
            20,
            30
           ],
           "y": [
            4.3,
            4.11,
            3.91,
            3.75,
            3.7,
            3.82,
            4.04,
            4.3,
            4.89,
            4.9
           ]
          }
         ],
         "name": "2025-08-19"
        },
        {
         "data": [
          {
           "mode": "lines+markers",
           "type": "scatter",
           "x": [
            0.25,
            0.5,
            1,
            2,
            3,
            5,
            7,
            10,
            20,
            30
           ],
           "y": [
            4.3,
            4.11,
            3.9,
            3.74,
            3.69,
            3.81,
            4.02,
            4.29,
            4.86,
            4.89
           ]
          }
         ],
         "name": "2025-08-20"
        },
        {
         "data": [
          {
           "mode": "lines+markers",
           "type": "scatter",
           "x": [
            0.25,
            0.5,
            1,
            2,
            3,
            5,
            7,
            10,
            20,
            30
           ],
           "y": [
            4.32,
            4.14,
            3.95,
            3.79,
            3.75,
            3.86,
            4.07,
            4.33,
            4.89,
            4.92
           ]
          }
         ],
         "name": "2025-08-21"
        },
        {
         "data": [
          {
           "mode": "lines+markers",
           "type": "scatter",
           "x": [
            0.25,
            0.5,
            1,
            2,
            3,
            5,
            7,
            10,
            20,
            30
           ],
           "y": [
            4.27,
            4.08,
            3.87,
            3.68,
            3.64,
            3.76,
            3.98,
            4.26,
            4.84,
            4.88
           ]
          }
         ],
         "name": "2025-08-22"
        },
        {
         "data": [
          {
           "mode": "lines+markers",
           "type": "scatter",
           "x": [
            0.25,
            0.5,
            1,
            2,
            3,
            5,
            7,
            10,
            20,
            30
           ],
           "y": [
            4.29,
            4.08,
            3.88,
            3.73,
            3.68,
            3.8,
            4.01,
            4.28,
            4.86,
            4.89
           ]
          }
         ],
         "name": "2025-08-25"
        },
        {
         "data": [
          {
           "mode": "lines+markers",
           "type": "scatter",
           "x": [
            0.25,
            0.5,
            1,
            2,
            3,
            5,
            7,
            10,
            20,
            30
           ],
           "y": [
            4.28,
            4.06,
            3.85,
            3.61,
            3.63,
            3.75,
            3.98,
            4.26,
            4.86,
            4.9
           ]
          }
         ],
         "name": "2025-08-26"
        },
        {
         "data": [
          {
           "mode": "lines+markers",
           "type": "scatter",
           "x": [
            0.25,
            0.5,
            1,
            2,
            3,
            5,
            7,
            10,
            20,
            30
           ],
           "y": [
            4.26,
            4.04,
            3.83,
            3.59,
            3.59,
            3.69,
            3.95,
            4.24,
            4.87,
            4.91
           ]
          }
         ],
         "name": "2025-08-27"
        },
        {
         "data": [
          {
           "mode": "lines+markers",
           "type": "scatter",
           "x": [
            0.25,
            0.5,
            1,
            2,
            3,
            5,
            7,
            10,
            20,
            30
           ],
           "y": [
            4.26,
            4.04,
            3.85,
            3.62,
            3.6,
            3.69,
            3.92,
            4.22,
            4.83,
            4.88
           ]
          }
         ],
         "name": "2025-08-28"
        },
        {
         "data": [
          {
           "mode": "lines+markers",
           "type": "scatter",
           "x": [
            0.25,
            0.5,
            1,
            2,
            3,
            5,
            7,
            10,
            20,
            30
           ],
           "y": [
            4.23,
            4.01,
            3.83,
            3.59,
            3.58,
            3.68,
            3.92,
            4.23,
            4.86,
            4.92
           ]
          }
         ],
         "name": "2025-08-29"
        },
        {
         "data": [
          {
           "mode": "lines+markers",
           "type": "scatter",
           "x": [
            0.25,
            0.5,
            1,
            2,
            3,
            5,
            7,
            10,
            20,
            30
           ],
           "y": [
            4.2,
            3.99,
            3.82,
            3.66,
            3.63,
            3.74,
            3.98,
            4.28,
            4.92,
            4.97
           ]
          }
         ],
         "name": "2025-09-02"
        },
        {
         "data": [
          {
           "mode": "lines+markers",
           "type": "scatter",
           "x": [
            0.25,
            0.5,
            1,
            2,
            3,
            5,
            7,
            10,
            20,
            30
           ],
           "y": [
            4.18,
            3.96,
            3.77,
            3.61,
            3.58,
            3.69,
            3.92,
            4.22,
            4.85,
            4.9
           ]
          }
         ],
         "name": "2025-09-03"
        },
        {
         "data": [
          {
           "mode": "lines+markers",
           "type": "scatter",
           "x": [
            0.25,
            0.5,
            1,
            2,
            3,
            5,
            7,
            10,
            20,
            30
           ],
           "y": [
            4.16,
            3.94,
            3.76,
            3.59,
            3.55,
            3.65,
            3.87,
            4.17,
            4.81,
            4.86
           ]
          }
         ],
         "name": "2025-09-04"
        },
        {
         "data": [
          {
           "mode": "lines+markers",
           "type": "scatter",
           "x": [
            0.25,
            0.5,
            1,
            2,
            3,
            5,
            7,
            10,
            20,
            30
           ],
           "y": [
            4.07,
            3.85,
            3.65,
            3.51,
            3.48,
            3.59,
            3.8,
            4.1,
            4.72,
            4.78
           ]
          }
         ],
         "name": "2025-09-05"
        },
        {
         "data": [
          {
           "mode": "lines+markers",
           "type": "scatter",
           "x": [
            0.25,
            0.5,
            1,
            2,
            3,
            5,
            7,
            10,
            20,
            30
           ],
           "y": [
            4.1,
            3.84,
            3.64,
            3.49,
            3.47,
            3.57,
            3.77,
            4.05,
            4.65,
            4.69
           ]
          }
         ],
         "name": "2025-09-08"
        },
        {
         "data": [
          {
           "mode": "lines+markers",
           "type": "scatter",
           "x": [
            0.25,
            0.5,
            1,
            2,
            3,
            5,
            7,
            10,
            20,
            30
           ],
           "y": [
            4.1,
            3.85,
            3.68,
            3.54,
            3.48,
            3.61,
            3.81,
            4.08,
            4.68,
            4.72
           ]
          }
         ],
         "name": "2025-09-09"
        },
        {
         "data": [
          {
           "mode": "lines+markers",
           "type": "scatter",
           "x": [
            0.25,
            0.5,
            1,
            2,
            3,
            5,
            7,
            10,
            20,
            30
           ],
           "y": [
            4.09,
            3.83,
            3.66,
            3.54,
            3.47,
            3.59,
            3.78,
            4.04,
            4.65,
            4.69
           ]
          }
         ],
         "name": "2025-09-10"
        },
        {
         "data": [
          {
           "mode": "lines+markers",
           "type": "scatter",
           "x": [
            0.25,
            0.5,
            1,
            2,
            3,
            5,
            7,
            10,
            20,
            30
           ],
           "y": [
            4.08,
            3.82,
            3.63,
            3.52,
            3.47,
            3.59,
            3.76,
            4.01,
            4.61,
            4.65
           ]
          }
         ],
         "name": "2025-09-11"
        },
        {
         "data": [
          {
           "mode": "lines+markers",
           "type": "scatter",
           "x": [
            0.25,
            0.5,
            1,
            2,
            3,
            5,
            7,
            10,
            20,
            30
           ],
           "y": [
            4.08,
            3.83,
            3.66,
            3.56,
            3.52,
            3.63,
            3.81,
            4.06,
            4.65,
            4.68
           ]
          }
         ],
         "name": "2025-09-12"
        },
        {
         "data": [
          {
           "mode": "lines+markers",
           "type": "scatter",
           "x": [
            0.25,
            0.5,
            1,
            2,
            3,
            5,
            7,
            10,
            20,
            30
           ],
           "y": [
            4.06,
            3.81,
            3.64,
            3.54,
            3.5,
            3.61,
            3.79,
            4.05,
            4.63,
            4.66
           ]
          }
         ],
         "name": "2025-09-15"
        },
        {
         "data": [
          {
           "mode": "lines+markers",
           "type": "scatter",
           "x": [
            0.25,
            0.5,
            1,
            2,
            3,
            5,
            7,
            10,
            20,
            30
           ],
           "y": [
            4.04,
            3.81,
            3.62,
            3.51,
            3.47,
            3.59,
            3.78,
            4.04,
            4.61,
            4.65
           ]
          }
         ],
         "name": "2025-09-16"
        },
        {
         "data": [
          {
           "mode": "lines+markers",
           "type": "scatter",
           "x": [
            0.25,
            0.5,
            1,
            2,
            3,
            5,
            7,
            10,
            20,
            30
           ],
           "y": [
            4.02,
            3.8,
            3.6,
            3.52,
            3.51,
            3.62,
            3.81,
            4.06,
            4.62,
            4.66
           ]
          }
         ],
         "name": "2025-09-17"
        },
        {
         "data": [
          {
           "mode": "lines+markers",
           "type": "scatter",
           "x": [
            0.25,
            0.5,
            1,
            2,
            3,
            5,
            7,
            10,
            20,
            30
           ],
           "y": [
            4.03,
            3.81,
            3.61,
            3.57,
            3.55,
            3.67,
            3.86,
            4.11,
            4.68,
            4.72
           ]
          }
         ],
         "name": "2025-09-18"
        },
        {
         "data": [
          {
           "mode": "lines+markers",
           "type": "scatter",
           "x": [
            0.25,
            0.5,
            1,
            2,
            3,
            5,
            7,
            10,
            20,
            30
           ],
           "y": [
            4.03,
            3.81,
            3.6,
            3.57,
            3.56,
            3.68,
            3.88,
            4.14,
            4.71,
            4.75
           ]
          }
         ],
         "name": "2025-09-19"
        },
        {
         "data": [
          {
           "mode": "lines+markers",
           "type": "scatter",
           "x": [
            0.25,
            0.5,
            1,
            2,
            3,
            5,
            7,
            10,
            20,
            30
           ],
           "y": [
            4,
            3.81,
            3.61,
            3.61,
            3.59,
            3.71,
            3.9,
            4.15,
            4.73,
            4.77
           ]
          }
         ],
         "name": "2025-09-22"
        },
        {
         "data": [
          {
           "mode": "lines+markers",
           "type": "scatter",
           "x": [
            0.25,
            0.5,
            1,
            2,
            3,
            5,
            7,
            10,
            20,
            30
           ],
           "y": [
            4,
            3.81,
            3.61,
            3.53,
            3.57,
            3.68,
            3.87,
            4.12,
            4.7,
            4.73
           ]
          }
         ],
         "name": "2025-09-23"
        },
        {
         "data": [
          {
           "mode": "lines+markers",
           "type": "scatter",
           "x": [
            0.25,
            0.5,
            1,
            2,
            3,
            5,
            7,
            10,
            20,
            30
           ],
           "y": [
            4.02,
            3.82,
            3.63,
            3.57,
            3.6,
            3.7,
            3.91,
            4.16,
            4.73,
            4.76
           ]
          }
         ],
         "name": "2025-09-24"
        },
        {
         "data": [
          {
           "mode": "lines+markers",
           "type": "scatter",
           "x": [
            0.25,
            0.5,
            1,
            2,
            3,
            5,
            7,
            10,
            20,
            30
           ],
           "y": [
            4.04,
            3.85,
            3.68,
            3.64,
            3.66,
            3.75,
            3.94,
            4.18,
            4.73,
            4.75
           ]
          }
         ],
         "name": "2025-09-25"
        }
       ],
       "layout": {
        "height": 600,
        "sliders": [
         {
          "currentvalue": {
           "prefix": "Date: "
          },
          "steps": [
           {
            "args": [
             [
              "2025-01-02"
             ],
             {
              "frame": {
               "duration": 0,
               "redraw": true
              },
              "mode": "immediate"
             }
            ],
            "label": "2025-01-02",
            "method": "animate"
           },
           {
            "args": [
             [
              "2025-01-03"
             ],
             {
              "frame": {
               "duration": 0,
               "redraw": true
              },
              "mode": "immediate"
             }
            ],
            "label": "2025-01-03",
            "method": "animate"
           },
           {
            "args": [
             [
              "2025-01-06"
             ],
             {
              "frame": {
               "duration": 0,
               "redraw": true
              },
              "mode": "immediate"
             }
            ],
            "label": "2025-01-06",
            "method": "animate"
           },
           {
            "args": [
             [
              "2025-01-07"
             ],
             {
              "frame": {
               "duration": 0,
               "redraw": true
              },
              "mode": "immediate"
             }
            ],
            "label": "2025-01-07",
            "method": "animate"
           },
           {
            "args": [
             [
              "2025-01-08"
             ],
             {
              "frame": {
               "duration": 0,
               "redraw": true
              },
              "mode": "immediate"
             }
            ],
            "label": "2025-01-08",
            "method": "animate"
           },
           {
            "args": [
             [
              "2025-01-09"
             ],
             {
              "frame": {
               "duration": 0,
               "redraw": true
              },
              "mode": "immediate"
             }
            ],
            "label": "2025-01-09",
            "method": "animate"
           },
           {
            "args": [
             [
              "2025-01-10"
             ],
             {
              "frame": {
               "duration": 0,
               "redraw": true
              },
              "mode": "immediate"
             }
            ],
            "label": "2025-01-10",
            "method": "animate"
           },
           {
            "args": [
             [
              "2025-01-13"
             ],
             {
              "frame": {
               "duration": 0,
               "redraw": true
              },
              "mode": "immediate"
             }
            ],
            "label": "2025-01-13",
            "method": "animate"
           },
           {
            "args": [
             [
              "2025-01-14"
             ],
             {
              "frame": {
               "duration": 0,
               "redraw": true
              },
              "mode": "immediate"
             }
            ],
            "label": "2025-01-14",
            "method": "animate"
           },
           {
            "args": [
             [
              "2025-01-15"
             ],
             {
              "frame": {
               "duration": 0,
               "redraw": true
              },
              "mode": "immediate"
             }
            ],
            "label": "2025-01-15",
            "method": "animate"
           },
           {
            "args": [
             [
              "2025-01-16"
             ],
             {
              "frame": {
               "duration": 0,
               "redraw": true
              },
              "mode": "immediate"
             }
            ],
            "label": "2025-01-16",
            "method": "animate"
           },
           {
            "args": [
             [
              "2025-01-17"
             ],
             {
              "frame": {
               "duration": 0,
               "redraw": true
              },
              "mode": "immediate"
             }
            ],
            "label": "2025-01-17",
            "method": "animate"
           },
           {
            "args": [
             [
              "2025-01-21"
             ],
             {
              "frame": {
               "duration": 0,
               "redraw": true
              },
              "mode": "immediate"
             }
            ],
            "label": "2025-01-21",
            "method": "animate"
           },
           {
            "args": [
             [
              "2025-01-22"
             ],
             {
              "frame": {
               "duration": 0,
               "redraw": true
              },
              "mode": "immediate"
             }
            ],
            "label": "2025-01-22",
            "method": "animate"
           },
           {
            "args": [
             [
              "2025-01-23"
             ],
             {
              "frame": {
               "duration": 0,
               "redraw": true
              },
              "mode": "immediate"
             }
            ],
            "label": "2025-01-23",
            "method": "animate"
           },
           {
            "args": [
             [
              "2025-01-24"
             ],
             {
              "frame": {
               "duration": 0,
               "redraw": true
              },
              "mode": "immediate"
             }
            ],
            "label": "2025-01-24",
            "method": "animate"
           },
           {
            "args": [
             [
              "2025-01-27"
             ],
             {
              "frame": {
               "duration": 0,
               "redraw": true
              },
              "mode": "immediate"
             }
            ],
            "label": "2025-01-27",
            "method": "animate"
           },
           {
            "args": [
             [
              "2025-01-28"
             ],
             {
              "frame": {
               "duration": 0,
               "redraw": true
              },
              "mode": "immediate"
             }
            ],
            "label": "2025-01-28",
            "method": "animate"
           },
           {
            "args": [
             [
              "2025-01-29"
             ],
             {
              "frame": {
               "duration": 0,
               "redraw": true
              },
              "mode": "immediate"
             }
            ],
            "label": "2025-01-29",
            "method": "animate"
           },
           {
            "args": [
             [
              "2025-01-30"
             ],
             {
              "frame": {
               "duration": 0,
               "redraw": true
              },
              "mode": "immediate"
             }
            ],
            "label": "2025-01-30",
            "method": "animate"
           },
           {
            "args": [
             [
              "2025-01-31"
             ],
             {
              "frame": {
               "duration": 0,
               "redraw": true
              },
              "mode": "immediate"
             }
            ],
            "label": "2025-01-31",
            "method": "animate"
           },
           {
            "args": [
             [
              "2025-02-03"
             ],
             {
              "frame": {
               "duration": 0,
               "redraw": true
              },
              "mode": "immediate"
             }
            ],
            "label": "2025-02-03",
            "method": "animate"
           },
           {
            "args": [
             [
              "2025-02-04"
             ],
             {
              "frame": {
               "duration": 0,
               "redraw": true
              },
              "mode": "immediate"
             }
            ],
            "label": "2025-02-04",
            "method": "animate"
           },
           {
            "args": [
             [
              "2025-02-05"
             ],
             {
              "frame": {
               "duration": 0,
               "redraw": true
              },
              "mode": "immediate"
             }
            ],
            "label": "2025-02-05",
            "method": "animate"
           },
           {
            "args": [
             [
              "2025-02-06"
             ],
             {
              "frame": {
               "duration": 0,
               "redraw": true
              },
              "mode": "immediate"
             }
            ],
            "label": "2025-02-06",
            "method": "animate"
           },
           {
            "args": [
             [
              "2025-02-07"
             ],
             {
              "frame": {
               "duration": 0,
               "redraw": true
              },
              "mode": "immediate"
             }
            ],
            "label": "2025-02-07",
            "method": "animate"
           },
           {
            "args": [
             [
              "2025-02-10"
             ],
             {
              "frame": {
               "duration": 0,
               "redraw": true
              },
              "mode": "immediate"
             }
            ],
            "label": "2025-02-10",
            "method": "animate"
           },
           {
            "args": [
             [
              "2025-02-11"
             ],
             {
              "frame": {
               "duration": 0,
               "redraw": true
              },
              "mode": "immediate"
             }
            ],
            "label": "2025-02-11",
            "method": "animate"
           },
           {
            "args": [
             [
              "2025-02-12"
             ],
             {
              "frame": {
               "duration": 0,
               "redraw": true
              },
              "mode": "immediate"
             }
            ],
            "label": "2025-02-12",
            "method": "animate"
           },
           {
            "args": [
             [
              "2025-02-13"
             ],
             {
              "frame": {
               "duration": 0,
               "redraw": true
              },
              "mode": "immediate"
             }
            ],
            "label": "2025-02-13",
            "method": "animate"
           },
           {
            "args": [
             [
              "2025-02-14"
             ],
             {
              "frame": {
               "duration": 0,
               "redraw": true
              },
              "mode": "immediate"
             }
            ],
            "label": "2025-02-14",
            "method": "animate"
           },
           {
            "args": [
             [
              "2025-02-18"
             ],
             {
              "frame": {
               "duration": 0,
               "redraw": true
              },
              "mode": "immediate"
             }
            ],
            "label": "2025-02-18",
            "method": "animate"
           },
           {
            "args": [
             [
              "2025-02-19"
             ],
             {
              "frame": {
               "duration": 0,
               "redraw": true
              },
              "mode": "immediate"
             }
            ],
            "label": "2025-02-19",
            "method": "animate"
           },
           {
            "args": [
             [
              "2025-02-20"
             ],
             {
              "frame": {
               "duration": 0,
               "redraw": true
              },
              "mode": "immediate"
             }
            ],
            "label": "2025-02-20",
            "method": "animate"
           },
           {
            "args": [
             [
              "2025-02-21"
             ],
             {
              "frame": {
               "duration": 0,
               "redraw": true
              },
              "mode": "immediate"
             }
            ],
            "label": "2025-02-21",
            "method": "animate"
           },
           {
            "args": [
             [
              "2025-02-24"
             ],
             {
              "frame": {
               "duration": 0,
               "redraw": true
              },
              "mode": "immediate"
             }
            ],
            "label": "2025-02-24",
            "method": "animate"
           },
           {
            "args": [
             [
              "2025-02-25"
             ],
             {
              "frame": {
               "duration": 0,
               "redraw": true
              },
              "mode": "immediate"
             }
            ],
            "label": "2025-02-25",
            "method": "animate"
           },
           {
            "args": [
             [
              "2025-02-26"
             ],
             {
              "frame": {
               "duration": 0,
               "redraw": true
              },
              "mode": "immediate"
             }
            ],
            "label": "2025-02-26",
            "method": "animate"
           },
           {
            "args": [
             [
              "2025-02-27"
             ],
             {
              "frame": {
               "duration": 0,
               "redraw": true
              },
              "mode": "immediate"
             }
            ],
            "label": "2025-02-27",
            "method": "animate"
           },
           {
            "args": [
             [
              "2025-02-28"
             ],
             {
              "frame": {
               "duration": 0,
               "redraw": true
              },
              "mode": "immediate"
             }
            ],
            "label": "2025-02-28",
            "method": "animate"
           },
           {
            "args": [
             [
              "2025-03-03"
             ],
             {
              "frame": {
               "duration": 0,
               "redraw": true
              },
              "mode": "immediate"
             }
            ],
            "label": "2025-03-03",
            "method": "animate"
           },
           {
            "args": [
             [
              "2025-03-04"
             ],
             {
              "frame": {
               "duration": 0,
               "redraw": true
              },
              "mode": "immediate"
             }
            ],
            "label": "2025-03-04",
            "method": "animate"
           },
           {
            "args": [
             [
              "2025-03-05"
             ],
             {
              "frame": {
               "duration": 0,
               "redraw": true
              },
              "mode": "immediate"
             }
            ],
            "label": "2025-03-05",
            "method": "animate"
           },
           {
            "args": [
             [
              "2025-03-06"
             ],
             {
              "frame": {
               "duration": 0,
               "redraw": true
              },
              "mode": "immediate"
             }
            ],
            "label": "2025-03-06",
            "method": "animate"
           },
           {
            "args": [
             [
              "2025-03-07"
             ],
             {
              "frame": {
               "duration": 0,
               "redraw": true
              },
              "mode": "immediate"
             }
            ],
            "label": "2025-03-07",
            "method": "animate"
           },
           {
            "args": [
             [
              "2025-03-10"
             ],
             {
              "frame": {
               "duration": 0,
               "redraw": true
              },
              "mode": "immediate"
             }
            ],
            "label": "2025-03-10",
            "method": "animate"
           },
           {
            "args": [
             [
              "2025-03-11"
             ],
             {
              "frame": {
               "duration": 0,
               "redraw": true
              },
              "mode": "immediate"
             }
            ],
            "label": "2025-03-11",
            "method": "animate"
           },
           {
            "args": [
             [
              "2025-03-12"
             ],
             {
              "frame": {
               "duration": 0,
               "redraw": true
              },
              "mode": "immediate"
             }
            ],
            "label": "2025-03-12",
            "method": "animate"
           },
           {
            "args": [
             [
              "2025-03-13"
             ],
             {
              "frame": {
               "duration": 0,
               "redraw": true
              },
              "mode": "immediate"
             }
            ],
            "label": "2025-03-13",
            "method": "animate"
           },
           {
            "args": [
             [
              "2025-03-14"
             ],
             {
              "frame": {
               "duration": 0,
               "redraw": true
              },
              "mode": "immediate"
             }
            ],
            "label": "2025-03-14",
            "method": "animate"
           },
           {
            "args": [
             [
              "2025-03-17"
             ],
             {
              "frame": {
               "duration": 0,
               "redraw": true
              },
              "mode": "immediate"
             }
            ],
            "label": "2025-03-17",
            "method": "animate"
           },
           {
            "args": [
             [
              "2025-03-18"
             ],
             {
              "frame": {
               "duration": 0,
               "redraw": true
              },
              "mode": "immediate"
             }
            ],
            "label": "2025-03-18",
            "method": "animate"
           },
           {
            "args": [
             [
              "2025-03-19"
             ],
             {
              "frame": {
               "duration": 0,
               "redraw": true
              },
              "mode": "immediate"
             }
            ],
            "label": "2025-03-19",
            "method": "animate"
           },
           {
            "args": [
             [
              "2025-03-20"
             ],
             {
              "frame": {
               "duration": 0,
               "redraw": true
              },
              "mode": "immediate"
             }
            ],
            "label": "2025-03-20",
            "method": "animate"
           },
           {
            "args": [
             [
              "2025-03-21"
             ],
             {
              "frame": {
               "duration": 0,
               "redraw": true
              },
              "mode": "immediate"
             }
            ],
            "label": "2025-03-21",
            "method": "animate"
           },
           {
            "args": [
             [
              "2025-03-24"
             ],
             {
              "frame": {
               "duration": 0,
               "redraw": true
              },
              "mode": "immediate"
             }
            ],
            "label": "2025-03-24",
            "method": "animate"
           },
           {
            "args": [
             [
              "2025-03-25"
             ],
             {
              "frame": {
               "duration": 0,
               "redraw": true
              },
              "mode": "immediate"
             }
            ],
            "label": "2025-03-25",
            "method": "animate"
           },
           {
            "args": [
             [
              "2025-03-26"
             ],
             {
              "frame": {
               "duration": 0,
               "redraw": true
              },
              "mode": "immediate"
             }
            ],
            "label": "2025-03-26",
            "method": "animate"
           },
           {
            "args": [
             [
              "2025-03-27"
             ],
             {
              "frame": {
               "duration": 0,
               "redraw": true
              },
              "mode": "immediate"
             }
            ],
            "label": "2025-03-27",
            "method": "animate"
           },
           {
            "args": [
             [
              "2025-03-28"
             ],
             {
              "frame": {
               "duration": 0,
               "redraw": true
              },
              "mode": "immediate"
             }
            ],
            "label": "2025-03-28",
            "method": "animate"
           },
           {
            "args": [
             [
              "2025-03-31"
             ],
             {
              "frame": {
               "duration": 0,
               "redraw": true
              },
              "mode": "immediate"
             }
            ],
            "label": "2025-03-31",
            "method": "animate"
           },
           {
            "args": [
             [
              "2025-04-01"
             ],
             {
              "frame": {
               "duration": 0,
               "redraw": true
              },
              "mode": "immediate"
             }
            ],
            "label": "2025-04-01",
            "method": "animate"
           },
           {
            "args": [
             [
              "2025-04-02"
             ],
             {
              "frame": {
               "duration": 0,
               "redraw": true
              },
              "mode": "immediate"
             }
            ],
            "label": "2025-04-02",
            "method": "animate"
           },
           {
            "args": [
             [
              "2025-04-03"
             ],
             {
              "frame": {
               "duration": 0,
               "redraw": true
              },
              "mode": "immediate"
             }
            ],
            "label": "2025-04-03",
            "method": "animate"
           },
           {
            "args": [
             [
              "2025-04-04"
             ],
             {
              "frame": {
               "duration": 0,
               "redraw": true
              },
              "mode": "immediate"
             }
            ],
            "label": "2025-04-04",
            "method": "animate"
           },
           {
            "args": [
             [
              "2025-04-07"
             ],
             {
              "frame": {
               "duration": 0,
               "redraw": true
              },
              "mode": "immediate"
             }
            ],
            "label": "2025-04-07",
            "method": "animate"
           },
           {
            "args": [
             [
              "2025-04-08"
             ],
             {
              "frame": {
               "duration": 0,
               "redraw": true
              },
              "mode": "immediate"
             }
            ],
            "label": "2025-04-08",
            "method": "animate"
           },
           {
            "args": [
             [
              "2025-04-09"
             ],
             {
              "frame": {
               "duration": 0,
               "redraw": true
              },
              "mode": "immediate"
             }
            ],
            "label": "2025-04-09",
            "method": "animate"
           },
           {
            "args": [
             [
              "2025-04-10"
             ],
             {
              "frame": {
               "duration": 0,
               "redraw": true
              },
              "mode": "immediate"
             }
            ],
            "label": "2025-04-10",
            "method": "animate"
           },
           {
            "args": [
             [
              "2025-04-11"
             ],
             {
              "frame": {
               "duration": 0,
               "redraw": true
              },
              "mode": "immediate"
             }
            ],
            "label": "2025-04-11",
            "method": "animate"
           },
           {
            "args": [
             [
              "2025-04-14"
             ],
             {
              "frame": {
               "duration": 0,
               "redraw": true
              },
              "mode": "immediate"
             }
            ],
            "label": "2025-04-14",
            "method": "animate"
           },
           {
            "args": [
             [
              "2025-04-15"
             ],
             {
              "frame": {
               "duration": 0,
               "redraw": true
              },
              "mode": "immediate"
             }
            ],
            "label": "2025-04-15",
            "method": "animate"
           },
           {
            "args": [
             [
              "2025-04-16"
             ],
             {
              "frame": {
               "duration": 0,
               "redraw": true
              },
              "mode": "immediate"
             }
            ],
            "label": "2025-04-16",
            "method": "animate"
           },
           {
            "args": [
             [
              "2025-04-17"
             ],
             {
              "frame": {
               "duration": 0,
               "redraw": true
              },
              "mode": "immediate"
             }
            ],
            "label": "2025-04-17",
            "method": "animate"
           },
           {
            "args": [
             [
              "2025-04-21"
             ],
             {
              "frame": {
               "duration": 0,
               "redraw": true
              },
              "mode": "immediate"
             }
            ],
            "label": "2025-04-21",
            "method": "animate"
           },
           {
            "args": [
             [
              "2025-04-22"
             ],
             {
              "frame": {
               "duration": 0,
               "redraw": true
              },
              "mode": "immediate"
             }
            ],
            "label": "2025-04-22",
            "method": "animate"
           },
           {
            "args": [
             [
              "2025-04-23"
             ],
             {
              "frame": {
               "duration": 0,
               "redraw": true
              },
              "mode": "immediate"
             }
            ],
            "label": "2025-04-23",
            "method": "animate"
           },
           {
            "args": [
             [
              "2025-04-24"
             ],
             {
              "frame": {
               "duration": 0,
               "redraw": true
              },
              "mode": "immediate"
             }
            ],
            "label": "2025-04-24",
            "method": "animate"
           },
           {
            "args": [
             [
              "2025-04-25"
             ],
             {
              "frame": {
               "duration": 0,
               "redraw": true
              },
              "mode": "immediate"
             }
            ],
            "label": "2025-04-25",
            "method": "animate"
           },
           {
            "args": [
             [
              "2025-04-28"
             ],
             {
              "frame": {
               "duration": 0,
               "redraw": true
              },
              "mode": "immediate"
             }
            ],
            "label": "2025-04-28",
            "method": "animate"
           },
           {
            "args": [
             [
              "2025-04-29"
             ],
             {
              "frame": {
               "duration": 0,
               "redraw": true
              },
              "mode": "immediate"
             }
            ],
            "label": "2025-04-29",
            "method": "animate"
           },
           {
            "args": [
             [
              "2025-04-30"
             ],
             {
              "frame": {
               "duration": 0,
               "redraw": true
              },
              "mode": "immediate"
             }
            ],
            "label": "2025-04-30",
            "method": "animate"
           },
           {
            "args": [
             [
              "2025-05-01"
             ],
             {
              "frame": {
               "duration": 0,
               "redraw": true
              },
              "mode": "immediate"
             }
            ],
            "label": "2025-05-01",
            "method": "animate"
           },
           {
            "args": [
             [
              "2025-05-02"
             ],
             {
              "frame": {
               "duration": 0,
               "redraw": true
              },
              "mode": "immediate"
             }
            ],
            "label": "2025-05-02",
            "method": "animate"
           },
           {
            "args": [
             [
              "2025-05-05"
             ],
             {
              "frame": {
               "duration": 0,
               "redraw": true
              },
              "mode": "immediate"
             }
            ],
            "label": "2025-05-05",
            "method": "animate"
           },
           {
            "args": [
             [
              "2025-05-06"
             ],
             {
              "frame": {
               "duration": 0,
               "redraw": true
              },
              "mode": "immediate"
             }
            ],
            "label": "2025-05-06",
            "method": "animate"
           },
           {
            "args": [
             [
              "2025-05-07"
             ],
             {
              "frame": {
               "duration": 0,
               "redraw": true
              },
              "mode": "immediate"
             }
            ],
            "label": "2025-05-07",
            "method": "animate"
           },
           {
            "args": [
             [
              "2025-05-08"
             ],
             {
              "frame": {
               "duration": 0,
               "redraw": true
              },
              "mode": "immediate"
             }
            ],
            "label": "2025-05-08",
            "method": "animate"
           },
           {
            "args": [
             [
              "2025-05-09"
             ],
             {
              "frame": {
               "duration": 0,
               "redraw": true
              },
              "mode": "immediate"
             }
            ],
            "label": "2025-05-09",
            "method": "animate"
           },
           {
            "args": [
             [
              "2025-05-12"
             ],
             {
              "frame": {
               "duration": 0,
               "redraw": true
              },
              "mode": "immediate"
             }
            ],
            "label": "2025-05-12",
            "method": "animate"
           },
           {
            "args": [
             [
              "2025-05-13"
             ],
             {
              "frame": {
               "duration": 0,
               "redraw": true
              },
              "mode": "immediate"
             }
            ],
            "label": "2025-05-13",
            "method": "animate"
           },
           {
            "args": [
             [
              "2025-05-14"
             ],
             {
              "frame": {
               "duration": 0,
               "redraw": true
              },
              "mode": "immediate"
             }
            ],
            "label": "2025-05-14",
            "method": "animate"
           },
           {
            "args": [
             [
              "2025-05-15"
             ],
             {
              "frame": {
               "duration": 0,
               "redraw": true
              },
              "mode": "immediate"
             }
            ],
            "label": "2025-05-15",
            "method": "animate"
           },
           {
            "args": [
             [
              "2025-05-16"
             ],
             {
              "frame": {
               "duration": 0,
               "redraw": true
              },
              "mode": "immediate"
             }
            ],
            "label": "2025-05-16",
            "method": "animate"
           },
           {
            "args": [
             [
              "2025-05-19"
             ],
             {
              "frame": {
               "duration": 0,
               "redraw": true
              },
              "mode": "immediate"
             }
            ],
            "label": "2025-05-19",
            "method": "animate"
           },
           {
            "args": [
             [
              "2025-05-20"
             ],
             {
              "frame": {
               "duration": 0,
               "redraw": true
              },
              "mode": "immediate"
             }
            ],
            "label": "2025-05-20",
            "method": "animate"
           },
           {
            "args": [
             [
              "2025-05-21"
             ],
             {
              "frame": {
               "duration": 0,
               "redraw": true
              },
              "mode": "immediate"
             }
            ],
            "label": "2025-05-21",
            "method": "animate"
           },
           {
            "args": [
             [
              "2025-05-22"
             ],
             {
              "frame": {
               "duration": 0,
               "redraw": true
              },
              "mode": "immediate"
             }
            ],
            "label": "2025-05-22",
            "method": "animate"
           },
           {
            "args": [
             [
              "2025-05-23"
             ],
             {
              "frame": {
               "duration": 0,
               "redraw": true
              },
              "mode": "immediate"
             }
            ],
            "label": "2025-05-23",
            "method": "animate"
           },
           {
            "args": [
             [
              "2025-05-27"
             ],
             {
              "frame": {
               "duration": 0,
               "redraw": true
              },
              "mode": "immediate"
             }
            ],
            "label": "2025-05-27",
            "method": "animate"
           },
           {
            "args": [
             [
              "2025-05-28"
             ],
             {
              "frame": {
               "duration": 0,
               "redraw": true
              },
              "mode": "immediate"
             }
            ],
            "label": "2025-05-28",
            "method": "animate"
           },
           {
            "args": [
             [
              "2025-05-29"
             ],
             {
              "frame": {
               "duration": 0,
               "redraw": true
              },
              "mode": "immediate"
             }
            ],
            "label": "2025-05-29",
            "method": "animate"
           },
           {
            "args": [
             [
              "2025-05-30"
             ],
             {
              "frame": {
               "duration": 0,
               "redraw": true
              },
              "mode": "immediate"
             }
            ],
            "label": "2025-05-30",
            "method": "animate"
           },
           {
            "args": [
             [
              "2025-06-02"
             ],
             {
              "frame": {
               "duration": 0,
               "redraw": true
              },
              "mode": "immediate"
             }
            ],
            "label": "2025-06-02",
            "method": "animate"
           },
           {
            "args": [
             [
              "2025-06-03"
             ],
             {
              "frame": {
               "duration": 0,
               "redraw": true
              },
              "mode": "immediate"
             }
            ],
            "label": "2025-06-03",
            "method": "animate"
           },
           {
            "args": [
             [
              "2025-06-04"
             ],
             {
              "frame": {
               "duration": 0,
               "redraw": true
              },
              "mode": "immediate"
             }
            ],
            "label": "2025-06-04",
            "method": "animate"
           },
           {
            "args": [
             [
              "2025-06-05"
             ],
             {
              "frame": {
               "duration": 0,
               "redraw": true
              },
              "mode": "immediate"
             }
            ],
            "label": "2025-06-05",
            "method": "animate"
           },
           {
            "args": [
             [
              "2025-06-06"
             ],
             {
              "frame": {
               "duration": 0,
               "redraw": true
              },
              "mode": "immediate"
             }
            ],
            "label": "2025-06-06",
            "method": "animate"
           },
           {
            "args": [
             [
              "2025-06-09"
             ],
             {
              "frame": {
               "duration": 0,
               "redraw": true
              },
              "mode": "immediate"
             }
            ],
            "label": "2025-06-09",
            "method": "animate"
           },
           {
            "args": [
             [
              "2025-06-10"
             ],
             {
              "frame": {
               "duration": 0,
               "redraw": true
              },
              "mode": "immediate"
             }
            ],
            "label": "2025-06-10",
            "method": "animate"
           },
           {
            "args": [
             [
              "2025-06-11"
             ],
             {
              "frame": {
               "duration": 0,
               "redraw": true
              },
              "mode": "immediate"
             }
            ],
            "label": "2025-06-11",
            "method": "animate"
           },
           {
            "args": [
             [
              "2025-06-12"
             ],
             {
              "frame": {
               "duration": 0,
               "redraw": true
              },
              "mode": "immediate"
             }
            ],
            "label": "2025-06-12",
            "method": "animate"
           },
           {
            "args": [
             [
              "2025-06-13"
             ],
             {
              "frame": {
               "duration": 0,
               "redraw": true
              },
              "mode": "immediate"
             }
            ],
            "label": "2025-06-13",
            "method": "animate"
           },
           {
            "args": [
             [
              "2025-06-16"
             ],
             {
              "frame": {
               "duration": 0,
               "redraw": true
              },
              "mode": "immediate"
             }
            ],
            "label": "2025-06-16",
            "method": "animate"
           },
           {
            "args": [
             [
              "2025-06-17"
             ],
             {
              "frame": {
               "duration": 0,
               "redraw": true
              },
              "mode": "immediate"
             }
            ],
            "label": "2025-06-17",
            "method": "animate"
           },
           {
            "args": [
             [
              "2025-06-18"
             ],
             {
              "frame": {
               "duration": 0,
               "redraw": true
              },
              "mode": "immediate"
             }
            ],
            "label": "2025-06-18",
            "method": "animate"
           },
           {
            "args": [
             [
              "2025-06-20"
             ],
             {
              "frame": {
               "duration": 0,
               "redraw": true
              },
              "mode": "immediate"
             }
            ],
            "label": "2025-06-20",
            "method": "animate"
           },
           {
            "args": [
             [
              "2025-06-23"
             ],
             {
              "frame": {
               "duration": 0,
               "redraw": true
              },
              "mode": "immediate"
             }
            ],
            "label": "2025-06-23",
            "method": "animate"
           },
           {
            "args": [
             [
              "2025-06-24"
             ],
             {
              "frame": {
               "duration": 0,
               "redraw": true
              },
              "mode": "immediate"
             }
            ],
            "label": "2025-06-24",
            "method": "animate"
           },
           {
            "args": [
             [
              "2025-06-25"
             ],
             {
              "frame": {
               "duration": 0,
               "redraw": true
              },
              "mode": "immediate"
             }
            ],
            "label": "2025-06-25",
            "method": "animate"
           },
           {
            "args": [
             [
              "2025-06-26"
             ],
             {
              "frame": {
               "duration": 0,
               "redraw": true
              },
              "mode": "immediate"
             }
            ],
            "label": "2025-06-26",
            "method": "animate"
           },
           {
            "args": [
             [
              "2025-06-27"
             ],
             {
              "frame": {
               "duration": 0,
               "redraw": true
              },
              "mode": "immediate"
             }
            ],
            "label": "2025-06-27",
            "method": "animate"
           },
           {
            "args": [
             [
              "2025-06-30"
             ],
             {
              "frame": {
               "duration": 0,
               "redraw": true
              },
              "mode": "immediate"
             }
            ],
            "label": "2025-06-30",
            "method": "animate"
           },
           {
            "args": [
             [
              "2025-07-01"
             ],
             {
              "frame": {
               "duration": 0,
               "redraw": true
              },
              "mode": "immediate"
             }
            ],
            "label": "2025-07-01",
            "method": "animate"
           },
           {
            "args": [
             [
              "2025-07-02"
             ],
             {
              "frame": {
               "duration": 0,
               "redraw": true
              },
              "mode": "immediate"
             }
            ],
            "label": "2025-07-02",
            "method": "animate"
           },
           {
            "args": [
             [
              "2025-07-03"
             ],
             {
              "frame": {
               "duration": 0,
               "redraw": true
              },
              "mode": "immediate"
             }
            ],
            "label": "2025-07-03",
            "method": "animate"
           },
           {
            "args": [
             [
              "2025-07-07"
             ],
             {
              "frame": {
               "duration": 0,
               "redraw": true
              },
              "mode": "immediate"
             }
            ],
            "label": "2025-07-07",
            "method": "animate"
           },
           {
            "args": [
             [
              "2025-07-08"
             ],
             {
              "frame": {
               "duration": 0,
               "redraw": true
              },
              "mode": "immediate"
             }
            ],
            "label": "2025-07-08",
            "method": "animate"
           },
           {
            "args": [
             [
              "2025-07-09"
             ],
             {
              "frame": {
               "duration": 0,
               "redraw": true
              },
              "mode": "immediate"
             }
            ],
            "label": "2025-07-09",
            "method": "animate"
           },
           {
            "args": [
             [
              "2025-07-10"
             ],
             {
              "frame": {
               "duration": 0,
               "redraw": true
              },
              "mode": "immediate"
             }
            ],
            "label": "2025-07-10",
            "method": "animate"
           },
           {
            "args": [
             [
              "2025-07-11"
             ],
             {
              "frame": {
               "duration": 0,
               "redraw": true
              },
              "mode": "immediate"
             }
            ],
            "label": "2025-07-11",
            "method": "animate"
           },
           {
            "args": [
             [
              "2025-07-14"
             ],
             {
              "frame": {
               "duration": 0,
               "redraw": true
              },
              "mode": "immediate"
             }
            ],
            "label": "2025-07-14",
            "method": "animate"
           },
           {
            "args": [
             [
              "2025-07-15"
             ],
             {
              "frame": {
               "duration": 0,
               "redraw": true
              },
              "mode": "immediate"
             }
            ],
            "label": "2025-07-15",
            "method": "animate"
           },
           {
            "args": [
             [
              "2025-07-16"
             ],
             {
              "frame": {
               "duration": 0,
               "redraw": true
              },
              "mode": "immediate"
             }
            ],
            "label": "2025-07-16",
            "method": "animate"
           },
           {
            "args": [
             [
              "2025-07-17"
             ],
             {
              "frame": {
               "duration": 0,
               "redraw": true
              },
              "mode": "immediate"
             }
            ],
            "label": "2025-07-17",
            "method": "animate"
           },
           {
            "args": [
             [
              "2025-07-18"
             ],
             {
              "frame": {
               "duration": 0,
               "redraw": true
              },
              "mode": "immediate"
             }
            ],
            "label": "2025-07-18",
            "method": "animate"
           },
           {
            "args": [
             [
              "2025-07-21"
             ],
             {
              "frame": {
               "duration": 0,
               "redraw": true
              },
              "mode": "immediate"
             }
            ],
            "label": "2025-07-21",
            "method": "animate"
           },
           {
            "args": [
             [
              "2025-07-22"
             ],
             {
              "frame": {
               "duration": 0,
               "redraw": true
              },
              "mode": "immediate"
             }
            ],
            "label": "2025-07-22",
            "method": "animate"
           },
           {
            "args": [
             [
              "2025-07-23"
             ],
             {
              "frame": {
               "duration": 0,
               "redraw": true
              },
              "mode": "immediate"
             }
            ],
            "label": "2025-07-23",
            "method": "animate"
           },
           {
            "args": [
             [
              "2025-07-24"
             ],
             {
              "frame": {
               "duration": 0,
               "redraw": true
              },
              "mode": "immediate"
             }
            ],
            "label": "2025-07-24",
            "method": "animate"
           },
           {
            "args": [
             [
              "2025-07-25"
             ],
             {
              "frame": {
               "duration": 0,
               "redraw": true
              },
              "mode": "immediate"
             }
            ],
            "label": "2025-07-25",
            "method": "animate"
           },
           {
            "args": [
             [
              "2025-07-28"
             ],
             {
              "frame": {
               "duration": 0,
               "redraw": true
              },
              "mode": "immediate"
             }
            ],
            "label": "2025-07-28",
            "method": "animate"
           },
           {
            "args": [
             [
              "2025-07-29"
             ],
             {
              "frame": {
               "duration": 0,
               "redraw": true
              },
              "mode": "immediate"
             }
            ],
            "label": "2025-07-29",
            "method": "animate"
           },
           {
            "args": [
             [
              "2025-07-30"
             ],
             {
              "frame": {
               "duration": 0,
               "redraw": true
              },
              "mode": "immediate"
             }
            ],
            "label": "2025-07-30",
            "method": "animate"
           },
           {
            "args": [
             [
              "2025-07-31"
             ],
             {
              "frame": {
               "duration": 0,
               "redraw": true
              },
              "mode": "immediate"
             }
            ],
            "label": "2025-07-31",
            "method": "animate"
           },
           {
            "args": [
             [
              "2025-08-01"
             ],
             {
              "frame": {
               "duration": 0,
               "redraw": true
              },
              "mode": "immediate"
             }
            ],
            "label": "2025-08-01",
            "method": "animate"
           },
           {
            "args": [
             [
              "2025-08-04"
             ],
             {
              "frame": {
               "duration": 0,
               "redraw": true
              },
              "mode": "immediate"
             }
            ],
            "label": "2025-08-04",
            "method": "animate"
           },
           {
            "args": [
             [
              "2025-08-05"
             ],
             {
              "frame": {
               "duration": 0,
               "redraw": true
              },
              "mode": "immediate"
             }
            ],
            "label": "2025-08-05",
            "method": "animate"
           },
           {
            "args": [
             [
              "2025-08-06"
             ],
             {
              "frame": {
               "duration": 0,
               "redraw": true
              },
              "mode": "immediate"
             }
            ],
            "label": "2025-08-06",
            "method": "animate"
           },
           {
            "args": [
             [
              "2025-08-07"
             ],
             {
              "frame": {
               "duration": 0,
               "redraw": true
              },
              "mode": "immediate"
             }
            ],
            "label": "2025-08-07",
            "method": "animate"
           },
           {
            "args": [
             [
              "2025-08-08"
             ],
             {
              "frame": {
               "duration": 0,
               "redraw": true
              },
              "mode": "immediate"
             }
            ],
            "label": "2025-08-08",
            "method": "animate"
           },
           {
            "args": [
             [
              "2025-08-11"
             ],
             {
              "frame": {
               "duration": 0,
               "redraw": true
              },
              "mode": "immediate"
             }
            ],
            "label": "2025-08-11",
            "method": "animate"
           },
           {
            "args": [
             [
              "2025-08-12"
             ],
             {
              "frame": {
               "duration": 0,
               "redraw": true
              },
              "mode": "immediate"
             }
            ],
            "label": "2025-08-12",
            "method": "animate"
           },
           {
            "args": [
             [
              "2025-08-13"
             ],
             {
              "frame": {
               "duration": 0,
               "redraw": true
              },
              "mode": "immediate"
             }
            ],
            "label": "2025-08-13",
            "method": "animate"
           },
           {
            "args": [
             [
              "2025-08-14"
             ],
             {
              "frame": {
               "duration": 0,
               "redraw": true
              },
              "mode": "immediate"
             }
            ],
            "label": "2025-08-14",
            "method": "animate"
           },
           {
            "args": [
             [
              "2025-08-15"
             ],
             {
              "frame": {
               "duration": 0,
               "redraw": true
              },
              "mode": "immediate"
             }
            ],
            "label": "2025-08-15",
            "method": "animate"
           },
           {
            "args": [
             [
              "2025-08-18"
             ],
             {
              "frame": {
               "duration": 0,
               "redraw": true
              },
              "mode": "immediate"
             }
            ],
            "label": "2025-08-18",
            "method": "animate"
           },
           {
            "args": [
             [
              "2025-08-19"
             ],
             {
              "frame": {
               "duration": 0,
               "redraw": true
              },
              "mode": "immediate"
             }
            ],
            "label": "2025-08-19",
            "method": "animate"
           },
           {
            "args": [
             [
              "2025-08-20"
             ],
             {
              "frame": {
               "duration": 0,
               "redraw": true
              },
              "mode": "immediate"
             }
            ],
            "label": "2025-08-20",
            "method": "animate"
           },
           {
            "args": [
             [
              "2025-08-21"
             ],
             {
              "frame": {
               "duration": 0,
               "redraw": true
              },
              "mode": "immediate"
             }
            ],
            "label": "2025-08-21",
            "method": "animate"
           },
           {
            "args": [
             [
              "2025-08-22"
             ],
             {
              "frame": {
               "duration": 0,
               "redraw": true
              },
              "mode": "immediate"
             }
            ],
            "label": "2025-08-22",
            "method": "animate"
           },
           {
            "args": [
             [
              "2025-08-25"
             ],
             {
              "frame": {
               "duration": 0,
               "redraw": true
              },
              "mode": "immediate"
             }
            ],
            "label": "2025-08-25",
            "method": "animate"
           },
           {
            "args": [
             [
              "2025-08-26"
             ],
             {
              "frame": {
               "duration": 0,
               "redraw": true
              },
              "mode": "immediate"
             }
            ],
            "label": "2025-08-26",
            "method": "animate"
           },
           {
            "args": [
             [
              "2025-08-27"
             ],
             {
              "frame": {
               "duration": 0,
               "redraw": true
              },
              "mode": "immediate"
             }
            ],
            "label": "2025-08-27",
            "method": "animate"
           },
           {
            "args": [
             [
              "2025-08-28"
             ],
             {
              "frame": {
               "duration": 0,
               "redraw": true
              },
              "mode": "immediate"
             }
            ],
            "label": "2025-08-28",
            "method": "animate"
           },
           {
            "args": [
             [
              "2025-08-29"
             ],
             {
              "frame": {
               "duration": 0,
               "redraw": true
              },
              "mode": "immediate"
             }
            ],
            "label": "2025-08-29",
            "method": "animate"
           },
           {
            "args": [
             [
              "2025-09-02"
             ],
             {
              "frame": {
               "duration": 0,
               "redraw": true
              },
              "mode": "immediate"
             }
            ],
            "label": "2025-09-02",
            "method": "animate"
           },
           {
            "args": [
             [
              "2025-09-03"
             ],
             {
              "frame": {
               "duration": 0,
               "redraw": true
              },
              "mode": "immediate"
             }
            ],
            "label": "2025-09-03",
            "method": "animate"
           },
           {
            "args": [
             [
              "2025-09-04"
             ],
             {
              "frame": {
               "duration": 0,
               "redraw": true
              },
              "mode": "immediate"
             }
            ],
            "label": "2025-09-04",
            "method": "animate"
           },
           {
            "args": [
             [
              "2025-09-05"
             ],
             {
              "frame": {
               "duration": 0,
               "redraw": true
              },
              "mode": "immediate"
             }
            ],
            "label": "2025-09-05",
            "method": "animate"
           },
           {
            "args": [
             [
              "2025-09-08"
             ],
             {
              "frame": {
               "duration": 0,
               "redraw": true
              },
              "mode": "immediate"
             }
            ],
            "label": "2025-09-08",
            "method": "animate"
           },
           {
            "args": [
             [
              "2025-09-09"
             ],
             {
              "frame": {
               "duration": 0,
               "redraw": true
              },
              "mode": "immediate"
             }
            ],
            "label": "2025-09-09",
            "method": "animate"
           },
           {
            "args": [
             [
              "2025-09-10"
             ],
             {
              "frame": {
               "duration": 0,
               "redraw": true
              },
              "mode": "immediate"
             }
            ],
            "label": "2025-09-10",
            "method": "animate"
           },
           {
            "args": [
             [
              "2025-09-11"
             ],
             {
              "frame": {
               "duration": 0,
               "redraw": true
              },
              "mode": "immediate"
             }
            ],
            "label": "2025-09-11",
            "method": "animate"
           },
           {
            "args": [
             [
              "2025-09-12"
             ],
             {
              "frame": {
               "duration": 0,
               "redraw": true
              },
              "mode": "immediate"
             }
            ],
            "label": "2025-09-12",
            "method": "animate"
           },
           {
            "args": [
             [
              "2025-09-15"
             ],
             {
              "frame": {
               "duration": 0,
               "redraw": true
              },
              "mode": "immediate"
             }
            ],
            "label": "2025-09-15",
            "method": "animate"
           },
           {
            "args": [
             [
              "2025-09-16"
             ],
             {
              "frame": {
               "duration": 0,
               "redraw": true
              },
              "mode": "immediate"
             }
            ],
            "label": "2025-09-16",
            "method": "animate"
           },
           {
            "args": [
             [
              "2025-09-17"
             ],
             {
              "frame": {
               "duration": 0,
               "redraw": true
              },
              "mode": "immediate"
             }
            ],
            "label": "2025-09-17",
            "method": "animate"
           },
           {
            "args": [
             [
              "2025-09-18"
             ],
             {
              "frame": {
               "duration": 0,
               "redraw": true
              },
              "mode": "immediate"
             }
            ],
            "label": "2025-09-18",
            "method": "animate"
           },
           {
            "args": [
             [
              "2025-09-19"
             ],
             {
              "frame": {
               "duration": 0,
               "redraw": true
              },
              "mode": "immediate"
             }
            ],
            "label": "2025-09-19",
            "method": "animate"
           },
           {
            "args": [
             [
              "2025-09-22"
             ],
             {
              "frame": {
               "duration": 0,
               "redraw": true
              },
              "mode": "immediate"
             }
            ],
            "label": "2025-09-22",
            "method": "animate"
           },
           {
            "args": [
             [
              "2025-09-23"
             ],
             {
              "frame": {
               "duration": 0,
               "redraw": true
              },
              "mode": "immediate"
             }
            ],
            "label": "2025-09-23",
            "method": "animate"
           },
           {
            "args": [
             [
              "2025-09-24"
             ],
             {
              "frame": {
               "duration": 0,
               "redraw": true
              },
              "mode": "immediate"
             }
            ],
            "label": "2025-09-24",
            "method": "animate"
           },
           {
            "args": [
             [
              "2025-09-25"
             ],
             {
              "frame": {
               "duration": 0,
               "redraw": true
              },
              "mode": "immediate"
             }
            ],
            "label": "2025-09-25",
            "method": "animate"
           }
          ]
         }
        ],
        "template": {
         "data": {
          "bar": [
           {
            "error_x": {
             "color": "#2a3f5f"
            },
            "error_y": {
             "color": "#2a3f5f"
            },
            "marker": {
             "line": {
              "color": "#E5ECF6",
              "width": 0.5
             },
             "pattern": {
              "fillmode": "overlay",
              "size": 10,
              "solidity": 0.2
             }
            },
            "type": "bar"
           }
          ],
          "barpolar": [
           {
            "marker": {
             "line": {
              "color": "#E5ECF6",
              "width": 0.5
             },
             "pattern": {
              "fillmode": "overlay",
              "size": 10,
              "solidity": 0.2
             }
            },
            "type": "barpolar"
           }
          ],
          "carpet": [
           {
            "aaxis": {
             "endlinecolor": "#2a3f5f",
             "gridcolor": "white",
             "linecolor": "white",
             "minorgridcolor": "white",
             "startlinecolor": "#2a3f5f"
            },
            "baxis": {
             "endlinecolor": "#2a3f5f",
             "gridcolor": "white",
             "linecolor": "white",
             "minorgridcolor": "white",
             "startlinecolor": "#2a3f5f"
            },
            "type": "carpet"
           }
          ],
          "choropleth": [
           {
            "colorbar": {
             "outlinewidth": 0,
             "ticks": ""
            },
            "type": "choropleth"
           }
          ],
          "contour": [
           {
            "colorbar": {
             "outlinewidth": 0,
             "ticks": ""
            },
            "colorscale": [
             [
              0,
              "#0d0887"
             ],
             [
              0.1111111111111111,
              "#46039f"
             ],
             [
              0.2222222222222222,
              "#7201a8"
             ],
             [
              0.3333333333333333,
              "#9c179e"
             ],
             [
              0.4444444444444444,
              "#bd3786"
             ],
             [
              0.5555555555555556,
              "#d8576b"
             ],
             [
              0.6666666666666666,
              "#ed7953"
             ],
             [
              0.7777777777777778,
              "#fb9f3a"
             ],
             [
              0.8888888888888888,
              "#fdca26"
             ],
             [
              1,
              "#f0f921"
             ]
            ],
            "type": "contour"
           }
          ],
          "contourcarpet": [
           {
            "colorbar": {
             "outlinewidth": 0,
             "ticks": ""
            },
            "type": "contourcarpet"
           }
          ],
          "heatmap": [
           {
            "colorbar": {
             "outlinewidth": 0,
             "ticks": ""
            },
            "colorscale": [
             [
              0,
              "#0d0887"
             ],
             [
              0.1111111111111111,
              "#46039f"
             ],
             [
              0.2222222222222222,
              "#7201a8"
             ],
             [
              0.3333333333333333,
              "#9c179e"
             ],
             [
              0.4444444444444444,
              "#bd3786"
             ],
             [
              0.5555555555555556,
              "#d8576b"
             ],
             [
              0.6666666666666666,
              "#ed7953"
             ],
             [
              0.7777777777777778,
              "#fb9f3a"
             ],
             [
              0.8888888888888888,
              "#fdca26"
             ],
             [
              1,
              "#f0f921"
             ]
            ],
            "type": "heatmap"
           }
          ],
          "heatmapgl": [
           {
            "colorbar": {
             "outlinewidth": 0,
             "ticks": ""
            },
            "colorscale": [
             [
              0,
              "#0d0887"
             ],
             [
              0.1111111111111111,
              "#46039f"
             ],
             [
              0.2222222222222222,
              "#7201a8"
             ],
             [
              0.3333333333333333,
              "#9c179e"
             ],
             [
              0.4444444444444444,
              "#bd3786"
             ],
             [
              0.5555555555555556,
              "#d8576b"
             ],
             [
              0.6666666666666666,
              "#ed7953"
             ],
             [
              0.7777777777777778,
              "#fb9f3a"
             ],
             [
              0.8888888888888888,
              "#fdca26"
             ],
             [
              1,
              "#f0f921"
             ]
            ],
            "type": "heatmapgl"
           }
          ],
          "histogram": [
           {
            "marker": {
             "pattern": {
              "fillmode": "overlay",
              "size": 10,
              "solidity": 0.2
             }
            },
            "type": "histogram"
           }
          ],
          "histogram2d": [
           {
            "colorbar": {
             "outlinewidth": 0,
             "ticks": ""
            },
            "colorscale": [
             [
              0,
              "#0d0887"
             ],
             [
              0.1111111111111111,
              "#46039f"
             ],
             [
              0.2222222222222222,
              "#7201a8"
             ],
             [
              0.3333333333333333,
              "#9c179e"
             ],
             [
              0.4444444444444444,
              "#bd3786"
             ],
             [
              0.5555555555555556,
              "#d8576b"
             ],
             [
              0.6666666666666666,
              "#ed7953"
             ],
             [
              0.7777777777777778,
              "#fb9f3a"
             ],
             [
              0.8888888888888888,
              "#fdca26"
             ],
             [
              1,
              "#f0f921"
             ]
            ],
            "type": "histogram2d"
           }
          ],
          "histogram2dcontour": [
           {
            "colorbar": {
             "outlinewidth": 0,
             "ticks": ""
            },
            "colorscale": [
             [
              0,
              "#0d0887"
             ],
             [
              0.1111111111111111,
              "#46039f"
             ],
             [
              0.2222222222222222,
              "#7201a8"
             ],
             [
              0.3333333333333333,
              "#9c179e"
             ],
             [
              0.4444444444444444,
              "#bd3786"
             ],
             [
              0.5555555555555556,
              "#d8576b"
             ],
             [
              0.6666666666666666,
              "#ed7953"
             ],
             [
              0.7777777777777778,
              "#fb9f3a"
             ],
             [
              0.8888888888888888,
              "#fdca26"
             ],
             [
              1,
              "#f0f921"
             ]
            ],
            "type": "histogram2dcontour"
           }
          ],
          "mesh3d": [
           {
            "colorbar": {
             "outlinewidth": 0,
             "ticks": ""
            },
            "type": "mesh3d"
           }
          ],
          "parcoords": [
           {
            "line": {
             "colorbar": {
              "outlinewidth": 0,
              "ticks": ""
             }
            },
            "type": "parcoords"
           }
          ],
          "pie": [
           {
            "automargin": true,
            "type": "pie"
           }
          ],
          "scatter": [
           {
            "fillpattern": {
             "fillmode": "overlay",
             "size": 10,
             "solidity": 0.2
            },
            "type": "scatter"
           }
          ],
          "scatter3d": [
           {
            "line": {
             "colorbar": {
              "outlinewidth": 0,
              "ticks": ""
             }
            },
            "marker": {
             "colorbar": {
              "outlinewidth": 0,
              "ticks": ""
             }
            },
            "type": "scatter3d"
           }
          ],
          "scattercarpet": [
           {
            "marker": {
             "colorbar": {
              "outlinewidth": 0,
              "ticks": ""
             }
            },
            "type": "scattercarpet"
           }
          ],
          "scattergeo": [
           {
            "marker": {
             "colorbar": {
              "outlinewidth": 0,
              "ticks": ""
             }
            },
            "type": "scattergeo"
           }
          ],
          "scattergl": [
           {
            "marker": {
             "colorbar": {
              "outlinewidth": 0,
              "ticks": ""
             }
            },
            "type": "scattergl"
           }
          ],
          "scattermapbox": [
           {
            "marker": {
             "colorbar": {
              "outlinewidth": 0,
              "ticks": ""
             }
            },
            "type": "scattermapbox"
           }
          ],
          "scatterpolar": [
           {
            "marker": {
             "colorbar": {
              "outlinewidth": 0,
              "ticks": ""
             }
            },
            "type": "scatterpolar"
           }
          ],
          "scatterpolargl": [
           {
            "marker": {
             "colorbar": {
              "outlinewidth": 0,
              "ticks": ""
             }
            },
            "type": "scatterpolargl"
           }
          ],
          "scatterternary": [
           {
            "marker": {
             "colorbar": {
              "outlinewidth": 0,
              "ticks": ""
             }
            },
            "type": "scatterternary"
           }
          ],
          "surface": [
           {
            "colorbar": {
             "outlinewidth": 0,
             "ticks": ""
            },
            "colorscale": [
             [
              0,
              "#0d0887"
             ],
             [
              0.1111111111111111,
              "#46039f"
             ],
             [
              0.2222222222222222,
              "#7201a8"
             ],
             [
              0.3333333333333333,
              "#9c179e"
             ],
             [
              0.4444444444444444,
              "#bd3786"
             ],
             [
              0.5555555555555556,
              "#d8576b"
             ],
             [
              0.6666666666666666,
              "#ed7953"
             ],
             [
              0.7777777777777778,
              "#fb9f3a"
             ],
             [
              0.8888888888888888,
              "#fdca26"
             ],
             [
              1,
              "#f0f921"
             ]
            ],
            "type": "surface"
           }
          ],
          "table": [
           {
            "cells": {
             "fill": {
              "color": "#EBF0F8"
             },
             "line": {
              "color": "white"
             }
            },
            "header": {
             "fill": {
              "color": "#C8D4E3"
             },
             "line": {
              "color": "white"
             }
            },
            "type": "table"
           }
          ]
         },
         "layout": {
          "annotationdefaults": {
           "arrowcolor": "#2a3f5f",
           "arrowhead": 0,
           "arrowwidth": 1
          },
          "autotypenumbers": "strict",
          "coloraxis": {
           "colorbar": {
            "outlinewidth": 0,
            "ticks": ""
           }
          },
          "colorscale": {
           "diverging": [
            [
             0,
             "#8e0152"
            ],
            [
             0.1,
             "#c51b7d"
            ],
            [
             0.2,
             "#de77ae"
            ],
            [
             0.3,
             "#f1b6da"
            ],
            [
             0.4,
             "#fde0ef"
            ],
            [
             0.5,
             "#f7f7f7"
            ],
            [
             0.6,
             "#e6f5d0"
            ],
            [
             0.7,
             "#b8e186"
            ],
            [
             0.8,
             "#7fbc41"
            ],
            [
             0.9,
             "#4d9221"
            ],
            [
             1,
             "#276419"
            ]
           ],
           "sequential": [
            [
             0,
             "#0d0887"
            ],
            [
             0.1111111111111111,
             "#46039f"
            ],
            [
             0.2222222222222222,
             "#7201a8"
            ],
            [
             0.3333333333333333,
             "#9c179e"
            ],
            [
             0.4444444444444444,
             "#bd3786"
            ],
            [
             0.5555555555555556,
             "#d8576b"
            ],
            [
             0.6666666666666666,
             "#ed7953"
            ],
            [
             0.7777777777777778,
             "#fb9f3a"
            ],
            [
             0.8888888888888888,
             "#fdca26"
            ],
            [
             1,
             "#f0f921"
            ]
           ],
           "sequentialminus": [
            [
             0,
             "#0d0887"
            ],
            [
             0.1111111111111111,
             "#46039f"
            ],
            [
             0.2222222222222222,
             "#7201a8"
            ],
            [
             0.3333333333333333,
             "#9c179e"
            ],
            [
             0.4444444444444444,
             "#bd3786"
            ],
            [
             0.5555555555555556,
             "#d8576b"
            ],
            [
             0.6666666666666666,
             "#ed7953"
            ],
            [
             0.7777777777777778,
             "#fb9f3a"
            ],
            [
             0.8888888888888888,
             "#fdca26"
            ],
            [
             1,
             "#f0f921"
            ]
           ]
          },
          "colorway": [
           "#636efa",
           "#EF553B",
           "#00cc96",
           "#ab63fa",
           "#FFA15A",
           "#19d3f3",
           "#FF6692",
           "#B6E880",
           "#FF97FF",
           "#FECB52"
          ],
          "font": {
           "color": "#2a3f5f"
          },
          "geo": {
           "bgcolor": "white",
           "lakecolor": "white",
           "landcolor": "#E5ECF6",
           "showlakes": true,
           "showland": true,
           "subunitcolor": "white"
          },
          "hoverlabel": {
           "align": "left"
          },
          "hovermode": "closest",
          "mapbox": {
           "style": "light"
          },
          "paper_bgcolor": "white",
          "plot_bgcolor": "#E5ECF6",
          "polar": {
           "angularaxis": {
            "gridcolor": "white",
            "linecolor": "white",
            "ticks": ""
           },
           "bgcolor": "#E5ECF6",
           "radialaxis": {
            "gridcolor": "white",
            "linecolor": "white",
            "ticks": ""
           }
          },
          "scene": {
           "xaxis": {
            "backgroundcolor": "#E5ECF6",
            "gridcolor": "white",
            "gridwidth": 2,
            "linecolor": "white",
            "showbackground": true,
            "ticks": "",
            "zerolinecolor": "white"
           },
           "yaxis": {
            "backgroundcolor": "#E5ECF6",
            "gridcolor": "white",
            "gridwidth": 2,
            "linecolor": "white",
            "showbackground": true,
            "ticks": "",
            "zerolinecolor": "white"
           },
           "zaxis": {
            "backgroundcolor": "#E5ECF6",
            "gridcolor": "white",
            "gridwidth": 2,
            "linecolor": "white",
            "showbackground": true,
            "ticks": "",
            "zerolinecolor": "white"
           }
          },
          "shapedefaults": {
           "line": {
            "color": "#2a3f5f"
           }
          },
          "ternary": {
           "aaxis": {
            "gridcolor": "white",
            "linecolor": "white",
            "ticks": ""
           },
           "baxis": {
            "gridcolor": "white",
            "linecolor": "white",
            "ticks": ""
           },
           "bgcolor": "#E5ECF6",
           "caxis": {
            "gridcolor": "white",
            "linecolor": "white",
            "ticks": ""
           }
          },
          "title": {
           "x": 0.05
          },
          "xaxis": {
           "automargin": true,
           "gridcolor": "white",
           "linecolor": "white",
           "ticks": "",
           "title": {
            "standoff": 15
           },
           "zerolinecolor": "white",
           "zerolinewidth": 2
          },
          "yaxis": {
           "automargin": true,
           "gridcolor": "white",
           "linecolor": "white",
           "ticks": "",
           "title": {
            "standoff": 15
           },
           "zerolinecolor": "white",
           "zerolinewidth": 2
          }
         }
        },
        "title": {
         "text": "U.S. Treasury Yield Curve (daily)"
        },
        "updatemenus": [
         {
          "buttons": [
           {
            "args": [
             null,
             {
              "frame": {
               "duration": 100,
               "redraw": true
              },
              "fromcurrent": true,
              "transition": {
               "duration": 0
              }
             }
            ],
            "label": "Play",
            "method": "animate"
           },
           {
            "args": [
             [
              null
             ],
             {
              "frame": {
               "duration": 0,
               "redraw": false
              },
              "mode": "immediate"
             }
            ],
            "label": "Pause",
            "method": "animate"
           }
          ],
          "type": "buttons"
         }
        ],
        "width": 1000,
        "xaxis": {
         "range": [
          0,
          35
         ],
         "tickangle": -45,
         "title": {
          "text": "Maturity (in years)"
         }
        },
        "yaxis": {
         "range": [
          3.3,
          5.5
         ],
         "title": {
          "text": "Yield (%)"
         }
        }
       }
      }
     },
     "metadata": {},
     "output_type": "display_data"
    }
   ],
   "source": [
    "# curve_df: rows=dates (DatetimeIndex), cols=['3M','6M','1Y',...,'30Y'] in PERCENT\n",
    "MAT_YEARS = {\"3M\":0.25,\"6M\":0.5,\"1Y\":1,\"2Y\":2,\"3Y\":3,\"5Y\":5,\"7Y\":7,\"10Y\":10,\"20Y\":20,\"30Y\":30}\n",
    "\n",
    "# keep only columns we know, in order\n",
    "cols = [c for c in MAT_YEARS if c in curve_df.columns]\n",
    "x = np.array([MAT_YEARS[c] for c in cols])\n",
    "\n",
    "# Build frames (one per date with complete data)\n",
    "df_complete = curve_df[cols].dropna()\n",
    "dates = df_complete.index\n",
    "\n",
    "frames = []\n",
    "for d in dates:\n",
    "    y = df_complete.loc[d].values  # yields in %\n",
    "    frames.append(go.Frame(data=[go.Scatter(x=x, y=y, mode=\"lines+markers\")],\n",
    "                           name=str(d.date())))\n",
    "\n",
    "# Initial frame = first date\n",
    "fig = go.Figure(\n",
    "    data=[go.Scatter(x=x, y=df_complete.iloc[0].values, mode=\"lines+markers\")],\n",
    "    layout=go.Layout(\n",
    "        title=\"U.S. Treasury Yield Curve (daily)\",\n",
    "        xaxis=dict(\n",
    "            title=\"Maturity (in years)\",\n",
    "            range=[0, 35] # extend to cover all maturities\n",
    "        ),\n",
    "        yaxis=dict(\n",
    "            title=\"Yield (%)\",\n",
    "            range=[3.3,5.5]  # extend above max yield\n",
    "        ),\n",
    "        width=1000,\n",
    "        height=600,\n",
    "        updatemenus=[{\n",
    "            \"type\": \"buttons\",\n",
    "            \"buttons\": [\n",
    "                {\"label\": \"Play\", \"method\": \"animate\",\n",
    "                 \"args\": [None, {\"frame\": {\"duration\": 100, \"redraw\": True},\n",
    "                                 \"fromcurrent\": True, \"transition\": {\"duration\": 0}}]},\n",
    "                {\"label\": \"Pause\", \"method\": \"animate\",\n",
    "                 \"args\": [[None], {\"frame\": {\"duration\": 0, \"redraw\": False},\n",
    "                                   \"mode\": \"immediate\"}]},\n",
    "            ],\n",
    "        }],\n",
    "        sliders=[{\n",
    "            \"steps\": [{\"args\": [[str(d.date())],\n",
    "                        {\"frame\": {\"duration\": 0, \"redraw\": True},\n",
    "                         \"mode\": \"immediate\"}],\n",
    "                       \"label\": str(d.date()), \"method\": \"animate\"} for d in dates],\n",
    "            \"currentvalue\": {\"prefix\": \"Date: \"}\n",
    "        }]\n",
    "    ),\n",
    "    frames=frames\n",
    ")\n",
    "\n",
    "\n",
    "fig.show()\n"
   ]
  },
  {
   "cell_type": "code",
   "execution_count": 58,
   "id": "bdb25721",
   "metadata": {},
   "outputs": [],
   "source": [
    "import numpy as np\n",
    "import pandas as pd\n",
    "import plotly.graph_objects as go\n",
    "\n",
    "# ---- 1) Fetch GS zero/spot series ----\n",
    "zero_ids = {\n",
    "    1: \"GS1\",\n",
    "    2: \"GS2\",\n",
    "    3: \"GS3\",\n",
    "    5: \"GS5\",\n",
    "    7: \"GS7\",\n",
    "    10: \"GS10\",\n",
    "    20: \"GS20\",\n",
    "    30: \"GS30\",\n",
    "}\n",
    "\n",
    "dfs = {T: fetch_fred_series(sid, start=\"2020-01-01\", api_key=API_KEY) for T, sid in zero_ids.items()}\n",
    "zero_curve = pd.concat(dfs, axis=1)                     # columns are numeric maturities\n",
    "zero_curve.columns.name = \"Maturity\"\n",
    "\n",
    "# Rename columns to strings like \"1Y\",\"2Y\",... for plotting convenience\n",
    "rename_map = {T: f\"{int(T)}Y\" for T in zero_curve.columns}\n",
    "curve_df_zero = zero_curve.rename(columns=rename_map).sort_index()"
   ]
  },
  {
   "cell_type": "code",
   "execution_count": null,
   "id": "b4f80c8f",
   "metadata": {},
   "outputs": [
    {
     "data": {
      "application/vnd.plotly.v1+json": {
       "config": {
        "plotlyServerURL": "https://plot.ly"
       },
       "data": [
        {
         "mode": "lines+markers",
         "name": "Zero (GS)",
         "type": "scatter",
         "x": [
          1,
          2,
          3,
          5,
          7,
          10,
          20,
          30
         ],
         "y": [
          1.53,
          1.52,
          1.52,
          1.56,
          1.67,
          1.76,
          2.07,
          2.22
         ]
        }
       ],
       "frames": [
        {
         "data": [
          {
           "mode": "lines+markers",
           "type": "scatter",
           "x": [
            1,
            2,
            3,
            5,
            7,
            10,
            20,
            30
           ],
           "y": [
            1.53,
            1.52,
            1.52,
            1.56,
            1.67,
            1.76,
            2.07,
            2.22
           ]
          }
         ],
         "name": "2020-01-01"
        },
        {
         "data": [
          {
           "mode": "lines+markers",
           "type": "scatter",
           "x": [
            1,
            2,
            3,
            5,
            7,
            10,
            20,
            30
           ],
           "y": [
            1.41,
            1.33,
            1.31,
            1.32,
            1.42,
            1.5,
            1.81,
            1.97
           ]
          }
         ],
         "name": "2020-02-01"
        },
        {
         "data": [
          {
           "mode": "lines+markers",
           "type": "scatter",
           "x": [
            1,
            2,
            3,
            5,
            7,
            10,
            20,
            30
           ],
           "y": [
            0.33,
            0.45,
            0.5,
            0.59,
            0.78,
            0.87,
            1.26,
            1.46
           ]
          }
         ],
         "name": "2020-03-01"
        },
        {
         "data": [
          {
           "mode": "lines+markers",
           "type": "scatter",
           "x": [
            1,
            2,
            3,
            5,
            7,
            10,
            20,
            30
           ],
           "y": [
            0.18,
            0.22,
            0.28,
            0.39,
            0.55,
            0.66,
            1.06,
            1.27
           ]
          }
         ],
         "name": "2020-04-01"
        },
        {
         "data": [
          {
           "mode": "lines+markers",
           "type": "scatter",
           "x": [
            1,
            2,
            3,
            5,
            7,
            10,
            20,
            30
           ],
           "y": [
            0.16,
            0.17,
            0.22,
            0.34,
            0.53,
            0.67,
            1.12,
            1.38
           ]
          }
         ],
         "name": "2020-05-01"
        },
        {
         "data": [
          {
           "mode": "lines+markers",
           "type": "scatter",
           "x": [
            1,
            2,
            3,
            5,
            7,
            10,
            20,
            30
           ],
           "y": [
            0.18,
            0.19,
            0.22,
            0.34,
            0.55,
            0.73,
            1.27,
            1.49
           ]
          }
         ],
         "name": "2020-06-01"
        },
        {
         "data": [
          {
           "mode": "lines+markers",
           "type": "scatter",
           "x": [
            1,
            2,
            3,
            5,
            7,
            10,
            20,
            30
           ],
           "y": [
            0.15,
            0.15,
            0.17,
            0.28,
            0.46,
            0.62,
            1.09,
            1.31
           ]
          }
         ],
         "name": "2020-07-01"
        },
        {
         "data": [
          {
           "mode": "lines+markers",
           "type": "scatter",
           "x": [
            1,
            2,
            3,
            5,
            7,
            10,
            20,
            30
           ],
           "y": [
            0.13,
            0.14,
            0.16,
            0.27,
            0.46,
            0.65,
            1.14,
            1.36
           ]
          }
         ],
         "name": "2020-08-01"
        },
        {
         "data": [
          {
           "mode": "lines+markers",
           "type": "scatter",
           "x": [
            1,
            2,
            3,
            5,
            7,
            10,
            20,
            30
           ],
           "y": [
            0.13,
            0.13,
            0.16,
            0.27,
            0.46,
            0.68,
            1.21,
            1.42
           ]
          }
         ],
         "name": "2020-09-01"
        },
        {
         "data": [
          {
           "mode": "lines+markers",
           "type": "scatter",
           "x": [
            1,
            2,
            3,
            5,
            7,
            10,
            20,
            30
           ],
           "y": [
            0.13,
            0.15,
            0.19,
            0.34,
            0.55,
            0.79,
            1.34,
            1.57
           ]
          }
         ],
         "name": "2020-10-01"
        },
        {
         "data": [
          {
           "mode": "lines+markers",
           "type": "scatter",
           "x": [
            1,
            2,
            3,
            5,
            7,
            10,
            20,
            30
           ],
           "y": [
            0.12,
            0.17,
            0.22,
            0.39,
            0.63,
            0.87,
            1.4,
            1.62
           ]
          }
         ],
         "name": "2020-11-01"
        },
        {
         "data": [
          {
           "mode": "lines+markers",
           "type": "scatter",
           "x": [
            1,
            2,
            3,
            5,
            7,
            10,
            20,
            30
           ],
           "y": [
            0.1,
            0.14,
            0.19,
            0.39,
            0.66,
            0.93,
            1.47,
            1.67
           ]
          }
         ],
         "name": "2020-12-01"
        },
        {
         "data": [
          {
           "mode": "lines+markers",
           "type": "scatter",
           "x": [
            1,
            2,
            3,
            5,
            7,
            10,
            20,
            30
           ],
           "y": [
            0.1,
            0.13,
            0.2,
            0.45,
            0.77,
            1.08,
            1.63,
            1.82
           ]
          }
         ],
         "name": "2021-01-01"
        },
        {
         "data": [
          {
           "mode": "lines+markers",
           "type": "scatter",
           "x": [
            1,
            2,
            3,
            5,
            7,
            10,
            20,
            30
           ],
           "y": [
            0.07,
            0.12,
            0.21,
            0.54,
            0.91,
            1.26,
            1.88,
            2.04
           ]
          }
         ],
         "name": "2021-02-01"
        },
        {
         "data": [
          {
           "mode": "lines+markers",
           "type": "scatter",
           "x": [
            1,
            2,
            3,
            5,
            7,
            10,
            20,
            30
           ],
           "y": [
            0.08,
            0.15,
            0.32,
            0.82,
            1.27,
            1.61,
            2.24,
            2.34
           ]
          }
         ],
         "name": "2021-03-01"
        },
        {
         "data": [
          {
           "mode": "lines+markers",
           "type": "scatter",
           "x": [
            1,
            2,
            3,
            5,
            7,
            10,
            20,
            30
           ],
           "y": [
            0.06,
            0.16,
            0.35,
            0.86,
            1.31,
            1.64,
            2.2,
            2.3
           ]
          }
         ],
         "name": "2021-04-01"
        },
        {
         "data": [
          {
           "mode": "lines+markers",
           "type": "scatter",
           "x": [
            1,
            2,
            3,
            5,
            7,
            10,
            20,
            30
           ],
           "y": [
            0.05,
            0.16,
            0.32,
            0.82,
            1.28,
            1.62,
            2.22,
            2.32
           ]
          }
         ],
         "name": "2021-05-01"
        },
        {
         "data": [
          {
           "mode": "lines+markers",
           "type": "scatter",
           "x": [
            1,
            2,
            3,
            5,
            7,
            10,
            20,
            30
           ],
           "y": [
            0.07,
            0.2,
            0.39,
            0.84,
            1.23,
            1.52,
            2.09,
            2.16
           ]
          }
         ],
         "name": "2021-06-01"
        },
        {
         "data": [
          {
           "mode": "lines+markers",
           "type": "scatter",
           "x": [
            1,
            2,
            3,
            5,
            7,
            10,
            20,
            30
           ],
           "y": [
            0.08,
            0.22,
            0.4,
            0.76,
            1.07,
            1.32,
            1.87,
            1.94
           ]
          }
         ],
         "name": "2021-07-01"
        },
        {
         "data": [
          {
           "mode": "lines+markers",
           "type": "scatter",
           "x": [
            1,
            2,
            3,
            5,
            7,
            10,
            20,
            30
           ],
           "y": [
            0.07,
            0.22,
            0.42,
            0.77,
            1.06,
            1.28,
            1.83,
            1.92
           ]
          }
         ],
         "name": "2021-08-01"
        },
        {
         "data": [
          {
           "mode": "lines+markers",
           "type": "scatter",
           "x": [
            1,
            2,
            3,
            5,
            7,
            10,
            20,
            30
           ],
           "y": [
            0.08,
            0.24,
            0.47,
            0.86,
            1.16,
            1.37,
            1.87,
            1.94
           ]
          }
         ],
         "name": "2021-09-01"
        },
        {
         "data": [
          {
           "mode": "lines+markers",
           "type": "scatter",
           "x": [
            1,
            2,
            3,
            5,
            7,
            10,
            20,
            30
           ],
           "y": [
            0.11,
            0.39,
            0.67,
            1.11,
            1.4,
            1.58,
            2.03,
            2.06
           ]
          }
         ],
         "name": "2021-10-01"
        },
        {
         "data": [
          {
           "mode": "lines+markers",
           "type": "scatter",
           "x": [
            1,
            2,
            3,
            5,
            7,
            10,
            20,
            30
           ],
           "y": [
            0.18,
            0.51,
            0.82,
            1.2,
            1.45,
            1.56,
            1.97,
            1.94
           ]
          }
         ],
         "name": "2021-11-01"
        },
        {
         "data": [
          {
           "mode": "lines+markers",
           "type": "scatter",
           "x": [
            1,
            2,
            3,
            5,
            7,
            10,
            20,
            30
           ],
           "y": [
            0.3,
            0.68,
            0.95,
            1.23,
            1.4,
            1.47,
            1.9,
            1.85
           ]
          }
         ],
         "name": "2021-12-01"
        },
        {
         "data": [
          {
           "mode": "lines+markers",
           "type": "scatter",
           "x": [
            1,
            2,
            3,
            5,
            7,
            10,
            20,
            30
           ],
           "y": [
            0.55,
            0.98,
            1.25,
            1.54,
            1.7,
            1.76,
            2.15,
            2.1
           ]
          }
         ],
         "name": "2022-01-01"
        },
        {
         "data": [
          {
           "mode": "lines+markers",
           "type": "scatter",
           "x": [
            1,
            2,
            3,
            5,
            7,
            10,
            20,
            30
           ],
           "y": [
            1,
            1.44,
            1.65,
            1.81,
            1.91,
            1.93,
            2.31,
            2.25
           ]
          }
         ],
         "name": "2022-02-01"
        },
        {
         "data": [
          {
           "mode": "lines+markers",
           "type": "scatter",
           "x": [
            1,
            2,
            3,
            5,
            7,
            10,
            20,
            30
           ],
           "y": [
            1.34,
            1.91,
            2.09,
            2.11,
            2.15,
            2.13,
            2.51,
            2.41
           ]
          }
         ],
         "name": "2022-03-01"
        },
        {
         "data": [
          {
           "mode": "lines+markers",
           "type": "scatter",
           "x": [
            1,
            2,
            3,
            5,
            7,
            10,
            20,
            30
           ],
           "y": [
            1.89,
            2.54,
            2.72,
            2.78,
            2.8,
            2.75,
            2.99,
            2.81
           ]
          }
         ],
         "name": "2022-04-01"
        },
        {
         "data": [
          {
           "mode": "lines+markers",
           "type": "scatter",
           "x": [
            1,
            2,
            3,
            5,
            7,
            10,
            20,
            30
           ],
           "y": [
            2.06,
            2.62,
            2.79,
            2.87,
            2.92,
            2.9,
            3.26,
            3.07
           ]
          }
         ],
         "name": "2022-05-01"
        },
        {
         "data": [
          {
           "mode": "lines+markers",
           "type": "scatter",
           "x": [
            1,
            2,
            3,
            5,
            7,
            10,
            20,
            30
           ],
           "y": [
            2.65,
            3,
            3.15,
            3.19,
            3.21,
            3.14,
            3.48,
            3.25
           ]
          }
         ],
         "name": "2022-06-01"
        },
        {
         "data": [
          {
           "mode": "lines+markers",
           "type": "scatter",
           "x": [
            1,
            2,
            3,
            5,
            7,
            10,
            20,
            30
           ],
           "y": [
            3.02,
            3.04,
            3.03,
            2.96,
            2.97,
            2.9,
            3.35,
            3.1
           ]
          }
         ],
         "name": "2022-07-01"
        },
        {
         "data": [
          {
           "mode": "lines+markers",
           "type": "scatter",
           "x": [
            1,
            2,
            3,
            5,
            7,
            10,
            20,
            30
           ],
           "y": [
            3.28,
            3.25,
            3.23,
            3.03,
            2.98,
            2.9,
            3.35,
            3.13
           ]
          }
         ],
         "name": "2022-08-01"
        },
        {
         "data": [
          {
           "mode": "lines+markers",
           "type": "scatter",
           "x": [
            1,
            2,
            3,
            5,
            7,
            10,
            20,
            30
           ],
           "y": [
            3.89,
            3.86,
            3.88,
            3.7,
            3.64,
            3.52,
            3.82,
            3.56
           ]
          }
         ],
         "name": "2022-09-01"
        },
        {
         "data": [
          {
           "mode": "lines+markers",
           "type": "scatter",
           "x": [
            1,
            2,
            3,
            5,
            7,
            10,
            20,
            30
           ],
           "y": [
            4.43,
            4.38,
            4.38,
            4.18,
            4.09,
            3.98,
            4.28,
            4.04
           ]
          }
         ],
         "name": "2022-10-01"
        },
        {
         "data": [
          {
           "mode": "lines+markers",
           "type": "scatter",
           "x": [
            1,
            2,
            3,
            5,
            7,
            10,
            20,
            30
           ],
           "y": [
            4.73,
            4.5,
            4.34,
            4.06,
            3.99,
            3.89,
            4.22,
            4
           ]
          }
         ],
         "name": "2022-11-01"
        },
        {
         "data": [
          {
           "mode": "lines+markers",
           "type": "scatter",
           "x": [
            1,
            2,
            3,
            5,
            7,
            10,
            20,
            30
           ],
           "y": [
            4.68,
            4.29,
            4.05,
            3.76,
            3.72,
            3.62,
            3.87,
            3.66
           ]
          }
         ],
         "name": "2022-12-01"
        },
        {
         "data": [
          {
           "mode": "lines+markers",
           "type": "scatter",
           "x": [
            1,
            2,
            3,
            5,
            7,
            10,
            20,
            30
           ],
           "y": [
            4.69,
            4.21,
            3.91,
            3.64,
            3.59,
            3.53,
            3.81,
            3.66
           ]
          }
         ],
         "name": "2023-01-01"
        },
        {
         "data": [
          {
           "mode": "lines+markers",
           "type": "scatter",
           "x": [
            1,
            2,
            3,
            5,
            7,
            10,
            20,
            30
           ],
           "y": [
            4.93,
            4.53,
            4.23,
            3.94,
            3.86,
            3.75,
            3.95,
            3.8
           ]
          }
         ],
         "name": "2023-02-01"
        },
        {
         "data": [
          {
           "mode": "lines+markers",
           "type": "scatter",
           "x": [
            1,
            2,
            3,
            5,
            7,
            10,
            20,
            30
           ],
           "y": [
            4.68,
            4.3,
            4.09,
            3.82,
            3.77,
            3.66,
            3.94,
            3.77
           ]
          }
         ],
         "name": "2023-03-01"
        },
        {
         "data": [
          {
           "mode": "lines+markers",
           "type": "scatter",
           "x": [
            1,
            2,
            3,
            5,
            7,
            10,
            20,
            30
           ],
           "y": [
            4.68,
            4.02,
            3.76,
            3.54,
            3.5,
            3.46,
            3.8,
            3.68
           ]
          }
         ],
         "name": "2023-04-01"
        },
        {
         "data": [
          {
           "mode": "lines+markers",
           "type": "scatter",
           "x": [
            1,
            2,
            3,
            5,
            7,
            10,
            20,
            30
           ],
           "y": [
            4.91,
            4.13,
            3.82,
            3.59,
            3.58,
            3.57,
            3.96,
            3.86
           ]
          }
         ],
         "name": "2023-05-01"
        },
        {
         "data": [
          {
           "mode": "lines+markers",
           "type": "scatter",
           "x": [
            1,
            2,
            3,
            5,
            7,
            10,
            20,
            30
           ],
           "y": [
            5.24,
            4.64,
            4.27,
            3.95,
            3.85,
            3.75,
            4.04,
            3.87
           ]
          }
         ],
         "name": "2023-06-01"
        },
        {
         "data": [
          {
           "mode": "lines+markers",
           "type": "scatter",
           "x": [
            1,
            2,
            3,
            5,
            7,
            10,
            20,
            30
           ],
           "y": [
            5.37,
            4.83,
            4.47,
            4.14,
            4.03,
            3.9,
            4.15,
            3.96
           ]
          }
         ],
         "name": "2023-07-01"
        },
        {
         "data": [
          {
           "mode": "lines+markers",
           "type": "scatter",
           "x": [
            1,
            2,
            3,
            5,
            7,
            10,
            20,
            30
           ],
           "y": [
            5.37,
            4.9,
            4.59,
            4.31,
            4.26,
            4.17,
            4.46,
            4.28
           ]
          }
         ],
         "name": "2023-08-01"
        },
        {
         "data": [
          {
           "mode": "lines+markers",
           "type": "scatter",
           "x": [
            1,
            2,
            3,
            5,
            7,
            10,
            20,
            30
           ],
           "y": [
            5.44,
            5.02,
            4.74,
            4.49,
            4.46,
            4.38,
            4.65,
            4.47
           ]
          }
         ],
         "name": "2023-09-01"
        },
        {
         "data": [
          {
           "mode": "lines+markers",
           "type": "scatter",
           "x": [
            1,
            2,
            3,
            5,
            7,
            10,
            20,
            30
           ],
           "y": [
            5.42,
            5.07,
            4.89,
            4.77,
            4.82,
            4.8,
            5.13,
            4.95
           ]
          }
         ],
         "name": "2023-10-01"
        },
        {
         "data": [
          {
           "mode": "lines+markers",
           "type": "scatter",
           "x": [
            1,
            2,
            3,
            5,
            7,
            10,
            20,
            30
           ],
           "y": [
            5.28,
            4.88,
            4.64,
            4.49,
            4.53,
            4.5,
            4.84,
            4.66
           ]
          }
         ],
         "name": "2023-11-01"
        },
        {
         "data": [
          {
           "mode": "lines+markers",
           "type": "scatter",
           "x": [
            1,
            2,
            3,
            5,
            7,
            10,
            20,
            30
           ],
           "y": [
            4.96,
            4.46,
            4.19,
            4,
            4.04,
            4.02,
            4.32,
            4.14
           ]
          }
         ],
         "name": "2023-12-01"
        },
        {
         "data": [
          {
           "mode": "lines+markers",
           "type": "scatter",
           "x": [
            1,
            2,
            3,
            5,
            7,
            10,
            20,
            30
           ],
           "y": [
            4.79,
            4.32,
            4.11,
            3.98,
            4.03,
            4.06,
            4.39,
            4.26
           ]
          }
         ],
         "name": "2024-01-01"
        },
        {
         "data": [
          {
           "mode": "lines+markers",
           "type": "scatter",
           "x": [
            1,
            2,
            3,
            5,
            7,
            10,
            20,
            30
           ],
           "y": [
            4.92,
            4.54,
            4.33,
            4.19,
            4.21,
            4.21,
            4.49,
            4.38
           ]
          }
         ],
         "name": "2024-02-01"
        },
        {
         "data": [
          {
           "mode": "lines+markers",
           "type": "scatter",
           "x": [
            1,
            2,
            3,
            5,
            7,
            10,
            20,
            30
           ],
           "y": [
            4.99,
            4.59,
            4.38,
            4.2,
            4.21,
            4.21,
            4.46,
            4.36
           ]
          }
         ],
         "name": "2024-03-01"
        },
        {
         "data": [
          {
           "mode": "lines+markers",
           "type": "scatter",
           "x": [
            1,
            2,
            3,
            5,
            7,
            10,
            20,
            30
           ],
           "y": [
            5.14,
            4.87,
            4.71,
            4.56,
            4.56,
            4.54,
            4.77,
            4.66
           ]
          }
         ],
         "name": "2024-04-01"
        },
        {
         "data": [
          {
           "mode": "lines+markers",
           "type": "scatter",
           "x": [
            1,
            2,
            3,
            5,
            7,
            10,
            20,
            30
           ],
           "y": [
            5.16,
            4.86,
            4.66,
            4.5,
            4.49,
            4.48,
            4.71,
            4.62
           ]
          }
         ],
         "name": "2024-05-01"
        },
        {
         "data": [
          {
           "mode": "lines+markers",
           "type": "scatter",
           "x": [
            1,
            2,
            3,
            5,
            7,
            10,
            20,
            30
           ],
           "y": [
            5.11,
            4.74,
            4.5,
            4.32,
            4.3,
            4.31,
            4.54,
            4.44
           ]
          }
         ],
         "name": "2024-06-01"
        },
        {
         "data": [
          {
           "mode": "lines+markers",
           "type": "scatter",
           "x": [
            1,
            2,
            3,
            5,
            7,
            10,
            20,
            30
           ],
           "y": [
            4.9,
            4.5,
            4.29,
            4.16,
            4.19,
            4.25,
            4.56,
            4.46
           ]
          }
         ],
         "name": "2024-07-01"
        },
        {
         "data": [
          {
           "mode": "lines+markers",
           "type": "scatter",
           "x": [
            1,
            2,
            3,
            5,
            7,
            10,
            20,
            30
           ],
           "y": [
            4.43,
            3.97,
            3.79,
            3.71,
            3.77,
            3.87,
            4.25,
            4.15
           ]
          }
         ],
         "name": "2024-08-01"
        },
        {
         "data": [
          {
           "mode": "lines+markers",
           "type": "scatter",
           "x": [
            1,
            2,
            3,
            5,
            7,
            10,
            20,
            30
           ],
           "y": [
            4.03,
            3.62,
            3.51,
            3.5,
            3.6,
            3.72,
            4.1,
            4.04
           ]
          }
         ],
         "name": "2024-09-01"
        },
        {
         "data": [
          {
           "mode": "lines+markers",
           "type": "scatter",
           "x": [
            1,
            2,
            3,
            5,
            7,
            10,
            20,
            30
           ],
           "y": [
            4.2,
            3.97,
            3.9,
            3.91,
            3.99,
            4.1,
            4.44,
            4.38
           ]
          }
         ],
         "name": "2024-10-01"
        },
        {
         "data": [
          {
           "mode": "lines+markers",
           "type": "scatter",
           "x": [
            1,
            2,
            3,
            5,
            7,
            10,
            20,
            30
           ],
           "y": [
            4.33,
            4.26,
            4.21,
            4.23,
            4.29,
            4.36,
            4.63,
            4.54
           ]
          }
         ],
         "name": "2024-11-01"
        },
        {
         "data": [
          {
           "mode": "lines+markers",
           "type": "scatter",
           "x": [
            1,
            2,
            3,
            5,
            7,
            10,
            20,
            30
           ],
           "y": [
            4.23,
            4.23,
            4.22,
            4.25,
            4.32,
            4.39,
            4.66,
            4.58
           ]
          }
         ],
         "name": "2024-12-01"
        },
        {
         "data": [
          {
           "mode": "lines+markers",
           "type": "scatter",
           "x": [
            1,
            2,
            3,
            5,
            7,
            10,
            20,
            30
           ],
           "y": [
            4.18,
            4.27,
            4.33,
            4.43,
            4.53,
            4.63,
            4.92,
            4.85
           ]
          }
         ],
         "name": "2025-01-01"
        },
        {
         "data": [
          {
           "mode": "lines+markers",
           "type": "scatter",
           "x": [
            1,
            2,
            3,
            5,
            7,
            10,
            20,
            30
           ],
           "y": [
            4.19,
            4.21,
            4.22,
            4.28,
            4.37,
            4.45,
            4.73,
            4.68
           ]
          }
         ],
         "name": "2025-02-01"
        },
        {
         "data": [
          {
           "mode": "lines+markers",
           "type": "scatter",
           "x": [
            1,
            2,
            3,
            5,
            7,
            10,
            20,
            30
           ],
           "y": [
            4.06,
            3.97,
            3.96,
            4.04,
            4.16,
            4.28,
            4.63,
            4.6
           ]
          }
         ],
         "name": "2025-03-01"
        },
        {
         "data": [
          {
           "mode": "lines+markers",
           "type": "scatter",
           "x": [
            1,
            2,
            3,
            5,
            7,
            10,
            20,
            30
           ],
           "y": [
            3.95,
            3.78,
            3.78,
            3.91,
            4.08,
            4.28,
            4.74,
            4.71
           ]
          }
         ],
         "name": "2025-04-01"
        },
        {
         "data": [
          {
           "mode": "lines+markers",
           "type": "scatter",
           "x": [
            1,
            2,
            3,
            5,
            7,
            10,
            20,
            30
           ],
           "y": [
            4.09,
            3.92,
            3.9,
            4.02,
            4.22,
            4.42,
            4.92,
            4.9
           ]
          }
         ],
         "name": "2025-05-01"
        },
        {
         "data": [
          {
           "mode": "lines+markers",
           "type": "scatter",
           "x": [
            1,
            2,
            3,
            5,
            7,
            10,
            20,
            30
           ],
           "y": [
            4.06,
            3.89,
            3.86,
            3.96,
            4.16,
            4.38,
            4.9,
            4.89
           ]
          }
         ],
         "name": "2025-06-01"
        },
        {
         "data": [
          {
           "mode": "lines+markers",
           "type": "scatter",
           "x": [
            1,
            2,
            3,
            5,
            7,
            10,
            20,
            30
           ],
           "y": [
            4.08,
            3.88,
            3.84,
            3.95,
            4.15,
            4.39,
            4.92,
            4.92
           ]
          }
         ],
         "name": "2025-07-01"
        },
        {
         "data": [
          {
           "mode": "lines+markers",
           "type": "scatter",
           "x": [
            1,
            2,
            3,
            5,
            7,
            10,
            20,
            30
           ],
           "y": [
            3.89,
            3.7,
            3.67,
            3.79,
            4,
            4.26,
            4.85,
            4.87
           ]
          }
         ],
         "name": "2025-08-01"
        }
       ],
       "layout": {
        "height": 600,
        "sliders": [
         {
          "currentvalue": {
           "prefix": "Date: "
          },
          "steps": [
           {
            "args": [
             [
              "2020-01-01"
             ],
             {
              "frame": {
               "duration": 0,
               "redraw": true
              },
              "mode": "immediate"
             }
            ],
            "label": "2020-01-01",
            "method": "animate"
           },
           {
            "args": [
             [
              "2020-02-01"
             ],
             {
              "frame": {
               "duration": 0,
               "redraw": true
              },
              "mode": "immediate"
             }
            ],
            "label": "2020-02-01",
            "method": "animate"
           },
           {
            "args": [
             [
              "2020-03-01"
             ],
             {
              "frame": {
               "duration": 0,
               "redraw": true
              },
              "mode": "immediate"
             }
            ],
            "label": "2020-03-01",
            "method": "animate"
           },
           {
            "args": [
             [
              "2020-04-01"
             ],
             {
              "frame": {
               "duration": 0,
               "redraw": true
              },
              "mode": "immediate"
             }
            ],
            "label": "2020-04-01",
            "method": "animate"
           },
           {
            "args": [
             [
              "2020-05-01"
             ],
             {
              "frame": {
               "duration": 0,
               "redraw": true
              },
              "mode": "immediate"
             }
            ],
            "label": "2020-05-01",
            "method": "animate"
           },
           {
            "args": [
             [
              "2020-06-01"
             ],
             {
              "frame": {
               "duration": 0,
               "redraw": true
              },
              "mode": "immediate"
             }
            ],
            "label": "2020-06-01",
            "method": "animate"
           },
           {
            "args": [
             [
              "2020-07-01"
             ],
             {
              "frame": {
               "duration": 0,
               "redraw": true
              },
              "mode": "immediate"
             }
            ],
            "label": "2020-07-01",
            "method": "animate"
           },
           {
            "args": [
             [
              "2020-08-01"
             ],
             {
              "frame": {
               "duration": 0,
               "redraw": true
              },
              "mode": "immediate"
             }
            ],
            "label": "2020-08-01",
            "method": "animate"
           },
           {
            "args": [
             [
              "2020-09-01"
             ],
             {
              "frame": {
               "duration": 0,
               "redraw": true
              },
              "mode": "immediate"
             }
            ],
            "label": "2020-09-01",
            "method": "animate"
           },
           {
            "args": [
             [
              "2020-10-01"
             ],
             {
              "frame": {
               "duration": 0,
               "redraw": true
              },
              "mode": "immediate"
             }
            ],
            "label": "2020-10-01",
            "method": "animate"
           },
           {
            "args": [
             [
              "2020-11-01"
             ],
             {
              "frame": {
               "duration": 0,
               "redraw": true
              },
              "mode": "immediate"
             }
            ],
            "label": "2020-11-01",
            "method": "animate"
           },
           {
            "args": [
             [
              "2020-12-01"
             ],
             {
              "frame": {
               "duration": 0,
               "redraw": true
              },
              "mode": "immediate"
             }
            ],
            "label": "2020-12-01",
            "method": "animate"
           },
           {
            "args": [
             [
              "2021-01-01"
             ],
             {
              "frame": {
               "duration": 0,
               "redraw": true
              },
              "mode": "immediate"
             }
            ],
            "label": "2021-01-01",
            "method": "animate"
           },
           {
            "args": [
             [
              "2021-02-01"
             ],
             {
              "frame": {
               "duration": 0,
               "redraw": true
              },
              "mode": "immediate"
             }
            ],
            "label": "2021-02-01",
            "method": "animate"
           },
           {
            "args": [
             [
              "2021-03-01"
             ],
             {
              "frame": {
               "duration": 0,
               "redraw": true
              },
              "mode": "immediate"
             }
            ],
            "label": "2021-03-01",
            "method": "animate"
           },
           {
            "args": [
             [
              "2021-04-01"
             ],
             {
              "frame": {
               "duration": 0,
               "redraw": true
              },
              "mode": "immediate"
             }
            ],
            "label": "2021-04-01",
            "method": "animate"
           },
           {
            "args": [
             [
              "2021-05-01"
             ],
             {
              "frame": {
               "duration": 0,
               "redraw": true
              },
              "mode": "immediate"
             }
            ],
            "label": "2021-05-01",
            "method": "animate"
           },
           {
            "args": [
             [
              "2021-06-01"
             ],
             {
              "frame": {
               "duration": 0,
               "redraw": true
              },
              "mode": "immediate"
             }
            ],
            "label": "2021-06-01",
            "method": "animate"
           },
           {
            "args": [
             [
              "2021-07-01"
             ],
             {
              "frame": {
               "duration": 0,
               "redraw": true
              },
              "mode": "immediate"
             }
            ],
            "label": "2021-07-01",
            "method": "animate"
           },
           {
            "args": [
             [
              "2021-08-01"
             ],
             {
              "frame": {
               "duration": 0,
               "redraw": true
              },
              "mode": "immediate"
             }
            ],
            "label": "2021-08-01",
            "method": "animate"
           },
           {
            "args": [
             [
              "2021-09-01"
             ],
             {
              "frame": {
               "duration": 0,
               "redraw": true
              },
              "mode": "immediate"
             }
            ],
            "label": "2021-09-01",
            "method": "animate"
           },
           {
            "args": [
             [
              "2021-10-01"
             ],
             {
              "frame": {
               "duration": 0,
               "redraw": true
              },
              "mode": "immediate"
             }
            ],
            "label": "2021-10-01",
            "method": "animate"
           },
           {
            "args": [
             [
              "2021-11-01"
             ],
             {
              "frame": {
               "duration": 0,
               "redraw": true
              },
              "mode": "immediate"
             }
            ],
            "label": "2021-11-01",
            "method": "animate"
           },
           {
            "args": [
             [
              "2021-12-01"
             ],
             {
              "frame": {
               "duration": 0,
               "redraw": true
              },
              "mode": "immediate"
             }
            ],
            "label": "2021-12-01",
            "method": "animate"
           },
           {
            "args": [
             [
              "2022-01-01"
             ],
             {
              "frame": {
               "duration": 0,
               "redraw": true
              },
              "mode": "immediate"
             }
            ],
            "label": "2022-01-01",
            "method": "animate"
           },
           {
            "args": [
             [
              "2022-02-01"
             ],
             {
              "frame": {
               "duration": 0,
               "redraw": true
              },
              "mode": "immediate"
             }
            ],
            "label": "2022-02-01",
            "method": "animate"
           },
           {
            "args": [
             [
              "2022-03-01"
             ],
             {
              "frame": {
               "duration": 0,
               "redraw": true
              },
              "mode": "immediate"
             }
            ],
            "label": "2022-03-01",
            "method": "animate"
           },
           {
            "args": [
             [
              "2022-04-01"
             ],
             {
              "frame": {
               "duration": 0,
               "redraw": true
              },
              "mode": "immediate"
             }
            ],
            "label": "2022-04-01",
            "method": "animate"
           },
           {
            "args": [
             [
              "2022-05-01"
             ],
             {
              "frame": {
               "duration": 0,
               "redraw": true
              },
              "mode": "immediate"
             }
            ],
            "label": "2022-05-01",
            "method": "animate"
           },
           {
            "args": [
             [
              "2022-06-01"
             ],
             {
              "frame": {
               "duration": 0,
               "redraw": true
              },
              "mode": "immediate"
             }
            ],
            "label": "2022-06-01",
            "method": "animate"
           },
           {
            "args": [
             [
              "2022-07-01"
             ],
             {
              "frame": {
               "duration": 0,
               "redraw": true
              },
              "mode": "immediate"
             }
            ],
            "label": "2022-07-01",
            "method": "animate"
           },
           {
            "args": [
             [
              "2022-08-01"
             ],
             {
              "frame": {
               "duration": 0,
               "redraw": true
              },
              "mode": "immediate"
             }
            ],
            "label": "2022-08-01",
            "method": "animate"
           },
           {
            "args": [
             [
              "2022-09-01"
             ],
             {
              "frame": {
               "duration": 0,
               "redraw": true
              },
              "mode": "immediate"
             }
            ],
            "label": "2022-09-01",
            "method": "animate"
           },
           {
            "args": [
             [
              "2022-10-01"
             ],
             {
              "frame": {
               "duration": 0,
               "redraw": true
              },
              "mode": "immediate"
             }
            ],
            "label": "2022-10-01",
            "method": "animate"
           },
           {
            "args": [
             [
              "2022-11-01"
             ],
             {
              "frame": {
               "duration": 0,
               "redraw": true
              },
              "mode": "immediate"
             }
            ],
            "label": "2022-11-01",
            "method": "animate"
           },
           {
            "args": [
             [
              "2022-12-01"
             ],
             {
              "frame": {
               "duration": 0,
               "redraw": true
              },
              "mode": "immediate"
             }
            ],
            "label": "2022-12-01",
            "method": "animate"
           },
           {
            "args": [
             [
              "2023-01-01"
             ],
             {
              "frame": {
               "duration": 0,
               "redraw": true
              },
              "mode": "immediate"
             }
            ],
            "label": "2023-01-01",
            "method": "animate"
           },
           {
            "args": [
             [
              "2023-02-01"
             ],
             {
              "frame": {
               "duration": 0,
               "redraw": true
              },
              "mode": "immediate"
             }
            ],
            "label": "2023-02-01",
            "method": "animate"
           },
           {
            "args": [
             [
              "2023-03-01"
             ],
             {
              "frame": {
               "duration": 0,
               "redraw": true
              },
              "mode": "immediate"
             }
            ],
            "label": "2023-03-01",
            "method": "animate"
           },
           {
            "args": [
             [
              "2023-04-01"
             ],
             {
              "frame": {
               "duration": 0,
               "redraw": true
              },
              "mode": "immediate"
             }
            ],
            "label": "2023-04-01",
            "method": "animate"
           },
           {
            "args": [
             [
              "2023-05-01"
             ],
             {
              "frame": {
               "duration": 0,
               "redraw": true
              },
              "mode": "immediate"
             }
            ],
            "label": "2023-05-01",
            "method": "animate"
           },
           {
            "args": [
             [
              "2023-06-01"
             ],
             {
              "frame": {
               "duration": 0,
               "redraw": true
              },
              "mode": "immediate"
             }
            ],
            "label": "2023-06-01",
            "method": "animate"
           },
           {
            "args": [
             [
              "2023-07-01"
             ],
             {
              "frame": {
               "duration": 0,
               "redraw": true
              },
              "mode": "immediate"
             }
            ],
            "label": "2023-07-01",
            "method": "animate"
           },
           {
            "args": [
             [
              "2023-08-01"
             ],
             {
              "frame": {
               "duration": 0,
               "redraw": true
              },
              "mode": "immediate"
             }
            ],
            "label": "2023-08-01",
            "method": "animate"
           },
           {
            "args": [
             [
              "2023-09-01"
             ],
             {
              "frame": {
               "duration": 0,
               "redraw": true
              },
              "mode": "immediate"
             }
            ],
            "label": "2023-09-01",
            "method": "animate"
           },
           {
            "args": [
             [
              "2023-10-01"
             ],
             {
              "frame": {
               "duration": 0,
               "redraw": true
              },
              "mode": "immediate"
             }
            ],
            "label": "2023-10-01",
            "method": "animate"
           },
           {
            "args": [
             [
              "2023-11-01"
             ],
             {
              "frame": {
               "duration": 0,
               "redraw": true
              },
              "mode": "immediate"
             }
            ],
            "label": "2023-11-01",
            "method": "animate"
           },
           {
            "args": [
             [
              "2023-12-01"
             ],
             {
              "frame": {
               "duration": 0,
               "redraw": true
              },
              "mode": "immediate"
             }
            ],
            "label": "2023-12-01",
            "method": "animate"
           },
           {
            "args": [
             [
              "2024-01-01"
             ],
             {
              "frame": {
               "duration": 0,
               "redraw": true
              },
              "mode": "immediate"
             }
            ],
            "label": "2024-01-01",
            "method": "animate"
           },
           {
            "args": [
             [
              "2024-02-01"
             ],
             {
              "frame": {
               "duration": 0,
               "redraw": true
              },
              "mode": "immediate"
             }
            ],
            "label": "2024-02-01",
            "method": "animate"
           },
           {
            "args": [
             [
              "2024-03-01"
             ],
             {
              "frame": {
               "duration": 0,
               "redraw": true
              },
              "mode": "immediate"
             }
            ],
            "label": "2024-03-01",
            "method": "animate"
           },
           {
            "args": [
             [
              "2024-04-01"
             ],
             {
              "frame": {
               "duration": 0,
               "redraw": true
              },
              "mode": "immediate"
             }
            ],
            "label": "2024-04-01",
            "method": "animate"
           },
           {
            "args": [
             [
              "2024-05-01"
             ],
             {
              "frame": {
               "duration": 0,
               "redraw": true
              },
              "mode": "immediate"
             }
            ],
            "label": "2024-05-01",
            "method": "animate"
           },
           {
            "args": [
             [
              "2024-06-01"
             ],
             {
              "frame": {
               "duration": 0,
               "redraw": true
              },
              "mode": "immediate"
             }
            ],
            "label": "2024-06-01",
            "method": "animate"
           },
           {
            "args": [
             [
              "2024-07-01"
             ],
             {
              "frame": {
               "duration": 0,
               "redraw": true
              },
              "mode": "immediate"
             }
            ],
            "label": "2024-07-01",
            "method": "animate"
           },
           {
            "args": [
             [
              "2024-08-01"
             ],
             {
              "frame": {
               "duration": 0,
               "redraw": true
              },
              "mode": "immediate"
             }
            ],
            "label": "2024-08-01",
            "method": "animate"
           },
           {
            "args": [
             [
              "2024-09-01"
             ],
             {
              "frame": {
               "duration": 0,
               "redraw": true
              },
              "mode": "immediate"
             }
            ],
            "label": "2024-09-01",
            "method": "animate"
           },
           {
            "args": [
             [
              "2024-10-01"
             ],
             {
              "frame": {
               "duration": 0,
               "redraw": true
              },
              "mode": "immediate"
             }
            ],
            "label": "2024-10-01",
            "method": "animate"
           },
           {
            "args": [
             [
              "2024-11-01"
             ],
             {
              "frame": {
               "duration": 0,
               "redraw": true
              },
              "mode": "immediate"
             }
            ],
            "label": "2024-11-01",
            "method": "animate"
           },
           {
            "args": [
             [
              "2024-12-01"
             ],
             {
              "frame": {
               "duration": 0,
               "redraw": true
              },
              "mode": "immediate"
             }
            ],
            "label": "2024-12-01",
            "method": "animate"
           },
           {
            "args": [
             [
              "2025-01-01"
             ],
             {
              "frame": {
               "duration": 0,
               "redraw": true
              },
              "mode": "immediate"
             }
            ],
            "label": "2025-01-01",
            "method": "animate"
           },
           {
            "args": [
             [
              "2025-02-01"
             ],
             {
              "frame": {
               "duration": 0,
               "redraw": true
              },
              "mode": "immediate"
             }
            ],
            "label": "2025-02-01",
            "method": "animate"
           },
           {
            "args": [
             [
              "2025-03-01"
             ],
             {
              "frame": {
               "duration": 0,
               "redraw": true
              },
              "mode": "immediate"
             }
            ],
            "label": "2025-03-01",
            "method": "animate"
           },
           {
            "args": [
             [
              "2025-04-01"
             ],
             {
              "frame": {
               "duration": 0,
               "redraw": true
              },
              "mode": "immediate"
             }
            ],
            "label": "2025-04-01",
            "method": "animate"
           },
           {
            "args": [
             [
              "2025-05-01"
             ],
             {
              "frame": {
               "duration": 0,
               "redraw": true
              },
              "mode": "immediate"
             }
            ],
            "label": "2025-05-01",
            "method": "animate"
           },
           {
            "args": [
             [
              "2025-06-01"
             ],
             {
              "frame": {
               "duration": 0,
               "redraw": true
              },
              "mode": "immediate"
             }
            ],
            "label": "2025-06-01",
            "method": "animate"
           },
           {
            "args": [
             [
              "2025-07-01"
             ],
             {
              "frame": {
               "duration": 0,
               "redraw": true
              },
              "mode": "immediate"
             }
            ],
            "label": "2025-07-01",
            "method": "animate"
           },
           {
            "args": [
             [
              "2025-08-01"
             ],
             {
              "frame": {
               "duration": 0,
               "redraw": true
              },
              "mode": "immediate"
             }
            ],
            "label": "2025-08-01",
            "method": "animate"
           }
          ]
         }
        ],
        "template": {
         "data": {
          "bar": [
           {
            "error_x": {
             "color": "#2a3f5f"
            },
            "error_y": {
             "color": "#2a3f5f"
            },
            "marker": {
             "line": {
              "color": "#E5ECF6",
              "width": 0.5
             },
             "pattern": {
              "fillmode": "overlay",
              "size": 10,
              "solidity": 0.2
             }
            },
            "type": "bar"
           }
          ],
          "barpolar": [
           {
            "marker": {
             "line": {
              "color": "#E5ECF6",
              "width": 0.5
             },
             "pattern": {
              "fillmode": "overlay",
              "size": 10,
              "solidity": 0.2
             }
            },
            "type": "barpolar"
           }
          ],
          "carpet": [
           {
            "aaxis": {
             "endlinecolor": "#2a3f5f",
             "gridcolor": "white",
             "linecolor": "white",
             "minorgridcolor": "white",
             "startlinecolor": "#2a3f5f"
            },
            "baxis": {
             "endlinecolor": "#2a3f5f",
             "gridcolor": "white",
             "linecolor": "white",
             "minorgridcolor": "white",
             "startlinecolor": "#2a3f5f"
            },
            "type": "carpet"
           }
          ],
          "choropleth": [
           {
            "colorbar": {
             "outlinewidth": 0,
             "ticks": ""
            },
            "type": "choropleth"
           }
          ],
          "contour": [
           {
            "colorbar": {
             "outlinewidth": 0,
             "ticks": ""
            },
            "colorscale": [
             [
              0,
              "#0d0887"
             ],
             [
              0.1111111111111111,
              "#46039f"
             ],
             [
              0.2222222222222222,
              "#7201a8"
             ],
             [
              0.3333333333333333,
              "#9c179e"
             ],
             [
              0.4444444444444444,
              "#bd3786"
             ],
             [
              0.5555555555555556,
              "#d8576b"
             ],
             [
              0.6666666666666666,
              "#ed7953"
             ],
             [
              0.7777777777777778,
              "#fb9f3a"
             ],
             [
              0.8888888888888888,
              "#fdca26"
             ],
             [
              1,
              "#f0f921"
             ]
            ],
            "type": "contour"
           }
          ],
          "contourcarpet": [
           {
            "colorbar": {
             "outlinewidth": 0,
             "ticks": ""
            },
            "type": "contourcarpet"
           }
          ],
          "heatmap": [
           {
            "colorbar": {
             "outlinewidth": 0,
             "ticks": ""
            },
            "colorscale": [
             [
              0,
              "#0d0887"
             ],
             [
              0.1111111111111111,
              "#46039f"
             ],
             [
              0.2222222222222222,
              "#7201a8"
             ],
             [
              0.3333333333333333,
              "#9c179e"
             ],
             [
              0.4444444444444444,
              "#bd3786"
             ],
             [
              0.5555555555555556,
              "#d8576b"
             ],
             [
              0.6666666666666666,
              "#ed7953"
             ],
             [
              0.7777777777777778,
              "#fb9f3a"
             ],
             [
              0.8888888888888888,
              "#fdca26"
             ],
             [
              1,
              "#f0f921"
             ]
            ],
            "type": "heatmap"
           }
          ],
          "heatmapgl": [
           {
            "colorbar": {
             "outlinewidth": 0,
             "ticks": ""
            },
            "colorscale": [
             [
              0,
              "#0d0887"
             ],
             [
              0.1111111111111111,
              "#46039f"
             ],
             [
              0.2222222222222222,
              "#7201a8"
             ],
             [
              0.3333333333333333,
              "#9c179e"
             ],
             [
              0.4444444444444444,
              "#bd3786"
             ],
             [
              0.5555555555555556,
              "#d8576b"
             ],
             [
              0.6666666666666666,
              "#ed7953"
             ],
             [
              0.7777777777777778,
              "#fb9f3a"
             ],
             [
              0.8888888888888888,
              "#fdca26"
             ],
             [
              1,
              "#f0f921"
             ]
            ],
            "type": "heatmapgl"
           }
          ],
          "histogram": [
           {
            "marker": {
             "pattern": {
              "fillmode": "overlay",
              "size": 10,
              "solidity": 0.2
             }
            },
            "type": "histogram"
           }
          ],
          "histogram2d": [
           {
            "colorbar": {
             "outlinewidth": 0,
             "ticks": ""
            },
            "colorscale": [
             [
              0,
              "#0d0887"
             ],
             [
              0.1111111111111111,
              "#46039f"
             ],
             [
              0.2222222222222222,
              "#7201a8"
             ],
             [
              0.3333333333333333,
              "#9c179e"
             ],
             [
              0.4444444444444444,
              "#bd3786"
             ],
             [
              0.5555555555555556,
              "#d8576b"
             ],
             [
              0.6666666666666666,
              "#ed7953"
             ],
             [
              0.7777777777777778,
              "#fb9f3a"
             ],
             [
              0.8888888888888888,
              "#fdca26"
             ],
             [
              1,
              "#f0f921"
             ]
            ],
            "type": "histogram2d"
           }
          ],
          "histogram2dcontour": [
           {
            "colorbar": {
             "outlinewidth": 0,
             "ticks": ""
            },
            "colorscale": [
             [
              0,
              "#0d0887"
             ],
             [
              0.1111111111111111,
              "#46039f"
             ],
             [
              0.2222222222222222,
              "#7201a8"
             ],
             [
              0.3333333333333333,
              "#9c179e"
             ],
             [
              0.4444444444444444,
              "#bd3786"
             ],
             [
              0.5555555555555556,
              "#d8576b"
             ],
             [
              0.6666666666666666,
              "#ed7953"
             ],
             [
              0.7777777777777778,
              "#fb9f3a"
             ],
             [
              0.8888888888888888,
              "#fdca26"
             ],
             [
              1,
              "#f0f921"
             ]
            ],
            "type": "histogram2dcontour"
           }
          ],
          "mesh3d": [
           {
            "colorbar": {
             "outlinewidth": 0,
             "ticks": ""
            },
            "type": "mesh3d"
           }
          ],
          "parcoords": [
           {
            "line": {
             "colorbar": {
              "outlinewidth": 0,
              "ticks": ""
             }
            },
            "type": "parcoords"
           }
          ],
          "pie": [
           {
            "automargin": true,
            "type": "pie"
           }
          ],
          "scatter": [
           {
            "fillpattern": {
             "fillmode": "overlay",
             "size": 10,
             "solidity": 0.2
            },
            "type": "scatter"
           }
          ],
          "scatter3d": [
           {
            "line": {
             "colorbar": {
              "outlinewidth": 0,
              "ticks": ""
             }
            },
            "marker": {
             "colorbar": {
              "outlinewidth": 0,
              "ticks": ""
             }
            },
            "type": "scatter3d"
           }
          ],
          "scattercarpet": [
           {
            "marker": {
             "colorbar": {
              "outlinewidth": 0,
              "ticks": ""
             }
            },
            "type": "scattercarpet"
           }
          ],
          "scattergeo": [
           {
            "marker": {
             "colorbar": {
              "outlinewidth": 0,
              "ticks": ""
             }
            },
            "type": "scattergeo"
           }
          ],
          "scattergl": [
           {
            "marker": {
             "colorbar": {
              "outlinewidth": 0,
              "ticks": ""
             }
            },
            "type": "scattergl"
           }
          ],
          "scattermapbox": [
           {
            "marker": {
             "colorbar": {
              "outlinewidth": 0,
              "ticks": ""
             }
            },
            "type": "scattermapbox"
           }
          ],
          "scatterpolar": [
           {
            "marker": {
             "colorbar": {
              "outlinewidth": 0,
              "ticks": ""
             }
            },
            "type": "scatterpolar"
           }
          ],
          "scatterpolargl": [
           {
            "marker": {
             "colorbar": {
              "outlinewidth": 0,
              "ticks": ""
             }
            },
            "type": "scatterpolargl"
           }
          ],
          "scatterternary": [
           {
            "marker": {
             "colorbar": {
              "outlinewidth": 0,
              "ticks": ""
             }
            },
            "type": "scatterternary"
           }
          ],
          "surface": [
           {
            "colorbar": {
             "outlinewidth": 0,
             "ticks": ""
            },
            "colorscale": [
             [
              0,
              "#0d0887"
             ],
             [
              0.1111111111111111,
              "#46039f"
             ],
             [
              0.2222222222222222,
              "#7201a8"
             ],
             [
              0.3333333333333333,
              "#9c179e"
             ],
             [
              0.4444444444444444,
              "#bd3786"
             ],
             [
              0.5555555555555556,
              "#d8576b"
             ],
             [
              0.6666666666666666,
              "#ed7953"
             ],
             [
              0.7777777777777778,
              "#fb9f3a"
             ],
             [
              0.8888888888888888,
              "#fdca26"
             ],
             [
              1,
              "#f0f921"
             ]
            ],
            "type": "surface"
           }
          ],
          "table": [
           {
            "cells": {
             "fill": {
              "color": "#EBF0F8"
             },
             "line": {
              "color": "white"
             }
            },
            "header": {
             "fill": {
              "color": "#C8D4E3"
             },
             "line": {
              "color": "white"
             }
            },
            "type": "table"
           }
          ]
         },
         "layout": {
          "annotationdefaults": {
           "arrowcolor": "#2a3f5f",
           "arrowhead": 0,
           "arrowwidth": 1
          },
          "autotypenumbers": "strict",
          "coloraxis": {
           "colorbar": {
            "outlinewidth": 0,
            "ticks": ""
           }
          },
          "colorscale": {
           "diverging": [
            [
             0,
             "#8e0152"
            ],
            [
             0.1,
             "#c51b7d"
            ],
            [
             0.2,
             "#de77ae"
            ],
            [
             0.3,
             "#f1b6da"
            ],
            [
             0.4,
             "#fde0ef"
            ],
            [
             0.5,
             "#f7f7f7"
            ],
            [
             0.6,
             "#e6f5d0"
            ],
            [
             0.7,
             "#b8e186"
            ],
            [
             0.8,
             "#7fbc41"
            ],
            [
             0.9,
             "#4d9221"
            ],
            [
             1,
             "#276419"
            ]
           ],
           "sequential": [
            [
             0,
             "#0d0887"
            ],
            [
             0.1111111111111111,
             "#46039f"
            ],
            [
             0.2222222222222222,
             "#7201a8"
            ],
            [
             0.3333333333333333,
             "#9c179e"
            ],
            [
             0.4444444444444444,
             "#bd3786"
            ],
            [
             0.5555555555555556,
             "#d8576b"
            ],
            [
             0.6666666666666666,
             "#ed7953"
            ],
            [
             0.7777777777777778,
             "#fb9f3a"
            ],
            [
             0.8888888888888888,
             "#fdca26"
            ],
            [
             1,
             "#f0f921"
            ]
           ],
           "sequentialminus": [
            [
             0,
             "#0d0887"
            ],
            [
             0.1111111111111111,
             "#46039f"
            ],
            [
             0.2222222222222222,
             "#7201a8"
            ],
            [
             0.3333333333333333,
             "#9c179e"
            ],
            [
             0.4444444444444444,
             "#bd3786"
            ],
            [
             0.5555555555555556,
             "#d8576b"
            ],
            [
             0.6666666666666666,
             "#ed7953"
            ],
            [
             0.7777777777777778,
             "#fb9f3a"
            ],
            [
             0.8888888888888888,
             "#fdca26"
            ],
            [
             1,
             "#f0f921"
            ]
           ]
          },
          "colorway": [
           "#636efa",
           "#EF553B",
           "#00cc96",
           "#ab63fa",
           "#FFA15A",
           "#19d3f3",
           "#FF6692",
           "#B6E880",
           "#FF97FF",
           "#FECB52"
          ],
          "font": {
           "color": "#2a3f5f"
          },
          "geo": {
           "bgcolor": "white",
           "lakecolor": "white",
           "landcolor": "#E5ECF6",
           "showlakes": true,
           "showland": true,
           "subunitcolor": "white"
          },
          "hoverlabel": {
           "align": "left"
          },
          "hovermode": "closest",
          "mapbox": {
           "style": "light"
          },
          "paper_bgcolor": "white",
          "plot_bgcolor": "#E5ECF6",
          "polar": {
           "angularaxis": {
            "gridcolor": "white",
            "linecolor": "white",
            "ticks": ""
           },
           "bgcolor": "#E5ECF6",
           "radialaxis": {
            "gridcolor": "white",
            "linecolor": "white",
            "ticks": ""
           }
          },
          "scene": {
           "xaxis": {
            "backgroundcolor": "#E5ECF6",
            "gridcolor": "white",
            "gridwidth": 2,
            "linecolor": "white",
            "showbackground": true,
            "ticks": "",
            "zerolinecolor": "white"
           },
           "yaxis": {
            "backgroundcolor": "#E5ECF6",
            "gridcolor": "white",
            "gridwidth": 2,
            "linecolor": "white",
            "showbackground": true,
            "ticks": "",
            "zerolinecolor": "white"
           },
           "zaxis": {
            "backgroundcolor": "#E5ECF6",
            "gridcolor": "white",
            "gridwidth": 2,
            "linecolor": "white",
            "showbackground": true,
            "ticks": "",
            "zerolinecolor": "white"
           }
          },
          "shapedefaults": {
           "line": {
            "color": "#2a3f5f"
           }
          },
          "ternary": {
           "aaxis": {
            "gridcolor": "white",
            "linecolor": "white",
            "ticks": ""
           },
           "baxis": {
            "gridcolor": "white",
            "linecolor": "white",
            "ticks": ""
           },
           "bgcolor": "#E5ECF6",
           "caxis": {
            "gridcolor": "white",
            "linecolor": "white",
            "ticks": ""
           }
          },
          "title": {
           "x": 0.05
          },
          "xaxis": {
           "automargin": true,
           "gridcolor": "white",
           "linecolor": "white",
           "ticks": "",
           "title": {
            "standoff": 15
           },
           "zerolinecolor": "white",
           "zerolinewidth": 2
          },
          "yaxis": {
           "automargin": true,
           "gridcolor": "white",
           "linecolor": "white",
           "ticks": "",
           "title": {
            "standoff": 15
           },
           "zerolinecolor": "white",
           "zerolinewidth": 2
          }
         }
        },
        "title": {
         "text": "U.S. Treasury Zero (Spot) Curve — GS series (daily)"
        },
        "updatemenus": [
         {
          "buttons": [
           {
            "args": [
             null,
             {
              "frame": {
               "duration": 100,
               "redraw": true
              },
              "fromcurrent": true,
              "transition": {
               "duration": 0
              }
             }
            ],
            "label": "Play",
            "method": "animate"
           },
           {
            "args": [
             [
              null
             ],
             {
              "frame": {
               "duration": 0,
               "redraw": false
              },
              "mode": "immediate"
             }
            ],
            "label": "Pause",
            "method": "animate"
           }
          ],
          "type": "buttons"
         }
        ],
        "width": 1000,
        "xaxis": {
         "range": [
          0,
          35
         ],
         "title": {
          "text": "Maturity (years)"
         }
        },
        "yaxis": {
         "range": [
          -0.45,
          5.94
         ],
         "title": {
          "text": "Yield (%)"
         }
        }
       }
      }
     },
     "metadata": {},
     "output_type": "display_data"
    }
   ],
   "source": [
    "MAT_YEARS_ZERO = {\"1Y\":1,\"2Y\":2,\"3Y\":3,\"5Y\":5,\"7Y\":7,\"10Y\":10,\"20Y\":20,\"30Y\":30}\n",
    "\n",
    "# keep only columns we know, in order\n",
    "cols = [c for c in MAT_YEARS_ZERO if c in curve_df_zero.columns]\n",
    "x = np.array([MAT_YEARS_ZERO[c] for c in cols])\n",
    "\n",
    "# Build frames (one per date with complete data)\n",
    "df_complete = curve_df_zero[cols].dropna()\n",
    "dates = df_complete.index\n",
    "\n",
    "frames = []\n",
    "for d in dates:\n",
    "    y = df_complete.loc[d].values  # yields in %\n",
    "    frames.append(\n",
    "        go.Frame(\n",
    "            data=[go.Scatter(x=x, y=y, mode=\"lines+markers\")],\n",
    "            name=str(d.date())\n",
    "        )\n",
    "    )\n",
    "\n",
    "# Initial frame = first date\n",
    "y0 = df_complete.iloc[0].values\n",
    "fig = go.Figure(\n",
    "    data=[go.Scatter(x=x, y=y0, mode=\"lines+markers\", name=\"Zero (GS)\")],\n",
    "    layout=go.Layout(\n",
    "        title=\"U.S. Treasury Zero (Spot) Curve — GS series (daily)\",\n",
    "        xaxis=dict(title=\"Maturity (years)\", range=[0, 35]),\n",
    "        yaxis=dict(\n",
    "            title=\"Yield (%)\",\n",
    "            range=[\n",
    "                float(df_complete.min().min()) - 0.5,\n",
    "                float(df_complete.max().max()) + 0.5\n",
    "            ],\n",
    "        ),\n",
    "        width=1000, height=600,\n",
    "        updatemenus=[{\n",
    "            \"type\": \"buttons\",\n",
    "            \"buttons\": [\n",
    "                {\"label\": \"Play\", \"method\": \"animate\",\n",
    "                 \"args\": [None, {\"frame\": {\"duration\": 100, \"redraw\": True},\n",
    "                                 \"fromcurrent\": True, \"transition\": {\"duration\": 0}}]},\n",
    "                {\"label\": \"Pause\", \"method\": \"animate\",\n",
    "                 \"args\": [[None], {\"frame\": {\"duration\": 0, \"redraw\": False},\n",
    "                                   \"mode\": \"immediate\"}]},\n",
    "            ],\n",
    "        }],\n",
    "        sliders=[{\n",
    "            \"steps\": [\n",
    "                {\"args\": [[str(d.date())],\n",
    "                          {\"frame\": {\"duration\": 0, \"redraw\": True},\n",
    "                           \"mode\": \"immediate\"}],\n",
    "                 \"label\": str(d.date()), \"method\": \"animate\"}\n",
    "                for d in dates\n",
    "            ],\n",
    "            \"currentvalue\": {\"prefix\": \"Date: \"}\n",
    "        }]\n",
    "    ),\n",
    "    frames=frames\n",
    ")\n",
    "\n",
    "fig.show()"
   ]
  },
  {
   "cell_type": "code",
   "execution_count": 75,
   "id": "e08a0d70",
   "metadata": {},
   "outputs": [],
   "source": [
    "import re\n",
    "import numpy as np\n",
    "import pandas as pd\n",
    "\n",
    "def compute_forward_curve_from_zero(\n",
    "    curve_df_zero: pd.DataFrame,\n",
    "    horizon_years: float = 1.0,\n",
    "    comp: str = \"annual\",\n",
    "    interpolate_missing: bool = True,\n",
    ") -> pd.DataFrame:\n",
    "    \"\"\"\n",
    "    Compute n-year forward rates f_{t,t+n} from a zero-coupon (spot) curve time series.\n",
    "\n",
    "    Parameters\n",
    "    ----------\n",
    "    curve_df_zero : DataFrame\n",
    "        Index = dates; columns = maturities (\"1Y\",\"2Y\",... or numeric 1,2,...).\n",
    "        Values are yields in PERCENT.\n",
    "    horizon_years : float\n",
    "        n in years for f_{t,t+n}.\n",
    "    comp : {'annual','semiannual','continuous'}\n",
    "        Compounding convention to interpret the input zeros.\n",
    "        Output forwards are annual-effective (%).\n",
    "    interpolate_missing : bool\n",
    "        If True, add missing maturities needed for t and t+n and\n",
    "        linearly interpolate across columns using maturity as x.\n",
    "\n",
    "    Returns\n",
    "    -------\n",
    "    DataFrame\n",
    "        Index = dates; columns = start years t (float);\n",
    "        values = f_{t,t+n} in PERCENT (annual-effective).\n",
    "    \"\"\"\n",
    "    if curve_df_zero is None or curve_df_zero.empty:\n",
    "        return pd.DataFrame()\n",
    "\n",
    "    # --- parse maturities to numeric years ---\n",
    "    def to_year(col):\n",
    "        if isinstance(col, (int, float, np.integer, np.floating)):\n",
    "            return float(col)\n",
    "        m = re.fullmatch(r\"\\s*(\\d+(?:\\.\\d+)?)\\s*[Yy]\\s*\", str(col))\n",
    "        if m:\n",
    "            return float(m.group(1))\n",
    "        raise ValueError(f\"Cannot parse maturity column '{col}' into years.\")\n",
    "\n",
    "    df = curve_df_zero.copy()\n",
    "    df.columns = pd.Index([to_year(c) for c in df.columns], name=\"MaturityYears\")\n",
    "    df = df.sort_index().sort_index(axis=1)\n",
    "\n",
    "    # % -> decimal\n",
    "    df_dec = df / 100.0\n",
    "\n",
    "    # discount factor from zero under comp convention\n",
    "    def DF(s, T):\n",
    "        if comp == \"annual\":\n",
    "            return 1.0 / ((1.0 + s) ** T)\n",
    "        elif comp == \"semiannual\":\n",
    "            m = 2\n",
    "            return 1.0 / ((1.0 + s/m) ** (m*T))\n",
    "        elif comp == \"continuous\":\n",
    "            return np.exp(-s * T)\n",
    "        else:\n",
    "            raise ValueError(\"comp must be 'annual', 'semiannual', or 'continuous'.\")\n",
    "\n",
    "    n = float(horizon_years)\n",
    "    orig_mats = np.array(df_dec.columns, dtype=float)\n",
    "\n",
    "    # Ensure columns for t+n exist; interpolate across columns using column values as x\n",
    "    if interpolate_missing:\n",
    "        target_cols = sorted(set(orig_mats) | {t + n for t in orig_mats})\n",
    "        # Reindex columns to include t+n points; columns must be numeric and sorted\n",
    "        df_dec = df_dec.reindex(columns=target_cols)\n",
    "        # Interpolate along maturity dimension using column values as x\n",
    "        # (no extrapolation beyond min/max)\n",
    "        try:\n",
    "            df_dec = df_dec.interpolate(method=\"index\", axis=1, limit_area=\"inside\")\n",
    "        except TypeError:\n",
    "            # Older pandas may not support limit_area; still okay without it\n",
    "            df_dec = df_dec.interpolate(method=\"index\", axis=1)\n",
    "\n",
    "    mats = np.array(df_dec.columns, dtype=float)\n",
    "    starts = [t for t in mats if (t + n) in mats]\n",
    "\n",
    "    if not starts:\n",
    "        return pd.DataFrame(index=df_dec.index)  # empty but not None\n",
    "\n",
    "    # compute forwards date-by-date\n",
    "    out_rows = []\n",
    "    for date, row in df_dec.iterrows():\n",
    "        fwd_vals = {}\n",
    "        for t in starts:\n",
    "            s_t  = row[t]\n",
    "            s_tn = row[t + n]\n",
    "            if pd.isna(s_t) or pd.isna(s_tn):\n",
    "                continue\n",
    "            DF_t  = DF(s_t,  t)\n",
    "            DF_tn = DF(s_tn, t + n)\n",
    "            f_eff = (DF_t / DF_tn) ** (1.0 / n) - 1.0  # annual effective\n",
    "            fwd_vals[float(t)] = 100.0 * f_eff         # back to percent\n",
    "        out_rows.append(pd.Series(fwd_vals, name=date))\n",
    "\n",
    "    fwd_df = pd.DataFrame(out_rows).sort_index()\n",
    "    fwd_df.columns.name = f\"StartYear_fwd_{n:g}y\"\n",
    "    return fwd_df\n"
   ]
  },
  {
   "cell_type": "code",
   "execution_count": 83,
   "id": "fc8ad466",
   "metadata": {},
   "outputs": [
    {
     "data": {
      "application/vnd.plotly.v1+json": {
       "config": {
        "plotlyServerURL": "https://plot.ly"
       },
       "data": [
        {
         "mode": "lines+markers",
         "name": "1.0Y forward",
         "type": "scatter",
         "x": [
          1,
          2,
          3,
          4,
          5,
          6,
          7,
          10,
          20
         ],
         "y": [
          1.5100009849305929,
          1.519999999999988,
          1.6000236437669901,
          1.6400394011024444,
          1.890447102965731,
          2.0006257180217313,
          1.9102480070534833,
          2.1015198833965076,
          2.385463348743899
         ]
        }
       ],
       "frames": [
        {
         "data": [
          {
           "mode": "lines+markers",
           "type": "scatter",
           "x": [
            1,
            2,
            3,
            4,
            5,
            6,
            7,
            10,
            20
           ],
           "y": [
            1.5100009849305929,
            1.519999999999988,
            1.6000236437669901,
            1.6400394011024444,
            1.890447102965731,
            2.0006257180217313,
            1.9102480070534833,
            2.1015198833965076,
            2.385463348743899
           ]
          }
         ],
         "name": "2020-01-01"
        },
        {
         "data": [
          {
           "mode": "lines+markers",
           "type": "scatter",
           "x": [
            1,
            2,
            3,
            4,
            5,
            6,
            7,
            10,
            20
           ],
           "y": [
            1.2500631101469706,
            1.2700118417156903,
            1.330001480652765,
            1.3400024676735178,
            1.6203703581072926,
            1.7205183306699956,
            1.6335297599269882,
            1.8415212163380934,
            2.1465285683739177
           ]
          }
         ],
         "name": "2020-02-01"
        },
        {
         "data": [
          {
           "mode": "lines+markers",
           "type": "scatter",
           "x": [
            1,
            2,
            3,
            4,
            5,
            6,
            7,
            10,
            20
           ],
           "y": [
            0.5701435263629762,
            0.6000746764001752,
            0.6801209316146695,
            0.7702014925171419,
            1.1613475056171163,
            1.3518853187768798,
            1.0202501985369983,
            1.299830297484461,
            1.6808305863074136
           ]
          }
         ],
         "name": "2020-03-01"
        },
        {
         "data": [
          {
           "mode": "lines+markers",
           "type": "scatter",
           "x": [
            1,
            2,
            3,
            4,
            5,
            6,
            7,
            10,
            20
           ],
           "y": [
            0.2600159712517369,
            0.4001077844268286,
            0.5001810594069456,
            0.6103016553196561,
            0.8709572872115823,
            1.0313394894376104,
            0.8437079918304669,
            1.1008752731077598,
            1.5019175934438467
           ]
          }
         ],
         "name": "2020-04-01"
        },
        {
         "data": [
          {
           "mode": "lines+markers",
           "type": "scatter",
           "x": [
            1,
            2,
            3,
            4,
            5,
            6,
            7,
            10,
            20
           ],
           "y": [
            0.180000998402563,
            0.3200748851739599,
            0.4602156118771017,
            0.5803592096743193,
            0.911350867205063,
            1.1018900190603587,
            0.9039404597948941,
            1.1661078224812105,
            1.667406165341867
           ]
          }
         ],
         "name": "2020-05-01"
        },
        {
         "data": [
          {
           "mode": "lines+markers",
           "type": "scatter",
           "x": [
            1,
            2,
            3,
            4,
            5,
            6,
            7,
            10,
            20
           ],
           "y": [
            0.20000099820323136,
            0.2800269514870335,
            0.4602156118771017,
            0.5803592096743193,
            0.971650447694361,
            1.1823090128494806,
            1.0310036836213676,
            1.3255947404889001,
            1.7330050358371984
           ]
          }
         ],
         "name": "2020-06-01"
        },
        {
         "data": [
          {
           "mode": "lines+markers",
           "type": "scatter",
           "x": [
            1,
            2,
            3,
            4,
            5,
            6,
            7,
            10,
            20
           ],
           "y": [
            0.15000000000000568,
            0.2100119828245539,
            0.3901812583070985,
            0.5003019865771563,
            0.8212130583447275,
            1.0016972644962152,
            0.8874603065798015,
            1.1382091573398645,
            1.5530068278635012
           ]
          }
         ],
         "name": "2020-07-01"
        },
        {
         "data": [
          {
           "mode": "lines+markers",
           "type": "scatter",
           "x": [
            1,
            2,
            3,
            4,
            5,
            6,
            7,
            10,
            20
           ],
           "y": [
            0.1500009987017048,
            0.2000119840212422,
            0.38018127641059607,
            0.4903020167275729,
            0.8413518114573693,
            1.03189133934245,
            0.967786045843555,
            1.1903139399418006,
            1.603006329437262
           ]
          }
         ],
         "name": "2020-08-01"
        },
        {
         "data": [
          {
           "mode": "lines+markers",
           "type": "scatter",
           "x": [
            1,
            2,
            3,
            4,
            5,
            6,
            7,
            10,
            20
           ],
           "y": [
            0.1300000000000079,
            0.22002696763856466,
            0.38018127641059607,
            0.4903020167275729,
            0.8413518114573693,
            1.03189133934245,
            1.0481677398765044,
            1.2645369412496832,
            1.6519162317208291
           ]
          }
         ],
         "name": "2020-09-01"
        },
        {
         "data": [
          {
           "mode": "lines+markers",
           "type": "scatter",
           "x": [
            1,
            2,
            3,
            4,
            5,
            6,
            7,
            10,
            20
           ],
           "y": [
            0.17000399480675554,
            0.2700479344886597,
            0.490337028108101,
            0.6405614331196352,
            0.971650447694361,
            1.1823090128494806,
            1.1917850366527372,
            1.396653414669502,
            1.8240977880853881
           ]
          }
         ],
         "name": "2020-10-01"
        },
        {
         "data": [
          {
           "mode": "lines+markers",
           "type": "scatter",
           "x": [
            1,
            2,
            3,
            4,
            5,
            6,
            7,
            10,
            20
           ],
           "y": [
            0.220024970035948,
            0.3200748851739599,
            0.5604327930180952,
            0.7307209137302095,
            1.1121550410018832,
            1.3530146497869877,
            1.2717836153066209,
            1.4545340416820762,
            1.8630037455577009
           ]
          }
         ],
         "name": "2020-11-01"
        },
        {
         "data": [
          {
           "mode": "lines+markers",
           "type": "scatter",
           "x": [
            1,
            2,
            3,
            4,
            5,
            6,
            7,
            10,
            20
           ],
           "y": [
            0.18001598401602426,
            0.29007490761183696,
            0.5905992607456056,
            0.7909981031066327,
            1.2027280173123822,
            1.4738157949292674,
            1.3822571628937297,
            1.525591575321883,
            1.890828865198002
           ]
          }
         ],
         "name": "2020-12-01"
        },
        {
         "data": [
          {
           "mode": "lines+markers",
           "type": "scatter",
           "x": [
            1,
            2,
            3,
            4,
            5,
            6,
            7,
            10,
            20
           ],
           "y": [
            0.16000899100900856,
            0.3401468433590793,
            0.7009364071195456,
            0.9515593800259126,
            1.413830925883408,
            1.7353575904607732,
            1.5996396916780453,
            1.686648663250967,
            2.0297468251218254
           ]
          }
         ],
         "name": "2021-01-01"
        },
        {
         "data": [
          {
           "mode": "lines+markers",
           "type": "scatter",
           "x": [
            1,
            2,
            3,
            4,
            5,
            6,
            7,
            10,
            20
           ],
           "y": [
            0.1700249825122624,
            0.3902427814748366,
            0.8716318669020895,
            1.202716791055658,
            1.6551187215342322,
            2.0271574004793402,
            1.8471188216477419,
            1.9440917324115015,
            2.216528204842727
           ]
          }
         ],
         "name": "2021-02-01"
        },
        {
         "data": [
          {
           "mode": "lines+markers",
           "type": "scatter",
           "x": [
            1,
            2,
            3,
            4,
            5,
            6,
            7,
            10,
            20
           ],
           "y": [
            0.22004896083136494,
            0.6608661912772318,
            1.3237442523376775,
            1.8262300445086366,
            2.1775544374305733,
            2.6305604362974133,
            2.1802259689524206,
            2.3051523624075587,
            2.450205526353022
           ]
          }
         ],
         "name": "2021-03-01"
        },
        {
         "data": [
          {
           "mode": "lines+markers",
           "type": "scatter",
           "x": [
            1,
            2,
            3,
            4,
            5,
            6,
            7,
            10,
            20
           ],
           "y": [
            0.260099940035996,
            0.7310819536784363,
            1.3738944829256416,
            1.8864797997705907,
            2.2175514325065704,
            2.6705562419495177,
            2.193351463048443,
            2.2576997776988517,
            2.4102056068437516
           ]
          }
         ],
         "name": "2021-04-01"
        },
        {
         "data": [
          {
           "mode": "lines+markers",
           "type": "scatter",
           "x": [
            1,
            2,
            3,
            4,
            5,
            6,
            7,
            10,
            20
           ],
           "y": [
            0.2701209395302495,
            0.6407671814553595,
            1.3237442523376775,
            1.8262300445086366,
            2.2078944429854364,
            2.671035366708985,
            2.1902256167335876,
            2.2819518906991743,
            2.430205566590482
           ]
          }
         ],
         "name": "2021-05-01"
        },
        {
         "data": [
          {
           "mode": "lines+markers",
           "type": "scatter",
           "x": [
            1,
            2,
            3,
            4,
            5,
            6,
            7,
            10,
            20
           ],
           "y": [
            0.3301688817827664,
            0.7710815214879707,
            1.2930302232221358,
            1.7450428203197532,
            2.0156708424861502,
            2.4079289215050315,
            2.005922928720061,
            2.1487631632348902,
            2.237100837201389
           ]
          }
         ],
         "name": "2021-06-01"
        },
        {
         "data": [
          {
           "mode": "lines+markers",
           "type": "scatter",
           "x": [
            1,
            2,
            3,
            4,
            5,
            6,
            7,
            10,
            20
           ],
           "y": [
            0.3601958433253394,
            0.7609704469365264,
            1.1219385702663232,
            1.4832270864583164,
            1.693583912373131,
            2.005012322491484,
            1.7385937015764519,
            1.926644751644968,
            2.0171010550657176
           ]
          }
         ],
         "name": "2021-07-01"
        },
        {
         "data": [
          {
           "mode": "lines+markers",
           "type": "scatter",
           "x": [
            1,
            2,
            3,
            4,
            5,
            6,
            7,
            10,
            20
           ],
           "y": [
            0.3702248426101784,
            0.8211981622868514,
            1.1218319415593703,
            1.4730496866754539,
            1.6431356625915106,
            1.9343857094050065,
            1.6481588149657167,
            1.8866454022900214,
            2.0191671366515784
           ]
          }
         ],
         "name": "2021-08-01"
        },
        {
         "data": [
          {
           "mode": "lines+markers",
           "type": "scatter",
           "x": [
            1,
            2,
            3,
            4,
            5,
            6,
            7,
            10,
            20
           ],
           "y": [
            0.40025579536371314,
            0.9315844112000038,
            1.252273766803702,
            1.6437847047423126,
            1.7633528652728936,
            2.0646893493400764,
            1.7213581459247118,
            1.9213584261952077,
            2.0171010550657176
           ]
          }
         ],
         "name": "2021-09-01"
        },
        {
         "data": [
          {
           "mode": "lines+markers",
           "type": "scatter",
           "x": [
            1,
            2,
            3,
            4,
            5,
            6,
            7,
            10,
            20
           ],
           "y": [
            0.6707831385475815,
            1.2323450410120174,
            1.5528888776842553,
            1.9948077763712435,
            1.9831250982130566,
            2.2743709476469975,
            1.880995260140117,
            2.076097884906525,
            2.0930185274134594
           ]
          }
         ],
         "name": "2021-10-01"
        },
        {
         "data": [
          {
           "mode": "lines+markers",
           "type": "scatter",
           "x": [
            1,
            2,
            3,
            4,
            5,
            6,
            7,
            10,
            20
           ],
           "y": [
            0.8410870433220419,
            1.442871320250383,
            1.5821510836813601,
            1.9635806324181937,
            1.9523197761940336,
            2.2032450085120114,
            1.7437046656950894,
            2.011911451982429,
            1.9070185314101318
           ]
          }
         ],
         "name": "2021-11-01"
        },
        {
         "data": [
          {
           "mode": "lines+markers",
           "type": "scatter",
           "x": [
            1,
            2,
            3,
            4,
            5,
            6,
            7,
            10,
            20
           ],
           "y": [
            1.0614396809571325,
            1.4921741706455993,
            1.5111660105476377,
            1.791941553361398,
            1.7410717811819243,
            1.9114996528846406,
            1.5868170755652056,
            1.9440034926155647,
            1.7950515050920712
           ]
          }
         ],
         "name": "2021-12-01"
        },
        {
         "data": [
          {
           "mode": "lines+markers",
           "type": "scatter",
           "x": [
            1,
            2,
            3,
            4,
            5,
            6,
            7,
            10,
            20
           ],
           "y": [
            1.4118388861263043,
            1.7921677056821572,
            1.8312471158777655,
            2.1220765410842057,
            2.020946433982296,
            2.1813243109833236,
            1.860110171152507,
            2.1898230272923813,
            2.045051379078089
           ]
          }
         ],
         "name": "2022-01-01"
        },
        {
         "data": [
          {
           "mode": "lines+markers",
           "type": "scatter",
           "x": [
            1,
            2,
            3,
            4,
            5,
            6,
            7,
            10,
            20
           ],
           "y": [
            1.8819168316831725,
            2.071305119236455,
            1.970377965091341,
            2.130629611216861,
            2.1103685744483736,
            2.2105158351874543,
            1.963345546141415,
            2.348780034246345,
            2.1840738656320413
           ]
          }
         ],
         "name": "2022-02-01"
        },
        {
         "data": [
          {
           "mode": "lines+markers",
           "type": "scatter",
           "x": [
            1,
            2,
            3,
            4,
            5,
            6,
            7,
            10,
            20
           ],
           "y": [
            2.4832060390763466,
            2.450954344293632,
            2.130005877550989,
            2.1500097952785957,
            2.2300587755085477,
            2.2700822749646576,
            2.0966788475969222,
            2.5487785050086087,
            2.3002047315515695
           ]
          }
         ],
         "name": "2022-03-01"
        },
        {
         "data": [
          {
           "mode": "lines+markers",
           "type": "scatter",
           "x": [
            1,
            2,
            3,
            4,
            5,
            6,
            7,
            10,
            20
           ],
           "y": [
            3.194146628717265,
            3.080948477427059,
            2.8400525803297993,
            2.9000876168186807,
            2.8400145961724688,
            2.860020433315813,
            2.6667423014557157,
            3.014308537318766,
            2.6126599159672415
           ]
          }
         ],
         "name": "2022-04-01"
        },
        {
         "data": [
          {
           "mode": "lines+markers",
           "type": "scatter",
           "x": [
            1,
            2,
            3,
            4,
            5,
            6,
            7,
            10,
            20
           ],
           "y": [
            3.183072702331957,
            3.1308453310822326,
            2.9500934185305416,
            3.0301556571532773,
            3.0200911639775896,
            3.0701276088844542,
            2.8666787564765928,
            3.2966934389233593,
            2.8617333113350796
           ]
          }
         ],
         "name": "2022-05-01"
        },
        {
         "data": [
          {
           "mode": "lines+markers",
           "type": "scatter",
           "x": [
            1,
            2,
            3,
            4,
            5,
            6,
            7,
            10,
            20
           ],
           "y": [
            3.3511933755479895,
            3.450655657931967,
            3.230023270094451,
            3.2700387784772023,
            3.2500145381706647,
            3.270020352123848,
            3.023480969740455,
            3.514617053701108,
            2.9980720310899933
           ]
          }
         ],
         "name": "2022-06-01"
        },
        {
         "data": [
          {
           "mode": "lines+markers",
           "type": "scatter",
           "x": [
            1,
            2,
            3,
            4,
            5,
            6,
            7,
            10,
            20
           ],
           "y": [
            3.0600038827412357,
            3.010002911396481,
            2.890071322290355,
            2.8201188974017244,
            2.9900036424269194,
            3.0000050992327276,
            2.7834813136919268,
            3.396083782766657,
            2.826268012987354
           ]
          }
         ],
         "name": "2022-07-01"
        },
        {
         "data": [
          {
           "mode": "lines+markers",
           "type": "scatter",
           "x": [
            1,
            2,
            3,
            4,
            5,
            6,
            7,
            10,
            20
           ],
           "y": [
            3.220008714175071,
            3.1900116215255903,
            2.8305808511185138,
            2.6309687101910173,
            2.88009096348103,
            2.8301273694683493,
            2.7668599158654494,
            3.396083782766657,
            2.8889821296872897
           ]
          }
         ],
         "name": "2022-08-01"
        },
        {
         "data": [
          {
           "mode": "lines+markers",
           "type": "scatter",
           "x": [
            1,
            2,
            3,
            4,
            5,
            6,
            7,
            10,
            20
           ],
           "y": [
            3.8300086630089547,
            3.9200115547566527,
            3.520467577351094,
            3.3407797455676125,
            3.520130133016397,
            3.460182221348296,
            3.3204319320285336,
            3.850478584429462,
            3.275365200287461
           ]
          }
         ],
         "name": "2022-09-01"
        },
        {
         "data": [
          {
           "mode": "lines+markers",
           "type": "scatter",
           "x": [
            1,
            2,
            3,
            4,
            5,
            6,
            7,
            10,
            20
           ],
           "y": [
            4.330023939481009,
            4.379999999999984,
            3.9805744557162015,
            3.7809580374981833,
            3.9102913948157125,
            3.820408070158132,
            3.797028064830865,
            4.310476465373236,
            3.7771582649544833
           ]
          }
         ],
         "name": "2022-10-01"
        },
        {
         "data": [
          {
           "mode": "lines+markers",
           "type": "scatter",
           "x": [
            1,
            2,
            3,
            4,
            5,
            6,
            7,
            10,
            20
           ],
           "y": [
            4.270505108373923,
            4.02073455314671,
            3.7811260766793975,
            3.5018784725252106,
            3.8501765016493827,
            3.7802471576952046,
            3.723632315679404,
            4.253577072981929,
            3.7589739420923918
           ]
          }
         ],
         "name": "2022-11-01"
        },
        {
         "data": [
          {
           "mode": "lines+markers",
           "type": "scatter",
           "x": [
            1,
            2,
            3,
            4,
            5,
            6,
            7,
            10,
            20
           ],
           "y": [
            3.9014529996178826,
            3.5716556472005445,
            3.471211271911301,
            3.182020661177387,
            3.640057810892494,
            3.6000809456473215,
            3.4536330934787696,
            3.8953319812062848,
            3.429890454660911
           ]
          }
         ],
         "name": "2022-12-01"
        },
        {
         "data": [
          {
           "mode": "lines+markers",
           "type": "scatter",
           "x": [
            1,
            2,
            3,
            4,
            5,
            6,
            7,
            10,
            20
           ],
           "y": [
            3.732200783264905,
            3.3125884359253455,
            3.371051441814954,
            3.101753920180439,
            3.4900904282641365,
            3.4401266199231006,
            3.4301080768057046,
            3.838416835745573,
            3.4954547422023863
           ]
          }
         ],
         "name": "2023-01-01"
        },
        {
         "data": [
          {
           "mode": "lines+markers",
           "type": "scatter",
           "x": [
            1,
            2,
            3,
            4,
            5,
            6,
            7,
            10,
            20
           ],
           "y": [
            4.1315248260745285,
            3.6325805194771688,
            3.6512091820457115,
            3.3620171716033154,
            3.7002307839979487,
            3.620323180453422,
            3.5670288645891945,
            3.970212170870302,
            3.635454130314475
           ]
          }
         ],
         "name": "2023-02-01"
        },
        {
         "data": [
          {
           "mode": "lines+markers",
           "type": "scatter",
           "x": [
            1,
            2,
            3,
            4,
            5,
            6,
            7,
            10,
            20
           ],
           "y": [
            3.921379442109263,
            3.6712676050628446,
            3.551049625157754,
            3.281750887179191,
            3.6700902715326666,
            3.620126400428525,
            3.4770291785023,
            3.968416312568168,
            3.5835832901699227
           ]
          }
         ],
         "name": "2023-03-01"
        },
        {
         "data": [
          {
           "mode": "lines+markers",
           "type": "scatter",
           "x": [
            1,
            2,
            3,
            4,
            5,
            6,
            7,
            10,
            20
           ],
           "y": [
            3.364161253343534,
            3.241948000696948,
            3.3206991972135613,
            3.101166152003887,
            3.4200579336963077,
            3.380081117617184,
            3.393381415415142,
            3.8346151432823827,
            3.548291116285629
           ]
          }
         ],
         "name": "2023-04-01"
        },
        {
         "data": [
          {
           "mode": "lines+markers",
           "type": "scatter",
           "x": [
            1,
            2,
            3,
            4,
            5,
            6,
            7,
            10,
            20
           ],
           "y": [
            3.355799256505576,
            3.202765907093985,
            3.360763739352901,
            3.1312738385547823,
            3.56000361980755,
            3.5500050678937356,
            3.553336336722901,
            3.9998086277281297,
            3.750201877762205
           ]
          }
         ],
         "name": "2023-05-01"
        },
        {
         "data": [
          {
           "mode": "lines+markers",
           "type": "scatter",
           "x": [
            1,
            2,
            3,
            4,
            5,
            6,
            7,
            10,
            20
           ],
           "y": [
            4.043420752565563,
            3.533920259277612,
            3.631471592306035,
            3.312455161581074,
            3.6503605190826516,
            3.550504888474171,
            3.583632718478258,
            4.069446205388005,
            3.683582730109558
           ]
          }
         ],
         "name": "2023-06-01"
        },
        {
         "data": [
          {
           "mode": "lines+markers",
           "type": "scatter",
           "x": [
            1,
            2,
            3,
            4,
            5,
            6,
            7,
            10,
            20
           ],
           "y": [
            4.292767391098029,
            3.753704616393816,
            3.811561961052634,
            3.4826060080386245,
            3.8104354048441813,
            3.700609781271913,
            3.6838383222634663,
            4.175331085904488,
            3.7517270521565615
           ]
          }
         ],
         "name": "2023-07-01"
        },
        {
         "data": [
          {
           "mode": "lines+markers",
           "type": "scatter",
           "x": [
            1,
            2,
            3,
            4,
            5,
            6,
            7,
            10,
            20
           ],
           "y": [
            4.432096422131537,
            3.972745624458751,
            4.031123387436697,
            3.7518739824469183,
            4.16008984761449,
            4.11012580675274,
            4.020241564387228,
            4.489444404842535,
            4.082650639514163
           ]
          }
         ],
         "name": "2023-08-01"
        },
        {
         "data": [
          {
           "mode": "lines+markers",
           "type": "scatter",
           "x": [
            1,
            2,
            3,
            4,
            5,
            6,
            7,
            10,
            20
           ],
           "y": [
            4.601672989377836,
            4.182237583061799,
            4.2408943615885875,
            3.9914917881284095,
            4.400032293559963,
            4.370045215309926,
            4.246857179288677,
            4.67738442355099,
            4.27264945951511
           ]
          }
         ],
         "name": "2023-09-01"
        },
        {
         "data": [
          {
           "mode": "lines+markers",
           "type": "scatter",
           "x": [
            1,
            2,
            3,
            4,
            5,
            6,
            7,
            10,
            20
           ],
           "y": [
            4.721162018592295,
            4.530924569279016,
            4.650205851501377,
            4.530343216647048,
            4.920089510196135,
            4.970125294334382,
            4.766678537360836,
            5.163572057403054,
            4.7526464974430915
           ]
          }
         ],
         "name": "2023-10-01"
        },
        {
         "data": [
          {
           "mode": "lines+markers",
           "type": "scatter",
           "x": [
            1,
            2,
            3,
            4,
            5,
            6,
            7,
            10,
            20
           ],
           "y": [
            4.481519756838903,
            4.1616463405055315,
            4.340322380315076,
            4.190537557201246,
            4.610057436419424,
            4.650080400724121,
            4.450026781443928,
            4.874609015304787,
            4.462648283788395
           ]
          }
         ],
         "name": "2023-11-01"
        },
        {
         "data": [
          {
           "mode": "lines+markers",
           "type": "scatter",
           "x": [
            1,
            2,
            3,
            4,
            5,
            6,
            7,
            10,
            20
           ],
           "y": [
            3.962381859756081,
            3.652091820541936,
            3.8105194077327376,
            3.6208662056093965,
            4.120057707102709,
            4.160080779583786,
            3.9866786263453857,
            4.350476281993987,
            3.9426515117350514
           ]
          }
         ],
         "name": "2023-12-01"
        },
        {
         "data": [
          {
           "mode": "lines+markers",
           "type": "scatter",
           "x": [
            1,
            2,
            3,
            4,
            5,
            6,
            7,
            10,
            20
           ],
           "y": [
            3.8521080255749407,
            3.691267362203554,
            3.850243391127761,
            3.7204058206873336,
            4.130090190478186,
            4.180126246424964,
            4.11002692048803,
            4.42357612933606,
            4.117339707102263
           ]
          }
         ],
         "name": "2024-01-01"
        },
        {
         "data": [
          {
           "mode": "lines+markers",
           "type": "scatter",
           "x": [
            1,
            2,
            3,
            4,
            5,
            6,
            7,
            10,
            20
           ],
           "y": [
            4.161376286694662,
            3.9112646968805675,
            4.0502816721137425,
            3.9104696634617575,
            4.25001439861763,
            4.270020156774712,
            4.210000000000025,
            4.518414113580249,
            4.259243019106496
           ]
          }
         ],
         "name": "2024-02-01"
        },
        {
         "data": [
          {
           "mode": "lines+markers",
           "type": "scatter",
           "x": [
            1,
            2,
            3,
            4,
            5,
            6,
            7,
            10,
            20
           ],
           "y": [
            4.191523954662357,
            3.9612640926881326,
            4.020465338854495,
            3.8407760104413047,
            4.230003599078569,
            4.240005038548955,
            4.210000000000025,
            4.4853301002933055,
            4.250200912055702
           ]
          }
         ],
         "name": "2024-03-01"
        },
        {
         "data": [
          {
           "mode": "lines+markers",
           "type": "scatter",
           "x": [
            1,
            2,
            3,
            4,
            5,
            6,
            7,
            10,
            20
           ],
           "y": [
            4.600693361232633,
            4.390731962831285,
            4.410322164902558,
            4.260537197837522,
            4.5600000000000085,
            4.5600000000000085,
            4.5066785668748555,
            4.793278498298736,
            4.539242370064178
           ]
          }
         ],
         "name": "2024-04-01"
        },
        {
         "data": [
          {
           "mode": "lines+markers",
           "type": "scatter",
           "x": [
            1,
            2,
            3,
            4,
            5,
            6,
            7,
            10,
            20
           ],
           "y": [
            4.5608558387219444,
            4.26114365542436,
            4.340366715417732,
            4.180611503738585,
            4.470003588287885,
            4.460005023763092,
            4.463336310568122,
            4.733278658338302,
            4.521162360271425
           ]
          }
         ],
         "name": "2024-05-01"
        },
        {
         "data": [
          {
           "mode": "lines+markers",
           "type": "scatter",
           "x": [
            1,
            2,
            3,
            4,
            5,
            6,
            7,
            10,
            20
           ],
           "y": [
            4.37130244505759,
            4.02164853939313,
            4.140464804800992,
            3.960775119329396,
            4.260014376996701,
            4.240020129081534,
            4.326669649705939,
            4.563279112784535,
            4.330200758398961
           ]
          }
         ],
         "name": "2024-06-01"
        },
        {
         "data": [
          {
           "mode": "lines+markers",
           "type": "scatter",
           "x": [
            1,
            2,
            3,
            4,
            5,
            6,
            7,
            10,
            20
           ],
           "y": [
            4.101525262154415,
            3.8712651806506404,
            4.030242971219766,
            3.900405120258843,
            4.250032408295956,
            4.280045367257768,
            4.350107537199999,
            4.591507454957133,
            4.350200720022057
           ]
          }
         ],
         "name": "2024-07-01"
        },
        {
         "data": [
          {
           "mode": "lines+markers",
           "type": "scatter",
           "x": [
            1,
            2,
            3,
            4,
            5,
            6,
            7,
            10,
            20
           ],
           "y": [
            3.512026237671173,
            3.430934345550618,
            3.6300924706977655,
            3.5501541574217477,
            3.8901302208848243,
            3.9501822740692694,
            4.036966667691622,
            4.288765449401266,
            4.040201316524827
           ]
          }
         ],
         "name": "2024-08-01"
        },
        {
         "data": [
          {
           "mode": "lines+markers",
           "type": "scatter",
           "x": [
            1,
            2,
            3,
            4,
            5,
            6,
            7,
            10,
            20
           ],
           "y": [
            3.2116158800346017,
            3.290350194508651,
            3.490001449088709,
            3.480002415225525,
            3.8003625523029383,
            3.900507409662235,
            3.920432766518278,
            4.138766557612361,
            3.9740725959757306
           ]
          }
         ],
         "name": "2024-09-01"
        },
        {
         "data": [
          {
           "mode": "lines+markers",
           "type": "scatter",
           "x": [
            1,
            2,
            3,
            4,
            5,
            6,
            7,
            10,
            20
           ],
           "y": [
            3.7405076775431922,
            3.7601413552079244,
            3.920001443742227,
            3.930002406159705,
            4.1502310876905035,
            4.2303234397028655,
            4.283695589346959,
            4.474611357714875,
            4.314072359728538
           ]
          }
         ],
         "name": "2024-10-01"
        },
        {
         "data": [
          {
           "mode": "lines+markers",
           "type": "scatter",
           "x": [
            1,
            2,
            3,
            4,
            5,
            6,
            7,
            10,
            20
           ],
           "y": [
            4.190046966356764,
            4.110071924046377,
            4.250005757973163,
            4.2700095960080064,
            4.410129570967736,
            4.47018136453563,
            4.476812905690397,
            4.657384497280792,
            4.441162484344363
           ]
          }
         ],
         "name": "2024-11-01"
        },
        {
         "data": [
          {
           "mode": "lines+markers",
           "type": "scatter",
           "x": [
            1,
            2,
            3,
            4,
            5,
            6,
            7,
            10,
            20
           ],
           "y": [
            4.23,
            4.200002878157982,
            4.280012954610757,
            4.310021588946267,
            4.460176337913624,
            4.530246817801942,
            4.506812863616805,
            4.687384386696691,
            4.492128353677316
           ]
          }
         ],
         "name": "2024-12-01"
        },
        {
         "data": [
          {
           "mode": "lines+markers",
           "type": "scatter",
           "x": [
            1,
            2,
            3,
            4,
            5,
            6,
            7,
            10,
            20
           ],
           "y": [
            4.360077750047964,
            4.450103597118482,
            4.530143820502874,
            4.630239624241628,
            4.730359321536692,
            4.830502889491606,
            4.796964485101007,
            4.949442449416219,
            4.773098033295109
           ]
          }
         ],
         "name": "2025-01-01"
        },
        {
         "data": [
          {
           "mode": "lines+markers",
           "type": "scatter",
           "x": [
            1,
            2,
            3,
            4,
            5,
            6,
            7,
            10,
            20
           ],
           "y": [
            4.2300038391400285,
            4.2400028788945,
            4.340051823415281,
            4.40008635578224,
            4.550291450735022,
            4.64040791358471,
            4.583524205125866,
            4.758413161285313,
            4.625050113749185
           ]
          }
         ],
         "name": "2025-02-01"
        },
        {
         "data": [
          {
           "mode": "lines+markers",
           "type": "scatter",
           "x": [
            1,
            2,
            3,
            4,
            5,
            6,
            7,
            10,
            20
           ],
           "y": [
            3.880077839707874,
            3.940002885355254,
            4.120092366898054,
            4.20015390533679,
            4.400519430415728,
            4.520726922808471,
            4.480430438029193,
            4.665646748041419,
            4.56701806037314
           ]
          }
         ],
         "name": "2025-03-01"
        },
        {
         "data": [
          {
           "mode": "lines+markers",
           "type": "scatter",
           "x": [
            1,
            2,
            3,
            4,
            5,
            6,
            7,
            10,
            20
           ],
           "y": [
            3.6102780182780236,
            3.780000000000028,
            4.040244368727586,
            4.170407111116892,
            4.42104410813009,
            4.591460953465432,
            4.614530527738525,
            4.7871175119738485,
            4.677018041408765
           ]
          }
         ],
         "name": "2025-04-01"
        },
        {
         "data": [
          {
           "mode": "lines+markers",
           "type": "scatter",
           "x": [
            1,
            2,
            3,
            4,
            5,
            6,
            7,
            10,
            20
           ],
           "y": [
            3.750277644346234,
            3.8600115466033147,
            4.140207972251142,
            4.260346486948974,
            4.621443880113385,
            4.822020135167482,
            4.7545289174743655,
            4.971318690949178,
            4.878008005133605
           ]
          }
         ],
         "name": "2025-05-01"
        },
        {
         "data": [
          {
           "mode": "lines+markers",
           "type": "scatter",
           "x": [
            1,
            2,
            3,
            4,
            5,
            6,
            7,
            10,
            20
           ],
           "y": [
            3.7202777243897645,
            3.8000259865252684,
            4.060144471545835,
            4.160240708618446,
            4.56144471451061,
            4.76202130182426,
            4.7481143432368755,
            4.953426925555315,
            4.879002001786059
           ]
          }
         ],
         "name": "2025-06-01"
        },
        {
         "data": [
          {
           "mode": "lines+markers",
           "type": "scatter",
           "x": [
            1,
            2,
            3,
            4,
            5,
            6,
            7,
            10,
            20
           ],
           "y": [
            3.6803843197540376,
            3.7600462012312708,
            4.060174849862763,
            4.170291313518515,
            4.551444853670583,
            4.7520214963980845,
            4.791723241091983,
            4.974482235422495,
            4.919999999999991
           ]
          }
         ],
         "name": "2025-07-01"
        },
        {
         "data": [
          {
           "mode": "lines+markers",
           "type": "scatter",
           "x": [
            1,
            2,
            3,
            4,
            5,
            6,
            7,
            10,
            20
           ],
           "y": [
            3.510347482914611,
            3.6100260341333845,
            3.9102084338318743,
            4.030347255657096,
            4.421595512476584,
            4.632232209186493,
            4.6953589294389975,
            4.910839443672321,
            4.892008012412652
           ]
          }
         ],
         "name": "2025-08-01"
        }
       ],
       "layout": {
        "height": 700,
        "sliders": [
         {
          "currentvalue": {
           "prefix": "Date: "
          },
          "steps": [
           {
            "args": [
             [
              "2020-01-01"
             ],
             {
              "frame": {
               "duration": 0,
               "redraw": true
              },
              "mode": "immediate"
             }
            ],
            "label": "2020-01-01",
            "method": "animate"
           },
           {
            "args": [
             [
              "2020-02-01"
             ],
             {
              "frame": {
               "duration": 0,
               "redraw": true
              },
              "mode": "immediate"
             }
            ],
            "label": "2020-02-01",
            "method": "animate"
           },
           {
            "args": [
             [
              "2020-03-01"
             ],
             {
              "frame": {
               "duration": 0,
               "redraw": true
              },
              "mode": "immediate"
             }
            ],
            "label": "2020-03-01",
            "method": "animate"
           },
           {
            "args": [
             [
              "2020-04-01"
             ],
             {
              "frame": {
               "duration": 0,
               "redraw": true
              },
              "mode": "immediate"
             }
            ],
            "label": "2020-04-01",
            "method": "animate"
           },
           {
            "args": [
             [
              "2020-05-01"
             ],
             {
              "frame": {
               "duration": 0,
               "redraw": true
              },
              "mode": "immediate"
             }
            ],
            "label": "2020-05-01",
            "method": "animate"
           },
           {
            "args": [
             [
              "2020-06-01"
             ],
             {
              "frame": {
               "duration": 0,
               "redraw": true
              },
              "mode": "immediate"
             }
            ],
            "label": "2020-06-01",
            "method": "animate"
           },
           {
            "args": [
             [
              "2020-07-01"
             ],
             {
              "frame": {
               "duration": 0,
               "redraw": true
              },
              "mode": "immediate"
             }
            ],
            "label": "2020-07-01",
            "method": "animate"
           },
           {
            "args": [
             [
              "2020-08-01"
             ],
             {
              "frame": {
               "duration": 0,
               "redraw": true
              },
              "mode": "immediate"
             }
            ],
            "label": "2020-08-01",
            "method": "animate"
           },
           {
            "args": [
             [
              "2020-09-01"
             ],
             {
              "frame": {
               "duration": 0,
               "redraw": true
              },
              "mode": "immediate"
             }
            ],
            "label": "2020-09-01",
            "method": "animate"
           },
           {
            "args": [
             [
              "2020-10-01"
             ],
             {
              "frame": {
               "duration": 0,
               "redraw": true
              },
              "mode": "immediate"
             }
            ],
            "label": "2020-10-01",
            "method": "animate"
           },
           {
            "args": [
             [
              "2020-11-01"
             ],
             {
              "frame": {
               "duration": 0,
               "redraw": true
              },
              "mode": "immediate"
             }
            ],
            "label": "2020-11-01",
            "method": "animate"
           },
           {
            "args": [
             [
              "2020-12-01"
             ],
             {
              "frame": {
               "duration": 0,
               "redraw": true
              },
              "mode": "immediate"
             }
            ],
            "label": "2020-12-01",
            "method": "animate"
           },
           {
            "args": [
             [
              "2021-01-01"
             ],
             {
              "frame": {
               "duration": 0,
               "redraw": true
              },
              "mode": "immediate"
             }
            ],
            "label": "2021-01-01",
            "method": "animate"
           },
           {
            "args": [
             [
              "2021-02-01"
             ],
             {
              "frame": {
               "duration": 0,
               "redraw": true
              },
              "mode": "immediate"
             }
            ],
            "label": "2021-02-01",
            "method": "animate"
           },
           {
            "args": [
             [
              "2021-03-01"
             ],
             {
              "frame": {
               "duration": 0,
               "redraw": true
              },
              "mode": "immediate"
             }
            ],
            "label": "2021-03-01",
            "method": "animate"
           },
           {
            "args": [
             [
              "2021-04-01"
             ],
             {
              "frame": {
               "duration": 0,
               "redraw": true
              },
              "mode": "immediate"
             }
            ],
            "label": "2021-04-01",
            "method": "animate"
           },
           {
            "args": [
             [
              "2021-05-01"
             ],
             {
              "frame": {
               "duration": 0,
               "redraw": true
              },
              "mode": "immediate"
             }
            ],
            "label": "2021-05-01",
            "method": "animate"
           },
           {
            "args": [
             [
              "2021-06-01"
             ],
             {
              "frame": {
               "duration": 0,
               "redraw": true
              },
              "mode": "immediate"
             }
            ],
            "label": "2021-06-01",
            "method": "animate"
           },
           {
            "args": [
             [
              "2021-07-01"
             ],
             {
              "frame": {
               "duration": 0,
               "redraw": true
              },
              "mode": "immediate"
             }
            ],
            "label": "2021-07-01",
            "method": "animate"
           },
           {
            "args": [
             [
              "2021-08-01"
             ],
             {
              "frame": {
               "duration": 0,
               "redraw": true
              },
              "mode": "immediate"
             }
            ],
            "label": "2021-08-01",
            "method": "animate"
           },
           {
            "args": [
             [
              "2021-09-01"
             ],
             {
              "frame": {
               "duration": 0,
               "redraw": true
              },
              "mode": "immediate"
             }
            ],
            "label": "2021-09-01",
            "method": "animate"
           },
           {
            "args": [
             [
              "2021-10-01"
             ],
             {
              "frame": {
               "duration": 0,
               "redraw": true
              },
              "mode": "immediate"
             }
            ],
            "label": "2021-10-01",
            "method": "animate"
           },
           {
            "args": [
             [
              "2021-11-01"
             ],
             {
              "frame": {
               "duration": 0,
               "redraw": true
              },
              "mode": "immediate"
             }
            ],
            "label": "2021-11-01",
            "method": "animate"
           },
           {
            "args": [
             [
              "2021-12-01"
             ],
             {
              "frame": {
               "duration": 0,
               "redraw": true
              },
              "mode": "immediate"
             }
            ],
            "label": "2021-12-01",
            "method": "animate"
           },
           {
            "args": [
             [
              "2022-01-01"
             ],
             {
              "frame": {
               "duration": 0,
               "redraw": true
              },
              "mode": "immediate"
             }
            ],
            "label": "2022-01-01",
            "method": "animate"
           },
           {
            "args": [
             [
              "2022-02-01"
             ],
             {
              "frame": {
               "duration": 0,
               "redraw": true
              },
              "mode": "immediate"
             }
            ],
            "label": "2022-02-01",
            "method": "animate"
           },
           {
            "args": [
             [
              "2022-03-01"
             ],
             {
              "frame": {
               "duration": 0,
               "redraw": true
              },
              "mode": "immediate"
             }
            ],
            "label": "2022-03-01",
            "method": "animate"
           },
           {
            "args": [
             [
              "2022-04-01"
             ],
             {
              "frame": {
               "duration": 0,
               "redraw": true
              },
              "mode": "immediate"
             }
            ],
            "label": "2022-04-01",
            "method": "animate"
           },
           {
            "args": [
             [
              "2022-05-01"
             ],
             {
              "frame": {
               "duration": 0,
               "redraw": true
              },
              "mode": "immediate"
             }
            ],
            "label": "2022-05-01",
            "method": "animate"
           },
           {
            "args": [
             [
              "2022-06-01"
             ],
             {
              "frame": {
               "duration": 0,
               "redraw": true
              },
              "mode": "immediate"
             }
            ],
            "label": "2022-06-01",
            "method": "animate"
           },
           {
            "args": [
             [
              "2022-07-01"
             ],
             {
              "frame": {
               "duration": 0,
               "redraw": true
              },
              "mode": "immediate"
             }
            ],
            "label": "2022-07-01",
            "method": "animate"
           },
           {
            "args": [
             [
              "2022-08-01"
             ],
             {
              "frame": {
               "duration": 0,
               "redraw": true
              },
              "mode": "immediate"
             }
            ],
            "label": "2022-08-01",
            "method": "animate"
           },
           {
            "args": [
             [
              "2022-09-01"
             ],
             {
              "frame": {
               "duration": 0,
               "redraw": true
              },
              "mode": "immediate"
             }
            ],
            "label": "2022-09-01",
            "method": "animate"
           },
           {
            "args": [
             [
              "2022-10-01"
             ],
             {
              "frame": {
               "duration": 0,
               "redraw": true
              },
              "mode": "immediate"
             }
            ],
            "label": "2022-10-01",
            "method": "animate"
           },
           {
            "args": [
             [
              "2022-11-01"
             ],
             {
              "frame": {
               "duration": 0,
               "redraw": true
              },
              "mode": "immediate"
             }
            ],
            "label": "2022-11-01",
            "method": "animate"
           },
           {
            "args": [
             [
              "2022-12-01"
             ],
             {
              "frame": {
               "duration": 0,
               "redraw": true
              },
              "mode": "immediate"
             }
            ],
            "label": "2022-12-01",
            "method": "animate"
           },
           {
            "args": [
             [
              "2023-01-01"
             ],
             {
              "frame": {
               "duration": 0,
               "redraw": true
              },
              "mode": "immediate"
             }
            ],
            "label": "2023-01-01",
            "method": "animate"
           },
           {
            "args": [
             [
              "2023-02-01"
             ],
             {
              "frame": {
               "duration": 0,
               "redraw": true
              },
              "mode": "immediate"
             }
            ],
            "label": "2023-02-01",
            "method": "animate"
           },
           {
            "args": [
             [
              "2023-03-01"
             ],
             {
              "frame": {
               "duration": 0,
               "redraw": true
              },
              "mode": "immediate"
             }
            ],
            "label": "2023-03-01",
            "method": "animate"
           },
           {
            "args": [
             [
              "2023-04-01"
             ],
             {
              "frame": {
               "duration": 0,
               "redraw": true
              },
              "mode": "immediate"
             }
            ],
            "label": "2023-04-01",
            "method": "animate"
           },
           {
            "args": [
             [
              "2023-05-01"
             ],
             {
              "frame": {
               "duration": 0,
               "redraw": true
              },
              "mode": "immediate"
             }
            ],
            "label": "2023-05-01",
            "method": "animate"
           },
           {
            "args": [
             [
              "2023-06-01"
             ],
             {
              "frame": {
               "duration": 0,
               "redraw": true
              },
              "mode": "immediate"
             }
            ],
            "label": "2023-06-01",
            "method": "animate"
           },
           {
            "args": [
             [
              "2023-07-01"
             ],
             {
              "frame": {
               "duration": 0,
               "redraw": true
              },
              "mode": "immediate"
             }
            ],
            "label": "2023-07-01",
            "method": "animate"
           },
           {
            "args": [
             [
              "2023-08-01"
             ],
             {
              "frame": {
               "duration": 0,
               "redraw": true
              },
              "mode": "immediate"
             }
            ],
            "label": "2023-08-01",
            "method": "animate"
           },
           {
            "args": [
             [
              "2023-09-01"
             ],
             {
              "frame": {
               "duration": 0,
               "redraw": true
              },
              "mode": "immediate"
             }
            ],
            "label": "2023-09-01",
            "method": "animate"
           },
           {
            "args": [
             [
              "2023-10-01"
             ],
             {
              "frame": {
               "duration": 0,
               "redraw": true
              },
              "mode": "immediate"
             }
            ],
            "label": "2023-10-01",
            "method": "animate"
           },
           {
            "args": [
             [
              "2023-11-01"
             ],
             {
              "frame": {
               "duration": 0,
               "redraw": true
              },
              "mode": "immediate"
             }
            ],
            "label": "2023-11-01",
            "method": "animate"
           },
           {
            "args": [
             [
              "2023-12-01"
             ],
             {
              "frame": {
               "duration": 0,
               "redraw": true
              },
              "mode": "immediate"
             }
            ],
            "label": "2023-12-01",
            "method": "animate"
           },
           {
            "args": [
             [
              "2024-01-01"
             ],
             {
              "frame": {
               "duration": 0,
               "redraw": true
              },
              "mode": "immediate"
             }
            ],
            "label": "2024-01-01",
            "method": "animate"
           },
           {
            "args": [
             [
              "2024-02-01"
             ],
             {
              "frame": {
               "duration": 0,
               "redraw": true
              },
              "mode": "immediate"
             }
            ],
            "label": "2024-02-01",
            "method": "animate"
           },
           {
            "args": [
             [
              "2024-03-01"
             ],
             {
              "frame": {
               "duration": 0,
               "redraw": true
              },
              "mode": "immediate"
             }
            ],
            "label": "2024-03-01",
            "method": "animate"
           },
           {
            "args": [
             [
              "2024-04-01"
             ],
             {
              "frame": {
               "duration": 0,
               "redraw": true
              },
              "mode": "immediate"
             }
            ],
            "label": "2024-04-01",
            "method": "animate"
           },
           {
            "args": [
             [
              "2024-05-01"
             ],
             {
              "frame": {
               "duration": 0,
               "redraw": true
              },
              "mode": "immediate"
             }
            ],
            "label": "2024-05-01",
            "method": "animate"
           },
           {
            "args": [
             [
              "2024-06-01"
             ],
             {
              "frame": {
               "duration": 0,
               "redraw": true
              },
              "mode": "immediate"
             }
            ],
            "label": "2024-06-01",
            "method": "animate"
           },
           {
            "args": [
             [
              "2024-07-01"
             ],
             {
              "frame": {
               "duration": 0,
               "redraw": true
              },
              "mode": "immediate"
             }
            ],
            "label": "2024-07-01",
            "method": "animate"
           },
           {
            "args": [
             [
              "2024-08-01"
             ],
             {
              "frame": {
               "duration": 0,
               "redraw": true
              },
              "mode": "immediate"
             }
            ],
            "label": "2024-08-01",
            "method": "animate"
           },
           {
            "args": [
             [
              "2024-09-01"
             ],
             {
              "frame": {
               "duration": 0,
               "redraw": true
              },
              "mode": "immediate"
             }
            ],
            "label": "2024-09-01",
            "method": "animate"
           },
           {
            "args": [
             [
              "2024-10-01"
             ],
             {
              "frame": {
               "duration": 0,
               "redraw": true
              },
              "mode": "immediate"
             }
            ],
            "label": "2024-10-01",
            "method": "animate"
           },
           {
            "args": [
             [
              "2024-11-01"
             ],
             {
              "frame": {
               "duration": 0,
               "redraw": true
              },
              "mode": "immediate"
             }
            ],
            "label": "2024-11-01",
            "method": "animate"
           },
           {
            "args": [
             [
              "2024-12-01"
             ],
             {
              "frame": {
               "duration": 0,
               "redraw": true
              },
              "mode": "immediate"
             }
            ],
            "label": "2024-12-01",
            "method": "animate"
           },
           {
            "args": [
             [
              "2025-01-01"
             ],
             {
              "frame": {
               "duration": 0,
               "redraw": true
              },
              "mode": "immediate"
             }
            ],
            "label": "2025-01-01",
            "method": "animate"
           },
           {
            "args": [
             [
              "2025-02-01"
             ],
             {
              "frame": {
               "duration": 0,
               "redraw": true
              },
              "mode": "immediate"
             }
            ],
            "label": "2025-02-01",
            "method": "animate"
           },
           {
            "args": [
             [
              "2025-03-01"
             ],
             {
              "frame": {
               "duration": 0,
               "redraw": true
              },
              "mode": "immediate"
             }
            ],
            "label": "2025-03-01",
            "method": "animate"
           },
           {
            "args": [
             [
              "2025-04-01"
             ],
             {
              "frame": {
               "duration": 0,
               "redraw": true
              },
              "mode": "immediate"
             }
            ],
            "label": "2025-04-01",
            "method": "animate"
           },
           {
            "args": [
             [
              "2025-05-01"
             ],
             {
              "frame": {
               "duration": 0,
               "redraw": true
              },
              "mode": "immediate"
             }
            ],
            "label": "2025-05-01",
            "method": "animate"
           },
           {
            "args": [
             [
              "2025-06-01"
             ],
             {
              "frame": {
               "duration": 0,
               "redraw": true
              },
              "mode": "immediate"
             }
            ],
            "label": "2025-06-01",
            "method": "animate"
           },
           {
            "args": [
             [
              "2025-07-01"
             ],
             {
              "frame": {
               "duration": 0,
               "redraw": true
              },
              "mode": "immediate"
             }
            ],
            "label": "2025-07-01",
            "method": "animate"
           },
           {
            "args": [
             [
              "2025-08-01"
             ],
             {
              "frame": {
               "duration": 0,
               "redraw": true
              },
              "mode": "immediate"
             }
            ],
            "label": "2025-08-01",
            "method": "animate"
           }
          ]
         }
        ],
        "template": {
         "data": {
          "bar": [
           {
            "error_x": {
             "color": "#2a3f5f"
            },
            "error_y": {
             "color": "#2a3f5f"
            },
            "marker": {
             "line": {
              "color": "#E5ECF6",
              "width": 0.5
             },
             "pattern": {
              "fillmode": "overlay",
              "size": 10,
              "solidity": 0.2
             }
            },
            "type": "bar"
           }
          ],
          "barpolar": [
           {
            "marker": {
             "line": {
              "color": "#E5ECF6",
              "width": 0.5
             },
             "pattern": {
              "fillmode": "overlay",
              "size": 10,
              "solidity": 0.2
             }
            },
            "type": "barpolar"
           }
          ],
          "carpet": [
           {
            "aaxis": {
             "endlinecolor": "#2a3f5f",
             "gridcolor": "white",
             "linecolor": "white",
             "minorgridcolor": "white",
             "startlinecolor": "#2a3f5f"
            },
            "baxis": {
             "endlinecolor": "#2a3f5f",
             "gridcolor": "white",
             "linecolor": "white",
             "minorgridcolor": "white",
             "startlinecolor": "#2a3f5f"
            },
            "type": "carpet"
           }
          ],
          "choropleth": [
           {
            "colorbar": {
             "outlinewidth": 0,
             "ticks": ""
            },
            "type": "choropleth"
           }
          ],
          "contour": [
           {
            "colorbar": {
             "outlinewidth": 0,
             "ticks": ""
            },
            "colorscale": [
             [
              0,
              "#0d0887"
             ],
             [
              0.1111111111111111,
              "#46039f"
             ],
             [
              0.2222222222222222,
              "#7201a8"
             ],
             [
              0.3333333333333333,
              "#9c179e"
             ],
             [
              0.4444444444444444,
              "#bd3786"
             ],
             [
              0.5555555555555556,
              "#d8576b"
             ],
             [
              0.6666666666666666,
              "#ed7953"
             ],
             [
              0.7777777777777778,
              "#fb9f3a"
             ],
             [
              0.8888888888888888,
              "#fdca26"
             ],
             [
              1,
              "#f0f921"
             ]
            ],
            "type": "contour"
           }
          ],
          "contourcarpet": [
           {
            "colorbar": {
             "outlinewidth": 0,
             "ticks": ""
            },
            "type": "contourcarpet"
           }
          ],
          "heatmap": [
           {
            "colorbar": {
             "outlinewidth": 0,
             "ticks": ""
            },
            "colorscale": [
             [
              0,
              "#0d0887"
             ],
             [
              0.1111111111111111,
              "#46039f"
             ],
             [
              0.2222222222222222,
              "#7201a8"
             ],
             [
              0.3333333333333333,
              "#9c179e"
             ],
             [
              0.4444444444444444,
              "#bd3786"
             ],
             [
              0.5555555555555556,
              "#d8576b"
             ],
             [
              0.6666666666666666,
              "#ed7953"
             ],
             [
              0.7777777777777778,
              "#fb9f3a"
             ],
             [
              0.8888888888888888,
              "#fdca26"
             ],
             [
              1,
              "#f0f921"
             ]
            ],
            "type": "heatmap"
           }
          ],
          "heatmapgl": [
           {
            "colorbar": {
             "outlinewidth": 0,
             "ticks": ""
            },
            "colorscale": [
             [
              0,
              "#0d0887"
             ],
             [
              0.1111111111111111,
              "#46039f"
             ],
             [
              0.2222222222222222,
              "#7201a8"
             ],
             [
              0.3333333333333333,
              "#9c179e"
             ],
             [
              0.4444444444444444,
              "#bd3786"
             ],
             [
              0.5555555555555556,
              "#d8576b"
             ],
             [
              0.6666666666666666,
              "#ed7953"
             ],
             [
              0.7777777777777778,
              "#fb9f3a"
             ],
             [
              0.8888888888888888,
              "#fdca26"
             ],
             [
              1,
              "#f0f921"
             ]
            ],
            "type": "heatmapgl"
           }
          ],
          "histogram": [
           {
            "marker": {
             "pattern": {
              "fillmode": "overlay",
              "size": 10,
              "solidity": 0.2
             }
            },
            "type": "histogram"
           }
          ],
          "histogram2d": [
           {
            "colorbar": {
             "outlinewidth": 0,
             "ticks": ""
            },
            "colorscale": [
             [
              0,
              "#0d0887"
             ],
             [
              0.1111111111111111,
              "#46039f"
             ],
             [
              0.2222222222222222,
              "#7201a8"
             ],
             [
              0.3333333333333333,
              "#9c179e"
             ],
             [
              0.4444444444444444,
              "#bd3786"
             ],
             [
              0.5555555555555556,
              "#d8576b"
             ],
             [
              0.6666666666666666,
              "#ed7953"
             ],
             [
              0.7777777777777778,
              "#fb9f3a"
             ],
             [
              0.8888888888888888,
              "#fdca26"
             ],
             [
              1,
              "#f0f921"
             ]
            ],
            "type": "histogram2d"
           }
          ],
          "histogram2dcontour": [
           {
            "colorbar": {
             "outlinewidth": 0,
             "ticks": ""
            },
            "colorscale": [
             [
              0,
              "#0d0887"
             ],
             [
              0.1111111111111111,
              "#46039f"
             ],
             [
              0.2222222222222222,
              "#7201a8"
             ],
             [
              0.3333333333333333,
              "#9c179e"
             ],
             [
              0.4444444444444444,
              "#bd3786"
             ],
             [
              0.5555555555555556,
              "#d8576b"
             ],
             [
              0.6666666666666666,
              "#ed7953"
             ],
             [
              0.7777777777777778,
              "#fb9f3a"
             ],
             [
              0.8888888888888888,
              "#fdca26"
             ],
             [
              1,
              "#f0f921"
             ]
            ],
            "type": "histogram2dcontour"
           }
          ],
          "mesh3d": [
           {
            "colorbar": {
             "outlinewidth": 0,
             "ticks": ""
            },
            "type": "mesh3d"
           }
          ],
          "parcoords": [
           {
            "line": {
             "colorbar": {
              "outlinewidth": 0,
              "ticks": ""
             }
            },
            "type": "parcoords"
           }
          ],
          "pie": [
           {
            "automargin": true,
            "type": "pie"
           }
          ],
          "scatter": [
           {
            "fillpattern": {
             "fillmode": "overlay",
             "size": 10,
             "solidity": 0.2
            },
            "type": "scatter"
           }
          ],
          "scatter3d": [
           {
            "line": {
             "colorbar": {
              "outlinewidth": 0,
              "ticks": ""
             }
            },
            "marker": {
             "colorbar": {
              "outlinewidth": 0,
              "ticks": ""
             }
            },
            "type": "scatter3d"
           }
          ],
          "scattercarpet": [
           {
            "marker": {
             "colorbar": {
              "outlinewidth": 0,
              "ticks": ""
             }
            },
            "type": "scattercarpet"
           }
          ],
          "scattergeo": [
           {
            "marker": {
             "colorbar": {
              "outlinewidth": 0,
              "ticks": ""
             }
            },
            "type": "scattergeo"
           }
          ],
          "scattergl": [
           {
            "marker": {
             "colorbar": {
              "outlinewidth": 0,
              "ticks": ""
             }
            },
            "type": "scattergl"
           }
          ],
          "scattermapbox": [
           {
            "marker": {
             "colorbar": {
              "outlinewidth": 0,
              "ticks": ""
             }
            },
            "type": "scattermapbox"
           }
          ],
          "scatterpolar": [
           {
            "marker": {
             "colorbar": {
              "outlinewidth": 0,
              "ticks": ""
             }
            },
            "type": "scatterpolar"
           }
          ],
          "scatterpolargl": [
           {
            "marker": {
             "colorbar": {
              "outlinewidth": 0,
              "ticks": ""
             }
            },
            "type": "scatterpolargl"
           }
          ],
          "scatterternary": [
           {
            "marker": {
             "colorbar": {
              "outlinewidth": 0,
              "ticks": ""
             }
            },
            "type": "scatterternary"
           }
          ],
          "surface": [
           {
            "colorbar": {
             "outlinewidth": 0,
             "ticks": ""
            },
            "colorscale": [
             [
              0,
              "#0d0887"
             ],
             [
              0.1111111111111111,
              "#46039f"
             ],
             [
              0.2222222222222222,
              "#7201a8"
             ],
             [
              0.3333333333333333,
              "#9c179e"
             ],
             [
              0.4444444444444444,
              "#bd3786"
             ],
             [
              0.5555555555555556,
              "#d8576b"
             ],
             [
              0.6666666666666666,
              "#ed7953"
             ],
             [
              0.7777777777777778,
              "#fb9f3a"
             ],
             [
              0.8888888888888888,
              "#fdca26"
             ],
             [
              1,
              "#f0f921"
             ]
            ],
            "type": "surface"
           }
          ],
          "table": [
           {
            "cells": {
             "fill": {
              "color": "#EBF0F8"
             },
             "line": {
              "color": "white"
             }
            },
            "header": {
             "fill": {
              "color": "#C8D4E3"
             },
             "line": {
              "color": "white"
             }
            },
            "type": "table"
           }
          ]
         },
         "layout": {
          "annotationdefaults": {
           "arrowcolor": "#2a3f5f",
           "arrowhead": 0,
           "arrowwidth": 1
          },
          "autotypenumbers": "strict",
          "coloraxis": {
           "colorbar": {
            "outlinewidth": 0,
            "ticks": ""
           }
          },
          "colorscale": {
           "diverging": [
            [
             0,
             "#8e0152"
            ],
            [
             0.1,
             "#c51b7d"
            ],
            [
             0.2,
             "#de77ae"
            ],
            [
             0.3,
             "#f1b6da"
            ],
            [
             0.4,
             "#fde0ef"
            ],
            [
             0.5,
             "#f7f7f7"
            ],
            [
             0.6,
             "#e6f5d0"
            ],
            [
             0.7,
             "#b8e186"
            ],
            [
             0.8,
             "#7fbc41"
            ],
            [
             0.9,
             "#4d9221"
            ],
            [
             1,
             "#276419"
            ]
           ],
           "sequential": [
            [
             0,
             "#0d0887"
            ],
            [
             0.1111111111111111,
             "#46039f"
            ],
            [
             0.2222222222222222,
             "#7201a8"
            ],
            [
             0.3333333333333333,
             "#9c179e"
            ],
            [
             0.4444444444444444,
             "#bd3786"
            ],
            [
             0.5555555555555556,
             "#d8576b"
            ],
            [
             0.6666666666666666,
             "#ed7953"
            ],
            [
             0.7777777777777778,
             "#fb9f3a"
            ],
            [
             0.8888888888888888,
             "#fdca26"
            ],
            [
             1,
             "#f0f921"
            ]
           ],
           "sequentialminus": [
            [
             0,
             "#0d0887"
            ],
            [
             0.1111111111111111,
             "#46039f"
            ],
            [
             0.2222222222222222,
             "#7201a8"
            ],
            [
             0.3333333333333333,
             "#9c179e"
            ],
            [
             0.4444444444444444,
             "#bd3786"
            ],
            [
             0.5555555555555556,
             "#d8576b"
            ],
            [
             0.6666666666666666,
             "#ed7953"
            ],
            [
             0.7777777777777778,
             "#fb9f3a"
            ],
            [
             0.8888888888888888,
             "#fdca26"
            ],
            [
             1,
             "#f0f921"
            ]
           ]
          },
          "colorway": [
           "#636efa",
           "#EF553B",
           "#00cc96",
           "#ab63fa",
           "#FFA15A",
           "#19d3f3",
           "#FF6692",
           "#B6E880",
           "#FF97FF",
           "#FECB52"
          ],
          "font": {
           "color": "#2a3f5f"
          },
          "geo": {
           "bgcolor": "white",
           "lakecolor": "white",
           "landcolor": "#E5ECF6",
           "showlakes": true,
           "showland": true,
           "subunitcolor": "white"
          },
          "hoverlabel": {
           "align": "left"
          },
          "hovermode": "closest",
          "mapbox": {
           "style": "light"
          },
          "paper_bgcolor": "white",
          "plot_bgcolor": "#E5ECF6",
          "polar": {
           "angularaxis": {
            "gridcolor": "white",
            "linecolor": "white",
            "ticks": ""
           },
           "bgcolor": "#E5ECF6",
           "radialaxis": {
            "gridcolor": "white",
            "linecolor": "white",
            "ticks": ""
           }
          },
          "scene": {
           "xaxis": {
            "backgroundcolor": "#E5ECF6",
            "gridcolor": "white",
            "gridwidth": 2,
            "linecolor": "white",
            "showbackground": true,
            "ticks": "",
            "zerolinecolor": "white"
           },
           "yaxis": {
            "backgroundcolor": "#E5ECF6",
            "gridcolor": "white",
            "gridwidth": 2,
            "linecolor": "white",
            "showbackground": true,
            "ticks": "",
            "zerolinecolor": "white"
           },
           "zaxis": {
            "backgroundcolor": "#E5ECF6",
            "gridcolor": "white",
            "gridwidth": 2,
            "linecolor": "white",
            "showbackground": true,
            "ticks": "",
            "zerolinecolor": "white"
           }
          },
          "shapedefaults": {
           "line": {
            "color": "#2a3f5f"
           }
          },
          "ternary": {
           "aaxis": {
            "gridcolor": "white",
            "linecolor": "white",
            "ticks": ""
           },
           "baxis": {
            "gridcolor": "white",
            "linecolor": "white",
            "ticks": ""
           },
           "bgcolor": "#E5ECF6",
           "caxis": {
            "gridcolor": "white",
            "linecolor": "white",
            "ticks": ""
           }
          },
          "title": {
           "x": 0.05
          },
          "xaxis": {
           "automargin": true,
           "gridcolor": "white",
           "linecolor": "white",
           "ticks": "",
           "title": {
            "standoff": 15
           },
           "zerolinecolor": "white",
           "zerolinewidth": 2
          },
          "yaxis": {
           "automargin": true,
           "gridcolor": "white",
           "linecolor": "white",
           "ticks": "",
           "title": {
            "standoff": 15
           },
           "zerolinecolor": "white",
           "zerolinewidth": 2
          }
         }
        },
        "title": {
         "text": "Forward Curve — 1.0Y forwards (animated)"
        },
        "updatemenus": [
         {
          "buttons": [
           {
            "args": [
             null,
             {
              "frame": {
               "duration": 100,
               "redraw": true
              },
              "fromcurrent": true,
              "transition": {
               "duration": 0
              }
             }
            ],
            "label": "Play",
            "method": "animate"
           },
           {
            "args": [
             [
              null
             ],
             {
              "frame": {
               "duration": 0,
               "redraw": false
              },
              "mode": "immediate"
             }
            ],
            "label": "Pause",
            "method": "animate"
           }
          ],
          "type": "buttons"
         }
        ],
        "width": 1000,
        "xaxis": {
         "range": [
          0,
          31
         ],
         "title": {
          "text": "Start (years)"
         }
        },
        "yaxis": {
         "range": [
          0,
          5
         ],
         "title": {
          "text": "Forward Rate (%)"
         }
        }
       }
      }
     },
     "metadata": {},
     "output_type": "display_data"
    }
   ],
   "source": [
    "import plotly.graph_objects as go\n",
    "\n",
    "h = 1.0  # choose horizon (years)\n",
    "fwd = compute_forward_curve_from_zero(curve_df_zero, horizon_years=h, comp=\"annual\", interpolate_missing=True)\n",
    "fwd = fwd.dropna(how=\"all\")\n",
    "\n",
    "dates = fwd.index\n",
    "# initial frame\n",
    "row0 = fwd.iloc[0].dropna()\n",
    "x0 = [float(c) for c in row0.index]\n",
    "y0 = row0.values.tolist()\n",
    "\n",
    "# build frames: one per date\n",
    "frames = []\n",
    "for d in dates:\n",
    "    r = fwd.loc[d].dropna()\n",
    "    frames.append(go.Frame(\n",
    "        data=[go.Scatter(x=[float(c) for c in r.index], y=r.values.tolist(), mode=\"lines+markers\")],\n",
    "        name=str(d.date())\n",
    "    ))\n",
    "\n",
    "fig = go.Figure(\n",
    "    data=[go.Scatter(x=x0, y=y0, mode=\"lines+markers\", name=f\"{h}Y forward\")],\n",
    "    layout=go.Layout(\n",
    "        title=f\"Forward Curve — {h}Y forwards (animated)\",\n",
    "        xaxis=dict(title=\"Start (years)\", range=[0, 31]),\n",
    "        yaxis=dict(title=\"Forward Rate (%)\", range=[0, 5]),\n",
    "        width=1000, height=700,\n",
    "        updatemenus=[{\n",
    "            \"type\":\"buttons\",\n",
    "            \"buttons\":[\n",
    "                {\"label\":\"Play\",\"method\":\"animate\",\n",
    "                 \"args\":[None,{\"frame\":{\"duration\":100,\"redraw\":True},\n",
    "                               \"fromcurrent\":True,\"transition\":{\"duration\":0}}]},\n",
    "                {\"label\":\"Pause\",\"method\":\"animate\",\n",
    "                 \"args\":[[None],{\"frame\":{\"duration\":0,\"redraw\":False},\n",
    "                                 \"mode\":\"immediate\"}]}\n",
    "            ]\n",
    "        }],\n",
    "        sliders=[{\n",
    "            \"steps\":[{\"args\":[[str(d.date())],\n",
    "                               {\"frame\":{\"duration\":0,\"redraw\":True},\n",
    "                                \"mode\":\"immediate\"}],\n",
    "                      \"label\":str(d.date()),\"method\":\"animate\"} for d in dates],\n",
    "            \"currentvalue\":{\"prefix\":\"Date: \"}\n",
    "        }]\n",
    "    ),\n",
    "    frames=frames\n",
    ")\n",
    "fig.show()\n"
   ]
  },
  {
   "cell_type": "markdown",
   "id": "c746e492",
   "metadata": {},
   "source": [
    "# Question 4\n",
    "Bootstrap spot Rates from coupon bonds - use the FRED API or Bloomberg to get the treasury prices/yields - do this till the 30Y. "
   ]
  },
  {
   "cell_type": "code",
   "execution_count": 84,
   "id": "95cfbe61",
   "metadata": {},
   "outputs": [],
   "source": [
    "import numpy as np\n",
    "import pandas as pd\n",
    "import re\n",
    "\n",
    "def _mat_to_years(label):\n",
    "    \"\"\"Parse '3M','6M','1Y','10Y','1MO' (or numeric) -> float years.\"\"\"\n",
    "    if isinstance(label, (int, float, np.integer, np.floating)):\n",
    "        return float(label)\n",
    "    s = str(label).strip().upper()\n",
    "    if s.endswith(\"MO\"):  # 1MO\n",
    "        return float(s[:-2]) / 12.0\n",
    "    if s.endswith(\"M\"):   # 3M, 6M\n",
    "        return float(s[:-1]) / 12.0\n",
    "    if s.endswith(\"Y\"):   # 1Y, 10Y\n",
    "        return float(s[:-1])\n",
    "    return float(s)       # last resort\n",
    "\n",
    "def bootstrap_zeros_from_par(\n",
    "    curve_df: pd.DataFrame,\n",
    "    grid=np.arange(0.5, 30.0 + 0.5, 0.5),   # semiannual nodes to 30Y\n",
    "    comp: str = \"semiannual\",               # output zero compounding\n",
    "    allow_extrapolation: bool = False       # keep False for grading\n",
    "):\n",
    "    \"\"\"\n",
    "    Bootstrap spot (zero) rates from par yields (values in PERCENT).\n",
    "    Returns (zeros_df %, dfs_df).\n",
    "    \"\"\"\n",
    "    if curve_df is None or curve_df.empty:\n",
    "        return pd.DataFrame(), pd.DataFrame()\n",
    "\n",
    "    # 1) Standardize column maturities to numeric years and sort\n",
    "    par_df = curve_df.copy()\n",
    "    par_df.columns = pd.Index([_mat_to_years(c) for c in par_df.columns], name=\"ParMaturityYears\")\n",
    "    par_df = par_df.sort_index().sort_index(axis=1)\n",
    "\n",
    "    grid = np.array(sorted(grid), dtype=float)\n",
    "    zeros_rows, dfs_rows = [], []\n",
    "\n",
    "    for date, row in par_df.iterrows():\n",
    "        # Known par points for this date\n",
    "        x = np.array([m for m, y in row.items() if pd.notna(y)], dtype=float)\n",
    "        y = np.array([row[m] for m in x], dtype=float)  # percent\n",
    "        if len(x) < 2:\n",
    "            zeros_rows.append(pd.Series(index=grid, dtype=float, name=date))\n",
    "            dfs_rows.append(pd.Series(index=grid, dtype=float, name=date))\n",
    "            continue\n",
    "\n",
    "        idx = np.argsort(x); x = x[idx]; y = y[idx]\n",
    "\n",
    "        # 2) Interpolate par yields to each semiannual node on grid (no extrapolation by default)\n",
    "        y_grid = np.full_like(grid, np.nan, dtype=float)\n",
    "        xmin, xmax = x.min(), x.max()\n",
    "        for i, T in enumerate(grid):\n",
    "            if (T < xmin or T > xmax) and not allow_extrapolation:\n",
    "                continue\n",
    "            y_grid[i] = float(np.interp(T, x, y))\n",
    "\n",
    "        # 3) Bootstrap discount factors (semiannual coupons)\n",
    "        DF = {}\n",
    "        for T, yT_pct in zip(grid, y_grid):\n",
    "            if np.isnan(yT_pct):\n",
    "                break\n",
    "            yT = yT_pct / 100.0\n",
    "            m  = int(round(T * 2))       # number of semiannual periods\n",
    "            c  = yT / 2.0                # coupon per semiannual period\n",
    "\n",
    "            if m == 1:\n",
    "                # 0.5y: 100 = (100 + 100c) * DF_0.5  → DF_0.5 = 1/(1+c)\n",
    "                DF[T] = 1.0 / (1.0 + c)\n",
    "            else:\n",
    "                coupon_leg = 0.0\n",
    "                ok = True\n",
    "                for i_per in range(1, m):\n",
    "                    Ti = 0.5 * i_per\n",
    "                    if Ti not in DF or pd.isna(DF[Ti]):\n",
    "                        ok = False; break\n",
    "                    coupon_leg += (100.0 * c) * DF[Ti]\n",
    "                if not ok:\n",
    "                    break\n",
    "                DF[T] = (100.0 - coupon_leg) / (100.0 * (1.0 + c))\n",
    "\n",
    "        df_series = pd.Series({T: DF.get(T, np.nan) for T in grid}, name=date)\n",
    "\n",
    "        # 4) Convert DF → zero with requested compounding\n",
    "        def zero_from_DF(DF_T, T):\n",
    "            if pd.isna(DF_T) or T <= 0:\n",
    "                return np.nan\n",
    "            if comp == \"semiannual\":   # DF = 1 / (1+z/2)^(2T)\n",
    "                return 2.0 * (DF_T ** (-1.0 / (2.0 * T)) - 1.0)\n",
    "            if comp == \"annual\":       # DF = 1 / (1+z)^T\n",
    "                return DF_T ** (-1.0 / T) - 1.0\n",
    "            if comp == \"continuous\":   # DF = exp(-z T)\n",
    "                return -np.log(DF_T) / T\n",
    "            raise ValueError(\"comp must be 'semiannual','annual','continuous'.\")\n",
    "\n",
    "        z_series = pd.Series({T: 100.0 * zero_from_DF(df_series[T], T) for T in grid}, name=date)\n",
    "\n",
    "        zeros_rows.append(z_series)\n",
    "        dfs_rows.append(df_series)\n",
    "\n",
    "    zeros_df = pd.DataFrame(zeros_rows).reindex(index=par_df.index)\n",
    "    dfs_df   = pd.DataFrame(dfs_rows).reindex(index=par_df.index)\n",
    "    zeros_df.columns.name = \"MaturityYears\"\n",
    "    dfs_df.columns.name   = \"MaturityYears\"\n",
    "    return zeros_df, dfs_df\n"
   ]
  },
  {
   "cell_type": "code",
   "execution_count": 85,
   "id": "48c89609",
   "metadata": {},
   "outputs": [
    {
     "data": {
      "application/vnd.plotly.v1+json": {
       "config": {
        "plotlyServerURL": "https://plot.ly"
       },
       "data": [
        {
         "mode": "lines+markers",
         "name": "Bootstrapped zeros (semiannual)",
         "type": "scatter",
         "x": [
          0.5,
          1,
          1.5,
          2,
          2.5,
          3,
          3.5,
          4,
          4.5,
          5,
          5.5,
          6,
          6.5,
          7,
          7.5,
          8,
          8.5,
          9,
          9.5,
          10,
          10.5,
          11,
          11.5,
          12,
          12.5,
          13,
          13.5,
          14,
          14.5,
          15,
          15.5,
          16,
          16.5,
          17,
          17.5,
          18,
          18.5,
          19,
          19.5,
          20,
          20.5,
          21,
          21.5,
          22,
          22.5,
          23,
          23.5,
          24,
          24.5,
          25,
          25.5,
          26,
          26.5,
          27,
          27.5,
          28,
          28.5,
          29,
          29.5,
          30
         ],
         "y": [
          3.849999999999998,
          3.6784373222763733,
          3.658596004891379,
          3.6384006212592634,
          3.649088412479262,
          3.659706900001636,
          3.683529119298301,
          3.707421554912349,
          3.731421016017533,
          3.755551972294402,
          3.807407240297067,
          3.859589159414023,
          3.912150501343792,
          3.9651368304006507,
          4.009870756015754,
          4.055033641050709,
          4.100649190497707,
          4.1467416003430735,
          4.193335804039533,
          4.240457677888143,
          4.272308046456619,
          4.304584006356782,
          4.337291633519413,
          4.3704391614594496,
          4.40403674866765,
          4.438096315768014,
          4.472631435927088,
          4.507657266904719,
          4.543190516538154,
          4.57924943586665,
          4.615853835842998,
          4.6530251248699805,
          4.690786365374278,
          4.729162348396487,
          4.7681796857954595,
          4.807866920190662,
          4.848254653233974,
          4.889375693237419,
          4.931265223613579,
          4.973960994025761,
          4.969798597470021,
          4.965924167384594,
          4.962319181208574,
          4.958966841267243,
          4.955851884136342,
          4.952960414919749,
          4.95027976272846,
          4.947798354270505,
          4.945505602963207,
          4.943391811395914,
          4.941448085311384,
          4.939666257555508,
          4.938038820680379,
          4.936558867079777,
          4.935220035699439,
          4.934016464501978,
          4.932942747980906,
          4.931993899115783,
          4.931165315243602,
          4.930452747390879
         ]
        }
       ],
       "layout": {
        "height": 500,
        "template": {
         "data": {
          "bar": [
           {
            "error_x": {
             "color": "#2a3f5f"
            },
            "error_y": {
             "color": "#2a3f5f"
            },
            "marker": {
             "line": {
              "color": "#E5ECF6",
              "width": 0.5
             },
             "pattern": {
              "fillmode": "overlay",
              "size": 10,
              "solidity": 0.2
             }
            },
            "type": "bar"
           }
          ],
          "barpolar": [
           {
            "marker": {
             "line": {
              "color": "#E5ECF6",
              "width": 0.5
             },
             "pattern": {
              "fillmode": "overlay",
              "size": 10,
              "solidity": 0.2
             }
            },
            "type": "barpolar"
           }
          ],
          "carpet": [
           {
            "aaxis": {
             "endlinecolor": "#2a3f5f",
             "gridcolor": "white",
             "linecolor": "white",
             "minorgridcolor": "white",
             "startlinecolor": "#2a3f5f"
            },
            "baxis": {
             "endlinecolor": "#2a3f5f",
             "gridcolor": "white",
             "linecolor": "white",
             "minorgridcolor": "white",
             "startlinecolor": "#2a3f5f"
            },
            "type": "carpet"
           }
          ],
          "choropleth": [
           {
            "colorbar": {
             "outlinewidth": 0,
             "ticks": ""
            },
            "type": "choropleth"
           }
          ],
          "contour": [
           {
            "colorbar": {
             "outlinewidth": 0,
             "ticks": ""
            },
            "colorscale": [
             [
              0,
              "#0d0887"
             ],
             [
              0.1111111111111111,
              "#46039f"
             ],
             [
              0.2222222222222222,
              "#7201a8"
             ],
             [
              0.3333333333333333,
              "#9c179e"
             ],
             [
              0.4444444444444444,
              "#bd3786"
             ],
             [
              0.5555555555555556,
              "#d8576b"
             ],
             [
              0.6666666666666666,
              "#ed7953"
             ],
             [
              0.7777777777777778,
              "#fb9f3a"
             ],
             [
              0.8888888888888888,
              "#fdca26"
             ],
             [
              1,
              "#f0f921"
             ]
            ],
            "type": "contour"
           }
          ],
          "contourcarpet": [
           {
            "colorbar": {
             "outlinewidth": 0,
             "ticks": ""
            },
            "type": "contourcarpet"
           }
          ],
          "heatmap": [
           {
            "colorbar": {
             "outlinewidth": 0,
             "ticks": ""
            },
            "colorscale": [
             [
              0,
              "#0d0887"
             ],
             [
              0.1111111111111111,
              "#46039f"
             ],
             [
              0.2222222222222222,
              "#7201a8"
             ],
             [
              0.3333333333333333,
              "#9c179e"
             ],
             [
              0.4444444444444444,
              "#bd3786"
             ],
             [
              0.5555555555555556,
              "#d8576b"
             ],
             [
              0.6666666666666666,
              "#ed7953"
             ],
             [
              0.7777777777777778,
              "#fb9f3a"
             ],
             [
              0.8888888888888888,
              "#fdca26"
             ],
             [
              1,
              "#f0f921"
             ]
            ],
            "type": "heatmap"
           }
          ],
          "heatmapgl": [
           {
            "colorbar": {
             "outlinewidth": 0,
             "ticks": ""
            },
            "colorscale": [
             [
              0,
              "#0d0887"
             ],
             [
              0.1111111111111111,
              "#46039f"
             ],
             [
              0.2222222222222222,
              "#7201a8"
             ],
             [
              0.3333333333333333,
              "#9c179e"
             ],
             [
              0.4444444444444444,
              "#bd3786"
             ],
             [
              0.5555555555555556,
              "#d8576b"
             ],
             [
              0.6666666666666666,
              "#ed7953"
             ],
             [
              0.7777777777777778,
              "#fb9f3a"
             ],
             [
              0.8888888888888888,
              "#fdca26"
             ],
             [
              1,
              "#f0f921"
             ]
            ],
            "type": "heatmapgl"
           }
          ],
          "histogram": [
           {
            "marker": {
             "pattern": {
              "fillmode": "overlay",
              "size": 10,
              "solidity": 0.2
             }
            },
            "type": "histogram"
           }
          ],
          "histogram2d": [
           {
            "colorbar": {
             "outlinewidth": 0,
             "ticks": ""
            },
            "colorscale": [
             [
              0,
              "#0d0887"
             ],
             [
              0.1111111111111111,
              "#46039f"
             ],
             [
              0.2222222222222222,
              "#7201a8"
             ],
             [
              0.3333333333333333,
              "#9c179e"
             ],
             [
              0.4444444444444444,
              "#bd3786"
             ],
             [
              0.5555555555555556,
              "#d8576b"
             ],
             [
              0.6666666666666666,
              "#ed7953"
             ],
             [
              0.7777777777777778,
              "#fb9f3a"
             ],
             [
              0.8888888888888888,
              "#fdca26"
             ],
             [
              1,
              "#f0f921"
             ]
            ],
            "type": "histogram2d"
           }
          ],
          "histogram2dcontour": [
           {
            "colorbar": {
             "outlinewidth": 0,
             "ticks": ""
            },
            "colorscale": [
             [
              0,
              "#0d0887"
             ],
             [
              0.1111111111111111,
              "#46039f"
             ],
             [
              0.2222222222222222,
              "#7201a8"
             ],
             [
              0.3333333333333333,
              "#9c179e"
             ],
             [
              0.4444444444444444,
              "#bd3786"
             ],
             [
              0.5555555555555556,
              "#d8576b"
             ],
             [
              0.6666666666666666,
              "#ed7953"
             ],
             [
              0.7777777777777778,
              "#fb9f3a"
             ],
             [
              0.8888888888888888,
              "#fdca26"
             ],
             [
              1,
              "#f0f921"
             ]
            ],
            "type": "histogram2dcontour"
           }
          ],
          "mesh3d": [
           {
            "colorbar": {
             "outlinewidth": 0,
             "ticks": ""
            },
            "type": "mesh3d"
           }
          ],
          "parcoords": [
           {
            "line": {
             "colorbar": {
              "outlinewidth": 0,
              "ticks": ""
             }
            },
            "type": "parcoords"
           }
          ],
          "pie": [
           {
            "automargin": true,
            "type": "pie"
           }
          ],
          "scatter": [
           {
            "fillpattern": {
             "fillmode": "overlay",
             "size": 10,
             "solidity": 0.2
            },
            "type": "scatter"
           }
          ],
          "scatter3d": [
           {
            "line": {
             "colorbar": {
              "outlinewidth": 0,
              "ticks": ""
             }
            },
            "marker": {
             "colorbar": {
              "outlinewidth": 0,
              "ticks": ""
             }
            },
            "type": "scatter3d"
           }
          ],
          "scattercarpet": [
           {
            "marker": {
             "colorbar": {
              "outlinewidth": 0,
              "ticks": ""
             }
            },
            "type": "scattercarpet"
           }
          ],
          "scattergeo": [
           {
            "marker": {
             "colorbar": {
              "outlinewidth": 0,
              "ticks": ""
             }
            },
            "type": "scattergeo"
           }
          ],
          "scattergl": [
           {
            "marker": {
             "colorbar": {
              "outlinewidth": 0,
              "ticks": ""
             }
            },
            "type": "scattergl"
           }
          ],
          "scattermapbox": [
           {
            "marker": {
             "colorbar": {
              "outlinewidth": 0,
              "ticks": ""
             }
            },
            "type": "scattermapbox"
           }
          ],
          "scatterpolar": [
           {
            "marker": {
             "colorbar": {
              "outlinewidth": 0,
              "ticks": ""
             }
            },
            "type": "scatterpolar"
           }
          ],
          "scatterpolargl": [
           {
            "marker": {
             "colorbar": {
              "outlinewidth": 0,
              "ticks": ""
             }
            },
            "type": "scatterpolargl"
           }
          ],
          "scatterternary": [
           {
            "marker": {
             "colorbar": {
              "outlinewidth": 0,
              "ticks": ""
             }
            },
            "type": "scatterternary"
           }
          ],
          "surface": [
           {
            "colorbar": {
             "outlinewidth": 0,
             "ticks": ""
            },
            "colorscale": [
             [
              0,
              "#0d0887"
             ],
             [
              0.1111111111111111,
              "#46039f"
             ],
             [
              0.2222222222222222,
              "#7201a8"
             ],
             [
              0.3333333333333333,
              "#9c179e"
             ],
             [
              0.4444444444444444,
              "#bd3786"
             ],
             [
              0.5555555555555556,
              "#d8576b"
             ],
             [
              0.6666666666666666,
              "#ed7953"
             ],
             [
              0.7777777777777778,
              "#fb9f3a"
             ],
             [
              0.8888888888888888,
              "#fdca26"
             ],
             [
              1,
              "#f0f921"
             ]
            ],
            "type": "surface"
           }
          ],
          "table": [
           {
            "cells": {
             "fill": {
              "color": "#EBF0F8"
             },
             "line": {
              "color": "white"
             }
            },
            "header": {
             "fill": {
              "color": "#C8D4E3"
             },
             "line": {
              "color": "white"
             }
            },
            "type": "table"
           }
          ]
         },
         "layout": {
          "annotationdefaults": {
           "arrowcolor": "#2a3f5f",
           "arrowhead": 0,
           "arrowwidth": 1
          },
          "autotypenumbers": "strict",
          "coloraxis": {
           "colorbar": {
            "outlinewidth": 0,
            "ticks": ""
           }
          },
          "colorscale": {
           "diverging": [
            [
             0,
             "#8e0152"
            ],
            [
             0.1,
             "#c51b7d"
            ],
            [
             0.2,
             "#de77ae"
            ],
            [
             0.3,
             "#f1b6da"
            ],
            [
             0.4,
             "#fde0ef"
            ],
            [
             0.5,
             "#f7f7f7"
            ],
            [
             0.6,
             "#e6f5d0"
            ],
            [
             0.7,
             "#b8e186"
            ],
            [
             0.8,
             "#7fbc41"
            ],
            [
             0.9,
             "#4d9221"
            ],
            [
             1,
             "#276419"
            ]
           ],
           "sequential": [
            [
             0,
             "#0d0887"
            ],
            [
             0.1111111111111111,
             "#46039f"
            ],
            [
             0.2222222222222222,
             "#7201a8"
            ],
            [
             0.3333333333333333,
             "#9c179e"
            ],
            [
             0.4444444444444444,
             "#bd3786"
            ],
            [
             0.5555555555555556,
             "#d8576b"
            ],
            [
             0.6666666666666666,
             "#ed7953"
            ],
            [
             0.7777777777777778,
             "#fb9f3a"
            ],
            [
             0.8888888888888888,
             "#fdca26"
            ],
            [
             1,
             "#f0f921"
            ]
           ],
           "sequentialminus": [
            [
             0,
             "#0d0887"
            ],
            [
             0.1111111111111111,
             "#46039f"
            ],
            [
             0.2222222222222222,
             "#7201a8"
            ],
            [
             0.3333333333333333,
             "#9c179e"
            ],
            [
             0.4444444444444444,
             "#bd3786"
            ],
            [
             0.5555555555555556,
             "#d8576b"
            ],
            [
             0.6666666666666666,
             "#ed7953"
            ],
            [
             0.7777777777777778,
             "#fb9f3a"
            ],
            [
             0.8888888888888888,
             "#fdca26"
            ],
            [
             1,
             "#f0f921"
            ]
           ]
          },
          "colorway": [
           "#636efa",
           "#EF553B",
           "#00cc96",
           "#ab63fa",
           "#FFA15A",
           "#19d3f3",
           "#FF6692",
           "#B6E880",
           "#FF97FF",
           "#FECB52"
          ],
          "font": {
           "color": "#2a3f5f"
          },
          "geo": {
           "bgcolor": "white",
           "lakecolor": "white",
           "landcolor": "#E5ECF6",
           "showlakes": true,
           "showland": true,
           "subunitcolor": "white"
          },
          "hoverlabel": {
           "align": "left"
          },
          "hovermode": "closest",
          "mapbox": {
           "style": "light"
          },
          "paper_bgcolor": "white",
          "plot_bgcolor": "#E5ECF6",
          "polar": {
           "angularaxis": {
            "gridcolor": "white",
            "linecolor": "white",
            "ticks": ""
           },
           "bgcolor": "#E5ECF6",
           "radialaxis": {
            "gridcolor": "white",
            "linecolor": "white",
            "ticks": ""
           }
          },
          "scene": {
           "xaxis": {
            "backgroundcolor": "#E5ECF6",
            "gridcolor": "white",
            "gridwidth": 2,
            "linecolor": "white",
            "showbackground": true,
            "ticks": "",
            "zerolinecolor": "white"
           },
           "yaxis": {
            "backgroundcolor": "#E5ECF6",
            "gridcolor": "white",
            "gridwidth": 2,
            "linecolor": "white",
            "showbackground": true,
            "ticks": "",
            "zerolinecolor": "white"
           },
           "zaxis": {
            "backgroundcolor": "#E5ECF6",
            "gridcolor": "white",
            "gridwidth": 2,
            "linecolor": "white",
            "showbackground": true,
            "ticks": "",
            "zerolinecolor": "white"
           }
          },
          "shapedefaults": {
           "line": {
            "color": "#2a3f5f"
           }
          },
          "ternary": {
           "aaxis": {
            "gridcolor": "white",
            "linecolor": "white",
            "ticks": ""
           },
           "baxis": {
            "gridcolor": "white",
            "linecolor": "white",
            "ticks": ""
           },
           "bgcolor": "#E5ECF6",
           "caxis": {
            "gridcolor": "white",
            "linecolor": "white",
            "ticks": ""
           }
          },
          "title": {
           "x": 0.05
          },
          "xaxis": {
           "automargin": true,
           "gridcolor": "white",
           "linecolor": "white",
           "ticks": "",
           "title": {
            "standoff": 15
           },
           "zerolinecolor": "white",
           "zerolinewidth": 2
          },
          "yaxis": {
           "automargin": true,
           "gridcolor": "white",
           "linecolor": "white",
           "ticks": "",
           "title": {
            "standoff": 15
           },
           "zerolinecolor": "white",
           "zerolinewidth": 2
          }
         }
        },
        "title": {
         "text": "Treasury Zero Curve bootstrapped from Par — 2025-09-25"
        },
        "width": 900,
        "xaxis": {
         "title": {
          "text": "Maturity (years)"
         }
        },
        "yaxis": {
         "title": {
          "text": "Zero Rate (%)"
         }
        }
       }
      }
     },
     "metadata": {},
     "output_type": "display_data"
    }
   ],
   "source": [
    "# Bootstrap zeros from your 2025 par curve (percent in, percent out)\n",
    "zeros_2025, dfs_2025 = bootstrap_zeros_from_par(\n",
    "    curve_df, grid=np.arange(0.5, 30.0 + 0.5, 0.5), comp=\"semiannual\"\n",
    ")\n",
    "\n",
    "# Plot the latest date\n",
    "import plotly.graph_objects as go\n",
    "\n",
    "latest = zeros_2025.dropna(how=\"all\").index[-1]\n",
    "row = zeros_2025.loc[latest].dropna()\n",
    "fig = go.Figure()\n",
    "fig.add_trace(go.Scatter(x=row.index.astype(float), y=row.values, mode=\"lines+markers\",\n",
    "                         name=\"Bootstrapped zeros (semiannual)\"))\n",
    "fig.update_layout(\n",
    "    title=f\"Treasury Zero Curve bootstrapped from Par — {latest.date()}\",\n",
    "    xaxis_title=\"Maturity (years)\",\n",
    "    yaxis_title=\"Zero Rate (%)\",\n",
    "    width=900, height=500\n",
    ")\n",
    "fig.show()\n"
   ]
  },
  {
   "cell_type": "markdown",
   "id": "228c3890",
   "metadata": {},
   "source": [
    "# Question 5\n",
    "Calculate the 1 year forward rates from 1Y - 30Y (so 2Y1Y forward, 3Y1Y forward etc.). Plot the forward curve and classify the shape of it (inverted/normal etc.) Explain what that means!"
   ]
  },
  {
   "cell_type": "code",
   "execution_count": 86,
   "id": "bc4ec8fc",
   "metadata": {},
   "outputs": [],
   "source": [
    "# ---- Choose your zero curve source ----\n",
    "# Option A: GS zeros (columns like \"1Y\",\"2Y\",..., \"30Y\")\n",
    "zero_curve_df = curve_df_zero.copy()\n",
    "comp_in = \"annual\"         # GS treated as annual\n",
    "\n",
    "# Option B: Bootstrapped zeros (columns numeric: 0.5, 1.0, ..., 30.0)\n",
    "# zero_curve_df = zeros_2025.copy()\n",
    "# comp_in = \"semiannual\"   # our bootstrap produced semiannual zeros\n",
    "\n",
    "# Compute 1-year forwards (f_{t,t+1}); interpolate_missing fills gaps like 4Y, 6Y, etc.\n",
    "fwd_1y = compute_forward_curve_from_zero(\n",
    "    zero_curve_df, horizon_years=1.0, comp=comp_in, interpolate_missing=True\n",
    ").dropna(how=\"all\")\n"
   ]
  },
  {
   "cell_type": "code",
   "execution_count": 87,
   "id": "4b7b4c71",
   "metadata": {},
   "outputs": [
    {
     "data": {
      "application/vnd.plotly.v1+json": {
       "config": {
        "plotlyServerURL": "https://plot.ly"
       },
       "data": [
        {
         "mode": "lines+markers",
         "name": "1Y forwards",
         "type": "scatter",
         "x": [
          1,
          2,
          3,
          4,
          5,
          6,
          7,
          10,
          20
         ],
         "y": [
          3.510347482914611,
          3.6100260341333845,
          3.9102084338318743,
          4.030347255657096,
          4.421595512476584,
          4.632232209186493,
          4.6953589294389975,
          4.910839443672321,
          4.892008012412652
         ]
        }
       ],
       "layout": {
        "height": 520,
        "template": {
         "data": {
          "bar": [
           {
            "error_x": {
             "color": "#2a3f5f"
            },
            "error_y": {
             "color": "#2a3f5f"
            },
            "marker": {
             "line": {
              "color": "#E5ECF6",
              "width": 0.5
             },
             "pattern": {
              "fillmode": "overlay",
              "size": 10,
              "solidity": 0.2
             }
            },
            "type": "bar"
           }
          ],
          "barpolar": [
           {
            "marker": {
             "line": {
              "color": "#E5ECF6",
              "width": 0.5
             },
             "pattern": {
              "fillmode": "overlay",
              "size": 10,
              "solidity": 0.2
             }
            },
            "type": "barpolar"
           }
          ],
          "carpet": [
           {
            "aaxis": {
             "endlinecolor": "#2a3f5f",
             "gridcolor": "white",
             "linecolor": "white",
             "minorgridcolor": "white",
             "startlinecolor": "#2a3f5f"
            },
            "baxis": {
             "endlinecolor": "#2a3f5f",
             "gridcolor": "white",
             "linecolor": "white",
             "minorgridcolor": "white",
             "startlinecolor": "#2a3f5f"
            },
            "type": "carpet"
           }
          ],
          "choropleth": [
           {
            "colorbar": {
             "outlinewidth": 0,
             "ticks": ""
            },
            "type": "choropleth"
           }
          ],
          "contour": [
           {
            "colorbar": {
             "outlinewidth": 0,
             "ticks": ""
            },
            "colorscale": [
             [
              0,
              "#0d0887"
             ],
             [
              0.1111111111111111,
              "#46039f"
             ],
             [
              0.2222222222222222,
              "#7201a8"
             ],
             [
              0.3333333333333333,
              "#9c179e"
             ],
             [
              0.4444444444444444,
              "#bd3786"
             ],
             [
              0.5555555555555556,
              "#d8576b"
             ],
             [
              0.6666666666666666,
              "#ed7953"
             ],
             [
              0.7777777777777778,
              "#fb9f3a"
             ],
             [
              0.8888888888888888,
              "#fdca26"
             ],
             [
              1,
              "#f0f921"
             ]
            ],
            "type": "contour"
           }
          ],
          "contourcarpet": [
           {
            "colorbar": {
             "outlinewidth": 0,
             "ticks": ""
            },
            "type": "contourcarpet"
           }
          ],
          "heatmap": [
           {
            "colorbar": {
             "outlinewidth": 0,
             "ticks": ""
            },
            "colorscale": [
             [
              0,
              "#0d0887"
             ],
             [
              0.1111111111111111,
              "#46039f"
             ],
             [
              0.2222222222222222,
              "#7201a8"
             ],
             [
              0.3333333333333333,
              "#9c179e"
             ],
             [
              0.4444444444444444,
              "#bd3786"
             ],
             [
              0.5555555555555556,
              "#d8576b"
             ],
             [
              0.6666666666666666,
              "#ed7953"
             ],
             [
              0.7777777777777778,
              "#fb9f3a"
             ],
             [
              0.8888888888888888,
              "#fdca26"
             ],
             [
              1,
              "#f0f921"
             ]
            ],
            "type": "heatmap"
           }
          ],
          "heatmapgl": [
           {
            "colorbar": {
             "outlinewidth": 0,
             "ticks": ""
            },
            "colorscale": [
             [
              0,
              "#0d0887"
             ],
             [
              0.1111111111111111,
              "#46039f"
             ],
             [
              0.2222222222222222,
              "#7201a8"
             ],
             [
              0.3333333333333333,
              "#9c179e"
             ],
             [
              0.4444444444444444,
              "#bd3786"
             ],
             [
              0.5555555555555556,
              "#d8576b"
             ],
             [
              0.6666666666666666,
              "#ed7953"
             ],
             [
              0.7777777777777778,
              "#fb9f3a"
             ],
             [
              0.8888888888888888,
              "#fdca26"
             ],
             [
              1,
              "#f0f921"
             ]
            ],
            "type": "heatmapgl"
           }
          ],
          "histogram": [
           {
            "marker": {
             "pattern": {
              "fillmode": "overlay",
              "size": 10,
              "solidity": 0.2
             }
            },
            "type": "histogram"
           }
          ],
          "histogram2d": [
           {
            "colorbar": {
             "outlinewidth": 0,
             "ticks": ""
            },
            "colorscale": [
             [
              0,
              "#0d0887"
             ],
             [
              0.1111111111111111,
              "#46039f"
             ],
             [
              0.2222222222222222,
              "#7201a8"
             ],
             [
              0.3333333333333333,
              "#9c179e"
             ],
             [
              0.4444444444444444,
              "#bd3786"
             ],
             [
              0.5555555555555556,
              "#d8576b"
             ],
             [
              0.6666666666666666,
              "#ed7953"
             ],
             [
              0.7777777777777778,
              "#fb9f3a"
             ],
             [
              0.8888888888888888,
              "#fdca26"
             ],
             [
              1,
              "#f0f921"
             ]
            ],
            "type": "histogram2d"
           }
          ],
          "histogram2dcontour": [
           {
            "colorbar": {
             "outlinewidth": 0,
             "ticks": ""
            },
            "colorscale": [
             [
              0,
              "#0d0887"
             ],
             [
              0.1111111111111111,
              "#46039f"
             ],
             [
              0.2222222222222222,
              "#7201a8"
             ],
             [
              0.3333333333333333,
              "#9c179e"
             ],
             [
              0.4444444444444444,
              "#bd3786"
             ],
             [
              0.5555555555555556,
              "#d8576b"
             ],
             [
              0.6666666666666666,
              "#ed7953"
             ],
             [
              0.7777777777777778,
              "#fb9f3a"
             ],
             [
              0.8888888888888888,
              "#fdca26"
             ],
             [
              1,
              "#f0f921"
             ]
            ],
            "type": "histogram2dcontour"
           }
          ],
          "mesh3d": [
           {
            "colorbar": {
             "outlinewidth": 0,
             "ticks": ""
            },
            "type": "mesh3d"
           }
          ],
          "parcoords": [
           {
            "line": {
             "colorbar": {
              "outlinewidth": 0,
              "ticks": ""
             }
            },
            "type": "parcoords"
           }
          ],
          "pie": [
           {
            "automargin": true,
            "type": "pie"
           }
          ],
          "scatter": [
           {
            "fillpattern": {
             "fillmode": "overlay",
             "size": 10,
             "solidity": 0.2
            },
            "type": "scatter"
           }
          ],
          "scatter3d": [
           {
            "line": {
             "colorbar": {
              "outlinewidth": 0,
              "ticks": ""
             }
            },
            "marker": {
             "colorbar": {
              "outlinewidth": 0,
              "ticks": ""
             }
            },
            "type": "scatter3d"
           }
          ],
          "scattercarpet": [
           {
            "marker": {
             "colorbar": {
              "outlinewidth": 0,
              "ticks": ""
             }
            },
            "type": "scattercarpet"
           }
          ],
          "scattergeo": [
           {
            "marker": {
             "colorbar": {
              "outlinewidth": 0,
              "ticks": ""
             }
            },
            "type": "scattergeo"
           }
          ],
          "scattergl": [
           {
            "marker": {
             "colorbar": {
              "outlinewidth": 0,
              "ticks": ""
             }
            },
            "type": "scattergl"
           }
          ],
          "scattermapbox": [
           {
            "marker": {
             "colorbar": {
              "outlinewidth": 0,
              "ticks": ""
             }
            },
            "type": "scattermapbox"
           }
          ],
          "scatterpolar": [
           {
            "marker": {
             "colorbar": {
              "outlinewidth": 0,
              "ticks": ""
             }
            },
            "type": "scatterpolar"
           }
          ],
          "scatterpolargl": [
           {
            "marker": {
             "colorbar": {
              "outlinewidth": 0,
              "ticks": ""
             }
            },
            "type": "scatterpolargl"
           }
          ],
          "scatterternary": [
           {
            "marker": {
             "colorbar": {
              "outlinewidth": 0,
              "ticks": ""
             }
            },
            "type": "scatterternary"
           }
          ],
          "surface": [
           {
            "colorbar": {
             "outlinewidth": 0,
             "ticks": ""
            },
            "colorscale": [
             [
              0,
              "#0d0887"
             ],
             [
              0.1111111111111111,
              "#46039f"
             ],
             [
              0.2222222222222222,
              "#7201a8"
             ],
             [
              0.3333333333333333,
              "#9c179e"
             ],
             [
              0.4444444444444444,
              "#bd3786"
             ],
             [
              0.5555555555555556,
              "#d8576b"
             ],
             [
              0.6666666666666666,
              "#ed7953"
             ],
             [
              0.7777777777777778,
              "#fb9f3a"
             ],
             [
              0.8888888888888888,
              "#fdca26"
             ],
             [
              1,
              "#f0f921"
             ]
            ],
            "type": "surface"
           }
          ],
          "table": [
           {
            "cells": {
             "fill": {
              "color": "#EBF0F8"
             },
             "line": {
              "color": "white"
             }
            },
            "header": {
             "fill": {
              "color": "#C8D4E3"
             },
             "line": {
              "color": "white"
             }
            },
            "type": "table"
           }
          ]
         },
         "layout": {
          "annotationdefaults": {
           "arrowcolor": "#2a3f5f",
           "arrowhead": 0,
           "arrowwidth": 1
          },
          "autotypenumbers": "strict",
          "coloraxis": {
           "colorbar": {
            "outlinewidth": 0,
            "ticks": ""
           }
          },
          "colorscale": {
           "diverging": [
            [
             0,
             "#8e0152"
            ],
            [
             0.1,
             "#c51b7d"
            ],
            [
             0.2,
             "#de77ae"
            ],
            [
             0.3,
             "#f1b6da"
            ],
            [
             0.4,
             "#fde0ef"
            ],
            [
             0.5,
             "#f7f7f7"
            ],
            [
             0.6,
             "#e6f5d0"
            ],
            [
             0.7,
             "#b8e186"
            ],
            [
             0.8,
             "#7fbc41"
            ],
            [
             0.9,
             "#4d9221"
            ],
            [
             1,
             "#276419"
            ]
           ],
           "sequential": [
            [
             0,
             "#0d0887"
            ],
            [
             0.1111111111111111,
             "#46039f"
            ],
            [
             0.2222222222222222,
             "#7201a8"
            ],
            [
             0.3333333333333333,
             "#9c179e"
            ],
            [
             0.4444444444444444,
             "#bd3786"
            ],
            [
             0.5555555555555556,
             "#d8576b"
            ],
            [
             0.6666666666666666,
             "#ed7953"
            ],
            [
             0.7777777777777778,
             "#fb9f3a"
            ],
            [
             0.8888888888888888,
             "#fdca26"
            ],
            [
             1,
             "#f0f921"
            ]
           ],
           "sequentialminus": [
            [
             0,
             "#0d0887"
            ],
            [
             0.1111111111111111,
             "#46039f"
            ],
            [
             0.2222222222222222,
             "#7201a8"
            ],
            [
             0.3333333333333333,
             "#9c179e"
            ],
            [
             0.4444444444444444,
             "#bd3786"
            ],
            [
             0.5555555555555556,
             "#d8576b"
            ],
            [
             0.6666666666666666,
             "#ed7953"
            ],
            [
             0.7777777777777778,
             "#fb9f3a"
            ],
            [
             0.8888888888888888,
             "#fdca26"
            ],
            [
             1,
             "#f0f921"
            ]
           ]
          },
          "colorway": [
           "#636efa",
           "#EF553B",
           "#00cc96",
           "#ab63fa",
           "#FFA15A",
           "#19d3f3",
           "#FF6692",
           "#B6E880",
           "#FF97FF",
           "#FECB52"
          ],
          "font": {
           "color": "#2a3f5f"
          },
          "geo": {
           "bgcolor": "white",
           "lakecolor": "white",
           "landcolor": "#E5ECF6",
           "showlakes": true,
           "showland": true,
           "subunitcolor": "white"
          },
          "hoverlabel": {
           "align": "left"
          },
          "hovermode": "closest",
          "mapbox": {
           "style": "light"
          },
          "paper_bgcolor": "white",
          "plot_bgcolor": "#E5ECF6",
          "polar": {
           "angularaxis": {
            "gridcolor": "white",
            "linecolor": "white",
            "ticks": ""
           },
           "bgcolor": "#E5ECF6",
           "radialaxis": {
            "gridcolor": "white",
            "linecolor": "white",
            "ticks": ""
           }
          },
          "scene": {
           "xaxis": {
            "backgroundcolor": "#E5ECF6",
            "gridcolor": "white",
            "gridwidth": 2,
            "linecolor": "white",
            "showbackground": true,
            "ticks": "",
            "zerolinecolor": "white"
           },
           "yaxis": {
            "backgroundcolor": "#E5ECF6",
            "gridcolor": "white",
            "gridwidth": 2,
            "linecolor": "white",
            "showbackground": true,
            "ticks": "",
            "zerolinecolor": "white"
           },
           "zaxis": {
            "backgroundcolor": "#E5ECF6",
            "gridcolor": "white",
            "gridwidth": 2,
            "linecolor": "white",
            "showbackground": true,
            "ticks": "",
            "zerolinecolor": "white"
           }
          },
          "shapedefaults": {
           "line": {
            "color": "#2a3f5f"
           }
          },
          "ternary": {
           "aaxis": {
            "gridcolor": "white",
            "linecolor": "white",
            "ticks": ""
           },
           "baxis": {
            "gridcolor": "white",
            "linecolor": "white",
            "ticks": ""
           },
           "bgcolor": "#E5ECF6",
           "caxis": {
            "gridcolor": "white",
            "linecolor": "white",
            "ticks": ""
           }
          },
          "title": {
           "x": 0.05
          },
          "xaxis": {
           "automargin": true,
           "gridcolor": "white",
           "linecolor": "white",
           "ticks": "",
           "title": {
            "standoff": 15
           },
           "zerolinecolor": "white",
           "zerolinewidth": 2
          },
          "yaxis": {
           "automargin": true,
           "gridcolor": "white",
           "linecolor": "white",
           "ticks": "",
           "title": {
            "standoff": 15
           },
           "zerolinecolor": "white",
           "zerolinewidth": 2
          }
         }
        },
        "title": {
         "text": "1Y Forward Curve from Zero Rates — 2025-08-01"
        },
        "width": 950,
        "xaxis": {
         "title": {
          "text": "Start (years)  →  (2Y1Y starts at 2 years, 3Y1Y at 3 years, ...)"
         }
        },
        "yaxis": {
         "title": {
          "text": "Forward Rate (%)"
         }
        }
       }
      }
     },
     "metadata": {},
     "output_type": "display_data"
    }
   ],
   "source": [
    "import plotly.graph_objects as go\n",
    "import numpy as np\n",
    "\n",
    "assert not fwd_1y.empty, \"No forwards computed—check your zero curve columns and dates.\"\n",
    "\n",
    "latest_date = fwd_1y.index[-1]\n",
    "row = fwd_1y.loc[latest_date].dropna()\n",
    "\n",
    "x = np.array([float(c) for c in row.index])  # start years t\n",
    "y = row.values                               # forward rates in %\n",
    "\n",
    "fig = go.Figure()\n",
    "fig.add_trace(go.Scatter(x=x, y=y, mode=\"lines+markers\", name=\"1Y forwards\"))\n",
    "fig.update_layout(\n",
    "    title=f\"1Y Forward Curve from Zero Rates — {latest_date.date()}\",\n",
    "    xaxis_title=\"Start (years)  →  (2Y1Y starts at 2 years, 3Y1Y at 3 years, ...)\",\n",
    "    yaxis_title=\"Forward Rate (%)\",\n",
    "    width=950, height=520\n",
    ")\n",
    "fig.show()\n"
   ]
  },
  {
   "cell_type": "code",
   "execution_count": 88,
   "id": "21acfbfc",
   "metadata": {},
   "outputs": [
    {
     "name": "stdout",
     "output_type": "stream",
     "text": [
      "Shape classification: mixed/irregular  |  regression slope ≈ 7.3 bp/year\n",
      "Interpretation: No clean single-shape signal (data gaps, noise, or multiple local moves).\n"
     ]
    }
   ],
   "source": [
    "import numpy as np\n",
    "\n",
    "def classify_forward_curve(x_years, y_percent, slope_tol_bps_per_year=2.0, hump_thresh_bps=10.0):\n",
    "    \"\"\"\n",
    "    Heuristic:\n",
    "    - 'normal'   : upward-sloping overall and roughly nondecreasing\n",
    "    - 'inverted' : downward-sloping overall and roughly nonincreasing\n",
    "    - 'humped'   : interior max clearly above both ends (by hump_thresh)\n",
    "    - 'flat/mixed': otherwise\n",
    "\n",
    "    Tolerances are in basis points per year (slope) and basis points (hump height).\n",
    "    \"\"\"\n",
    "    x = np.asarray(x_years, dtype=float)\n",
    "    y = np.asarray(y_percent, dtype=float)\n",
    "\n",
    "    # overall slope (bp/year)\n",
    "    slope = np.polyfit(x, y, 1)[0] * 100.0  # %/yr → bp/yr\n",
    "\n",
    "    # monotonic checks with small tolerance (bp)\n",
    "    dy = np.diff(y) * 100.0  # % → bp\n",
    "    eps = 1.0  # 1bp wiggle room per step\n",
    "\n",
    "    nondec = np.all(dy >= -eps)\n",
    "    noninc = np.all(dy <=  eps)\n",
    "\n",
    "    # hump check: interior maximum meaningfully above both ends\n",
    "    i_max = int(np.argmax(y))\n",
    "    hump = 0 < i_max < len(y)-1 and (y[i_max] - max(y[0], y[-1]))*100.0 >= hump_thresh_bps\n",
    "\n",
    "    if slope > slope_tol_bps_per_year and nondec:\n",
    "        label = \"normal (upward-sloping)\"\n",
    "    elif slope < -slope_tol_bps_per_year and noninc:\n",
    "        label = \"inverted (downward-sloping)\"\n",
    "    elif hump:\n",
    "        label = \"humped\"\n",
    "    elif abs(slope) <= slope_tol_bps_per_year:\n",
    "        label = \"flat\"\n",
    "    else:\n",
    "        label = \"mixed/irregular\"\n",
    "\n",
    "    return label, slope\n",
    "\n",
    "label, slope_bp_per_year = classify_forward_curve(x, y)\n",
    "print(f\"Shape classification: {label}  |  regression slope ≈ {slope_bp_per_year:.1f} bp/year\")\n",
    "\n",
    "# Short interpretation to include in your write-up:\n",
    "explanations = {\n",
    "    \"normal (upward-sloping)\":\n",
    "        \"Market-implied short rates are expected to be higher in the future, or a positive term premium dominates.\",\n",
    "    \"inverted (downward-sloping)\":\n",
    "        \"Market implies falling future short rates—often associated with easing expectations / recession risk.\",\n",
    "    \"humped\":\n",
    "        \"Near- to intermediate-term forwards are elevated, but longer-dated forwards decline—peaking mid-curve.\",\n",
    "    \"flat\":\n",
    "        \"Little change across maturities—transition or uncertainty; forwards roughly constant.\",\n",
    "    \"mixed/irregular\":\n",
    "        \"No clean single-shape signal (data gaps, noise, or multiple local moves).\"\n",
    "}\n",
    "print(\"Interpretation:\", explanations.get(label, \"See plot for details.\"))\n"
   ]
  }
 ],
 "metadata": {
  "kernelspec": {
   "display_name": "base",
   "language": "python",
   "name": "python3"
  },
  "language_info": {
   "codemirror_mode": {
    "name": "ipython",
    "version": 3
   },
   "file_extension": ".py",
   "mimetype": "text/x-python",
   "name": "python",
   "nbconvert_exporter": "python",
   "pygments_lexer": "ipython3",
   "version": "3.11.5"
  }
 },
 "nbformat": 4,
 "nbformat_minor": 5
}
