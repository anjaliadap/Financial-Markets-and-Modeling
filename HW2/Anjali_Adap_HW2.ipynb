{
 "cells": [
  {
   "cell_type": "markdown",
   "id": "c2a37fad",
   "metadata": {},
   "source": [
    "## Importing Libraries"
   ]
  },
  {
   "cell_type": "code",
   "execution_count": 1,
   "id": "38a0c8d9",
   "metadata": {},
   "outputs": [],
   "source": [
    "import requests\n",
    "import pandas as pd\n",
    "import numpy as np\n",
    "import matplotlib.pyplot as plt\n",
    "from datetime import datetime, date, timedelta\n",
    "from dateutil.relativedelta import relativedelta\n",
    "import plotly.graph_objects as go\n",
    "\n",
    "import matplotlib.pyplot as plt\n",
    "from scipy.interpolate import interp1d\n",
    "\n",
    "import holidays\n",
    "us_holidays = holidays.UnitedStates()"
   ]
  },
  {
   "cell_type": "markdown",
   "id": "65887a40",
   "metadata": {},
   "source": [
    "This is a two-week long homework composed of the following portions:\n",
    "\n",
    "1. Bond construction \n",
    "2. Duration calculation (should be pretty simple!)\n",
    "3. Using the FRED API to plot the yield/forward/zero curve\n",
    "4. Using treasury coupon bond prices as of 09/19/2025 to bootstrap spot rates from coupon bonds. \n",
    "    Write a small piece comparing that with the zero curve. \n",
    "5. From the spot curve in Q4, plot the forward curve and classify the yield shape (is it inverted/normal etc)\n",
    "\n",
    "\n",
    "For all data collection purposes get the data as of **09/19/2025**."
   ]
  },
  {
   "cell_type": "markdown",
   "id": "976b835d",
   "metadata": {},
   "source": [
    "# Question 1\n",
    "\n",
    "Constructure hypothetical treasury par bond of a given time to maturity (in years) with given yield that pays semiannual coupons. Just define the functions."
   ]
  },
  {
   "cell_type": "code",
   "execution_count": null,
   "id": "4a14f0bb",
   "metadata": {},
   "outputs": [],
   "source": [
    "class Treasury_Par_Bond:\n",
    "\n",
    "    n_bonds = 0\n",
    "\n",
    "    # ----- Instance Details -----\n",
    "    def __init__(self, fv, ytm, freq, T, issue_date: date): # force issue date to be entered \n",
    "        self.fv = fv\n",
    "        self.ytm = ytm\n",
    "        self.freq = freq\n",
    "        self.T = T\n",
    "\n",
    "        # accept str or date for issue_date\n",
    "        self.issue_date = issue_date if isinstance(issue_date, date) else date.fromisoformat(issue_date)\n",
    "\n",
    "        # For a par bond, coupon rate = YTM\n",
    "        self.coupon_rate = ytm\n",
    "\n",
    "        # Total number of payments\n",
    "        self.n_periods = self.T * self.freq # N\n",
    "\n",
    "        # Counting the number of bonds\n",
    "        Treasury_Par_Bond.n_bonds += 1\n",
    "\n",
    "    # ----- Helper Functions -----\n",
    "    def yield_per_coupon(self):\n",
    "        return self.ytm / self.freq\n",
    "\n",
    "    def discount_factor(self, t):\n",
    "        \"\"\" \n",
    "        Don't directly use n_periods. \n",
    "        Discount factor is individualised for each payment.\n",
    "        \n",
    "        \"\"\"\n",
    "        return 1 / ((1 + self.yield_per_coupon()) ** t)\n",
    "\n",
    "    @staticmethod\n",
    "    def is_business_day(d: date, holidays=us_holidays) -> bool:\n",
    "        return d.weekday() < 5 and (not holidays or d not in holidays)\n",
    "\n",
    "    @staticmethod\n",
    "    def adjusted_business_day(d: date, holiday_calendar=us_holidays) -> date:\n",
    "        \"\"\"\n",
    "        Roll forward to the next business day if d is weekend/holiday.\n",
    "        \n",
    "        \"\"\"\n",
    "        while d.weekday() >= 5 or d in holiday_calendar:  # 5=Sat, 6=Sun\n",
    "            d += timedelta(days=1)\n",
    "        \n",
    "        return d\n",
    "    \n",
    "    @staticmethod\n",
    "    def get_settlement_date_from_trade_date(trade_date, holidays=us_holidays):\n",
    "        \"\"\"\n",
    "        US Treasury settlement: T+1 (roll forward for weekends/holidays).\n",
    "        \n",
    "        \"\"\"\n",
    "        # Base case: T+1 calendar day\n",
    "        settlement_date = trade_date + timedelta(days=1)\n",
    "        \n",
    "        # Roll forward until business day\n",
    "        while settlement_date.weekday() >= 5 or settlement_date in holidays:  # 5=Sat, 6=Sun\n",
    "            settlement_date += timedelta(days=1)\n",
    "        \n",
    "        return settlement_date\n",
    "\n",
    "    # ----- Value of Each Coupon Payment -----\n",
    "    def coupon_payment(self):\n",
    "        return self.fv * self.coupon_rate / self.freq\n",
    "\n",
    "    # ----- Cash Flow Schedule for the Bond -----\n",
    "    def cash_flows(self):\n",
    "        \"\"\"\n",
    "        Returns a list of all coupon payments,\n",
    "        with the face value added to the last payment. \n",
    "        \n",
    "        \"\"\"\n",
    "        c = self.coupon_payment()\n",
    "        cash_flows = [c] * self.n_periods # N coupon payments\n",
    "        cash_flows[-1] += self.fv # Nth payment = coupon + principal\n",
    "\n",
    "        return cash_flows \n",
    "\n",
    "    # ----- Bond Price from YTM -----\n",
    "    def bond_price_from_ytm(self):\n",
    "        \"\"\"\n",
    "        Returns the present value (price) of the bond\n",
    "        based on its yield to maturity (ytm).\n",
    "\n",
    "        Note: US Treasuries use discrete compounding discouting\n",
    "        \n",
    "        \"\"\"\n",
    "        cash_flows = self.cash_flows()\n",
    "        bond_price = sum(cf * self.discount_factor(t) for t, cf in enumerate (cash_flows, start=1)) # returns (index, value)\n",
    "\n",
    "        return bond_price\n",
    "\n",
    "    # ----- Cash Flows of the Bond -----\n",
    "    def table_of_cash_flows(self):\n",
    "        \"\"\"\n",
    "        Returns a list of dicts: period t, cash_flow, discount_factor, present_value.\n",
    "\n",
    "        \"\"\"\n",
    "        # Setting up coupon payment date calculation \n",
    "        months_between_payments = 12 // self.freq\n",
    "        scheduled_coupon_payment_date = self.issue_date \n",
    "\n",
    "        table = []\n",
    "        for t, cf in enumerate(self.cash_flows(), start=1):\n",
    "            scheduled_coupon_payment_date += relativedelta(months = months_between_payments) # Add months_between_payments to the issue_date for payment date \n",
    "            \n",
    "            # adjust coupon payment date if it is a holiday \n",
    "            actual_coupon_payment_date = Treasury_Par_Bond.adjusted_business_day(scheduled_coupon_payment_date)\n",
    "\n",
    "            df = self.discount_factor(t)\n",
    "\n",
    "            table.append({\n",
    "                \"t\": t,\n",
    "                \"scheduled_date\": scheduled_coupon_payment_date,   \n",
    "                \"coupon_payment_date\": actual_coupon_payment_date, \n",
    "                \"cash_flow\": cf,\n",
    "                \"discount_factor\": df,\n",
    "                \"present_value\": cf * df\n",
    "            })\n",
    "        \n",
    "        return table\n",
    "\n",
    "    # ----- Accrued Interest, Dirty Price and Clean Price -----\n",
    "    # Dirty Price = Clean Price + Accured Interest \n",
    "\n",
    "    def accrued_days(self, trade_date, holidays=us_holidays) -> int:\n",
    "        settlement_date = self.get_settlement_date_from_trade_date(trade_date, holidays)\n",
    "        coupon_payment_dates = [row[\"coupon_payment_date\"] for row in self.table_of_cash_flows()]\n",
    "\n",
    "        if settlement_date >= coupon_payment_dates[-1]:\n",
    "            return 0\n",
    "\n",
    "        if settlement_date < coupon_payment_dates[0]:\n",
    "            return max(0, (settlement_date - self.issue_date).days)\n",
    "\n",
    "        for i in range(1, len(coupon_payment_dates)):\n",
    "            if coupon_payment_dates[i-1] <= settlement_date < coupon_payment_dates[i]:\n",
    "                last_coupon_date = coupon_payment_dates[i-1]\n",
    "                return (settlement_date - last_coupon_date).days\n",
    "\n",
    "        return 0\n",
    "\n",
    "    def days_in_coupon_period(self, trade_date, holidays=us_holidays) -> int:\n",
    "        \"\"\"\n",
    "        Actual days in the current coupon period (denominator for Actual/Actual).\n",
    "        If pre-first-coupon: (first_coupon - issue_date). If post-final: 0.\n",
    "\n",
    "        \"\"\"\n",
    "        settlement_date = self.get_settlement_date_from_trade_date(trade_date, holidays)\n",
    "        coupon_payment_dates = [row[\"coupon_payment_date\"] for row in self.table_of_cash_flows()]\n",
    "\n",
    "        # After (or on) final coupon -> no period\n",
    "        if settlement_date >= coupon_payment_dates[-1]:\n",
    "            return 0\n",
    "\n",
    "        # Before first coupon -> period is (first_coupon - issue_date)\n",
    "        if settlement_date < coupon_payment_dates[0]:\n",
    "            return (coupon_payment_dates[0] - self.issue_date).days\n",
    "\n",
    "        # Between coupons\n",
    "        for i in range(1, len(coupon_payment_dates)):\n",
    "            if coupon_payment_dates[i-1] <= settlement_date < coupon_payment_dates[i]:\n",
    "                last_coupon_date = coupon_payment_dates[i-1]\n",
    "                next_coupon_date = coupon_payment_dates[i]\n",
    "                return (next_coupon_date - last_coupon_date).days\n",
    "\n",
    "        return 0\n",
    "\n",
    "    def accrued_fraction(self, trade_date, holidays=us_holidays):\n",
    "        \"\"\"\n",
    "        Actual/Actual fraction elapsed in the current coupon period.\n",
    "        \n",
    "        \"\"\"\n",
    "        denom = self.days_in_coupon_period(trade_date, holidays)\n",
    "        \n",
    "        if denom <= 0:\n",
    "            return 0.0\n",
    "        \n",
    "        numer = self.accrued_days(trade_date, holidays)  \n",
    "\n",
    "        x = numer / denom\n",
    "        \n",
    "        return 0.0 if x < 0 else (0.999999 if x >= 1 else x)\n",
    "    \n",
    "\n",
    "    def accrued_interest(self, trade_date, holidays=us_holidays):\n",
    "        \"\"\"\n",
    "        Accrued = coupon per period × accrued_fraction (Actual/Actual).\n",
    "        \n",
    "        \"\"\"\n",
    "        return self.coupon_payment() * self.accrued_fraction(trade_date, holidays)\n",
    "\n",
    "    def clean_price(self):\n",
    "        \"\"\"\n",
    "        Quoted clean price (uses coupon-date PV).\n",
    "        \n",
    "        \"\"\"\n",
    "        return self.bond_price_from_ytm()\n",
    "\n",
    "    def dirty_price_from_trade(self, trade_date, holidays=us_holidays) -> float:\n",
    "        \"\"\"\n",
    "        Dirty = Clean + Accrued (accrued computed at settlement).\n",
    "        \n",
    "        \"\"\"\n",
    "        return self.clean_price() + self.accrued_interest(trade_date, holidays)\n",
    "\n",
    "    # ----- Bond Duration -----\n",
    "    def macaulay_duration(self):\n",
    "        \"\"\"\n",
    "        Macaulay Duration (in years).\n",
    "        \n",
    "        \"\"\"\n",
    "        price = self.bond_price_from_ytm()\n",
    "        weighted_sum = sum(\n",
    "            t * cf * self.discount_factor(t)\n",
    "            for t, cf in enumerate(self.cash_flows(), start=1)\n",
    "        )\n",
    "        \n",
    "        return weighted_sum / price / self.freq  # divide by freq to convert periods -> years\n",
    "\n",
    "    def modified_duration(self):\n",
    "        mod_duration = self.macaulay_duration() / (1 + self.yield_per_coupon())\n",
    "\n",
    "        return mod_duration\n",
    "\n",
    "    def pv01(self) -> float:\n",
    "        \"\"\"\n",
    "        Price Value of 1bp (DV01).\n",
    "        \n",
    "        \"\"\"\n",
    "        return self.modified_duration() * self.clean_price() * 0.0001\n",
    "\n",
    "    \n",
    "    def convexity(self) -> float:\n",
    "        price = self.bond_price_from_ytm()\n",
    "        \n",
    "        if price <= 0:\n",
    "            return 0.0\n",
    "        \n",
    "        per = self.yield_per_coupon()\n",
    "        \n",
    "        conv_per_period = (\n",
    "            sum(\n",
    "                cf * t * (t + 1) * self.discount_factor(t+2)\n",
    "                for t, cf in enumerate(self.cash_flows(), start=1)\n",
    "            ) / price\n",
    "        )\n",
    "        \n",
    "        return conv_per_period / (self.freq ** 2)\n",
    "\n",
    "    def dollar_convexity(self) -> float:\n",
    "        \"\"\"\n",
    "        Dollar convexity = price × convexity\n",
    "        \n",
    "        \"\"\"\n",
    "        return self.clean_price() * self.convexity()"
   ]
  },
  {
   "cell_type": "code",
   "execution_count": 3,
   "id": "389a636f",
   "metadata": {},
   "outputs": [
    {
     "name": "stdout",
     "output_type": "stream",
     "text": [
      "Face Value:  $1,000.00\n",
      "YTM:  3.00%\n",
      "Coupon Frequency: 2\n",
      "Maturity (years): 5\n",
      "Number of Periods: 10\n",
      "\n",
      "Coupon Payment per Period: $15.00\n",
      "Cash Flows: ['$15.00', '$15.00', '$15.00', '$15.00', '$15.00', '$15.00', '$15.00', '$15.00', '$15.00', '$1,015.00']\n",
      "Bond Price from YTM (Clean): $1,000.00\n",
      "\n",
      "--- Cash Flow Table ---\n",
      "t= 1, Scheduled=2025-07-01, Payment Date=2025-07-01, CF=$15.00, DF=0.985222, PV=$14.78\n",
      "t= 2, Scheduled=2026-01-01, Payment Date=2026-01-02, CF=$15.00, DF=0.970662, PV=$14.56\n",
      "t= 3, Scheduled=2026-07-01, Payment Date=2026-07-01, CF=$15.00, DF=0.956317, PV=$14.34\n",
      "t= 4, Scheduled=2027-01-01, Payment Date=2027-01-04, CF=$15.00, DF=0.942184, PV=$14.13\n",
      "t= 5, Scheduled=2027-07-01, Payment Date=2027-07-01, CF=$15.00, DF=0.928260, PV=$13.92\n",
      "t= 6, Scheduled=2028-01-01, Payment Date=2028-01-03, CF=$15.00, DF=0.914542, PV=$13.72\n",
      "t= 7, Scheduled=2028-07-01, Payment Date=2028-07-03, CF=$15.00, DF=0.901027, PV=$13.52\n",
      "t= 8, Scheduled=2029-01-01, Payment Date=2029-01-02, CF=$15.00, DF=0.887711, PV=$13.32\n",
      "t= 9, Scheduled=2029-07-01, Payment Date=2029-07-02, CF=$15.00, DF=0.874592, PV=$13.12\n",
      "t=10, Scheduled=2030-01-01, Payment Date=2030-01-02, CF=$1,015.00, DF=0.861667, PV=$874.59\n",
      "\n",
      "--- Pricing ---\n",
      "Trade Date: 2025-06-10\n",
      "Settlement Date: 2025-06-11\n",
      "Accrued Days: 161\n",
      "Days in Coupon Period: 181\n",
      "Accrued Fraction: 0.89\n",
      "Accrued Interest: $13.34\n",
      "Clean Price: $1,000.00\n",
      "Dirty Price: $1,013.34\n",
      "\n",
      "--- Duration ---\n",
      "Macaulay Duration (years): 4.68\n",
      "Modified Duration (years): 4.61\n",
      "PV01: $0.46\n",
      "\n",
      "--- Convexity ---\n",
      "Convexity: 24.43\n",
      "Dollar Convexity: $24,428.41\n"
     ]
    }
   ],
   "source": [
    "# Instantiate a 5y semiannual par Treasury (issue dated 2025-01-01)\n",
    "bond_1 = Treasury_Par_Bond(1000, 0.03, 2, 5, '2025-01-01')\n",
    "\n",
    "print(\"Face Value: \", f\"${bond_1.fv:,.2f}\")\n",
    "print(\"YTM: \", f\"{bond_1.ytm:.2%}\")  \n",
    "\n",
    "print(\"Coupon Frequency:\", bond_1.freq)\n",
    "print(\"Maturity (years):\", bond_1.T)\n",
    "print(\"Number of Periods:\", bond_1.n_periods)\n",
    "\n",
    "print(\"\\nCoupon Payment per Period:\", f\"${bond_1.coupon_payment():,.2f}\")\n",
    "print(\"Cash Flows:\", [f\"${cf:,.2f}\" for cf in bond_1.cash_flows()])\n",
    "print(f\"Bond Price from YTM (Clean): ${bond_1.bond_price_from_ytm():,.2f}\")\n",
    "\n",
    "print(\"\\n--- Cash Flow Table ---\")\n",
    "for row in bond_1.table_of_cash_flows():\n",
    "    print(\n",
    "        f\"t={row['t']:2d}, \"\n",
    "        f\"Scheduled={row['scheduled_date']}, \"\n",
    "        f\"Payment Date={row['coupon_payment_date']}, \"\n",
    "        f\"CF=${row['cash_flow']:,.2f}, \"\n",
    "        f\"DF={row['discount_factor']:.6f}, \"\n",
    "        f\"PV=${row['present_value']:,.2f}\"\n",
    "    )\n",
    "\n",
    "# ---- Accrued, Clean, and Dirty Prices ----\n",
    "trade_date = date(2025, 6, 10)   \n",
    "settlement_date = bond_1.get_settlement_date_from_trade_date(trade_date)\n",
    "\n",
    "print(\"\\n--- Pricing ---\")\n",
    "print(f\"Trade Date: {trade_date}\")\n",
    "print(f\"Settlement Date: {settlement_date}\")\n",
    "print(f\"Accrued Days: {bond_1.accrued_days(trade_date)}\")\n",
    "print(f\"Days in Coupon Period: {bond_1.days_in_coupon_period(trade_date)}\")\n",
    "print(f\"Accrued Fraction: {bond_1.accrued_fraction(trade_date):.2f}\")\n",
    "print(f\"Accrued Interest: ${bond_1.accrued_interest(trade_date):,.2f}\")\n",
    "print(f\"Clean Price: ${bond_1.clean_price():,.2f}\")\n",
    "print(f\"Dirty Price: ${bond_1.dirty_price_from_trade(trade_date):,.2f}\")\n",
    "\n",
    "# ---- Duration ----\n",
    "print(\"\\n--- Duration ---\")\n",
    "print(f\"Macaulay Duration (years): {bond_1.macaulay_duration():.2f}\")\n",
    "print(f\"Modified Duration (years): {bond_1.modified_duration():.2f}\")\n",
    "print(f\"PV01: ${bond_1.pv01():,.2f}\")\n",
    "\n",
    "# ---- Convexity ----\n",
    "print(\"\\n--- Convexity ---\")\n",
    "print(f\"Convexity: {bond_1.convexity():,.2f}\")\n",
    "print(f\"Dollar Convexity: ${bond_1.dollar_convexity():,.2f}\")\n"
   ]
  },
  {
   "cell_type": "markdown",
   "id": "de8835ee",
   "metadata": {},
   "source": [
    "# Question 2\n",
    "\n",
    "Calculate its duration (Macaulay Bond Duration)"
   ]
  },
  {
   "cell_type": "markdown",
   "id": "7fc9ecc0",
   "metadata": {},
   "source": [
    "### Answered above. \n",
    "\n",
    "Method is defined as macaulay_duration. "
   ]
  },
  {
   "cell_type": "markdown",
   "id": "6efb848e",
   "metadata": {},
   "source": [
    "# Question 3 \n",
    "Use the FRED API to get the yields by maturity.  Plot the yield curve, forward curve and zero curve. "
   ]
  },
  {
   "cell_type": "code",
   "execution_count": 4,
   "id": "b3e020cd",
   "metadata": {},
   "outputs": [],
   "source": [
    "# FRED series IDs for Treasury par yields by maturity \n",
    "\n",
    "# US Gov bond interest rates for different maturities \n",
    "# <= 1 year - T-Bills\n",
    "# 2 - 10 years - T-Notes \n",
    "# 20 and 30 years - T-Bonds \n",
    "\n",
    "series_ids = { '3M': 'DGS3MO'\n",
    "                , '6M': 'DGS6MO'\n",
    "                , '1Y': 'DGS1'\n",
    "                , '2Y': 'DGS2'\n",
    "                , '3Y': 'DGS3'\n",
    "                , '5Y': 'DGS5'\n",
    "                , '7Y': 'DGS7'\n",
    "                , '10Y': 'DGS10'\n",
    "                , '20Y': 'DGS20'\n",
    "                , '30Y': 'DGS30' }\n",
    "\n",
    "API_KEY = \"a6710e81fd45204490adffed360ffd42\""
   ]
  },
  {
   "cell_type": "code",
   "execution_count": null,
   "id": "25a5af8a",
   "metadata": {},
   "outputs": [],
   "source": [
    "def fetch_fred_series(series_id, start=None, end=None, api_key=None):\n",
    "    \"\"\"\n",
    "    Fetch a FRED series into a pandas Series\n",
    "    Skips missing '.' values and raises on HTTP errors.\n",
    "\n",
    "    ---- Notes ----\n",
    "    JSON is easiest to parse in Python. \n",
    "    `requests` library has .json() built in to get a Python dictionary\n",
    "    \n",
    "    \"\"\"\n",
    "    url = \"https://api.stlouisfed.org/fred/series/observations\"\n",
    "\n",
    "    params = {\"series_id\": series_id, \"file_type\": \"json\"}\n",
    "    if api_key: params[\"api_key\"] = api_key\n",
    "    if start:   params[\"observation_start\"] = start\n",
    "    if end:     params[\"observation_end\"] = end\n",
    "\n",
    "    r = requests.get(url, params=params)\n",
    "    r.raise_for_status()  # raise if HTTP error\n",
    "\n",
    "    # what the data looks like -> https://fred.stlouisfed.org/docs/api/fred/series_observations.html#example_json\n",
    "    data = r.json() # .json() converts data into a python dict\n",
    "\n",
    "    # this is a list of dictionaries\n",
    "    obs = data.get(\"observations\", []) # .get(key, default) is a dictionary method that takes. default -> value to return if data is not available\n",
    "\n",
    "    # creating two columns extracted from obs to get date and yield for that date\n",
    "    dates, vals = [], [] # create empty lists \n",
    "    for o in obs:\n",
    "        # what to do if there is no value\n",
    "        v = o.get(\"value\", \".\")\n",
    "        if v == \".\":\n",
    "            continue  # skip missing\n",
    "        \n",
    "        # add the date to date column\n",
    "        dates.append(datetime.strptime(o[\"date\"], \"%Y-%m-%d\"))\n",
    "        # add the yields to values column\n",
    "        vals.append(float(v))  # FRED yields are in PERCENT (e.g., 4.25)\n",
    "\n",
    "    # return the data in a series format with index as the date \n",
    "    return pd.Series(vals, index=dates, name=series_id)"
   ]
  },
  {
   "cell_type": "code",
   "execution_count": 6,
   "id": "fceafe46",
   "metadata": {},
   "outputs": [
    {
     "name": "stdout",
     "output_type": "stream",
     "text": [
      "Shape: (187, 10)\n"
     ]
    }
   ],
   "source": [
    "curves = {}\n",
    "\n",
    "for label, fred_id in series_ids.items():  \n",
    "    \n",
    "    curves[label] = fetch_fred_series(\n",
    "        fred_id, \n",
    "        start=\"2025-01-01\", \n",
    "        end=\"2025-12-31\", \n",
    "        api_key=API_KEY\n",
    "    )\n",
    "\n",
    "curve_df = pd.DataFrame(curves)  # rows=dates, cols=labels (3M..30Y)\n",
    "\n",
    "print(\"Shape:\", curve_df.shape)"
   ]
  },
  {
   "cell_type": "code",
   "execution_count": 7,
   "id": "8ebfd2d1",
   "metadata": {},
   "outputs": [
    {
     "data": {
      "text/html": [
       "<div>\n",
       "<style scoped>\n",
       "    .dataframe tbody tr th:only-of-type {\n",
       "        vertical-align: middle;\n",
       "    }\n",
       "\n",
       "    .dataframe tbody tr th {\n",
       "        vertical-align: top;\n",
       "    }\n",
       "\n",
       "    .dataframe thead th {\n",
       "        text-align: right;\n",
       "    }\n",
       "</style>\n",
       "<table border=\"1\" class=\"dataframe\">\n",
       "  <thead>\n",
       "    <tr style=\"text-align: right;\">\n",
       "      <th></th>\n",
       "      <th>3M</th>\n",
       "      <th>6M</th>\n",
       "      <th>1Y</th>\n",
       "      <th>2Y</th>\n",
       "      <th>3Y</th>\n",
       "      <th>5Y</th>\n",
       "      <th>7Y</th>\n",
       "      <th>10Y</th>\n",
       "      <th>20Y</th>\n",
       "      <th>30Y</th>\n",
       "    </tr>\n",
       "  </thead>\n",
       "  <tbody>\n",
       "    <tr>\n",
       "      <th>2025-01-02</th>\n",
       "      <td>4.36</td>\n",
       "      <td>4.25</td>\n",
       "      <td>4.17</td>\n",
       "      <td>4.25</td>\n",
       "      <td>4.29</td>\n",
       "      <td>4.38</td>\n",
       "      <td>4.47</td>\n",
       "      <td>4.57</td>\n",
       "      <td>4.86</td>\n",
       "      <td>4.79</td>\n",
       "    </tr>\n",
       "    <tr>\n",
       "      <th>2025-01-03</th>\n",
       "      <td>4.34</td>\n",
       "      <td>4.25</td>\n",
       "      <td>4.18</td>\n",
       "      <td>4.28</td>\n",
       "      <td>4.32</td>\n",
       "      <td>4.41</td>\n",
       "      <td>4.51</td>\n",
       "      <td>4.60</td>\n",
       "      <td>4.88</td>\n",
       "      <td>4.82</td>\n",
       "    </tr>\n",
       "    <tr>\n",
       "      <th>2025-01-06</th>\n",
       "      <td>4.35</td>\n",
       "      <td>4.24</td>\n",
       "      <td>4.17</td>\n",
       "      <td>4.28</td>\n",
       "      <td>4.30</td>\n",
       "      <td>4.42</td>\n",
       "      <td>4.52</td>\n",
       "      <td>4.62</td>\n",
       "      <td>4.91</td>\n",
       "      <td>4.85</td>\n",
       "    </tr>\n",
       "    <tr>\n",
       "      <th>2025-01-07</th>\n",
       "      <td>4.35</td>\n",
       "      <td>4.24</td>\n",
       "      <td>4.19</td>\n",
       "      <td>4.30</td>\n",
       "      <td>4.33</td>\n",
       "      <td>4.46</td>\n",
       "      <td>4.57</td>\n",
       "      <td>4.67</td>\n",
       "      <td>4.97</td>\n",
       "      <td>4.91</td>\n",
       "    </tr>\n",
       "    <tr>\n",
       "      <th>2025-01-08</th>\n",
       "      <td>4.35</td>\n",
       "      <td>4.25</td>\n",
       "      <td>4.19</td>\n",
       "      <td>4.28</td>\n",
       "      <td>4.31</td>\n",
       "      <td>4.45</td>\n",
       "      <td>4.56</td>\n",
       "      <td>4.67</td>\n",
       "      <td>4.97</td>\n",
       "      <td>4.91</td>\n",
       "    </tr>\n",
       "  </tbody>\n",
       "</table>\n",
       "</div>"
      ],
      "text/plain": [
       "              3M    6M    1Y    2Y    3Y    5Y    7Y   10Y   20Y   30Y\n",
       "2025-01-02  4.36  4.25  4.17  4.25  4.29  4.38  4.47  4.57  4.86  4.79\n",
       "2025-01-03  4.34  4.25  4.18  4.28  4.32  4.41  4.51  4.60  4.88  4.82\n",
       "2025-01-06  4.35  4.24  4.17  4.28  4.30  4.42  4.52  4.62  4.91  4.85\n",
       "2025-01-07  4.35  4.24  4.19  4.30  4.33  4.46  4.57  4.67  4.97  4.91\n",
       "2025-01-08  4.35  4.25  4.19  4.28  4.31  4.45  4.56  4.67  4.97  4.91"
      ]
     },
     "execution_count": 7,
     "metadata": {},
     "output_type": "execute_result"
    }
   ],
   "source": [
    "curve_df.head()"
   ]
  },
  {
   "cell_type": "code",
   "execution_count": 8,
   "id": "839eac0f",
   "metadata": {},
   "outputs": [
    {
     "data": {
      "application/vnd.plotly.v1+json": {
       "config": {
        "plotlyServerURL": "https://plot.ly"
       },
       "data": [
        {
         "mode": "lines+markers",
         "type": "scatter",
         "x": [
          0.25,
          0.5,
          1,
          2,
          3,
          5,
          7,
          10,
          20,
          30
         ],
         "y": [
          4.36,
          4.25,
          4.17,
          4.25,
          4.29,
          4.38,
          4.47,
          4.57,
          4.86,
          4.79
         ]
        }
       ],
       "frames": [
        {
         "data": [
          {
           "mode": "lines+markers",
           "type": "scatter",
           "x": [
            0.25,
            0.5,
            1,
            2,
            3,
            5,
            7,
            10,
            20,
            30
           ],
           "y": [
            4.36,
            4.25,
            4.17,
            4.25,
            4.29,
            4.38,
            4.47,
            4.57,
            4.86,
            4.79
           ]
          }
         ],
         "name": "2025-01-02"
        },
        {
         "data": [
          {
           "mode": "lines+markers",
           "type": "scatter",
           "x": [
            0.25,
            0.5,
            1,
            2,
            3,
            5,
            7,
            10,
            20,
            30
           ],
           "y": [
            4.34,
            4.25,
            4.18,
            4.28,
            4.32,
            4.41,
            4.51,
            4.6,
            4.88,
            4.82
           ]
          }
         ],
         "name": "2025-01-03"
        },
        {
         "data": [
          {
           "mode": "lines+markers",
           "type": "scatter",
           "x": [
            0.25,
            0.5,
            1,
            2,
            3,
            5,
            7,
            10,
            20,
            30
           ],
           "y": [
            4.35,
            4.24,
            4.17,
            4.28,
            4.3,
            4.42,
            4.52,
            4.62,
            4.91,
            4.85
           ]
          }
         ],
         "name": "2025-01-06"
        },
        {
         "data": [
          {
           "mode": "lines+markers",
           "type": "scatter",
           "x": [
            0.25,
            0.5,
            1,
            2,
            3,
            5,
            7,
            10,
            20,
            30
           ],
           "y": [
            4.35,
            4.24,
            4.19,
            4.3,
            4.33,
            4.46,
            4.57,
            4.67,
            4.97,
            4.91
           ]
          }
         ],
         "name": "2025-01-07"
        },
        {
         "data": [
          {
           "mode": "lines+markers",
           "type": "scatter",
           "x": [
            0.25,
            0.5,
            1,
            2,
            3,
            5,
            7,
            10,
            20,
            30
           ],
           "y": [
            4.35,
            4.25,
            4.19,
            4.28,
            4.31,
            4.45,
            4.56,
            4.67,
            4.97,
            4.91
           ]
          }
         ],
         "name": "2025-01-08"
        },
        {
         "data": [
          {
           "mode": "lines+markers",
           "type": "scatter",
           "x": [
            0.25,
            0.5,
            1,
            2,
            3,
            5,
            7,
            10,
            20,
            30
           ],
           "y": [
            4.35,
            4.24,
            4.16,
            4.27,
            4.31,
            4.46,
            4.57,
            4.68,
            4.98,
            4.92
           ]
          }
         ],
         "name": "2025-01-09"
        },
        {
         "data": [
          {
           "mode": "lines+markers",
           "type": "scatter",
           "x": [
            0.25,
            0.5,
            1,
            2,
            3,
            5,
            7,
            10,
            20,
            30
           ],
           "y": [
            4.36,
            4.27,
            4.25,
            4.4,
            4.46,
            4.59,
            4.7,
            4.77,
            5.04,
            4.96
           ]
          }
         ],
         "name": "2025-01-10"
        },
        {
         "data": [
          {
           "mode": "lines+markers",
           "type": "scatter",
           "x": [
            0.25,
            0.5,
            1,
            2,
            3,
            5,
            7,
            10,
            20,
            30
           ],
           "y": [
            4.37,
            4.3,
            4.24,
            4.4,
            4.49,
            4.61,
            4.71,
            4.79,
            5.05,
            4.97
           ]
          }
         ],
         "name": "2025-01-13"
        },
        {
         "data": [
          {
           "mode": "lines+markers",
           "type": "scatter",
           "x": [
            0.25,
            0.5,
            1,
            2,
            3,
            5,
            7,
            10,
            20,
            30
           ],
           "y": [
            4.36,
            4.29,
            4.22,
            4.37,
            4.46,
            4.59,
            4.7,
            4.78,
            5.06,
            4.98
           ]
          }
         ],
         "name": "2025-01-14"
        },
        {
         "data": [
          {
           "mode": "lines+markers",
           "type": "scatter",
           "x": [
            0.25,
            0.5,
            1,
            2,
            3,
            5,
            7,
            10,
            20,
            30
           ],
           "y": [
            4.35,
            4.26,
            4.19,
            4.27,
            4.34,
            4.45,
            4.55,
            4.66,
            4.95,
            4.88
           ]
          }
         ],
         "name": "2025-01-15"
        },
        {
         "data": [
          {
           "mode": "lines+markers",
           "type": "scatter",
           "x": [
            0.25,
            0.5,
            1,
            2,
            3,
            5,
            7,
            10,
            20,
            30
           ],
           "y": [
            4.34,
            4.26,
            4.18,
            4.23,
            4.29,
            4.39,
            4.5,
            4.61,
            4.91,
            4.84
           ]
          }
         ],
         "name": "2025-01-16"
        },
        {
         "data": [
          {
           "mode": "lines+markers",
           "type": "scatter",
           "x": [
            0.25,
            0.5,
            1,
            2,
            3,
            5,
            7,
            10,
            20,
            30
           ],
           "y": [
            4.34,
            4.28,
            4.21,
            4.27,
            4.33,
            4.42,
            4.52,
            4.61,
            4.91,
            4.84
           ]
          }
         ],
         "name": "2025-01-17"
        },
        {
         "data": [
          {
           "mode": "lines+markers",
           "type": "scatter",
           "x": [
            0.25,
            0.5,
            1,
            2,
            3,
            5,
            7,
            10,
            20,
            30
           ],
           "y": [
            4.36,
            4.28,
            4.21,
            4.29,
            4.33,
            4.4,
            4.49,
            4.57,
            4.87,
            4.8
           ]
          }
         ],
         "name": "2025-01-21"
        },
        {
         "data": [
          {
           "mode": "lines+markers",
           "type": "scatter",
           "x": [
            0.25,
            0.5,
            1,
            2,
            3,
            5,
            7,
            10,
            20,
            30
           ],
           "y": [
            4.36,
            4.28,
            4.2,
            4.29,
            4.34,
            4.43,
            4.51,
            4.6,
            4.89,
            4.82
           ]
          }
         ],
         "name": "2025-01-22"
        },
        {
         "data": [
          {
           "mode": "lines+markers",
           "type": "scatter",
           "x": [
            0.25,
            0.5,
            1,
            2,
            3,
            5,
            7,
            10,
            20,
            30
           ],
           "y": [
            4.36,
            4.27,
            4.18,
            4.29,
            4.35,
            4.45,
            4.55,
            4.65,
            4.92,
            4.87
           ]
          }
         ],
         "name": "2025-01-23"
        },
        {
         "data": [
          {
           "mode": "lines+markers",
           "type": "scatter",
           "x": [
            0.25,
            0.5,
            1,
            2,
            3,
            5,
            7,
            10,
            20,
            30
           ],
           "y": [
            4.35,
            4.25,
            4.17,
            4.27,
            4.33,
            4.43,
            4.53,
            4.63,
            4.91,
            4.85
           ]
          }
         ],
         "name": "2025-01-24"
        },
        {
         "data": [
          {
           "mode": "lines+markers",
           "type": "scatter",
           "x": [
            0.25,
            0.5,
            1,
            2,
            3,
            5,
            7,
            10,
            20,
            30
           ],
           "y": [
            4.32,
            4.25,
            4.13,
            4.17,
            4.24,
            4.32,
            4.43,
            4.53,
            4.82,
            4.76
           ]
          }
         ],
         "name": "2025-01-27"
        },
        {
         "data": [
          {
           "mode": "lines+markers",
           "type": "scatter",
           "x": [
            0.25,
            0.5,
            1,
            2,
            3,
            5,
            7,
            10,
            20,
            30
           ],
           "y": [
            4.31,
            4.26,
            4.14,
            4.19,
            4.25,
            4.33,
            4.43,
            4.55,
            4.84,
            4.78
           ]
          }
         ],
         "name": "2025-01-28"
        },
        {
         "data": [
          {
           "mode": "lines+markers",
           "type": "scatter",
           "x": [
            0.25,
            0.5,
            1,
            2,
            3,
            5,
            7,
            10,
            20,
            30
           ],
           "y": [
            4.31,
            4.27,
            4.17,
            4.21,
            4.27,
            4.35,
            4.44,
            4.55,
            4.85,
            4.79
           ]
          }
         ],
         "name": "2025-01-29"
        },
        {
         "data": [
          {
           "mode": "lines+markers",
           "type": "scatter",
           "x": [
            0.25,
            0.5,
            1,
            2,
            3,
            5,
            7,
            10,
            20,
            30
           ],
           "y": [
            4.3,
            4.27,
            4.16,
            4.18,
            4.24,
            4.31,
            4.41,
            4.52,
            4.81,
            4.76
           ]
          }
         ],
         "name": "2025-01-30"
        },
        {
         "data": [
          {
           "mode": "lines+markers",
           "type": "scatter",
           "x": [
            0.25,
            0.5,
            1,
            2,
            3,
            5,
            7,
            10,
            20,
            30
           ],
           "y": [
            4.31,
            4.28,
            4.17,
            4.22,
            4.27,
            4.36,
            4.47,
            4.58,
            4.88,
            4.83
           ]
          }
         ],
         "name": "2025-01-31"
        },
        {
         "data": [
          {
           "mode": "lines+markers",
           "type": "scatter",
           "x": [
            0.25,
            0.5,
            1,
            2,
            3,
            5,
            7,
            10,
            20,
            30
           ],
           "y": [
            4.34,
            4.28,
            4.2,
            4.26,
            4.28,
            4.35,
            4.45,
            4.54,
            4.82,
            4.77
           ]
          }
         ],
         "name": "2025-02-03"
        },
        {
         "data": [
          {
           "mode": "lines+markers",
           "type": "scatter",
           "x": [
            0.25,
            0.5,
            1,
            2,
            3,
            5,
            7,
            10,
            20,
            30
           ],
           "y": [
            4.33,
            4.27,
            4.18,
            4.21,
            4.25,
            4.31,
            4.42,
            4.52,
            4.81,
            4.75
           ]
          }
         ],
         "name": "2025-02-04"
        },
        {
         "data": [
          {
           "mode": "lines+markers",
           "type": "scatter",
           "x": [
            0.25,
            0.5,
            1,
            2,
            3,
            5,
            7,
            10,
            20,
            30
           ],
           "y": [
            4.33,
            4.27,
            4.17,
            4.17,
            4.19,
            4.24,
            4.33,
            4.43,
            4.69,
            4.64
           ]
          }
         ],
         "name": "2025-02-05"
        },
        {
         "data": [
          {
           "mode": "lines+markers",
           "type": "scatter",
           "x": [
            0.25,
            0.5,
            1,
            2,
            3,
            5,
            7,
            10,
            20,
            30
           ],
           "y": [
            4.34,
            4.28,
            4.19,
            4.21,
            4.23,
            4.28,
            4.36,
            4.45,
            4.7,
            4.65
           ]
          }
         ],
         "name": "2025-02-06"
        },
        {
         "data": [
          {
           "mode": "lines+markers",
           "type": "scatter",
           "x": [
            0.25,
            0.5,
            1,
            2,
            3,
            5,
            7,
            10,
            20,
            30
           ],
           "y": [
            4.35,
            4.3,
            4.25,
            4.29,
            4.31,
            4.34,
            4.42,
            4.49,
            4.75,
            4.69
           ]
          }
         ],
         "name": "2025-02-07"
        },
        {
         "data": [
          {
           "mode": "lines+markers",
           "type": "scatter",
           "x": [
            0.25,
            0.5,
            1,
            2,
            3,
            5,
            7,
            10,
            20,
            30
           ],
           "y": [
            4.35,
            4.31,
            4.24,
            4.28,
            4.3,
            4.34,
            4.42,
            4.51,
            4.76,
            4.71
           ]
          }
         ],
         "name": "2025-02-10"
        },
        {
         "data": [
          {
           "mode": "lines+markers",
           "type": "scatter",
           "x": [
            0.25,
            0.5,
            1,
            2,
            3,
            5,
            7,
            10,
            20,
            30
           ],
           "y": [
            4.35,
            4.31,
            4.25,
            4.29,
            4.28,
            4.37,
            4.45,
            4.54,
            4.8,
            4.75
           ]
          }
         ],
         "name": "2025-02-11"
        },
        {
         "data": [
          {
           "mode": "lines+markers",
           "type": "scatter",
           "x": [
            0.25,
            0.5,
            1,
            2,
            3,
            5,
            7,
            10,
            20,
            30
           ],
           "y": [
            4.35,
            4.33,
            4.3,
            4.36,
            4.37,
            4.48,
            4.56,
            4.62,
            4.9,
            4.83
           ]
          }
         ],
         "name": "2025-02-12"
        },
        {
         "data": [
          {
           "mode": "lines+markers",
           "type": "scatter",
           "x": [
            0.25,
            0.5,
            1,
            2,
            3,
            5,
            7,
            10,
            20,
            30
           ],
           "y": [
            4.34,
            4.33,
            4.27,
            4.31,
            4.31,
            4.39,
            4.46,
            4.52,
            4.79,
            4.72
           ]
          }
         ],
         "name": "2025-02-13"
        },
        {
         "data": [
          {
           "mode": "lines+markers",
           "type": "scatter",
           "x": [
            0.25,
            0.5,
            1,
            2,
            3,
            5,
            7,
            10,
            20,
            30
           ],
           "y": [
            4.34,
            4.32,
            4.23,
            4.26,
            4.26,
            4.33,
            4.41,
            4.47,
            4.75,
            4.69
           ]
          }
         ],
         "name": "2025-02-14"
        },
        {
         "data": [
          {
           "mode": "lines+markers",
           "type": "scatter",
           "x": [
            0.25,
            0.5,
            1,
            2,
            3,
            5,
            7,
            10,
            20,
            30
           ],
           "y": [
            4.34,
            4.34,
            4.24,
            4.29,
            4.33,
            4.4,
            4.48,
            4.55,
            4.83,
            4.77
           ]
          }
         ],
         "name": "2025-02-18"
        },
        {
         "data": [
          {
           "mode": "lines+markers",
           "type": "scatter",
           "x": [
            0.25,
            0.5,
            1,
            2,
            3,
            5,
            7,
            10,
            20,
            30
           ],
           "y": [
            4.34,
            4.34,
            4.22,
            4.28,
            4.3,
            4.37,
            4.46,
            4.53,
            4.79,
            4.76
           ]
          }
         ],
         "name": "2025-02-19"
        },
        {
         "data": [
          {
           "mode": "lines+markers",
           "type": "scatter",
           "x": [
            0.25,
            0.5,
            1,
            2,
            3,
            5,
            7,
            10,
            20,
            30
           ],
           "y": [
            4.33,
            4.33,
            4.2,
            4.28,
            4.27,
            4.34,
            4.43,
            4.5,
            4.77,
            4.74
           ]
          }
         ],
         "name": "2025-02-20"
        },
        {
         "data": [
          {
           "mode": "lines+markers",
           "type": "scatter",
           "x": [
            0.25,
            0.5,
            1,
            2,
            3,
            5,
            7,
            10,
            20,
            30
           ],
           "y": [
            4.32,
            4.3,
            4.15,
            4.19,
            4.19,
            4.26,
            4.35,
            4.42,
            4.69,
            4.67
           ]
          }
         ],
         "name": "2025-02-21"
        },
        {
         "data": [
          {
           "mode": "lines+markers",
           "type": "scatter",
           "x": [
            0.25,
            0.5,
            1,
            2,
            3,
            5,
            7,
            10,
            20,
            30
           ],
           "y": [
            4.31,
            4.3,
            4.15,
            4.13,
            4.17,
            4.23,
            4.32,
            4.4,
            4.69,
            4.66
           ]
          }
         ],
         "name": "2025-02-24"
        },
        {
         "data": [
          {
           "mode": "lines+markers",
           "type": "scatter",
           "x": [
            0.25,
            0.5,
            1,
            2,
            3,
            5,
            7,
            10,
            20,
            30
           ],
           "y": [
            4.3,
            4.28,
            4.12,
            4.07,
            4.08,
            4.12,
            4.21,
            4.3,
            4.59,
            4.55
           ]
          }
         ],
         "name": "2025-02-25"
        },
        {
         "data": [
          {
           "mode": "lines+markers",
           "type": "scatter",
           "x": [
            0.25,
            0.5,
            1,
            2,
            3,
            5,
            7,
            10,
            20,
            30
           ],
           "y": [
            4.31,
            4.28,
            4.12,
            4.05,
            4.04,
            4.06,
            4.16,
            4.25,
            4.55,
            4.51
           ]
          }
         ],
         "name": "2025-02-26"
        },
        {
         "data": [
          {
           "mode": "lines+markers",
           "type": "scatter",
           "x": [
            0.25,
            0.5,
            1,
            2,
            3,
            5,
            7,
            10,
            20,
            30
           ],
           "y": [
            4.32,
            4.28,
            4.13,
            4.07,
            4.05,
            4.09,
            4.19,
            4.29,
            4.59,
            4.56
           ]
          }
         ],
         "name": "2025-02-27"
        },
        {
         "data": [
          {
           "mode": "lines+markers",
           "type": "scatter",
           "x": [
            0.25,
            0.5,
            1,
            2,
            3,
            5,
            7,
            10,
            20,
            30
           ],
           "y": [
            4.32,
            4.25,
            4.08,
            3.99,
            3.99,
            4.03,
            4.14,
            4.24,
            4.55,
            4.51
           ]
          }
         ],
         "name": "2025-02-28"
        },
        {
         "data": [
          {
           "mode": "lines+markers",
           "type": "scatter",
           "x": [
            0.25,
            0.5,
            1,
            2,
            3,
            5,
            7,
            10,
            20,
            30
           ],
           "y": [
            4.35,
            4.31,
            4.06,
            3.96,
            3.93,
            3.97,
            4.06,
            4.16,
            4.49,
            4.45
           ]
          }
         ],
         "name": "2025-03-03"
        },
        {
         "data": [
          {
           "mode": "lines+markers",
           "type": "scatter",
           "x": [
            0.25,
            0.5,
            1,
            2,
            3,
            5,
            7,
            10,
            20,
            30
           ],
           "y": [
            4.34,
            4.28,
            4.04,
            3.96,
            3.94,
            4.01,
            4.11,
            4.22,
            4.56,
            4.53
           ]
          }
         ],
         "name": "2025-03-04"
        },
        {
         "data": [
          {
           "mode": "lines+markers",
           "type": "scatter",
           "x": [
            0.25,
            0.5,
            1,
            2,
            3,
            5,
            7,
            10,
            20,
            30
           ],
           "y": [
            4.35,
            4.3,
            4.06,
            3.99,
            4.01,
            4.08,
            4.18,
            4.28,
            4.61,
            4.57
           ]
          }
         ],
         "name": "2025-03-05"
        },
        {
         "data": [
          {
           "mode": "lines+markers",
           "type": "scatter",
           "x": [
            0.25,
            0.5,
            1,
            2,
            3,
            5,
            7,
            10,
            20,
            30
           ],
           "y": [
            4.34,
            4.27,
            4.02,
            3.96,
            3.98,
            4.06,
            4.18,
            4.29,
            4.63,
            4.58
           ]
          }
         ],
         "name": "2025-03-06"
        },
        {
         "data": [
          {
           "mode": "lines+markers",
           "type": "scatter",
           "x": [
            0.25,
            0.5,
            1,
            2,
            3,
            5,
            7,
            10,
            20,
            30
           ],
           "y": [
            4.34,
            4.29,
            4.05,
            3.99,
            4.01,
            4.09,
            4.21,
            4.32,
            4.66,
            4.62
           ]
          }
         ],
         "name": "2025-03-07"
        },
        {
         "data": [
          {
           "mode": "lines+markers",
           "type": "scatter",
           "x": [
            0.25,
            0.5,
            1,
            2,
            3,
            5,
            7,
            10,
            20,
            30
           ],
           "y": [
            4.33,
            4.25,
            3.98,
            3.89,
            3.91,
            3.98,
            4.1,
            4.22,
            4.58,
            4.54
           ]
          }
         ],
         "name": "2025-03-10"
        },
        {
         "data": [
          {
           "mode": "lines+markers",
           "type": "scatter",
           "x": [
            0.25,
            0.5,
            1,
            2,
            3,
            5,
            7,
            10,
            20,
            30
           ],
           "y": [
            4.34,
            4.26,
            4.03,
            3.94,
            3.92,
            4.03,
            4.16,
            4.28,
            4.63,
            4.59
           ]
          }
         ],
         "name": "2025-03-11"
        },
        {
         "data": [
          {
           "mode": "lines+markers",
           "type": "scatter",
           "x": [
            0.25,
            0.5,
            1,
            2,
            3,
            5,
            7,
            10,
            20,
            30
           ],
           "y": [
            4.35,
            4.27,
            4.07,
            4.01,
            3.98,
            4.09,
            4.2,
            4.32,
            4.67,
            4.63
           ]
          }
         ],
         "name": "2025-03-12"
        },
        {
         "data": [
          {
           "mode": "lines+markers",
           "type": "scatter",
           "x": [
            0.25,
            0.5,
            1,
            2,
            3,
            5,
            7,
            10,
            20,
            30
           ],
           "y": [
            4.34,
            4.27,
            4.03,
            3.94,
            3.93,
            4.02,
            4.15,
            4.27,
            4.63,
            4.59
           ]
          }
         ],
         "name": "2025-03-13"
        },
        {
         "data": [
          {
           "mode": "lines+markers",
           "type": "scatter",
           "x": [
            0.25,
            0.5,
            1,
            2,
            3,
            5,
            7,
            10,
            20,
            30
           ],
           "y": [
            4.33,
            4.29,
            4.09,
            4.02,
            4,
            4.09,
            4.2,
            4.31,
            4.65,
            4.62
           ]
          }
         ],
         "name": "2025-03-14"
        },
        {
         "data": [
          {
           "mode": "lines+markers",
           "type": "scatter",
           "x": [
            0.25,
            0.5,
            1,
            2,
            3,
            5,
            7,
            10,
            20,
            30
           ],
           "y": [
            4.34,
            4.29,
            4.11,
            4.06,
            4.03,
            4.11,
            4.21,
            4.31,
            4.64,
            4.6
           ]
          }
         ],
         "name": "2025-03-17"
        },
        {
         "data": [
          {
           "mode": "lines+markers",
           "type": "scatter",
           "x": [
            0.25,
            0.5,
            1,
            2,
            3,
            5,
            7,
            10,
            20,
            30
           ],
           "y": [
            4.34,
            4.29,
            4.13,
            4.04,
            4.01,
            4.07,
            4.18,
            4.29,
            4.61,
            4.58
           ]
          }
         ],
         "name": "2025-03-18"
        },
        {
         "data": [
          {
           "mode": "lines+markers",
           "type": "scatter",
           "x": [
            0.25,
            0.5,
            1,
            2,
            3,
            5,
            7,
            10,
            20,
            30
           ],
           "y": [
            4.33,
            4.29,
            4.1,
            3.99,
            3.95,
            4.03,
            4.14,
            4.25,
            4.58,
            4.56
           ]
          }
         ],
         "name": "2025-03-19"
        },
        {
         "data": [
          {
           "mode": "lines+markers",
           "type": "scatter",
           "x": [
            0.25,
            0.5,
            1,
            2,
            3,
            5,
            7,
            10,
            20,
            30
           ],
           "y": [
            4.33,
            4.27,
            4.06,
            3.95,
            3.93,
            4.01,
            4.12,
            4.24,
            4.57,
            4.55
           ]
          }
         ],
         "name": "2025-03-20"
        },
        {
         "data": [
          {
           "mode": "lines+markers",
           "type": "scatter",
           "x": [
            0.25,
            0.5,
            1,
            2,
            3,
            5,
            7,
            10,
            20,
            30
           ],
           "y": [
            4.33,
            4.26,
            4.04,
            3.94,
            3.92,
            4,
            4.12,
            4.25,
            4.6,
            4.59
           ]
          }
         ],
         "name": "2025-03-21"
        },
        {
         "data": [
          {
           "mode": "lines+markers",
           "type": "scatter",
           "x": [
            0.25,
            0.5,
            1,
            2,
            3,
            5,
            7,
            10,
            20,
            30
           ],
           "y": [
            4.33,
            4.27,
            4.11,
            4.04,
            4.01,
            4.09,
            4.22,
            4.34,
            4.68,
            4.66
           ]
          }
         ],
         "name": "2025-03-24"
        },
        {
         "data": [
          {
           "mode": "lines+markers",
           "type": "scatter",
           "x": [
            0.25,
            0.5,
            1,
            2,
            3,
            5,
            7,
            10,
            20,
            30
           ],
           "y": [
            4.33,
            4.26,
            4.09,
            3.96,
            3.98,
            4.07,
            4.19,
            4.31,
            4.67,
            4.65
           ]
          }
         ],
         "name": "2025-03-25"
        },
        {
         "data": [
          {
           "mode": "lines+markers",
           "type": "scatter",
           "x": [
            0.25,
            0.5,
            1,
            2,
            3,
            5,
            7,
            10,
            20,
            30
           ],
           "y": [
            4.33,
            4.26,
            4.1,
            3.98,
            4.01,
            4.08,
            4.22,
            4.35,
            4.71,
            4.69
           ]
          }
         ],
         "name": "2025-03-26"
        },
        {
         "data": [
          {
           "mode": "lines+markers",
           "type": "scatter",
           "x": [
            0.25,
            0.5,
            1,
            2,
            3,
            5,
            7,
            10,
            20,
            30
           ],
           "y": [
            4.33,
            4.27,
            4.1,
            3.97,
            4,
            4.09,
            4.23,
            4.38,
            4.75,
            4.73
           ]
          }
         ],
         "name": "2025-03-27"
        },
        {
         "data": [
          {
           "mode": "lines+markers",
           "type": "scatter",
           "x": [
            0.25,
            0.5,
            1,
            2,
            3,
            5,
            7,
            10,
            20,
            30
           ],
           "y": [
            4.33,
            4.26,
            4.04,
            3.89,
            3.91,
            3.98,
            4.11,
            4.27,
            4.65,
            4.64
           ]
          }
         ],
         "name": "2025-03-28"
        },
        {
         "data": [
          {
           "mode": "lines+markers",
           "type": "scatter",
           "x": [
            0.25,
            0.5,
            1,
            2,
            3,
            5,
            7,
            10,
            20,
            30
           ],
           "y": [
            4.32,
            4.23,
            4.03,
            3.89,
            3.89,
            3.96,
            4.09,
            4.23,
            4.62,
            4.59
           ]
          }
         ],
         "name": "2025-03-31"
        },
        {
         "data": [
          {
           "mode": "lines+markers",
           "type": "scatter",
           "x": [
            0.25,
            0.5,
            1,
            2,
            3,
            5,
            7,
            10,
            20,
            30
           ],
           "y": [
            4.32,
            4.23,
            4.01,
            3.87,
            3.85,
            3.91,
            4.03,
            4.17,
            4.56,
            4.52
           ]
          }
         ],
         "name": "2025-04-01"
        },
        {
         "data": [
          {
           "mode": "lines+markers",
           "type": "scatter",
           "x": [
            0.25,
            0.5,
            1,
            2,
            3,
            5,
            7,
            10,
            20,
            30
           ],
           "y": [
            4.32,
            4.24,
            4.04,
            3.91,
            3.89,
            3.95,
            4.07,
            4.2,
            4.58,
            4.54
           ]
          }
         ],
         "name": "2025-04-02"
        },
        {
         "data": [
          {
           "mode": "lines+markers",
           "type": "scatter",
           "x": [
            0.25,
            0.5,
            1,
            2,
            3,
            5,
            7,
            10,
            20,
            30
           ],
           "y": [
            4.31,
            4.2,
            3.92,
            3.71,
            3.68,
            3.75,
            3.88,
            4.06,
            4.51,
            4.49
           ]
          }
         ],
         "name": "2025-04-03"
        },
        {
         "data": [
          {
           "mode": "lines+markers",
           "type": "scatter",
           "x": [
            0.25,
            0.5,
            1,
            2,
            3,
            5,
            7,
            10,
            20,
            30
           ],
           "y": [
            4.28,
            4.14,
            3.86,
            3.68,
            3.66,
            3.72,
            3.84,
            4.01,
            4.44,
            4.41
           ]
          }
         ],
         "name": "2025-04-04"
        },
        {
         "data": [
          {
           "mode": "lines+markers",
           "type": "scatter",
           "x": [
            0.25,
            0.5,
            1,
            2,
            3,
            5,
            7,
            10,
            20,
            30
           ],
           "y": [
            4.29,
            4.14,
            3.86,
            3.73,
            3.72,
            3.82,
            3.97,
            4.15,
            4.61,
            4.58
           ]
          }
         ],
         "name": "2025-04-07"
        },
        {
         "data": [
          {
           "mode": "lines+markers",
           "type": "scatter",
           "x": [
            0.25,
            0.5,
            1,
            2,
            3,
            5,
            7,
            10,
            20,
            30
           ],
           "y": [
            4.31,
            4.14,
            3.83,
            3.71,
            3.71,
            3.88,
            4.05,
            4.26,
            4.76,
            4.71
           ]
          }
         ],
         "name": "2025-04-08"
        },
        {
         "data": [
          {
           "mode": "lines+markers",
           "type": "scatter",
           "x": [
            0.25,
            0.5,
            1,
            2,
            3,
            5,
            7,
            10,
            20,
            30
           ],
           "y": [
            4.35,
            4.23,
            4.03,
            3.91,
            3.91,
            4.06,
            4.2,
            4.34,
            4.78,
            4.72
           ]
          }
         ],
         "name": "2025-04-09"
        },
        {
         "data": [
          {
           "mode": "lines+markers",
           "type": "scatter",
           "x": [
            0.25,
            0.5,
            1,
            2,
            3,
            5,
            7,
            10,
            20,
            30
           ],
           "y": [
            4.34,
            4.17,
            3.97,
            3.84,
            3.85,
            4.04,
            4.21,
            4.4,
            4.9,
            4.86
           ]
          }
         ],
         "name": "2025-04-10"
        },
        {
         "data": [
          {
           "mode": "lines+markers",
           "type": "scatter",
           "x": [
            0.25,
            0.5,
            1,
            2,
            3,
            5,
            7,
            10,
            20,
            30
           ],
           "y": [
            4.34,
            4.21,
            4.04,
            3.96,
            3.98,
            4.15,
            4.32,
            4.48,
            4.91,
            4.85
           ]
          }
         ],
         "name": "2025-04-11"
        },
        {
         "data": [
          {
           "mode": "lines+markers",
           "type": "scatter",
           "x": [
            0.25,
            0.5,
            1,
            2,
            3,
            5,
            7,
            10,
            20,
            30
           ],
           "y": [
            4.33,
            4.21,
            3.99,
            3.84,
            3.87,
            4.02,
            4.2,
            4.38,
            4.84,
            4.8
           ]
          }
         ],
         "name": "2025-04-14"
        },
        {
         "data": [
          {
           "mode": "lines+markers",
           "type": "scatter",
           "x": [
            0.25,
            0.5,
            1,
            2,
            3,
            5,
            7,
            10,
            20,
            30
           ],
           "y": [
            4.33,
            4.21,
            3.99,
            3.84,
            3.85,
            3.98,
            4.15,
            4.35,
            4.82,
            4.79
           ]
          }
         ],
         "name": "2025-04-15"
        },
        {
         "data": [
          {
           "mode": "lines+markers",
           "type": "scatter",
           "x": [
            0.25,
            0.5,
            1,
            2,
            3,
            5,
            7,
            10,
            20,
            30
           ],
           "y": [
            4.33,
            4.2,
            3.96,
            3.77,
            3.77,
            3.91,
            4.08,
            4.29,
            4.77,
            4.74
           ]
          }
         ],
         "name": "2025-04-16"
        },
        {
         "data": [
          {
           "mode": "lines+markers",
           "type": "scatter",
           "x": [
            0.25,
            0.5,
            1,
            2,
            3,
            5,
            7,
            10,
            20,
            30
           ],
           "y": [
            4.34,
            4.22,
            3.99,
            3.81,
            3.82,
            3.95,
            4.13,
            4.34,
            4.82,
            4.8
           ]
          }
         ],
         "name": "2025-04-17"
        },
        {
         "data": [
          {
           "mode": "lines+markers",
           "type": "scatter",
           "x": [
            0.25,
            0.5,
            1,
            2,
            3,
            5,
            7,
            10,
            20,
            30
           ],
           "y": [
            4.34,
            4.21,
            3.95,
            3.75,
            3.77,
            3.97,
            4.19,
            4.42,
            4.94,
            4.91
           ]
          }
         ],
         "name": "2025-04-21"
        },
        {
         "data": [
          {
           "mode": "lines+markers",
           "type": "scatter",
           "x": [
            0.25,
            0.5,
            1,
            2,
            3,
            5,
            7,
            10,
            20,
            30
           ],
           "y": [
            4.33,
            4.21,
            3.98,
            3.76,
            3.82,
            3.98,
            4.19,
            4.41,
            4.9,
            4.88
           ]
          }
         ],
         "name": "2025-04-22"
        },
        {
         "data": [
          {
           "mode": "lines+markers",
           "type": "scatter",
           "x": [
            0.25,
            0.5,
            1,
            2,
            3,
            5,
            7,
            10,
            20,
            30
           ],
           "y": [
            4.33,
            4.22,
            4.01,
            3.81,
            3.87,
            4,
            4.2,
            4.4,
            4.86,
            4.83
           ]
          }
         ],
         "name": "2025-04-23"
        },
        {
         "data": [
          {
           "mode": "lines+markers",
           "type": "scatter",
           "x": [
            0.25,
            0.5,
            1,
            2,
            3,
            5,
            7,
            10,
            20,
            30
           ],
           "y": [
            4.32,
            4.22,
            3.97,
            3.77,
            3.8,
            3.91,
            4.11,
            4.32,
            4.79,
            4.77
           ]
          }
         ],
         "name": "2025-04-24"
        },
        {
         "data": [
          {
           "mode": "lines+markers",
           "type": "scatter",
           "x": [
            0.25,
            0.5,
            1,
            2,
            3,
            5,
            7,
            10,
            20,
            30
           ],
           "y": [
            4.32,
            4.22,
            3.95,
            3.74,
            3.76,
            3.88,
            4.06,
            4.29,
            4.75,
            4.74
           ]
          }
         ],
         "name": "2025-04-25"
        },
        {
         "data": [
          {
           "mode": "lines+markers",
           "type": "scatter",
           "x": [
            0.25,
            0.5,
            1,
            2,
            3,
            5,
            7,
            10,
            20,
            30
           ],
           "y": [
            4.32,
            4.22,
            3.92,
            3.67,
            3.67,
            3.81,
            4.01,
            4.23,
            4.71,
            4.69
           ]
          }
         ],
         "name": "2025-04-28"
        },
        {
         "data": [
          {
           "mode": "lines+markers",
           "type": "scatter",
           "x": [
            0.25,
            0.5,
            1,
            2,
            3,
            5,
            7,
            10,
            20,
            30
           ],
           "y": [
            4.31,
            4.2,
            3.89,
            3.65,
            3.65,
            3.77,
            3.96,
            4.19,
            4.66,
            4.64
           ]
          }
         ],
         "name": "2025-04-29"
        },
        {
         "data": [
          {
           "mode": "lines+markers",
           "type": "scatter",
           "x": [
            0.25,
            0.5,
            1,
            2,
            3,
            5,
            7,
            10,
            20,
            30
           ],
           "y": [
            4.31,
            4.19,
            3.85,
            3.6,
            3.58,
            3.72,
            3.93,
            4.17,
            4.68,
            4.66
           ]
          }
         ],
         "name": "2025-04-30"
        },
        {
         "data": [
          {
           "mode": "lines+markers",
           "type": "scatter",
           "x": [
            0.25,
            0.5,
            1,
            2,
            3,
            5,
            7,
            10,
            20,
            30
           ],
           "y": [
            4.31,
            4.22,
            3.92,
            3.7,
            3.69,
            3.81,
            4.02,
            4.25,
            4.75,
            4.74
           ]
          }
         ],
         "name": "2025-05-01"
        },
        {
         "data": [
          {
           "mode": "lines+markers",
           "type": "scatter",
           "x": [
            0.25,
            0.5,
            1,
            2,
            3,
            5,
            7,
            10,
            20,
            30
           ],
           "y": [
            4.33,
            4.26,
            4,
            3.83,
            3.82,
            3.92,
            4.11,
            4.33,
            4.81,
            4.79
           ]
          }
         ],
         "name": "2025-05-02"
        },
        {
         "data": [
          {
           "mode": "lines+markers",
           "type": "scatter",
           "x": [
            0.25,
            0.5,
            1,
            2,
            3,
            5,
            7,
            10,
            20,
            30
           ],
           "y": [
            4.33,
            4.27,
            4.02,
            3.83,
            3.78,
            3.95,
            4.14,
            4.36,
            4.84,
            4.83
           ]
          }
         ],
         "name": "2025-05-05"
        },
        {
         "data": [
          {
           "mode": "lines+markers",
           "type": "scatter",
           "x": [
            0.25,
            0.5,
            1,
            2,
            3,
            5,
            7,
            10,
            20,
            30
           ],
           "y": [
            4.33,
            4.25,
            3.98,
            3.78,
            3.73,
            3.9,
            4.1,
            4.3,
            4.82,
            4.81
           ]
          }
         ],
         "name": "2025-05-06"
        },
        {
         "data": [
          {
           "mode": "lines+markers",
           "type": "scatter",
           "x": [
            0.25,
            0.5,
            1,
            2,
            3,
            5,
            7,
            10,
            20,
            30
           ],
           "y": [
            4.34,
            4.27,
            4,
            3.78,
            3.72,
            3.87,
            4.06,
            4.26,
            4.78,
            4.77
           ]
          }
         ],
         "name": "2025-05-07"
        },
        {
         "data": [
          {
           "mode": "lines+markers",
           "type": "scatter",
           "x": [
            0.25,
            0.5,
            1,
            2,
            3,
            5,
            7,
            10,
            20,
            30
           ],
           "y": [
            4.34,
            4.28,
            4.05,
            3.9,
            3.85,
            4,
            4.18,
            4.37,
            4.86,
            4.83
           ]
          }
         ],
         "name": "2025-05-08"
        },
        {
         "data": [
          {
           "mode": "lines+markers",
           "type": "scatter",
           "x": [
            0.25,
            0.5,
            1,
            2,
            3,
            5,
            7,
            10,
            20,
            30
           ],
           "y": [
            4.34,
            4.28,
            4.05,
            3.88,
            3.85,
            4,
            4.18,
            4.37,
            4.86,
            4.83
           ]
          }
         ],
         "name": "2025-05-09"
        },
        {
         "data": [
          {
           "mode": "lines+markers",
           "type": "scatter",
           "x": [
            0.25,
            0.5,
            1,
            2,
            3,
            5,
            7,
            10,
            20,
            30
           ],
           "y": [
            4.42,
            4.29,
            4.11,
            3.98,
            3.97,
            4.09,
            4.27,
            4.45,
            4.92,
            4.89
           ]
          }
         ],
         "name": "2025-05-12"
        },
        {
         "data": [
          {
           "mode": "lines+markers",
           "type": "scatter",
           "x": [
            0.25,
            0.5,
            1,
            2,
            3,
            5,
            7,
            10,
            20,
            30
           ],
           "y": [
            4.41,
            4.29,
            4.11,
            4.02,
            4,
            4.12,
            4.3,
            4.49,
            4.97,
            4.94
           ]
          }
         ],
         "name": "2025-05-13"
        },
        {
         "data": [
          {
           "mode": "lines+markers",
           "type": "scatter",
           "x": [
            0.25,
            0.5,
            1,
            2,
            3,
            5,
            7,
            10,
            20,
            30
           ],
           "y": [
            4.41,
            4.3,
            4.14,
            4.05,
            4.05,
            4.17,
            4.35,
            4.53,
            5,
            4.97
           ]
          }
         ],
         "name": "2025-05-14"
        },
        {
         "data": [
          {
           "mode": "lines+markers",
           "type": "scatter",
           "x": [
            0.25,
            0.5,
            1,
            2,
            3,
            5,
            7,
            10,
            20,
            30
           ],
           "y": [
            4.38,
            4.29,
            4.1,
            3.96,
            3.95,
            4.07,
            4.25,
            4.45,
            4.93,
            4.91
           ]
          }
         ],
         "name": "2025-05-15"
        },
        {
         "data": [
          {
           "mode": "lines+markers",
           "type": "scatter",
           "x": [
            0.25,
            0.5,
            1,
            2,
            3,
            5,
            7,
            10,
            20,
            30
           ],
           "y": [
            4.37,
            4.3,
            4.13,
            3.98,
            3.95,
            4.06,
            4.24,
            4.43,
            4.92,
            4.89
           ]
          }
         ],
         "name": "2025-05-16"
        },
        {
         "data": [
          {
           "mode": "lines+markers",
           "type": "scatter",
           "x": [
            0.25,
            0.5,
            1,
            2,
            3,
            5,
            7,
            10,
            20,
            30
           ],
           "y": [
            4.39,
            4.32,
            4.12,
            3.97,
            3.95,
            4.07,
            4.26,
            4.46,
            4.95,
            4.92
           ]
          }
         ],
         "name": "2025-05-19"
        },
        {
         "data": [
          {
           "mode": "lines+markers",
           "type": "scatter",
           "x": [
            0.25,
            0.5,
            1,
            2,
            3,
            5,
            7,
            10,
            20,
            30
           ],
           "y": [
            4.38,
            4.32,
            4.12,
            3.97,
            3.95,
            4.07,
            4.27,
            4.48,
            4.99,
            4.96
           ]
          }
         ],
         "name": "2025-05-20"
        },
        {
         "data": [
          {
           "mode": "lines+markers",
           "type": "scatter",
           "x": [
            0.25,
            0.5,
            1,
            2,
            3,
            5,
            7,
            10,
            20,
            30
           ],
           "y": [
            4.36,
            4.33,
            4.13,
            4,
            4,
            4.15,
            4.37,
            4.58,
            5.08,
            5.08
           ]
          }
         ],
         "name": "2025-05-21"
        },
        {
         "data": [
          {
           "mode": "lines+markers",
           "type": "scatter",
           "x": [
            0.25,
            0.5,
            1,
            2,
            3,
            5,
            7,
            10,
            20,
            30
           ],
           "y": [
            4.37,
            4.34,
            4.13,
            4,
            3.99,
            4.11,
            4.32,
            4.54,
            5.05,
            5.05
           ]
          }
         ],
         "name": "2025-05-22"
        },
        {
         "data": [
          {
           "mode": "lines+markers",
           "type": "scatter",
           "x": [
            0.25,
            0.5,
            1,
            2,
            3,
            5,
            7,
            10,
            20,
            30
           ],
           "y": [
            4.36,
            4.35,
            4.15,
            4,
            3.96,
            4.08,
            4.29,
            4.51,
            5.03,
            5.04
           ]
          }
         ],
         "name": "2025-05-23"
        },
        {
         "data": [
          {
           "mode": "lines+markers",
           "type": "scatter",
           "x": [
            0.25,
            0.5,
            1,
            2,
            3,
            5,
            7,
            10,
            20,
            30
           ],
           "y": [
            4.35,
            4.35,
            4.14,
            3.92,
            3.93,
            4.04,
            4.22,
            4.43,
            4.95,
            4.94
           ]
          }
         ],
         "name": "2025-05-27"
        },
        {
         "data": [
          {
           "mode": "lines+markers",
           "type": "scatter",
           "x": [
            0.25,
            0.5,
            1,
            2,
            3,
            5,
            7,
            10,
            20,
            30
           ],
           "y": [
            4.35,
            4.36,
            4.16,
            3.96,
            3.95,
            4.05,
            4.27,
            4.47,
            4.99,
            4.97
           ]
          }
         ],
         "name": "2025-05-28"
        },
        {
         "data": [
          {
           "mode": "lines+markers",
           "type": "scatter",
           "x": [
            0.25,
            0.5,
            1,
            2,
            3,
            5,
            7,
            10,
            20,
            30
           ],
           "y": [
            4.36,
            4.36,
            4.13,
            3.92,
            3.91,
            4,
            4.2,
            4.43,
            4.94,
            4.92
           ]
          }
         ],
         "name": "2025-05-29"
        },
        {
         "data": [
          {
           "mode": "lines+markers",
           "type": "scatter",
           "x": [
            0.25,
            0.5,
            1,
            2,
            3,
            5,
            7,
            10,
            20,
            30
           ],
           "y": [
            4.36,
            4.36,
            4.11,
            3.89,
            3.87,
            3.96,
            4.18,
            4.41,
            4.93,
            4.92
           ]
          }
         ],
         "name": "2025-05-30"
        },
        {
         "data": [
          {
           "mode": "lines+markers",
           "type": "scatter",
           "x": [
            0.25,
            0.5,
            1,
            2,
            3,
            5,
            7,
            10,
            20,
            30
           ],
           "y": [
            4.44,
            4.31,
            4.12,
            3.94,
            3.91,
            4.01,
            4.22,
            4.46,
            5,
            4.99
           ]
          }
         ],
         "name": "2025-06-02"
        },
        {
         "data": [
          {
           "mode": "lines+markers",
           "type": "scatter",
           "x": [
            0.25,
            0.5,
            1,
            2,
            3,
            5,
            7,
            10,
            20,
            30
           ],
           "y": [
            4.43,
            4.31,
            4.12,
            3.96,
            3.93,
            4.04,
            4.23,
            4.46,
            5,
            4.98
           ]
          }
         ],
         "name": "2025-06-03"
        },
        {
         "data": [
          {
           "mode": "lines+markers",
           "type": "scatter",
           "x": [
            0.25,
            0.5,
            1,
            2,
            3,
            5,
            7,
            10,
            20,
            30
           ],
           "y": [
            4.44,
            4.29,
            4.06,
            3.87,
            3.84,
            3.93,
            4.14,
            4.37,
            4.9,
            4.89
           ]
          }
         ],
         "name": "2025-06-04"
        },
        {
         "data": [
          {
           "mode": "lines+markers",
           "type": "scatter",
           "x": [
            0.25,
            0.5,
            1,
            2,
            3,
            5,
            7,
            10,
            20,
            30
           ],
           "y": [
            4.44,
            4.29,
            4.08,
            3.92,
            3.9,
            3.99,
            4.18,
            4.4,
            4.9,
            4.88
           ]
          }
         ],
         "name": "2025-06-05"
        },
        {
         "data": [
          {
           "mode": "lines+markers",
           "type": "scatter",
           "x": [
            0.25,
            0.5,
            1,
            2,
            3,
            5,
            7,
            10,
            20,
            30
           ],
           "y": [
            4.43,
            4.31,
            4.14,
            4.04,
            4.02,
            4.13,
            4.31,
            4.51,
            4.99,
            4.97
           ]
          }
         ],
         "name": "2025-06-06"
        },
        {
         "data": [
          {
           "mode": "lines+markers",
           "type": "scatter",
           "x": [
            0.25,
            0.5,
            1,
            2,
            3,
            5,
            7,
            10,
            20,
            30
           ],
           "y": [
            4.44,
            4.32,
            4.13,
            4.01,
            3.99,
            4.09,
            4.28,
            4.49,
            4.98,
            4.95
           ]
          }
         ],
         "name": "2025-06-09"
        },
        {
         "data": [
          {
           "mode": "lines+markers",
           "type": "scatter",
           "x": [
            0.25,
            0.5,
            1,
            2,
            3,
            5,
            7,
            10,
            20,
            30
           ],
           "y": [
            4.45,
            4.32,
            4.12,
            4.01,
            3.95,
            4.08,
            4.27,
            4.47,
            4.96,
            4.93
           ]
          }
         ],
         "name": "2025-06-10"
        },
        {
         "data": [
          {
           "mode": "lines+markers",
           "type": "scatter",
           "x": [
            0.25,
            0.5,
            1,
            2,
            3,
            5,
            7,
            10,
            20,
            30
           ],
           "y": [
            4.45,
            4.31,
            4.08,
            3.94,
            3.89,
            4.02,
            4.21,
            4.41,
            4.93,
            4.91
           ]
          }
         ],
         "name": "2025-06-11"
        },
        {
         "data": [
          {
           "mode": "lines+markers",
           "type": "scatter",
           "x": [
            0.25,
            0.5,
            1,
            2,
            3,
            5,
            7,
            10,
            20,
            30
           ],
           "y": [
            4.46,
            4.29,
            4.06,
            3.9,
            3.85,
            3.97,
            4.15,
            4.36,
            4.86,
            4.84
           ]
          }
         ],
         "name": "2025-06-12"
        },
        {
         "data": [
          {
           "mode": "lines+markers",
           "type": "scatter",
           "x": [
            0.25,
            0.5,
            1,
            2,
            3,
            5,
            7,
            10,
            20,
            30
           ],
           "y": [
            4.45,
            4.3,
            4.09,
            3.96,
            3.9,
            4.02,
            4.2,
            4.41,
            4.93,
            4.9
           ]
          }
         ],
         "name": "2025-06-13"
        },
        {
         "data": [
          {
           "mode": "lines+markers",
           "type": "scatter",
           "x": [
            0.25,
            0.5,
            1,
            2,
            3,
            5,
            7,
            10,
            20,
            30
           ],
           "y": [
            4.43,
            4.32,
            4.1,
            3.97,
            3.93,
            4.04,
            4.23,
            4.46,
            4.97,
            4.96
           ]
          }
         ],
         "name": "2025-06-16"
        },
        {
         "data": [
          {
           "mode": "lines+markers",
           "type": "scatter",
           "x": [
            0.25,
            0.5,
            1,
            2,
            3,
            5,
            7,
            10,
            20,
            30
           ],
           "y": [
            4.42,
            4.31,
            4.1,
            3.94,
            3.9,
            3.99,
            4.17,
            4.39,
            4.89,
            4.88
           ]
          }
         ],
         "name": "2025-06-17"
        },
        {
         "data": [
          {
           "mode": "lines+markers",
           "type": "scatter",
           "x": [
            0.25,
            0.5,
            1,
            2,
            3,
            5,
            7,
            10,
            20,
            30
           ],
           "y": [
            4.42,
            4.33,
            4.1,
            3.94,
            3.89,
            3.98,
            4.17,
            4.38,
            4.89,
            4.88
           ]
          }
         ],
         "name": "2025-06-18"
        },
        {
         "data": [
          {
           "mode": "lines+markers",
           "type": "scatter",
           "x": [
            0.25,
            0.5,
            1,
            2,
            3,
            5,
            7,
            10,
            20,
            30
           ],
           "y": [
            4.39,
            4.29,
            4.07,
            3.9,
            3.86,
            3.96,
            4.16,
            4.38,
            4.9,
            4.89
           ]
          }
         ],
         "name": "2025-06-20"
        },
        {
         "data": [
          {
           "mode": "lines+markers",
           "type": "scatter",
           "x": [
            0.25,
            0.5,
            1,
            2,
            3,
            5,
            7,
            10,
            20,
            30
           ],
           "y": [
            4.38,
            4.28,
            4,
            3.84,
            3.8,
            3.91,
            4.1,
            4.34,
            4.87,
            4.87
           ]
          }
         ],
         "name": "2025-06-23"
        },
        {
         "data": [
          {
           "mode": "lines+markers",
           "type": "scatter",
           "x": [
            0.25,
            0.5,
            1,
            2,
            3,
            5,
            7,
            10,
            20,
            30
           ],
           "y": [
            4.38,
            4.27,
            3.99,
            3.75,
            3.75,
            3.86,
            4.06,
            4.3,
            4.83,
            4.83
           ]
          }
         ],
         "name": "2025-06-24"
        },
        {
         "data": [
          {
           "mode": "lines+markers",
           "type": "scatter",
           "x": [
            0.25,
            0.5,
            1,
            2,
            3,
            5,
            7,
            10,
            20,
            30
           ],
           "y": [
            4.38,
            4.26,
            3.99,
            3.74,
            3.74,
            3.83,
            4.05,
            4.29,
            4.83,
            4.83
           ]
          }
         ],
         "name": "2025-06-25"
        },
        {
         "data": [
          {
           "mode": "lines+markers",
           "type": "scatter",
           "x": [
            0.25,
            0.5,
            1,
            2,
            3,
            5,
            7,
            10,
            20,
            30
           ],
           "y": [
            4.39,
            4.26,
            3.96,
            3.7,
            3.68,
            3.79,
            4,
            4.26,
            4.81,
            4.81
           ]
          }
         ],
         "name": "2025-06-26"
        },
        {
         "data": [
          {
           "mode": "lines+markers",
           "type": "scatter",
           "x": [
            0.25,
            0.5,
            1,
            2,
            3,
            5,
            7,
            10,
            20,
            30
           ],
           "y": [
            4.39,
            4.26,
            3.97,
            3.73,
            3.72,
            3.83,
            4.03,
            4.29,
            4.85,
            4.85
           ]
          }
         ],
         "name": "2025-06-27"
        },
        {
         "data": [
          {
           "mode": "lines+markers",
           "type": "scatter",
           "x": [
            0.25,
            0.5,
            1,
            2,
            3,
            5,
            7,
            10,
            20,
            30
           ],
           "y": [
            4.41,
            4.29,
            3.96,
            3.72,
            3.68,
            3.79,
            3.98,
            4.24,
            4.79,
            4.78
           ]
          }
         ],
         "name": "2025-06-30"
        },
        {
         "data": [
          {
           "mode": "lines+markers",
           "type": "scatter",
           "x": [
            0.25,
            0.5,
            1,
            2,
            3,
            5,
            7,
            10,
            20,
            30
           ],
           "y": [
            4.4,
            4.29,
            3.98,
            3.78,
            3.75,
            3.84,
            4.03,
            4.26,
            4.79,
            4.78
           ]
          }
         ],
         "name": "2025-07-01"
        },
        {
         "data": [
          {
           "mode": "lines+markers",
           "type": "scatter",
           "x": [
            0.25,
            0.5,
            1,
            2,
            3,
            5,
            7,
            10,
            20,
            30
           ],
           "y": [
            4.41,
            4.28,
            3.99,
            3.78,
            3.77,
            3.87,
            4.06,
            4.3,
            4.84,
            4.82
           ]
          }
         ],
         "name": "2025-07-02"
        },
        {
         "data": [
          {
           "mode": "lines+markers",
           "type": "scatter",
           "x": [
            0.25,
            0.5,
            1,
            2,
            3,
            5,
            7,
            10,
            20,
            30
           ],
           "y": [
            4.42,
            4.34,
            4.07,
            3.88,
            3.84,
            3.94,
            4.12,
            4.35,
            4.87,
            4.86
           ]
          }
         ],
         "name": "2025-07-03"
        },
        {
         "data": [
          {
           "mode": "lines+markers",
           "type": "scatter",
           "x": [
            0.25,
            0.5,
            1,
            2,
            3,
            5,
            7,
            10,
            20,
            30
           ],
           "y": [
            4.42,
            4.33,
            4.08,
            3.9,
            3.85,
            3.96,
            4.16,
            4.4,
            4.93,
            4.92
           ]
          }
         ],
         "name": "2025-07-07"
        },
        {
         "data": [
          {
           "mode": "lines+markers",
           "type": "scatter",
           "x": [
            0.25,
            0.5,
            1,
            2,
            3,
            5,
            7,
            10,
            20,
            30
           ],
           "y": [
            4.42,
            4.34,
            4.11,
            3.9,
            3.86,
            3.99,
            4.18,
            4.42,
            4.95,
            4.94
           ]
          }
         ],
         "name": "2025-07-08"
        },
        {
         "data": [
          {
           "mode": "lines+markers",
           "type": "scatter",
           "x": [
            0.25,
            0.5,
            1,
            2,
            3,
            5,
            7,
            10,
            20,
            30
           ],
           "y": [
            4.42,
            4.31,
            4.07,
            3.86,
            3.8,
            3.92,
            4.11,
            4.34,
            4.87,
            4.87
           ]
          }
         ],
         "name": "2025-07-09"
        },
        {
         "data": [
          {
           "mode": "lines+markers",
           "type": "scatter",
           "x": [
            0.25,
            0.5,
            1,
            2,
            3,
            5,
            7,
            10,
            20,
            30
           ],
           "y": [
            4.42,
            4.31,
            4.07,
            3.86,
            3.82,
            3.93,
            4.12,
            4.35,
            4.87,
            4.86
           ]
          }
         ],
         "name": "2025-07-10"
        },
        {
         "data": [
          {
           "mode": "lines+markers",
           "type": "scatter",
           "x": [
            0.25,
            0.5,
            1,
            2,
            3,
            5,
            7,
            10,
            20,
            30
           ],
           "y": [
            4.41,
            4.31,
            4.09,
            3.9,
            3.86,
            3.99,
            4.19,
            4.43,
            4.96,
            4.96
           ]
          }
         ],
         "name": "2025-07-11"
        },
        {
         "data": [
          {
           "mode": "lines+markers",
           "type": "scatter",
           "x": [
            0.25,
            0.5,
            1,
            2,
            3,
            5,
            7,
            10,
            20,
            30
           ],
           "y": [
            4.42,
            4.31,
            4.08,
            3.9,
            3.86,
            3.98,
            4.19,
            4.43,
            4.97,
            4.97
           ]
          }
         ],
         "name": "2025-07-14"
        },
        {
         "data": [
          {
           "mode": "lines+markers",
           "type": "scatter",
           "x": [
            0.25,
            0.5,
            1,
            2,
            3,
            5,
            7,
            10,
            20,
            30
           ],
           "y": [
            4.42,
            4.33,
            4.12,
            3.95,
            3.93,
            4.05,
            4.26,
            4.5,
            5.02,
            5.01
           ]
          }
         ],
         "name": "2025-07-15"
        },
        {
         "data": [
          {
           "mode": "lines+markers",
           "type": "scatter",
           "x": [
            0.25,
            0.5,
            1,
            2,
            3,
            5,
            7,
            10,
            20,
            30
           ],
           "y": [
            4.41,
            4.31,
            4.08,
            3.88,
            3.86,
            3.99,
            4.21,
            4.46,
            5.01,
            5.01
           ]
          }
         ],
         "name": "2025-07-16"
        },
        {
         "data": [
          {
           "mode": "lines+markers",
           "type": "scatter",
           "x": [
            0.25,
            0.5,
            1,
            2,
            3,
            5,
            7,
            10,
            20,
            30
           ],
           "y": [
            4.41,
            4.31,
            4.1,
            3.91,
            3.89,
            4.01,
            4.22,
            4.47,
            5.01,
            5.01
           ]
          }
         ],
         "name": "2025-07-17"
        },
        {
         "data": [
          {
           "mode": "lines+markers",
           "type": "scatter",
           "x": [
            0.25,
            0.5,
            1,
            2,
            3,
            5,
            7,
            10,
            20,
            30
           ],
           "y": [
            4.4,
            4.3,
            4.08,
            3.88,
            3.84,
            3.96,
            4.18,
            4.44,
            4.99,
            5
           ]
          }
         ],
         "name": "2025-07-18"
        },
        {
         "data": [
          {
           "mode": "lines+markers",
           "type": "scatter",
           "x": [
            0.25,
            0.5,
            1,
            2,
            3,
            5,
            7,
            10,
            20,
            30
           ],
           "y": [
            4.41,
            4.3,
            4.06,
            3.85,
            3.81,
            3.91,
            4.13,
            4.38,
            4.93,
            4.94
           ]
          }
         ],
         "name": "2025-07-21"
        },
        {
         "data": [
          {
           "mode": "lines+markers",
           "type": "scatter",
           "x": [
            0.25,
            0.5,
            1,
            2,
            3,
            5,
            7,
            10,
            20,
            30
           ],
           "y": [
            4.41,
            4.3,
            4.05,
            3.83,
            3.77,
            3.88,
            4.09,
            4.35,
            4.9,
            4.9
           ]
          }
         ],
         "name": "2025-07-22"
        },
        {
         "data": [
          {
           "mode": "lines+markers",
           "type": "scatter",
           "x": [
            0.25,
            0.5,
            1,
            2,
            3,
            5,
            7,
            10,
            20,
            30
           ],
           "y": [
            4.41,
            4.31,
            4.08,
            3.88,
            3.84,
            3.94,
            4.15,
            4.4,
            4.93,
            4.95
           ]
          }
         ],
         "name": "2025-07-23"
        },
        {
         "data": [
          {
           "mode": "lines+markers",
           "type": "scatter",
           "x": [
            0.25,
            0.5,
            1,
            2,
            3,
            5,
            7,
            10,
            20,
            30
           ],
           "y": [
            4.42,
            4.32,
            4.1,
            3.91,
            3.87,
            3.98,
            4.18,
            4.43,
            4.95,
            4.96
           ]
          }
         ],
         "name": "2025-07-24"
        },
        {
         "data": [
          {
           "mode": "lines+markers",
           "type": "scatter",
           "x": [
            0.25,
            0.5,
            1,
            2,
            3,
            5,
            7,
            10,
            20,
            30
           ],
           "y": [
            4.42,
            4.31,
            4.09,
            3.91,
            3.86,
            3.95,
            4.15,
            4.4,
            4.92,
            4.92
           ]
          }
         ],
         "name": "2025-07-25"
        },
        {
         "data": [
          {
           "mode": "lines+markers",
           "type": "scatter",
           "x": [
            0.25,
            0.5,
            1,
            2,
            3,
            5,
            7,
            10,
            20,
            30
           ],
           "y": [
            4.4,
            4.3,
            4.09,
            3.91,
            3.87,
            3.96,
            4.18,
            4.42,
            4.95,
            4.96
           ]
          }
         ],
         "name": "2025-07-28"
        },
        {
         "data": [
          {
           "mode": "lines+markers",
           "type": "scatter",
           "x": [
            0.25,
            0.5,
            1,
            2,
            3,
            5,
            7,
            10,
            20,
            30
           ],
           "y": [
            4.4,
            4.28,
            4.07,
            3.86,
            3.82,
            3.9,
            4.1,
            4.34,
            4.86,
            4.86
           ]
          }
         ],
         "name": "2025-07-29"
        },
        {
         "data": [
          {
           "mode": "lines+markers",
           "type": "scatter",
           "x": [
            0.25,
            0.5,
            1,
            2,
            3,
            5,
            7,
            10,
            20,
            30
           ],
           "y": [
            4.41,
            4.31,
            4.12,
            3.94,
            3.89,
            3.96,
            4.15,
            4.38,
            4.9,
            4.89
           ]
          }
         ],
         "name": "2025-07-30"
        },
        {
         "data": [
          {
           "mode": "lines+markers",
           "type": "scatter",
           "x": [
            0.25,
            0.5,
            1,
            2,
            3,
            5,
            7,
            10,
            20,
            30
           ],
           "y": [
            4.41,
            4.31,
            4.1,
            3.94,
            3.89,
            3.96,
            4.14,
            4.37,
            4.89,
            4.89
           ]
          }
         ],
         "name": "2025-07-31"
        },
        {
         "data": [
          {
           "mode": "lines+markers",
           "type": "scatter",
           "x": [
            0.25,
            0.5,
            1,
            2,
            3,
            5,
            7,
            10,
            20,
            30
           ],
           "y": [
            4.35,
            4.16,
            3.87,
            3.69,
            3.67,
            3.77,
            3.97,
            4.23,
            4.79,
            4.81
           ]
          }
         ],
         "name": "2025-08-01"
        },
        {
         "data": [
          {
           "mode": "lines+markers",
           "type": "scatter",
           "x": [
            0.25,
            0.5,
            1,
            2,
            3,
            5,
            7,
            10,
            20,
            30
           ],
           "y": [
            4.35,
            4.15,
            3.82,
            3.69,
            3.66,
            3.75,
            3.95,
            4.22,
            4.78,
            4.8
           ]
          }
         ],
         "name": "2025-08-04"
        },
        {
         "data": [
          {
           "mode": "lines+markers",
           "type": "scatter",
           "x": [
            0.25,
            0.5,
            1,
            2,
            3,
            5,
            7,
            10,
            20,
            30
           ],
           "y": [
            4.34,
            4.16,
            3.92,
            3.72,
            3.63,
            3.77,
            3.97,
            4.22,
            4.77,
            4.78
           ]
          }
         ],
         "name": "2025-08-05"
        },
        {
         "data": [
          {
           "mode": "lines+markers",
           "type": "scatter",
           "x": [
            0.25,
            0.5,
            1,
            2,
            3,
            5,
            7,
            10,
            20,
            30
           ],
           "y": [
            4.32,
            4.15,
            3.9,
            3.69,
            3.63,
            3.77,
            3.97,
            4.22,
            4.8,
            4.81
           ]
          }
         ],
         "name": "2025-08-06"
        },
        {
         "data": [
          {
           "mode": "lines+markers",
           "type": "scatter",
           "x": [
            0.25,
            0.5,
            1,
            2,
            3,
            5,
            7,
            10,
            20,
            30
           ],
           "y": [
            4.32,
            4.15,
            3.92,
            3.72,
            3.66,
            3.79,
            3.99,
            4.23,
            4.81,
            4.81
           ]
          }
         ],
         "name": "2025-08-07"
        },
        {
         "data": [
          {
           "mode": "lines+markers",
           "type": "scatter",
           "x": [
            0.25,
            0.5,
            1,
            2,
            3,
            5,
            7,
            10,
            20,
            30
           ],
           "y": [
            4.32,
            4.15,
            3.93,
            3.76,
            3.7,
            3.84,
            4.03,
            4.27,
            4.84,
            4.85
           ]
          }
         ],
         "name": "2025-08-08"
        },
        {
         "data": [
          {
           "mode": "lines+markers",
           "type": "scatter",
           "x": [
            0.25,
            0.5,
            1,
            2,
            3,
            5,
            7,
            10,
            20,
            30
           ],
           "y": [
            4.34,
            4.15,
            3.93,
            3.76,
            3.71,
            3.83,
            4.03,
            4.27,
            4.83,
            4.84
           ]
          }
         ],
         "name": "2025-08-11"
        },
        {
         "data": [
          {
           "mode": "lines+markers",
           "type": "scatter",
           "x": [
            0.25,
            0.5,
            1,
            2,
            3,
            5,
            7,
            10,
            20,
            30
           ],
           "y": [
            4.33,
            4.12,
            3.9,
            3.72,
            3.69,
            3.83,
            4.03,
            4.29,
            4.87,
            4.88
           ]
          }
         ],
         "name": "2025-08-12"
        },
        {
         "data": [
          {
           "mode": "lines+markers",
           "type": "scatter",
           "x": [
            0.25,
            0.5,
            1,
            2,
            3,
            5,
            7,
            10,
            20,
            30
           ],
           "y": [
            4.29,
            4.09,
            3.86,
            3.67,
            3.64,
            3.77,
            3.98,
            4.24,
            4.81,
            4.83
           ]
          }
         ],
         "name": "2025-08-13"
        },
        {
         "data": [
          {
           "mode": "lines+markers",
           "type": "scatter",
           "x": [
            0.25,
            0.5,
            1,
            2,
            3,
            5,
            7,
            10,
            20,
            30
           ],
           "y": [
            4.3,
            4.12,
            3.91,
            3.74,
            3.7,
            3.82,
            4.03,
            4.29,
            4.86,
            4.88
           ]
          }
         ],
         "name": "2025-08-14"
        },
        {
         "data": [
          {
           "mode": "lines+markers",
           "type": "scatter",
           "x": [
            0.25,
            0.5,
            1,
            2,
            3,
            5,
            7,
            10,
            20,
            30
           ],
           "y": [
            4.3,
            4.12,
            3.93,
            3.75,
            3.73,
            3.85,
            4.07,
            4.33,
            4.91,
            4.92
           ]
          }
         ],
         "name": "2025-08-15"
        },
        {
         "data": [
          {
           "mode": "lines+markers",
           "type": "scatter",
           "x": [
            0.25,
            0.5,
            1,
            2,
            3,
            5,
            7,
            10,
            20,
            30
           ],
           "y": [
            4.33,
            4.13,
            3.93,
            3.77,
            3.73,
            3.86,
            4.07,
            4.34,
            4.92,
            4.94
           ]
          }
         ],
         "name": "2025-08-18"
        },
        {
         "data": [
          {
           "mode": "lines+markers",
           "type": "scatter",
           "x": [
            0.25,
            0.5,
            1,
            2,
            3,
            5,
            7,
            10,
            20,
            30
           ],
           "y": [
            4.3,
            4.11,
            3.91,
            3.75,
            3.7,
            3.82,
            4.04,
            4.3,
            4.89,
            4.9
           ]
          }
         ],
         "name": "2025-08-19"
        },
        {
         "data": [
          {
           "mode": "lines+markers",
           "type": "scatter",
           "x": [
            0.25,
            0.5,
            1,
            2,
            3,
            5,
            7,
            10,
            20,
            30
           ],
           "y": [
            4.3,
            4.11,
            3.9,
            3.74,
            3.69,
            3.81,
            4.02,
            4.29,
            4.86,
            4.89
           ]
          }
         ],
         "name": "2025-08-20"
        },
        {
         "data": [
          {
           "mode": "lines+markers",
           "type": "scatter",
           "x": [
            0.25,
            0.5,
            1,
            2,
            3,
            5,
            7,
            10,
            20,
            30
           ],
           "y": [
            4.32,
            4.14,
            3.95,
            3.79,
            3.75,
            3.86,
            4.07,
            4.33,
            4.89,
            4.92
           ]
          }
         ],
         "name": "2025-08-21"
        },
        {
         "data": [
          {
           "mode": "lines+markers",
           "type": "scatter",
           "x": [
            0.25,
            0.5,
            1,
            2,
            3,
            5,
            7,
            10,
            20,
            30
           ],
           "y": [
            4.27,
            4.08,
            3.87,
            3.68,
            3.64,
            3.76,
            3.98,
            4.26,
            4.84,
            4.88
           ]
          }
         ],
         "name": "2025-08-22"
        },
        {
         "data": [
          {
           "mode": "lines+markers",
           "type": "scatter",
           "x": [
            0.25,
            0.5,
            1,
            2,
            3,
            5,
            7,
            10,
            20,
            30
           ],
           "y": [
            4.29,
            4.08,
            3.88,
            3.73,
            3.68,
            3.8,
            4.01,
            4.28,
            4.86,
            4.89
           ]
          }
         ],
         "name": "2025-08-25"
        },
        {
         "data": [
          {
           "mode": "lines+markers",
           "type": "scatter",
           "x": [
            0.25,
            0.5,
            1,
            2,
            3,
            5,
            7,
            10,
            20,
            30
           ],
           "y": [
            4.28,
            4.06,
            3.85,
            3.61,
            3.63,
            3.75,
            3.98,
            4.26,
            4.86,
            4.9
           ]
          }
         ],
         "name": "2025-08-26"
        },
        {
         "data": [
          {
           "mode": "lines+markers",
           "type": "scatter",
           "x": [
            0.25,
            0.5,
            1,
            2,
            3,
            5,
            7,
            10,
            20,
            30
           ],
           "y": [
            4.26,
            4.04,
            3.83,
            3.59,
            3.59,
            3.69,
            3.95,
            4.24,
            4.87,
            4.91
           ]
          }
         ],
         "name": "2025-08-27"
        },
        {
         "data": [
          {
           "mode": "lines+markers",
           "type": "scatter",
           "x": [
            0.25,
            0.5,
            1,
            2,
            3,
            5,
            7,
            10,
            20,
            30
           ],
           "y": [
            4.26,
            4.04,
            3.85,
            3.62,
            3.6,
            3.69,
            3.92,
            4.22,
            4.83,
            4.88
           ]
          }
         ],
         "name": "2025-08-28"
        },
        {
         "data": [
          {
           "mode": "lines+markers",
           "type": "scatter",
           "x": [
            0.25,
            0.5,
            1,
            2,
            3,
            5,
            7,
            10,
            20,
            30
           ],
           "y": [
            4.23,
            4.01,
            3.83,
            3.59,
            3.58,
            3.68,
            3.92,
            4.23,
            4.86,
            4.92
           ]
          }
         ],
         "name": "2025-08-29"
        },
        {
         "data": [
          {
           "mode": "lines+markers",
           "type": "scatter",
           "x": [
            0.25,
            0.5,
            1,
            2,
            3,
            5,
            7,
            10,
            20,
            30
           ],
           "y": [
            4.2,
            3.99,
            3.82,
            3.66,
            3.63,
            3.74,
            3.98,
            4.28,
            4.92,
            4.97
           ]
          }
         ],
         "name": "2025-09-02"
        },
        {
         "data": [
          {
           "mode": "lines+markers",
           "type": "scatter",
           "x": [
            0.25,
            0.5,
            1,
            2,
            3,
            5,
            7,
            10,
            20,
            30
           ],
           "y": [
            4.18,
            3.96,
            3.77,
            3.61,
            3.58,
            3.69,
            3.92,
            4.22,
            4.85,
            4.9
           ]
          }
         ],
         "name": "2025-09-03"
        },
        {
         "data": [
          {
           "mode": "lines+markers",
           "type": "scatter",
           "x": [
            0.25,
            0.5,
            1,
            2,
            3,
            5,
            7,
            10,
            20,
            30
           ],
           "y": [
            4.16,
            3.94,
            3.76,
            3.59,
            3.55,
            3.65,
            3.87,
            4.17,
            4.81,
            4.86
           ]
          }
         ],
         "name": "2025-09-04"
        },
        {
         "data": [
          {
           "mode": "lines+markers",
           "type": "scatter",
           "x": [
            0.25,
            0.5,
            1,
            2,
            3,
            5,
            7,
            10,
            20,
            30
           ],
           "y": [
            4.07,
            3.85,
            3.65,
            3.51,
            3.48,
            3.59,
            3.8,
            4.1,
            4.72,
            4.78
           ]
          }
         ],
         "name": "2025-09-05"
        },
        {
         "data": [
          {
           "mode": "lines+markers",
           "type": "scatter",
           "x": [
            0.25,
            0.5,
            1,
            2,
            3,
            5,
            7,
            10,
            20,
            30
           ],
           "y": [
            4.1,
            3.84,
            3.64,
            3.49,
            3.47,
            3.57,
            3.77,
            4.05,
            4.65,
            4.69
           ]
          }
         ],
         "name": "2025-09-08"
        },
        {
         "data": [
          {
           "mode": "lines+markers",
           "type": "scatter",
           "x": [
            0.25,
            0.5,
            1,
            2,
            3,
            5,
            7,
            10,
            20,
            30
           ],
           "y": [
            4.1,
            3.85,
            3.68,
            3.54,
            3.48,
            3.61,
            3.81,
            4.08,
            4.68,
            4.72
           ]
          }
         ],
         "name": "2025-09-09"
        },
        {
         "data": [
          {
           "mode": "lines+markers",
           "type": "scatter",
           "x": [
            0.25,
            0.5,
            1,
            2,
            3,
            5,
            7,
            10,
            20,
            30
           ],
           "y": [
            4.09,
            3.83,
            3.66,
            3.54,
            3.47,
            3.59,
            3.78,
            4.04,
            4.65,
            4.69
           ]
          }
         ],
         "name": "2025-09-10"
        },
        {
         "data": [
          {
           "mode": "lines+markers",
           "type": "scatter",
           "x": [
            0.25,
            0.5,
            1,
            2,
            3,
            5,
            7,
            10,
            20,
            30
           ],
           "y": [
            4.08,
            3.82,
            3.63,
            3.52,
            3.47,
            3.59,
            3.76,
            4.01,
            4.61,
            4.65
           ]
          }
         ],
         "name": "2025-09-11"
        },
        {
         "data": [
          {
           "mode": "lines+markers",
           "type": "scatter",
           "x": [
            0.25,
            0.5,
            1,
            2,
            3,
            5,
            7,
            10,
            20,
            30
           ],
           "y": [
            4.08,
            3.83,
            3.66,
            3.56,
            3.52,
            3.63,
            3.81,
            4.06,
            4.65,
            4.68
           ]
          }
         ],
         "name": "2025-09-12"
        },
        {
         "data": [
          {
           "mode": "lines+markers",
           "type": "scatter",
           "x": [
            0.25,
            0.5,
            1,
            2,
            3,
            5,
            7,
            10,
            20,
            30
           ],
           "y": [
            4.06,
            3.81,
            3.64,
            3.54,
            3.5,
            3.61,
            3.79,
            4.05,
            4.63,
            4.66
           ]
          }
         ],
         "name": "2025-09-15"
        },
        {
         "data": [
          {
           "mode": "lines+markers",
           "type": "scatter",
           "x": [
            0.25,
            0.5,
            1,
            2,
            3,
            5,
            7,
            10,
            20,
            30
           ],
           "y": [
            4.04,
            3.81,
            3.62,
            3.51,
            3.47,
            3.59,
            3.78,
            4.04,
            4.61,
            4.65
           ]
          }
         ],
         "name": "2025-09-16"
        },
        {
         "data": [
          {
           "mode": "lines+markers",
           "type": "scatter",
           "x": [
            0.25,
            0.5,
            1,
            2,
            3,
            5,
            7,
            10,
            20,
            30
           ],
           "y": [
            4.02,
            3.8,
            3.6,
            3.52,
            3.51,
            3.62,
            3.81,
            4.06,
            4.62,
            4.66
           ]
          }
         ],
         "name": "2025-09-17"
        },
        {
         "data": [
          {
           "mode": "lines+markers",
           "type": "scatter",
           "x": [
            0.25,
            0.5,
            1,
            2,
            3,
            5,
            7,
            10,
            20,
            30
           ],
           "y": [
            4.03,
            3.81,
            3.61,
            3.57,
            3.55,
            3.67,
            3.86,
            4.11,
            4.68,
            4.72
           ]
          }
         ],
         "name": "2025-09-18"
        },
        {
         "data": [
          {
           "mode": "lines+markers",
           "type": "scatter",
           "x": [
            0.25,
            0.5,
            1,
            2,
            3,
            5,
            7,
            10,
            20,
            30
           ],
           "y": [
            4.03,
            3.81,
            3.6,
            3.57,
            3.56,
            3.68,
            3.88,
            4.14,
            4.71,
            4.75
           ]
          }
         ],
         "name": "2025-09-19"
        },
        {
         "data": [
          {
           "mode": "lines+markers",
           "type": "scatter",
           "x": [
            0.25,
            0.5,
            1,
            2,
            3,
            5,
            7,
            10,
            20,
            30
           ],
           "y": [
            4,
            3.81,
            3.61,
            3.61,
            3.59,
            3.71,
            3.9,
            4.15,
            4.73,
            4.77
           ]
          }
         ],
         "name": "2025-09-22"
        },
        {
         "data": [
          {
           "mode": "lines+markers",
           "type": "scatter",
           "x": [
            0.25,
            0.5,
            1,
            2,
            3,
            5,
            7,
            10,
            20,
            30
           ],
           "y": [
            4,
            3.81,
            3.61,
            3.53,
            3.57,
            3.68,
            3.87,
            4.12,
            4.7,
            4.73
           ]
          }
         ],
         "name": "2025-09-23"
        },
        {
         "data": [
          {
           "mode": "lines+markers",
           "type": "scatter",
           "x": [
            0.25,
            0.5,
            1,
            2,
            3,
            5,
            7,
            10,
            20,
            30
           ],
           "y": [
            4.02,
            3.82,
            3.63,
            3.57,
            3.6,
            3.7,
            3.91,
            4.16,
            4.73,
            4.76
           ]
          }
         ],
         "name": "2025-09-24"
        },
        {
         "data": [
          {
           "mode": "lines+markers",
           "type": "scatter",
           "x": [
            0.25,
            0.5,
            1,
            2,
            3,
            5,
            7,
            10,
            20,
            30
           ],
           "y": [
            4.04,
            3.85,
            3.68,
            3.64,
            3.66,
            3.75,
            3.94,
            4.18,
            4.73,
            4.75
           ]
          }
         ],
         "name": "2025-09-25"
        },
        {
         "data": [
          {
           "mode": "lines+markers",
           "type": "scatter",
           "x": [
            0.25,
            0.5,
            1,
            2,
            3,
            5,
            7,
            10,
            20,
            30
           ],
           "y": [
            4.02,
            3.83,
            3.67,
            3.63,
            3.66,
            3.76,
            3.96,
            4.2,
            4.74,
            4.77
           ]
          }
         ],
         "name": "2025-09-26"
        },
        {
         "data": [
          {
           "mode": "lines+markers",
           "type": "scatter",
           "x": [
            0.25,
            0.5,
            1,
            2,
            3,
            5,
            7,
            10,
            20,
            30
           ],
           "y": [
            4.04,
            3.84,
            3.65,
            3.63,
            3.63,
            3.74,
            3.92,
            4.15,
            4.69,
            4.71
           ]
          }
         ],
         "name": "2025-09-29"
        },
        {
         "data": [
          {
           "mode": "lines+markers",
           "type": "scatter",
           "x": [
            0.25,
            0.5,
            1,
            2,
            3,
            5,
            7,
            10,
            20,
            30
           ],
           "y": [
            4.02,
            3.83,
            3.68,
            3.6,
            3.61,
            3.74,
            3.93,
            4.16,
            4.71,
            4.73
           ]
          }
         ],
         "name": "2025-09-30"
        }
       ],
       "layout": {
        "height": 600,
        "sliders": [
         {
          "currentvalue": {
           "prefix": "Date: "
          },
          "steps": [
           {
            "args": [
             [
              "2025-01-02"
             ],
             {
              "frame": {
               "duration": 0,
               "redraw": true
              },
              "mode": "immediate"
             }
            ],
            "label": "2025-01-02",
            "method": "animate"
           },
           {
            "args": [
             [
              "2025-01-03"
             ],
             {
              "frame": {
               "duration": 0,
               "redraw": true
              },
              "mode": "immediate"
             }
            ],
            "label": "2025-01-03",
            "method": "animate"
           },
           {
            "args": [
             [
              "2025-01-06"
             ],
             {
              "frame": {
               "duration": 0,
               "redraw": true
              },
              "mode": "immediate"
             }
            ],
            "label": "2025-01-06",
            "method": "animate"
           },
           {
            "args": [
             [
              "2025-01-07"
             ],
             {
              "frame": {
               "duration": 0,
               "redraw": true
              },
              "mode": "immediate"
             }
            ],
            "label": "2025-01-07",
            "method": "animate"
           },
           {
            "args": [
             [
              "2025-01-08"
             ],
             {
              "frame": {
               "duration": 0,
               "redraw": true
              },
              "mode": "immediate"
             }
            ],
            "label": "2025-01-08",
            "method": "animate"
           },
           {
            "args": [
             [
              "2025-01-09"
             ],
             {
              "frame": {
               "duration": 0,
               "redraw": true
              },
              "mode": "immediate"
             }
            ],
            "label": "2025-01-09",
            "method": "animate"
           },
           {
            "args": [
             [
              "2025-01-10"
             ],
             {
              "frame": {
               "duration": 0,
               "redraw": true
              },
              "mode": "immediate"
             }
            ],
            "label": "2025-01-10",
            "method": "animate"
           },
           {
            "args": [
             [
              "2025-01-13"
             ],
             {
              "frame": {
               "duration": 0,
               "redraw": true
              },
              "mode": "immediate"
             }
            ],
            "label": "2025-01-13",
            "method": "animate"
           },
           {
            "args": [
             [
              "2025-01-14"
             ],
             {
              "frame": {
               "duration": 0,
               "redraw": true
              },
              "mode": "immediate"
             }
            ],
            "label": "2025-01-14",
            "method": "animate"
           },
           {
            "args": [
             [
              "2025-01-15"
             ],
             {
              "frame": {
               "duration": 0,
               "redraw": true
              },
              "mode": "immediate"
             }
            ],
            "label": "2025-01-15",
            "method": "animate"
           },
           {
            "args": [
             [
              "2025-01-16"
             ],
             {
              "frame": {
               "duration": 0,
               "redraw": true
              },
              "mode": "immediate"
             }
            ],
            "label": "2025-01-16",
            "method": "animate"
           },
           {
            "args": [
             [
              "2025-01-17"
             ],
             {
              "frame": {
               "duration": 0,
               "redraw": true
              },
              "mode": "immediate"
             }
            ],
            "label": "2025-01-17",
            "method": "animate"
           },
           {
            "args": [
             [
              "2025-01-21"
             ],
             {
              "frame": {
               "duration": 0,
               "redraw": true
              },
              "mode": "immediate"
             }
            ],
            "label": "2025-01-21",
            "method": "animate"
           },
           {
            "args": [
             [
              "2025-01-22"
             ],
             {
              "frame": {
               "duration": 0,
               "redraw": true
              },
              "mode": "immediate"
             }
            ],
            "label": "2025-01-22",
            "method": "animate"
           },
           {
            "args": [
             [
              "2025-01-23"
             ],
             {
              "frame": {
               "duration": 0,
               "redraw": true
              },
              "mode": "immediate"
             }
            ],
            "label": "2025-01-23",
            "method": "animate"
           },
           {
            "args": [
             [
              "2025-01-24"
             ],
             {
              "frame": {
               "duration": 0,
               "redraw": true
              },
              "mode": "immediate"
             }
            ],
            "label": "2025-01-24",
            "method": "animate"
           },
           {
            "args": [
             [
              "2025-01-27"
             ],
             {
              "frame": {
               "duration": 0,
               "redraw": true
              },
              "mode": "immediate"
             }
            ],
            "label": "2025-01-27",
            "method": "animate"
           },
           {
            "args": [
             [
              "2025-01-28"
             ],
             {
              "frame": {
               "duration": 0,
               "redraw": true
              },
              "mode": "immediate"
             }
            ],
            "label": "2025-01-28",
            "method": "animate"
           },
           {
            "args": [
             [
              "2025-01-29"
             ],
             {
              "frame": {
               "duration": 0,
               "redraw": true
              },
              "mode": "immediate"
             }
            ],
            "label": "2025-01-29",
            "method": "animate"
           },
           {
            "args": [
             [
              "2025-01-30"
             ],
             {
              "frame": {
               "duration": 0,
               "redraw": true
              },
              "mode": "immediate"
             }
            ],
            "label": "2025-01-30",
            "method": "animate"
           },
           {
            "args": [
             [
              "2025-01-31"
             ],
             {
              "frame": {
               "duration": 0,
               "redraw": true
              },
              "mode": "immediate"
             }
            ],
            "label": "2025-01-31",
            "method": "animate"
           },
           {
            "args": [
             [
              "2025-02-03"
             ],
             {
              "frame": {
               "duration": 0,
               "redraw": true
              },
              "mode": "immediate"
             }
            ],
            "label": "2025-02-03",
            "method": "animate"
           },
           {
            "args": [
             [
              "2025-02-04"
             ],
             {
              "frame": {
               "duration": 0,
               "redraw": true
              },
              "mode": "immediate"
             }
            ],
            "label": "2025-02-04",
            "method": "animate"
           },
           {
            "args": [
             [
              "2025-02-05"
             ],
             {
              "frame": {
               "duration": 0,
               "redraw": true
              },
              "mode": "immediate"
             }
            ],
            "label": "2025-02-05",
            "method": "animate"
           },
           {
            "args": [
             [
              "2025-02-06"
             ],
             {
              "frame": {
               "duration": 0,
               "redraw": true
              },
              "mode": "immediate"
             }
            ],
            "label": "2025-02-06",
            "method": "animate"
           },
           {
            "args": [
             [
              "2025-02-07"
             ],
             {
              "frame": {
               "duration": 0,
               "redraw": true
              },
              "mode": "immediate"
             }
            ],
            "label": "2025-02-07",
            "method": "animate"
           },
           {
            "args": [
             [
              "2025-02-10"
             ],
             {
              "frame": {
               "duration": 0,
               "redraw": true
              },
              "mode": "immediate"
             }
            ],
            "label": "2025-02-10",
            "method": "animate"
           },
           {
            "args": [
             [
              "2025-02-11"
             ],
             {
              "frame": {
               "duration": 0,
               "redraw": true
              },
              "mode": "immediate"
             }
            ],
            "label": "2025-02-11",
            "method": "animate"
           },
           {
            "args": [
             [
              "2025-02-12"
             ],
             {
              "frame": {
               "duration": 0,
               "redraw": true
              },
              "mode": "immediate"
             }
            ],
            "label": "2025-02-12",
            "method": "animate"
           },
           {
            "args": [
             [
              "2025-02-13"
             ],
             {
              "frame": {
               "duration": 0,
               "redraw": true
              },
              "mode": "immediate"
             }
            ],
            "label": "2025-02-13",
            "method": "animate"
           },
           {
            "args": [
             [
              "2025-02-14"
             ],
             {
              "frame": {
               "duration": 0,
               "redraw": true
              },
              "mode": "immediate"
             }
            ],
            "label": "2025-02-14",
            "method": "animate"
           },
           {
            "args": [
             [
              "2025-02-18"
             ],
             {
              "frame": {
               "duration": 0,
               "redraw": true
              },
              "mode": "immediate"
             }
            ],
            "label": "2025-02-18",
            "method": "animate"
           },
           {
            "args": [
             [
              "2025-02-19"
             ],
             {
              "frame": {
               "duration": 0,
               "redraw": true
              },
              "mode": "immediate"
             }
            ],
            "label": "2025-02-19",
            "method": "animate"
           },
           {
            "args": [
             [
              "2025-02-20"
             ],
             {
              "frame": {
               "duration": 0,
               "redraw": true
              },
              "mode": "immediate"
             }
            ],
            "label": "2025-02-20",
            "method": "animate"
           },
           {
            "args": [
             [
              "2025-02-21"
             ],
             {
              "frame": {
               "duration": 0,
               "redraw": true
              },
              "mode": "immediate"
             }
            ],
            "label": "2025-02-21",
            "method": "animate"
           },
           {
            "args": [
             [
              "2025-02-24"
             ],
             {
              "frame": {
               "duration": 0,
               "redraw": true
              },
              "mode": "immediate"
             }
            ],
            "label": "2025-02-24",
            "method": "animate"
           },
           {
            "args": [
             [
              "2025-02-25"
             ],
             {
              "frame": {
               "duration": 0,
               "redraw": true
              },
              "mode": "immediate"
             }
            ],
            "label": "2025-02-25",
            "method": "animate"
           },
           {
            "args": [
             [
              "2025-02-26"
             ],
             {
              "frame": {
               "duration": 0,
               "redraw": true
              },
              "mode": "immediate"
             }
            ],
            "label": "2025-02-26",
            "method": "animate"
           },
           {
            "args": [
             [
              "2025-02-27"
             ],
             {
              "frame": {
               "duration": 0,
               "redraw": true
              },
              "mode": "immediate"
             }
            ],
            "label": "2025-02-27",
            "method": "animate"
           },
           {
            "args": [
             [
              "2025-02-28"
             ],
             {
              "frame": {
               "duration": 0,
               "redraw": true
              },
              "mode": "immediate"
             }
            ],
            "label": "2025-02-28",
            "method": "animate"
           },
           {
            "args": [
             [
              "2025-03-03"
             ],
             {
              "frame": {
               "duration": 0,
               "redraw": true
              },
              "mode": "immediate"
             }
            ],
            "label": "2025-03-03",
            "method": "animate"
           },
           {
            "args": [
             [
              "2025-03-04"
             ],
             {
              "frame": {
               "duration": 0,
               "redraw": true
              },
              "mode": "immediate"
             }
            ],
            "label": "2025-03-04",
            "method": "animate"
           },
           {
            "args": [
             [
              "2025-03-05"
             ],
             {
              "frame": {
               "duration": 0,
               "redraw": true
              },
              "mode": "immediate"
             }
            ],
            "label": "2025-03-05",
            "method": "animate"
           },
           {
            "args": [
             [
              "2025-03-06"
             ],
             {
              "frame": {
               "duration": 0,
               "redraw": true
              },
              "mode": "immediate"
             }
            ],
            "label": "2025-03-06",
            "method": "animate"
           },
           {
            "args": [
             [
              "2025-03-07"
             ],
             {
              "frame": {
               "duration": 0,
               "redraw": true
              },
              "mode": "immediate"
             }
            ],
            "label": "2025-03-07",
            "method": "animate"
           },
           {
            "args": [
             [
              "2025-03-10"
             ],
             {
              "frame": {
               "duration": 0,
               "redraw": true
              },
              "mode": "immediate"
             }
            ],
            "label": "2025-03-10",
            "method": "animate"
           },
           {
            "args": [
             [
              "2025-03-11"
             ],
             {
              "frame": {
               "duration": 0,
               "redraw": true
              },
              "mode": "immediate"
             }
            ],
            "label": "2025-03-11",
            "method": "animate"
           },
           {
            "args": [
             [
              "2025-03-12"
             ],
             {
              "frame": {
               "duration": 0,
               "redraw": true
              },
              "mode": "immediate"
             }
            ],
            "label": "2025-03-12",
            "method": "animate"
           },
           {
            "args": [
             [
              "2025-03-13"
             ],
             {
              "frame": {
               "duration": 0,
               "redraw": true
              },
              "mode": "immediate"
             }
            ],
            "label": "2025-03-13",
            "method": "animate"
           },
           {
            "args": [
             [
              "2025-03-14"
             ],
             {
              "frame": {
               "duration": 0,
               "redraw": true
              },
              "mode": "immediate"
             }
            ],
            "label": "2025-03-14",
            "method": "animate"
           },
           {
            "args": [
             [
              "2025-03-17"
             ],
             {
              "frame": {
               "duration": 0,
               "redraw": true
              },
              "mode": "immediate"
             }
            ],
            "label": "2025-03-17",
            "method": "animate"
           },
           {
            "args": [
             [
              "2025-03-18"
             ],
             {
              "frame": {
               "duration": 0,
               "redraw": true
              },
              "mode": "immediate"
             }
            ],
            "label": "2025-03-18",
            "method": "animate"
           },
           {
            "args": [
             [
              "2025-03-19"
             ],
             {
              "frame": {
               "duration": 0,
               "redraw": true
              },
              "mode": "immediate"
             }
            ],
            "label": "2025-03-19",
            "method": "animate"
           },
           {
            "args": [
             [
              "2025-03-20"
             ],
             {
              "frame": {
               "duration": 0,
               "redraw": true
              },
              "mode": "immediate"
             }
            ],
            "label": "2025-03-20",
            "method": "animate"
           },
           {
            "args": [
             [
              "2025-03-21"
             ],
             {
              "frame": {
               "duration": 0,
               "redraw": true
              },
              "mode": "immediate"
             }
            ],
            "label": "2025-03-21",
            "method": "animate"
           },
           {
            "args": [
             [
              "2025-03-24"
             ],
             {
              "frame": {
               "duration": 0,
               "redraw": true
              },
              "mode": "immediate"
             }
            ],
            "label": "2025-03-24",
            "method": "animate"
           },
           {
            "args": [
             [
              "2025-03-25"
             ],
             {
              "frame": {
               "duration": 0,
               "redraw": true
              },
              "mode": "immediate"
             }
            ],
            "label": "2025-03-25",
            "method": "animate"
           },
           {
            "args": [
             [
              "2025-03-26"
             ],
             {
              "frame": {
               "duration": 0,
               "redraw": true
              },
              "mode": "immediate"
             }
            ],
            "label": "2025-03-26",
            "method": "animate"
           },
           {
            "args": [
             [
              "2025-03-27"
             ],
             {
              "frame": {
               "duration": 0,
               "redraw": true
              },
              "mode": "immediate"
             }
            ],
            "label": "2025-03-27",
            "method": "animate"
           },
           {
            "args": [
             [
              "2025-03-28"
             ],
             {
              "frame": {
               "duration": 0,
               "redraw": true
              },
              "mode": "immediate"
             }
            ],
            "label": "2025-03-28",
            "method": "animate"
           },
           {
            "args": [
             [
              "2025-03-31"
             ],
             {
              "frame": {
               "duration": 0,
               "redraw": true
              },
              "mode": "immediate"
             }
            ],
            "label": "2025-03-31",
            "method": "animate"
           },
           {
            "args": [
             [
              "2025-04-01"
             ],
             {
              "frame": {
               "duration": 0,
               "redraw": true
              },
              "mode": "immediate"
             }
            ],
            "label": "2025-04-01",
            "method": "animate"
           },
           {
            "args": [
             [
              "2025-04-02"
             ],
             {
              "frame": {
               "duration": 0,
               "redraw": true
              },
              "mode": "immediate"
             }
            ],
            "label": "2025-04-02",
            "method": "animate"
           },
           {
            "args": [
             [
              "2025-04-03"
             ],
             {
              "frame": {
               "duration": 0,
               "redraw": true
              },
              "mode": "immediate"
             }
            ],
            "label": "2025-04-03",
            "method": "animate"
           },
           {
            "args": [
             [
              "2025-04-04"
             ],
             {
              "frame": {
               "duration": 0,
               "redraw": true
              },
              "mode": "immediate"
             }
            ],
            "label": "2025-04-04",
            "method": "animate"
           },
           {
            "args": [
             [
              "2025-04-07"
             ],
             {
              "frame": {
               "duration": 0,
               "redraw": true
              },
              "mode": "immediate"
             }
            ],
            "label": "2025-04-07",
            "method": "animate"
           },
           {
            "args": [
             [
              "2025-04-08"
             ],
             {
              "frame": {
               "duration": 0,
               "redraw": true
              },
              "mode": "immediate"
             }
            ],
            "label": "2025-04-08",
            "method": "animate"
           },
           {
            "args": [
             [
              "2025-04-09"
             ],
             {
              "frame": {
               "duration": 0,
               "redraw": true
              },
              "mode": "immediate"
             }
            ],
            "label": "2025-04-09",
            "method": "animate"
           },
           {
            "args": [
             [
              "2025-04-10"
             ],
             {
              "frame": {
               "duration": 0,
               "redraw": true
              },
              "mode": "immediate"
             }
            ],
            "label": "2025-04-10",
            "method": "animate"
           },
           {
            "args": [
             [
              "2025-04-11"
             ],
             {
              "frame": {
               "duration": 0,
               "redraw": true
              },
              "mode": "immediate"
             }
            ],
            "label": "2025-04-11",
            "method": "animate"
           },
           {
            "args": [
             [
              "2025-04-14"
             ],
             {
              "frame": {
               "duration": 0,
               "redraw": true
              },
              "mode": "immediate"
             }
            ],
            "label": "2025-04-14",
            "method": "animate"
           },
           {
            "args": [
             [
              "2025-04-15"
             ],
             {
              "frame": {
               "duration": 0,
               "redraw": true
              },
              "mode": "immediate"
             }
            ],
            "label": "2025-04-15",
            "method": "animate"
           },
           {
            "args": [
             [
              "2025-04-16"
             ],
             {
              "frame": {
               "duration": 0,
               "redraw": true
              },
              "mode": "immediate"
             }
            ],
            "label": "2025-04-16",
            "method": "animate"
           },
           {
            "args": [
             [
              "2025-04-17"
             ],
             {
              "frame": {
               "duration": 0,
               "redraw": true
              },
              "mode": "immediate"
             }
            ],
            "label": "2025-04-17",
            "method": "animate"
           },
           {
            "args": [
             [
              "2025-04-21"
             ],
             {
              "frame": {
               "duration": 0,
               "redraw": true
              },
              "mode": "immediate"
             }
            ],
            "label": "2025-04-21",
            "method": "animate"
           },
           {
            "args": [
             [
              "2025-04-22"
             ],
             {
              "frame": {
               "duration": 0,
               "redraw": true
              },
              "mode": "immediate"
             }
            ],
            "label": "2025-04-22",
            "method": "animate"
           },
           {
            "args": [
             [
              "2025-04-23"
             ],
             {
              "frame": {
               "duration": 0,
               "redraw": true
              },
              "mode": "immediate"
             }
            ],
            "label": "2025-04-23",
            "method": "animate"
           },
           {
            "args": [
             [
              "2025-04-24"
             ],
             {
              "frame": {
               "duration": 0,
               "redraw": true
              },
              "mode": "immediate"
             }
            ],
            "label": "2025-04-24",
            "method": "animate"
           },
           {
            "args": [
             [
              "2025-04-25"
             ],
             {
              "frame": {
               "duration": 0,
               "redraw": true
              },
              "mode": "immediate"
             }
            ],
            "label": "2025-04-25",
            "method": "animate"
           },
           {
            "args": [
             [
              "2025-04-28"
             ],
             {
              "frame": {
               "duration": 0,
               "redraw": true
              },
              "mode": "immediate"
             }
            ],
            "label": "2025-04-28",
            "method": "animate"
           },
           {
            "args": [
             [
              "2025-04-29"
             ],
             {
              "frame": {
               "duration": 0,
               "redraw": true
              },
              "mode": "immediate"
             }
            ],
            "label": "2025-04-29",
            "method": "animate"
           },
           {
            "args": [
             [
              "2025-04-30"
             ],
             {
              "frame": {
               "duration": 0,
               "redraw": true
              },
              "mode": "immediate"
             }
            ],
            "label": "2025-04-30",
            "method": "animate"
           },
           {
            "args": [
             [
              "2025-05-01"
             ],
             {
              "frame": {
               "duration": 0,
               "redraw": true
              },
              "mode": "immediate"
             }
            ],
            "label": "2025-05-01",
            "method": "animate"
           },
           {
            "args": [
             [
              "2025-05-02"
             ],
             {
              "frame": {
               "duration": 0,
               "redraw": true
              },
              "mode": "immediate"
             }
            ],
            "label": "2025-05-02",
            "method": "animate"
           },
           {
            "args": [
             [
              "2025-05-05"
             ],
             {
              "frame": {
               "duration": 0,
               "redraw": true
              },
              "mode": "immediate"
             }
            ],
            "label": "2025-05-05",
            "method": "animate"
           },
           {
            "args": [
             [
              "2025-05-06"
             ],
             {
              "frame": {
               "duration": 0,
               "redraw": true
              },
              "mode": "immediate"
             }
            ],
            "label": "2025-05-06",
            "method": "animate"
           },
           {
            "args": [
             [
              "2025-05-07"
             ],
             {
              "frame": {
               "duration": 0,
               "redraw": true
              },
              "mode": "immediate"
             }
            ],
            "label": "2025-05-07",
            "method": "animate"
           },
           {
            "args": [
             [
              "2025-05-08"
             ],
             {
              "frame": {
               "duration": 0,
               "redraw": true
              },
              "mode": "immediate"
             }
            ],
            "label": "2025-05-08",
            "method": "animate"
           },
           {
            "args": [
             [
              "2025-05-09"
             ],
             {
              "frame": {
               "duration": 0,
               "redraw": true
              },
              "mode": "immediate"
             }
            ],
            "label": "2025-05-09",
            "method": "animate"
           },
           {
            "args": [
             [
              "2025-05-12"
             ],
             {
              "frame": {
               "duration": 0,
               "redraw": true
              },
              "mode": "immediate"
             }
            ],
            "label": "2025-05-12",
            "method": "animate"
           },
           {
            "args": [
             [
              "2025-05-13"
             ],
             {
              "frame": {
               "duration": 0,
               "redraw": true
              },
              "mode": "immediate"
             }
            ],
            "label": "2025-05-13",
            "method": "animate"
           },
           {
            "args": [
             [
              "2025-05-14"
             ],
             {
              "frame": {
               "duration": 0,
               "redraw": true
              },
              "mode": "immediate"
             }
            ],
            "label": "2025-05-14",
            "method": "animate"
           },
           {
            "args": [
             [
              "2025-05-15"
             ],
             {
              "frame": {
               "duration": 0,
               "redraw": true
              },
              "mode": "immediate"
             }
            ],
            "label": "2025-05-15",
            "method": "animate"
           },
           {
            "args": [
             [
              "2025-05-16"
             ],
             {
              "frame": {
               "duration": 0,
               "redraw": true
              },
              "mode": "immediate"
             }
            ],
            "label": "2025-05-16",
            "method": "animate"
           },
           {
            "args": [
             [
              "2025-05-19"
             ],
             {
              "frame": {
               "duration": 0,
               "redraw": true
              },
              "mode": "immediate"
             }
            ],
            "label": "2025-05-19",
            "method": "animate"
           },
           {
            "args": [
             [
              "2025-05-20"
             ],
             {
              "frame": {
               "duration": 0,
               "redraw": true
              },
              "mode": "immediate"
             }
            ],
            "label": "2025-05-20",
            "method": "animate"
           },
           {
            "args": [
             [
              "2025-05-21"
             ],
             {
              "frame": {
               "duration": 0,
               "redraw": true
              },
              "mode": "immediate"
             }
            ],
            "label": "2025-05-21",
            "method": "animate"
           },
           {
            "args": [
             [
              "2025-05-22"
             ],
             {
              "frame": {
               "duration": 0,
               "redraw": true
              },
              "mode": "immediate"
             }
            ],
            "label": "2025-05-22",
            "method": "animate"
           },
           {
            "args": [
             [
              "2025-05-23"
             ],
             {
              "frame": {
               "duration": 0,
               "redraw": true
              },
              "mode": "immediate"
             }
            ],
            "label": "2025-05-23",
            "method": "animate"
           },
           {
            "args": [
             [
              "2025-05-27"
             ],
             {
              "frame": {
               "duration": 0,
               "redraw": true
              },
              "mode": "immediate"
             }
            ],
            "label": "2025-05-27",
            "method": "animate"
           },
           {
            "args": [
             [
              "2025-05-28"
             ],
             {
              "frame": {
               "duration": 0,
               "redraw": true
              },
              "mode": "immediate"
             }
            ],
            "label": "2025-05-28",
            "method": "animate"
           },
           {
            "args": [
             [
              "2025-05-29"
             ],
             {
              "frame": {
               "duration": 0,
               "redraw": true
              },
              "mode": "immediate"
             }
            ],
            "label": "2025-05-29",
            "method": "animate"
           },
           {
            "args": [
             [
              "2025-05-30"
             ],
             {
              "frame": {
               "duration": 0,
               "redraw": true
              },
              "mode": "immediate"
             }
            ],
            "label": "2025-05-30",
            "method": "animate"
           },
           {
            "args": [
             [
              "2025-06-02"
             ],
             {
              "frame": {
               "duration": 0,
               "redraw": true
              },
              "mode": "immediate"
             }
            ],
            "label": "2025-06-02",
            "method": "animate"
           },
           {
            "args": [
             [
              "2025-06-03"
             ],
             {
              "frame": {
               "duration": 0,
               "redraw": true
              },
              "mode": "immediate"
             }
            ],
            "label": "2025-06-03",
            "method": "animate"
           },
           {
            "args": [
             [
              "2025-06-04"
             ],
             {
              "frame": {
               "duration": 0,
               "redraw": true
              },
              "mode": "immediate"
             }
            ],
            "label": "2025-06-04",
            "method": "animate"
           },
           {
            "args": [
             [
              "2025-06-05"
             ],
             {
              "frame": {
               "duration": 0,
               "redraw": true
              },
              "mode": "immediate"
             }
            ],
            "label": "2025-06-05",
            "method": "animate"
           },
           {
            "args": [
             [
              "2025-06-06"
             ],
             {
              "frame": {
               "duration": 0,
               "redraw": true
              },
              "mode": "immediate"
             }
            ],
            "label": "2025-06-06",
            "method": "animate"
           },
           {
            "args": [
             [
              "2025-06-09"
             ],
             {
              "frame": {
               "duration": 0,
               "redraw": true
              },
              "mode": "immediate"
             }
            ],
            "label": "2025-06-09",
            "method": "animate"
           },
           {
            "args": [
             [
              "2025-06-10"
             ],
             {
              "frame": {
               "duration": 0,
               "redraw": true
              },
              "mode": "immediate"
             }
            ],
            "label": "2025-06-10",
            "method": "animate"
           },
           {
            "args": [
             [
              "2025-06-11"
             ],
             {
              "frame": {
               "duration": 0,
               "redraw": true
              },
              "mode": "immediate"
             }
            ],
            "label": "2025-06-11",
            "method": "animate"
           },
           {
            "args": [
             [
              "2025-06-12"
             ],
             {
              "frame": {
               "duration": 0,
               "redraw": true
              },
              "mode": "immediate"
             }
            ],
            "label": "2025-06-12",
            "method": "animate"
           },
           {
            "args": [
             [
              "2025-06-13"
             ],
             {
              "frame": {
               "duration": 0,
               "redraw": true
              },
              "mode": "immediate"
             }
            ],
            "label": "2025-06-13",
            "method": "animate"
           },
           {
            "args": [
             [
              "2025-06-16"
             ],
             {
              "frame": {
               "duration": 0,
               "redraw": true
              },
              "mode": "immediate"
             }
            ],
            "label": "2025-06-16",
            "method": "animate"
           },
           {
            "args": [
             [
              "2025-06-17"
             ],
             {
              "frame": {
               "duration": 0,
               "redraw": true
              },
              "mode": "immediate"
             }
            ],
            "label": "2025-06-17",
            "method": "animate"
           },
           {
            "args": [
             [
              "2025-06-18"
             ],
             {
              "frame": {
               "duration": 0,
               "redraw": true
              },
              "mode": "immediate"
             }
            ],
            "label": "2025-06-18",
            "method": "animate"
           },
           {
            "args": [
             [
              "2025-06-20"
             ],
             {
              "frame": {
               "duration": 0,
               "redraw": true
              },
              "mode": "immediate"
             }
            ],
            "label": "2025-06-20",
            "method": "animate"
           },
           {
            "args": [
             [
              "2025-06-23"
             ],
             {
              "frame": {
               "duration": 0,
               "redraw": true
              },
              "mode": "immediate"
             }
            ],
            "label": "2025-06-23",
            "method": "animate"
           },
           {
            "args": [
             [
              "2025-06-24"
             ],
             {
              "frame": {
               "duration": 0,
               "redraw": true
              },
              "mode": "immediate"
             }
            ],
            "label": "2025-06-24",
            "method": "animate"
           },
           {
            "args": [
             [
              "2025-06-25"
             ],
             {
              "frame": {
               "duration": 0,
               "redraw": true
              },
              "mode": "immediate"
             }
            ],
            "label": "2025-06-25",
            "method": "animate"
           },
           {
            "args": [
             [
              "2025-06-26"
             ],
             {
              "frame": {
               "duration": 0,
               "redraw": true
              },
              "mode": "immediate"
             }
            ],
            "label": "2025-06-26",
            "method": "animate"
           },
           {
            "args": [
             [
              "2025-06-27"
             ],
             {
              "frame": {
               "duration": 0,
               "redraw": true
              },
              "mode": "immediate"
             }
            ],
            "label": "2025-06-27",
            "method": "animate"
           },
           {
            "args": [
             [
              "2025-06-30"
             ],
             {
              "frame": {
               "duration": 0,
               "redraw": true
              },
              "mode": "immediate"
             }
            ],
            "label": "2025-06-30",
            "method": "animate"
           },
           {
            "args": [
             [
              "2025-07-01"
             ],
             {
              "frame": {
               "duration": 0,
               "redraw": true
              },
              "mode": "immediate"
             }
            ],
            "label": "2025-07-01",
            "method": "animate"
           },
           {
            "args": [
             [
              "2025-07-02"
             ],
             {
              "frame": {
               "duration": 0,
               "redraw": true
              },
              "mode": "immediate"
             }
            ],
            "label": "2025-07-02",
            "method": "animate"
           },
           {
            "args": [
             [
              "2025-07-03"
             ],
             {
              "frame": {
               "duration": 0,
               "redraw": true
              },
              "mode": "immediate"
             }
            ],
            "label": "2025-07-03",
            "method": "animate"
           },
           {
            "args": [
             [
              "2025-07-07"
             ],
             {
              "frame": {
               "duration": 0,
               "redraw": true
              },
              "mode": "immediate"
             }
            ],
            "label": "2025-07-07",
            "method": "animate"
           },
           {
            "args": [
             [
              "2025-07-08"
             ],
             {
              "frame": {
               "duration": 0,
               "redraw": true
              },
              "mode": "immediate"
             }
            ],
            "label": "2025-07-08",
            "method": "animate"
           },
           {
            "args": [
             [
              "2025-07-09"
             ],
             {
              "frame": {
               "duration": 0,
               "redraw": true
              },
              "mode": "immediate"
             }
            ],
            "label": "2025-07-09",
            "method": "animate"
           },
           {
            "args": [
             [
              "2025-07-10"
             ],
             {
              "frame": {
               "duration": 0,
               "redraw": true
              },
              "mode": "immediate"
             }
            ],
            "label": "2025-07-10",
            "method": "animate"
           },
           {
            "args": [
             [
              "2025-07-11"
             ],
             {
              "frame": {
               "duration": 0,
               "redraw": true
              },
              "mode": "immediate"
             }
            ],
            "label": "2025-07-11",
            "method": "animate"
           },
           {
            "args": [
             [
              "2025-07-14"
             ],
             {
              "frame": {
               "duration": 0,
               "redraw": true
              },
              "mode": "immediate"
             }
            ],
            "label": "2025-07-14",
            "method": "animate"
           },
           {
            "args": [
             [
              "2025-07-15"
             ],
             {
              "frame": {
               "duration": 0,
               "redraw": true
              },
              "mode": "immediate"
             }
            ],
            "label": "2025-07-15",
            "method": "animate"
           },
           {
            "args": [
             [
              "2025-07-16"
             ],
             {
              "frame": {
               "duration": 0,
               "redraw": true
              },
              "mode": "immediate"
             }
            ],
            "label": "2025-07-16",
            "method": "animate"
           },
           {
            "args": [
             [
              "2025-07-17"
             ],
             {
              "frame": {
               "duration": 0,
               "redraw": true
              },
              "mode": "immediate"
             }
            ],
            "label": "2025-07-17",
            "method": "animate"
           },
           {
            "args": [
             [
              "2025-07-18"
             ],
             {
              "frame": {
               "duration": 0,
               "redraw": true
              },
              "mode": "immediate"
             }
            ],
            "label": "2025-07-18",
            "method": "animate"
           },
           {
            "args": [
             [
              "2025-07-21"
             ],
             {
              "frame": {
               "duration": 0,
               "redraw": true
              },
              "mode": "immediate"
             }
            ],
            "label": "2025-07-21",
            "method": "animate"
           },
           {
            "args": [
             [
              "2025-07-22"
             ],
             {
              "frame": {
               "duration": 0,
               "redraw": true
              },
              "mode": "immediate"
             }
            ],
            "label": "2025-07-22",
            "method": "animate"
           },
           {
            "args": [
             [
              "2025-07-23"
             ],
             {
              "frame": {
               "duration": 0,
               "redraw": true
              },
              "mode": "immediate"
             }
            ],
            "label": "2025-07-23",
            "method": "animate"
           },
           {
            "args": [
             [
              "2025-07-24"
             ],
             {
              "frame": {
               "duration": 0,
               "redraw": true
              },
              "mode": "immediate"
             }
            ],
            "label": "2025-07-24",
            "method": "animate"
           },
           {
            "args": [
             [
              "2025-07-25"
             ],
             {
              "frame": {
               "duration": 0,
               "redraw": true
              },
              "mode": "immediate"
             }
            ],
            "label": "2025-07-25",
            "method": "animate"
           },
           {
            "args": [
             [
              "2025-07-28"
             ],
             {
              "frame": {
               "duration": 0,
               "redraw": true
              },
              "mode": "immediate"
             }
            ],
            "label": "2025-07-28",
            "method": "animate"
           },
           {
            "args": [
             [
              "2025-07-29"
             ],
             {
              "frame": {
               "duration": 0,
               "redraw": true
              },
              "mode": "immediate"
             }
            ],
            "label": "2025-07-29",
            "method": "animate"
           },
           {
            "args": [
             [
              "2025-07-30"
             ],
             {
              "frame": {
               "duration": 0,
               "redraw": true
              },
              "mode": "immediate"
             }
            ],
            "label": "2025-07-30",
            "method": "animate"
           },
           {
            "args": [
             [
              "2025-07-31"
             ],
             {
              "frame": {
               "duration": 0,
               "redraw": true
              },
              "mode": "immediate"
             }
            ],
            "label": "2025-07-31",
            "method": "animate"
           },
           {
            "args": [
             [
              "2025-08-01"
             ],
             {
              "frame": {
               "duration": 0,
               "redraw": true
              },
              "mode": "immediate"
             }
            ],
            "label": "2025-08-01",
            "method": "animate"
           },
           {
            "args": [
             [
              "2025-08-04"
             ],
             {
              "frame": {
               "duration": 0,
               "redraw": true
              },
              "mode": "immediate"
             }
            ],
            "label": "2025-08-04",
            "method": "animate"
           },
           {
            "args": [
             [
              "2025-08-05"
             ],
             {
              "frame": {
               "duration": 0,
               "redraw": true
              },
              "mode": "immediate"
             }
            ],
            "label": "2025-08-05",
            "method": "animate"
           },
           {
            "args": [
             [
              "2025-08-06"
             ],
             {
              "frame": {
               "duration": 0,
               "redraw": true
              },
              "mode": "immediate"
             }
            ],
            "label": "2025-08-06",
            "method": "animate"
           },
           {
            "args": [
             [
              "2025-08-07"
             ],
             {
              "frame": {
               "duration": 0,
               "redraw": true
              },
              "mode": "immediate"
             }
            ],
            "label": "2025-08-07",
            "method": "animate"
           },
           {
            "args": [
             [
              "2025-08-08"
             ],
             {
              "frame": {
               "duration": 0,
               "redraw": true
              },
              "mode": "immediate"
             }
            ],
            "label": "2025-08-08",
            "method": "animate"
           },
           {
            "args": [
             [
              "2025-08-11"
             ],
             {
              "frame": {
               "duration": 0,
               "redraw": true
              },
              "mode": "immediate"
             }
            ],
            "label": "2025-08-11",
            "method": "animate"
           },
           {
            "args": [
             [
              "2025-08-12"
             ],
             {
              "frame": {
               "duration": 0,
               "redraw": true
              },
              "mode": "immediate"
             }
            ],
            "label": "2025-08-12",
            "method": "animate"
           },
           {
            "args": [
             [
              "2025-08-13"
             ],
             {
              "frame": {
               "duration": 0,
               "redraw": true
              },
              "mode": "immediate"
             }
            ],
            "label": "2025-08-13",
            "method": "animate"
           },
           {
            "args": [
             [
              "2025-08-14"
             ],
             {
              "frame": {
               "duration": 0,
               "redraw": true
              },
              "mode": "immediate"
             }
            ],
            "label": "2025-08-14",
            "method": "animate"
           },
           {
            "args": [
             [
              "2025-08-15"
             ],
             {
              "frame": {
               "duration": 0,
               "redraw": true
              },
              "mode": "immediate"
             }
            ],
            "label": "2025-08-15",
            "method": "animate"
           },
           {
            "args": [
             [
              "2025-08-18"
             ],
             {
              "frame": {
               "duration": 0,
               "redraw": true
              },
              "mode": "immediate"
             }
            ],
            "label": "2025-08-18",
            "method": "animate"
           },
           {
            "args": [
             [
              "2025-08-19"
             ],
             {
              "frame": {
               "duration": 0,
               "redraw": true
              },
              "mode": "immediate"
             }
            ],
            "label": "2025-08-19",
            "method": "animate"
           },
           {
            "args": [
             [
              "2025-08-20"
             ],
             {
              "frame": {
               "duration": 0,
               "redraw": true
              },
              "mode": "immediate"
             }
            ],
            "label": "2025-08-20",
            "method": "animate"
           },
           {
            "args": [
             [
              "2025-08-21"
             ],
             {
              "frame": {
               "duration": 0,
               "redraw": true
              },
              "mode": "immediate"
             }
            ],
            "label": "2025-08-21",
            "method": "animate"
           },
           {
            "args": [
             [
              "2025-08-22"
             ],
             {
              "frame": {
               "duration": 0,
               "redraw": true
              },
              "mode": "immediate"
             }
            ],
            "label": "2025-08-22",
            "method": "animate"
           },
           {
            "args": [
             [
              "2025-08-25"
             ],
             {
              "frame": {
               "duration": 0,
               "redraw": true
              },
              "mode": "immediate"
             }
            ],
            "label": "2025-08-25",
            "method": "animate"
           },
           {
            "args": [
             [
              "2025-08-26"
             ],
             {
              "frame": {
               "duration": 0,
               "redraw": true
              },
              "mode": "immediate"
             }
            ],
            "label": "2025-08-26",
            "method": "animate"
           },
           {
            "args": [
             [
              "2025-08-27"
             ],
             {
              "frame": {
               "duration": 0,
               "redraw": true
              },
              "mode": "immediate"
             }
            ],
            "label": "2025-08-27",
            "method": "animate"
           },
           {
            "args": [
             [
              "2025-08-28"
             ],
             {
              "frame": {
               "duration": 0,
               "redraw": true
              },
              "mode": "immediate"
             }
            ],
            "label": "2025-08-28",
            "method": "animate"
           },
           {
            "args": [
             [
              "2025-08-29"
             ],
             {
              "frame": {
               "duration": 0,
               "redraw": true
              },
              "mode": "immediate"
             }
            ],
            "label": "2025-08-29",
            "method": "animate"
           },
           {
            "args": [
             [
              "2025-09-02"
             ],
             {
              "frame": {
               "duration": 0,
               "redraw": true
              },
              "mode": "immediate"
             }
            ],
            "label": "2025-09-02",
            "method": "animate"
           },
           {
            "args": [
             [
              "2025-09-03"
             ],
             {
              "frame": {
               "duration": 0,
               "redraw": true
              },
              "mode": "immediate"
             }
            ],
            "label": "2025-09-03",
            "method": "animate"
           },
           {
            "args": [
             [
              "2025-09-04"
             ],
             {
              "frame": {
               "duration": 0,
               "redraw": true
              },
              "mode": "immediate"
             }
            ],
            "label": "2025-09-04",
            "method": "animate"
           },
           {
            "args": [
             [
              "2025-09-05"
             ],
             {
              "frame": {
               "duration": 0,
               "redraw": true
              },
              "mode": "immediate"
             }
            ],
            "label": "2025-09-05",
            "method": "animate"
           },
           {
            "args": [
             [
              "2025-09-08"
             ],
             {
              "frame": {
               "duration": 0,
               "redraw": true
              },
              "mode": "immediate"
             }
            ],
            "label": "2025-09-08",
            "method": "animate"
           },
           {
            "args": [
             [
              "2025-09-09"
             ],
             {
              "frame": {
               "duration": 0,
               "redraw": true
              },
              "mode": "immediate"
             }
            ],
            "label": "2025-09-09",
            "method": "animate"
           },
           {
            "args": [
             [
              "2025-09-10"
             ],
             {
              "frame": {
               "duration": 0,
               "redraw": true
              },
              "mode": "immediate"
             }
            ],
            "label": "2025-09-10",
            "method": "animate"
           },
           {
            "args": [
             [
              "2025-09-11"
             ],
             {
              "frame": {
               "duration": 0,
               "redraw": true
              },
              "mode": "immediate"
             }
            ],
            "label": "2025-09-11",
            "method": "animate"
           },
           {
            "args": [
             [
              "2025-09-12"
             ],
             {
              "frame": {
               "duration": 0,
               "redraw": true
              },
              "mode": "immediate"
             }
            ],
            "label": "2025-09-12",
            "method": "animate"
           },
           {
            "args": [
             [
              "2025-09-15"
             ],
             {
              "frame": {
               "duration": 0,
               "redraw": true
              },
              "mode": "immediate"
             }
            ],
            "label": "2025-09-15",
            "method": "animate"
           },
           {
            "args": [
             [
              "2025-09-16"
             ],
             {
              "frame": {
               "duration": 0,
               "redraw": true
              },
              "mode": "immediate"
             }
            ],
            "label": "2025-09-16",
            "method": "animate"
           },
           {
            "args": [
             [
              "2025-09-17"
             ],
             {
              "frame": {
               "duration": 0,
               "redraw": true
              },
              "mode": "immediate"
             }
            ],
            "label": "2025-09-17",
            "method": "animate"
           },
           {
            "args": [
             [
              "2025-09-18"
             ],
             {
              "frame": {
               "duration": 0,
               "redraw": true
              },
              "mode": "immediate"
             }
            ],
            "label": "2025-09-18",
            "method": "animate"
           },
           {
            "args": [
             [
              "2025-09-19"
             ],
             {
              "frame": {
               "duration": 0,
               "redraw": true
              },
              "mode": "immediate"
             }
            ],
            "label": "2025-09-19",
            "method": "animate"
           },
           {
            "args": [
             [
              "2025-09-22"
             ],
             {
              "frame": {
               "duration": 0,
               "redraw": true
              },
              "mode": "immediate"
             }
            ],
            "label": "2025-09-22",
            "method": "animate"
           },
           {
            "args": [
             [
              "2025-09-23"
             ],
             {
              "frame": {
               "duration": 0,
               "redraw": true
              },
              "mode": "immediate"
             }
            ],
            "label": "2025-09-23",
            "method": "animate"
           },
           {
            "args": [
             [
              "2025-09-24"
             ],
             {
              "frame": {
               "duration": 0,
               "redraw": true
              },
              "mode": "immediate"
             }
            ],
            "label": "2025-09-24",
            "method": "animate"
           },
           {
            "args": [
             [
              "2025-09-25"
             ],
             {
              "frame": {
               "duration": 0,
               "redraw": true
              },
              "mode": "immediate"
             }
            ],
            "label": "2025-09-25",
            "method": "animate"
           },
           {
            "args": [
             [
              "2025-09-26"
             ],
             {
              "frame": {
               "duration": 0,
               "redraw": true
              },
              "mode": "immediate"
             }
            ],
            "label": "2025-09-26",
            "method": "animate"
           },
           {
            "args": [
             [
              "2025-09-29"
             ],
             {
              "frame": {
               "duration": 0,
               "redraw": true
              },
              "mode": "immediate"
             }
            ],
            "label": "2025-09-29",
            "method": "animate"
           },
           {
            "args": [
             [
              "2025-09-30"
             ],
             {
              "frame": {
               "duration": 0,
               "redraw": true
              },
              "mode": "immediate"
             }
            ],
            "label": "2025-09-30",
            "method": "animate"
           }
          ]
         }
        ],
        "template": {
         "data": {
          "bar": [
           {
            "error_x": {
             "color": "#2a3f5f"
            },
            "error_y": {
             "color": "#2a3f5f"
            },
            "marker": {
             "line": {
              "color": "#E5ECF6",
              "width": 0.5
             },
             "pattern": {
              "fillmode": "overlay",
              "size": 10,
              "solidity": 0.2
             }
            },
            "type": "bar"
           }
          ],
          "barpolar": [
           {
            "marker": {
             "line": {
              "color": "#E5ECF6",
              "width": 0.5
             },
             "pattern": {
              "fillmode": "overlay",
              "size": 10,
              "solidity": 0.2
             }
            },
            "type": "barpolar"
           }
          ],
          "carpet": [
           {
            "aaxis": {
             "endlinecolor": "#2a3f5f",
             "gridcolor": "white",
             "linecolor": "white",
             "minorgridcolor": "white",
             "startlinecolor": "#2a3f5f"
            },
            "baxis": {
             "endlinecolor": "#2a3f5f",
             "gridcolor": "white",
             "linecolor": "white",
             "minorgridcolor": "white",
             "startlinecolor": "#2a3f5f"
            },
            "type": "carpet"
           }
          ],
          "choropleth": [
           {
            "colorbar": {
             "outlinewidth": 0,
             "ticks": ""
            },
            "type": "choropleth"
           }
          ],
          "contour": [
           {
            "colorbar": {
             "outlinewidth": 0,
             "ticks": ""
            },
            "colorscale": [
             [
              0,
              "#0d0887"
             ],
             [
              0.1111111111111111,
              "#46039f"
             ],
             [
              0.2222222222222222,
              "#7201a8"
             ],
             [
              0.3333333333333333,
              "#9c179e"
             ],
             [
              0.4444444444444444,
              "#bd3786"
             ],
             [
              0.5555555555555556,
              "#d8576b"
             ],
             [
              0.6666666666666666,
              "#ed7953"
             ],
             [
              0.7777777777777778,
              "#fb9f3a"
             ],
             [
              0.8888888888888888,
              "#fdca26"
             ],
             [
              1,
              "#f0f921"
             ]
            ],
            "type": "contour"
           }
          ],
          "contourcarpet": [
           {
            "colorbar": {
             "outlinewidth": 0,
             "ticks": ""
            },
            "type": "contourcarpet"
           }
          ],
          "heatmap": [
           {
            "colorbar": {
             "outlinewidth": 0,
             "ticks": ""
            },
            "colorscale": [
             [
              0,
              "#0d0887"
             ],
             [
              0.1111111111111111,
              "#46039f"
             ],
             [
              0.2222222222222222,
              "#7201a8"
             ],
             [
              0.3333333333333333,
              "#9c179e"
             ],
             [
              0.4444444444444444,
              "#bd3786"
             ],
             [
              0.5555555555555556,
              "#d8576b"
             ],
             [
              0.6666666666666666,
              "#ed7953"
             ],
             [
              0.7777777777777778,
              "#fb9f3a"
             ],
             [
              0.8888888888888888,
              "#fdca26"
             ],
             [
              1,
              "#f0f921"
             ]
            ],
            "type": "heatmap"
           }
          ],
          "heatmapgl": [
           {
            "colorbar": {
             "outlinewidth": 0,
             "ticks": ""
            },
            "colorscale": [
             [
              0,
              "#0d0887"
             ],
             [
              0.1111111111111111,
              "#46039f"
             ],
             [
              0.2222222222222222,
              "#7201a8"
             ],
             [
              0.3333333333333333,
              "#9c179e"
             ],
             [
              0.4444444444444444,
              "#bd3786"
             ],
             [
              0.5555555555555556,
              "#d8576b"
             ],
             [
              0.6666666666666666,
              "#ed7953"
             ],
             [
              0.7777777777777778,
              "#fb9f3a"
             ],
             [
              0.8888888888888888,
              "#fdca26"
             ],
             [
              1,
              "#f0f921"
             ]
            ],
            "type": "heatmapgl"
           }
          ],
          "histogram": [
           {
            "marker": {
             "pattern": {
              "fillmode": "overlay",
              "size": 10,
              "solidity": 0.2
             }
            },
            "type": "histogram"
           }
          ],
          "histogram2d": [
           {
            "colorbar": {
             "outlinewidth": 0,
             "ticks": ""
            },
            "colorscale": [
             [
              0,
              "#0d0887"
             ],
             [
              0.1111111111111111,
              "#46039f"
             ],
             [
              0.2222222222222222,
              "#7201a8"
             ],
             [
              0.3333333333333333,
              "#9c179e"
             ],
             [
              0.4444444444444444,
              "#bd3786"
             ],
             [
              0.5555555555555556,
              "#d8576b"
             ],
             [
              0.6666666666666666,
              "#ed7953"
             ],
             [
              0.7777777777777778,
              "#fb9f3a"
             ],
             [
              0.8888888888888888,
              "#fdca26"
             ],
             [
              1,
              "#f0f921"
             ]
            ],
            "type": "histogram2d"
           }
          ],
          "histogram2dcontour": [
           {
            "colorbar": {
             "outlinewidth": 0,
             "ticks": ""
            },
            "colorscale": [
             [
              0,
              "#0d0887"
             ],
             [
              0.1111111111111111,
              "#46039f"
             ],
             [
              0.2222222222222222,
              "#7201a8"
             ],
             [
              0.3333333333333333,
              "#9c179e"
             ],
             [
              0.4444444444444444,
              "#bd3786"
             ],
             [
              0.5555555555555556,
              "#d8576b"
             ],
             [
              0.6666666666666666,
              "#ed7953"
             ],
             [
              0.7777777777777778,
              "#fb9f3a"
             ],
             [
              0.8888888888888888,
              "#fdca26"
             ],
             [
              1,
              "#f0f921"
             ]
            ],
            "type": "histogram2dcontour"
           }
          ],
          "mesh3d": [
           {
            "colorbar": {
             "outlinewidth": 0,
             "ticks": ""
            },
            "type": "mesh3d"
           }
          ],
          "parcoords": [
           {
            "line": {
             "colorbar": {
              "outlinewidth": 0,
              "ticks": ""
             }
            },
            "type": "parcoords"
           }
          ],
          "pie": [
           {
            "automargin": true,
            "type": "pie"
           }
          ],
          "scatter": [
           {
            "fillpattern": {
             "fillmode": "overlay",
             "size": 10,
             "solidity": 0.2
            },
            "type": "scatter"
           }
          ],
          "scatter3d": [
           {
            "line": {
             "colorbar": {
              "outlinewidth": 0,
              "ticks": ""
             }
            },
            "marker": {
             "colorbar": {
              "outlinewidth": 0,
              "ticks": ""
             }
            },
            "type": "scatter3d"
           }
          ],
          "scattercarpet": [
           {
            "marker": {
             "colorbar": {
              "outlinewidth": 0,
              "ticks": ""
             }
            },
            "type": "scattercarpet"
           }
          ],
          "scattergeo": [
           {
            "marker": {
             "colorbar": {
              "outlinewidth": 0,
              "ticks": ""
             }
            },
            "type": "scattergeo"
           }
          ],
          "scattergl": [
           {
            "marker": {
             "colorbar": {
              "outlinewidth": 0,
              "ticks": ""
             }
            },
            "type": "scattergl"
           }
          ],
          "scattermapbox": [
           {
            "marker": {
             "colorbar": {
              "outlinewidth": 0,
              "ticks": ""
             }
            },
            "type": "scattermapbox"
           }
          ],
          "scatterpolar": [
           {
            "marker": {
             "colorbar": {
              "outlinewidth": 0,
              "ticks": ""
             }
            },
            "type": "scatterpolar"
           }
          ],
          "scatterpolargl": [
           {
            "marker": {
             "colorbar": {
              "outlinewidth": 0,
              "ticks": ""
             }
            },
            "type": "scatterpolargl"
           }
          ],
          "scatterternary": [
           {
            "marker": {
             "colorbar": {
              "outlinewidth": 0,
              "ticks": ""
             }
            },
            "type": "scatterternary"
           }
          ],
          "surface": [
           {
            "colorbar": {
             "outlinewidth": 0,
             "ticks": ""
            },
            "colorscale": [
             [
              0,
              "#0d0887"
             ],
             [
              0.1111111111111111,
              "#46039f"
             ],
             [
              0.2222222222222222,
              "#7201a8"
             ],
             [
              0.3333333333333333,
              "#9c179e"
             ],
             [
              0.4444444444444444,
              "#bd3786"
             ],
             [
              0.5555555555555556,
              "#d8576b"
             ],
             [
              0.6666666666666666,
              "#ed7953"
             ],
             [
              0.7777777777777778,
              "#fb9f3a"
             ],
             [
              0.8888888888888888,
              "#fdca26"
             ],
             [
              1,
              "#f0f921"
             ]
            ],
            "type": "surface"
           }
          ],
          "table": [
           {
            "cells": {
             "fill": {
              "color": "#EBF0F8"
             },
             "line": {
              "color": "white"
             }
            },
            "header": {
             "fill": {
              "color": "#C8D4E3"
             },
             "line": {
              "color": "white"
             }
            },
            "type": "table"
           }
          ]
         },
         "layout": {
          "annotationdefaults": {
           "arrowcolor": "#2a3f5f",
           "arrowhead": 0,
           "arrowwidth": 1
          },
          "autotypenumbers": "strict",
          "coloraxis": {
           "colorbar": {
            "outlinewidth": 0,
            "ticks": ""
           }
          },
          "colorscale": {
           "diverging": [
            [
             0,
             "#8e0152"
            ],
            [
             0.1,
             "#c51b7d"
            ],
            [
             0.2,
             "#de77ae"
            ],
            [
             0.3,
             "#f1b6da"
            ],
            [
             0.4,
             "#fde0ef"
            ],
            [
             0.5,
             "#f7f7f7"
            ],
            [
             0.6,
             "#e6f5d0"
            ],
            [
             0.7,
             "#b8e186"
            ],
            [
             0.8,
             "#7fbc41"
            ],
            [
             0.9,
             "#4d9221"
            ],
            [
             1,
             "#276419"
            ]
           ],
           "sequential": [
            [
             0,
             "#0d0887"
            ],
            [
             0.1111111111111111,
             "#46039f"
            ],
            [
             0.2222222222222222,
             "#7201a8"
            ],
            [
             0.3333333333333333,
             "#9c179e"
            ],
            [
             0.4444444444444444,
             "#bd3786"
            ],
            [
             0.5555555555555556,
             "#d8576b"
            ],
            [
             0.6666666666666666,
             "#ed7953"
            ],
            [
             0.7777777777777778,
             "#fb9f3a"
            ],
            [
             0.8888888888888888,
             "#fdca26"
            ],
            [
             1,
             "#f0f921"
            ]
           ],
           "sequentialminus": [
            [
             0,
             "#0d0887"
            ],
            [
             0.1111111111111111,
             "#46039f"
            ],
            [
             0.2222222222222222,
             "#7201a8"
            ],
            [
             0.3333333333333333,
             "#9c179e"
            ],
            [
             0.4444444444444444,
             "#bd3786"
            ],
            [
             0.5555555555555556,
             "#d8576b"
            ],
            [
             0.6666666666666666,
             "#ed7953"
            ],
            [
             0.7777777777777778,
             "#fb9f3a"
            ],
            [
             0.8888888888888888,
             "#fdca26"
            ],
            [
             1,
             "#f0f921"
            ]
           ]
          },
          "colorway": [
           "#636efa",
           "#EF553B",
           "#00cc96",
           "#ab63fa",
           "#FFA15A",
           "#19d3f3",
           "#FF6692",
           "#B6E880",
           "#FF97FF",
           "#FECB52"
          ],
          "font": {
           "color": "#2a3f5f"
          },
          "geo": {
           "bgcolor": "white",
           "lakecolor": "white",
           "landcolor": "#E5ECF6",
           "showlakes": true,
           "showland": true,
           "subunitcolor": "white"
          },
          "hoverlabel": {
           "align": "left"
          },
          "hovermode": "closest",
          "mapbox": {
           "style": "light"
          },
          "paper_bgcolor": "white",
          "plot_bgcolor": "#E5ECF6",
          "polar": {
           "angularaxis": {
            "gridcolor": "white",
            "linecolor": "white",
            "ticks": ""
           },
           "bgcolor": "#E5ECF6",
           "radialaxis": {
            "gridcolor": "white",
            "linecolor": "white",
            "ticks": ""
           }
          },
          "scene": {
           "xaxis": {
            "backgroundcolor": "#E5ECF6",
            "gridcolor": "white",
            "gridwidth": 2,
            "linecolor": "white",
            "showbackground": true,
            "ticks": "",
            "zerolinecolor": "white"
           },
           "yaxis": {
            "backgroundcolor": "#E5ECF6",
            "gridcolor": "white",
            "gridwidth": 2,
            "linecolor": "white",
            "showbackground": true,
            "ticks": "",
            "zerolinecolor": "white"
           },
           "zaxis": {
            "backgroundcolor": "#E5ECF6",
            "gridcolor": "white",
            "gridwidth": 2,
            "linecolor": "white",
            "showbackground": true,
            "ticks": "",
            "zerolinecolor": "white"
           }
          },
          "shapedefaults": {
           "line": {
            "color": "#2a3f5f"
           }
          },
          "ternary": {
           "aaxis": {
            "gridcolor": "white",
            "linecolor": "white",
            "ticks": ""
           },
           "baxis": {
            "gridcolor": "white",
            "linecolor": "white",
            "ticks": ""
           },
           "bgcolor": "#E5ECF6",
           "caxis": {
            "gridcolor": "white",
            "linecolor": "white",
            "ticks": ""
           }
          },
          "title": {
           "x": 0.05
          },
          "xaxis": {
           "automargin": true,
           "gridcolor": "white",
           "linecolor": "white",
           "ticks": "",
           "title": {
            "standoff": 15
           },
           "zerolinecolor": "white",
           "zerolinewidth": 2
          },
          "yaxis": {
           "automargin": true,
           "gridcolor": "white",
           "linecolor": "white",
           "ticks": "",
           "title": {
            "standoff": 15
           },
           "zerolinecolor": "white",
           "zerolinewidth": 2
          }
         }
        },
        "title": {
         "text": "U.S. Treasury Yield Curve (daily)"
        },
        "updatemenus": [
         {
          "buttons": [
           {
            "args": [
             null,
             {
              "frame": {
               "duration": 100,
               "redraw": true
              },
              "fromcurrent": true,
              "transition": {
               "duration": 0
              }
             }
            ],
            "label": "Play",
            "method": "animate"
           },
           {
            "args": [
             [
              null
             ],
             {
              "frame": {
               "duration": 0,
               "redraw": false
              },
              "mode": "immediate"
             }
            ],
            "label": "Pause",
            "method": "animate"
           }
          ],
          "type": "buttons"
         }
        ],
        "width": 1000,
        "xaxis": {
         "range": [
          0,
          35
         ],
         "title": {
          "text": "Maturity (in years)"
         }
        },
        "yaxis": {
         "range": [
          3.3,
          5.5
         ],
         "title": {
          "text": "Yield (%)"
         }
        }
       }
      }
     },
     "metadata": {},
     "output_type": "display_data"
    }
   ],
   "source": [
    "# ----- 1. PLOT TREASURY PAR YIELD CURVE ----- \n",
    "\n",
    "# curve_df: rows=dates , cols=['3M','6M','1Y',...,'30Y'] in PERCENT\n",
    "MAT_YEARS = {\"3M\":0.25,\"6M\":0.5,\"1Y\":1,\"2Y\":2,\"3Y\":3,\"5Y\":5,\"7Y\":7,\"10Y\":10,\"20Y\":20,\"30Y\":30}\n",
    "\n",
    "cols = [c for c in MAT_YEARS if c in curve_df.columns]\n",
    "x = np.array([MAT_YEARS[c] for c in cols])\n",
    "\n",
    "# Build frames\n",
    "df_complete = curve_df[cols].dropna()\n",
    "dates = df_complete.index\n",
    "\n",
    "frames = []\n",
    "for d in dates:\n",
    "    y = df_complete.loc[d].values  # yields in %\n",
    "    frames.append(go.Frame(data=[go.Scatter(x=x, y=y, mode=\"lines+markers\")],\n",
    "                           name=str(d.date())))\n",
    "    \n",
    "fig = go.Figure(\n",
    "    data=[go.Scatter(x=x, y=df_complete.iloc[0].values, mode=\"lines+markers\")]\n",
    "    , layout=go.Layout(\n",
    "\n",
    "        title=\"U.S. Treasury Yield Curve (daily)\"\n",
    "        , xaxis=dict(title=\"Maturity (in years)\", range=[0, 35])\n",
    "        , yaxis=dict(title=\"Yield (%)\", range=[3.3,5.5])\n",
    "        , width=1000 , height=600\n",
    "        , updatemenus=[{\n",
    "            \"type\": \"buttons\"\n",
    "            , \"buttons\": [\n",
    "                {\"label\": \"Play\", \"method\": \"animate\",\n",
    "                 \"args\": [None, {\"frame\": {\"duration\": 100, \"redraw\": True},\n",
    "                                 \"fromcurrent\": True, \"transition\": {\"duration\": 0}}]}\n",
    "                , {\"label\": \"Pause\", \"method\": \"animate\",\n",
    "                 \"args\": [[None], {\"frame\": {\"duration\": 0, \"redraw\": False},\n",
    "                                   \"mode\": \"immediate\"}]},\n",
    "            ]\n",
    "        }]\n",
    "        , sliders=[{\n",
    "            \"steps\": [{\"args\": [[str(d.date())],\n",
    "                        {\"frame\": {\"duration\": 0, \"redraw\": True}, \"mode\": \"immediate\"}],\n",
    "                       \"label\": str(d.date()), \"method\": \"animate\"} for d in dates]\n",
    "            , \"currentvalue\": {\"prefix\": \"Date: \"}\n",
    "        }]\n",
    "    )\n",
    "    , frames=frames\n",
    ")\n",
    "\n",
    "fig.show()"
   ]
  },
  {
   "cell_type": "code",
   "execution_count": 9,
   "id": "c195d827",
   "metadata": {},
   "outputs": [
    {
     "data": {
      "text/html": [
       "<div>\n",
       "<style scoped>\n",
       "    .dataframe tbody tr th:only-of-type {\n",
       "        vertical-align: middle;\n",
       "    }\n",
       "\n",
       "    .dataframe tbody tr th {\n",
       "        vertical-align: top;\n",
       "    }\n",
       "\n",
       "    .dataframe thead th {\n",
       "        text-align: right;\n",
       "    }\n",
       "</style>\n",
       "<table border=\"1\" class=\"dataframe\">\n",
       "  <thead>\n",
       "    <tr style=\"text-align: right;\">\n",
       "      <th></th>\n",
       "      <th>par_yields</th>\n",
       "    </tr>\n",
       "    <tr>\n",
       "      <th>maturities</th>\n",
       "      <th></th>\n",
       "    </tr>\n",
       "  </thead>\n",
       "  <tbody>\n",
       "    <tr>\n",
       "      <th>0.25</th>\n",
       "      <td>0.0403</td>\n",
       "    </tr>\n",
       "    <tr>\n",
       "      <th>0.50</th>\n",
       "      <td>0.0381</td>\n",
       "    </tr>\n",
       "    <tr>\n",
       "      <th>1.00</th>\n",
       "      <td>0.0360</td>\n",
       "    </tr>\n",
       "    <tr>\n",
       "      <th>2.00</th>\n",
       "      <td>0.0357</td>\n",
       "    </tr>\n",
       "    <tr>\n",
       "      <th>3.00</th>\n",
       "      <td>0.0356</td>\n",
       "    </tr>\n",
       "    <tr>\n",
       "      <th>5.00</th>\n",
       "      <td>0.0368</td>\n",
       "    </tr>\n",
       "    <tr>\n",
       "      <th>7.00</th>\n",
       "      <td>0.0388</td>\n",
       "    </tr>\n",
       "    <tr>\n",
       "      <th>10.00</th>\n",
       "      <td>0.0414</td>\n",
       "    </tr>\n",
       "    <tr>\n",
       "      <th>20.00</th>\n",
       "      <td>0.0471</td>\n",
       "    </tr>\n",
       "    <tr>\n",
       "      <th>30.00</th>\n",
       "      <td>0.0475</td>\n",
       "    </tr>\n",
       "  </tbody>\n",
       "</table>\n",
       "</div>"
      ],
      "text/plain": [
       "            par_yields\n",
       "maturities            \n",
       "0.25            0.0403\n",
       "0.50            0.0381\n",
       "1.00            0.0360\n",
       "2.00            0.0357\n",
       "3.00            0.0356\n",
       "5.00            0.0368\n",
       "7.00            0.0388\n",
       "10.00           0.0414\n",
       "20.00           0.0471\n",
       "30.00           0.0475"
      ]
     },
     "execution_count": 9,
     "metadata": {},
     "output_type": "execute_result"
    }
   ],
   "source": [
    "# Extract the data for 19-Sep-2025\n",
    "yields_1909 = curve_df.loc['2025-09-19'] \n",
    "\n",
    "# Convert the Series index to years\n",
    "yields_1909 = yields_1909.rename(index=lambda s: float(s[:-1]) / 12 if s.endswith(\"M\") else float(s[:-1]))\n",
    "# Yields/100\n",
    "yields_1909 = yields_1909/ 100\n",
    "\n",
    "yields = yields_1909.rename('par_yields').to_frame()\n",
    "yields.index.name = 'maturities'\n",
    "\n",
    "yields"
   ]
  },
  {
   "cell_type": "code",
   "execution_count": null,
   "id": "d96f2376",
   "metadata": {},
   "outputs": [],
   "source": [
    "def compute_zero_forward_from_par(yields):\n",
    "    \"\"\"\n",
    "    Expects:\n",
    "      - index: maturities in years (float)\n",
    "      - column 'par_yields': yields in decimals (e.g., 0.0425)\n",
    "\n",
    "    Adds:\n",
    "      - 'Zero'    : continuous zero rate, z(T) = -ln(DF)/T\n",
    "      - 'Forward' : continuous forward over [T_{i-1}, T_i] = Δ(z*T)/ΔT (first = NaN)\n",
    "\n",
    "    \"\"\"\n",
    "    y = yields.sort_index().copy()\n",
    "\n",
    "    T = y.index.to_numpy(dtype=float)                # maturities (years)\n",
    "    r = y[\"par_yields\"].to_numpy(dtype=float)       # yields (decimal)\n",
    "\n",
    "    DF = np.power(1.0 + r, -T)\n",
    "\n",
    "    Zero = np.where(T > 0.0, -np.log(DF) / T, np.nan)\n",
    "\n",
    "    zT = Zero * T\n",
    "    Forward = np.r_[np.nan, np.diff(zT) / np.diff(T)] if T.size >= 2 else np.array([np.nan])\n",
    "\n",
    "    y[\"zero_yields\"] = Zero\n",
    "    y[\"fwd_yields\"] = Forward\n",
    "\n",
    "    return y"
   ]
  },
  {
   "cell_type": "code",
   "execution_count": 11,
   "id": "24bab9d3",
   "metadata": {},
   "outputs": [
    {
     "data": {
      "text/html": [
       "<div>\n",
       "<style scoped>\n",
       "    .dataframe tbody tr th:only-of-type {\n",
       "        vertical-align: middle;\n",
       "    }\n",
       "\n",
       "    .dataframe tbody tr th {\n",
       "        vertical-align: top;\n",
       "    }\n",
       "\n",
       "    .dataframe thead th {\n",
       "        text-align: right;\n",
       "    }\n",
       "</style>\n",
       "<table border=\"1\" class=\"dataframe\">\n",
       "  <thead>\n",
       "    <tr style=\"text-align: right;\">\n",
       "      <th></th>\n",
       "      <th>par_yields</th>\n",
       "      <th>zero_yields</th>\n",
       "      <th>fwd_yields</th>\n",
       "    </tr>\n",
       "    <tr>\n",
       "      <th>maturities</th>\n",
       "      <th></th>\n",
       "      <th></th>\n",
       "      <th></th>\n",
       "    </tr>\n",
       "  </thead>\n",
       "  <tbody>\n",
       "    <tr>\n",
       "      <th>0.25</th>\n",
       "      <td>0.0403</td>\n",
       "      <td>0.039509</td>\n",
       "      <td>NaN</td>\n",
       "    </tr>\n",
       "    <tr>\n",
       "      <th>0.50</th>\n",
       "      <td>0.0381</td>\n",
       "      <td>0.037392</td>\n",
       "      <td>0.035275</td>\n",
       "    </tr>\n",
       "    <tr>\n",
       "      <th>1.00</th>\n",
       "      <td>0.0360</td>\n",
       "      <td>0.035367</td>\n",
       "      <td>0.033342</td>\n",
       "    </tr>\n",
       "    <tr>\n",
       "      <th>2.00</th>\n",
       "      <td>0.0357</td>\n",
       "      <td>0.035078</td>\n",
       "      <td>0.034788</td>\n",
       "    </tr>\n",
       "    <tr>\n",
       "      <th>3.00</th>\n",
       "      <td>0.0356</td>\n",
       "      <td>0.034981</td>\n",
       "      <td>0.034788</td>\n",
       "    </tr>\n",
       "    <tr>\n",
       "      <th>5.00</th>\n",
       "      <td>0.0368</td>\n",
       "      <td>0.036139</td>\n",
       "      <td>0.037876</td>\n",
       "    </tr>\n",
       "    <tr>\n",
       "      <th>7.00</th>\n",
       "      <td>0.0388</td>\n",
       "      <td>0.038066</td>\n",
       "      <td>0.042884</td>\n",
       "    </tr>\n",
       "    <tr>\n",
       "      <th>10.00</th>\n",
       "      <td>0.0414</td>\n",
       "      <td>0.040566</td>\n",
       "      <td>0.046399</td>\n",
       "    </tr>\n",
       "    <tr>\n",
       "      <th>20.00</th>\n",
       "      <td>0.0471</td>\n",
       "      <td>0.046024</td>\n",
       "      <td>0.051483</td>\n",
       "    </tr>\n",
       "    <tr>\n",
       "      <th>30.00</th>\n",
       "      <td>0.0475</td>\n",
       "      <td>0.046406</td>\n",
       "      <td>0.047170</td>\n",
       "    </tr>\n",
       "  </tbody>\n",
       "</table>\n",
       "</div>"
      ],
      "text/plain": [
       "            par_yields  zero_yields  fwd_yields\n",
       "maturities                                     \n",
       "0.25            0.0403     0.039509         NaN\n",
       "0.50            0.0381     0.037392    0.035275\n",
       "1.00            0.0360     0.035367    0.033342\n",
       "2.00            0.0357     0.035078    0.034788\n",
       "3.00            0.0356     0.034981    0.034788\n",
       "5.00            0.0368     0.036139    0.037876\n",
       "7.00            0.0388     0.038066    0.042884\n",
       "10.00           0.0414     0.040566    0.046399\n",
       "20.00           0.0471     0.046024    0.051483\n",
       "30.00           0.0475     0.046406    0.047170"
      ]
     },
     "execution_count": 11,
     "metadata": {},
     "output_type": "execute_result"
    }
   ],
   "source": [
    "yields_par_zero_fwd_df = compute_zero_forward_from_par(yields)\n",
    "yields_par_zero_fwd_df"
   ]
  },
  {
   "cell_type": "code",
   "execution_count": 12,
   "id": "585ade8c",
   "metadata": {},
   "outputs": [
    {
     "data": {
      "image/png": "[encoded data removed]",
      "text/plain": [
       "<Figure size 640x480 with 1 Axes>"
      ]
     },
     "metadata": {},
     "output_type": "display_data"
    }
   ],
   "source": [
    "x = yields_par_zero_fwd_df.index.astype(float).to_numpy()\n",
    "par = yields_par_zero_fwd_df[\"par_yields\"].to_numpy() * 100\n",
    "zero = yields_par_zero_fwd_df[\"zero_yields\"].to_numpy() * 100\n",
    "\n",
    "fwd_series = yields_par_zero_fwd_df[\"fwd_yields\"].dropna()\n",
    "xfwd = fwd_series.index.astype(float).to_numpy()\n",
    "fwd  = fwd_series.to_numpy() * 100\n",
    "\n",
    "plt.figure()\n",
    "plt.plot(x, par,  marker=\"o\", label=\"Par\")\n",
    "plt.plot(x, zero, marker=\"o\", label=\"Zero\")\n",
    "plt.plot(xfwd, fwd,  marker=\"o\", label=\"Forward\")\n",
    "plt.xlabel(\"Maturity (years)\")\n",
    "plt.ylabel(\"Rate (%)\")\n",
    "plt.legend()\n",
    "plt.show()"
   ]
  },
  {
   "cell_type": "markdown",
   "id": "c746e492",
   "metadata": {},
   "source": [
    "# Question 4\n",
    "Bootstrap spot Rates from coupon bonds - use the FRED API or Bloomberg to get the treasury prices/yields - do this till the 30Y. "
   ]
  },
  {
   "cell_type": "code",
   "execution_count": null,
   "id": "b12c027c",
   "metadata": {},
   "outputs": [],
   "source": [
    "def bootstrap_spot_from_par_df(df, freq=2, par=100.0):\n",
    "\n",
    "    s = df['par_yields'].dropna().sort_index()\n",
    "\n",
    "    step  = 1.0 / freq\n",
    "    max_T = float(min(30.0, s.index.max()))\n",
    "    Tgrid = np.arange(step, max_T + 1e-12, step)\n",
    "\n",
    "    # interpolate par yields onto the coupon dates\n",
    "    f = interp1d(s.index.values, s.values, kind='linear', bounds_error=True)\n",
    "    ygrid = f(Tgrid)  \n",
    "\n",
    "    # bootstrap continuous spots\n",
    "    spot = np.zeros_like(Tgrid)\n",
    "    for i in range(len(Tgrid)):\n",
    "        T = Tgrid[i]\n",
    "        y = ygrid[i]\n",
    "        c = par * y / freq \n",
    "\n",
    "        if T <= 1.0:\n",
    "            spot[i] = y\n",
    "        else:\n",
    "            pv = 0.0\n",
    "            for k in range(1, int(T*freq)):   \n",
    "                t_k = k / freq               \n",
    "                z_k = spot[k-1]             \n",
    "                pv += c * np.exp(-z_k * t_k)\n",
    "            spot[i] = -(1.0 / T) * np.log((par - pv) / (par + c))\n",
    "\n",
    "    DF = np.exp(-spot * Tgrid)\n",
    "\n",
    "    return pd.DataFrame({\n",
    "        \"T_years\": Tgrid,\n",
    "        \"par_interpolated\": ygrid,\n",
    "        \"spot\": spot,\n",
    "        \"DF\": DF\n",
    "    }"
   ]
  },
  {
   "cell_type": "code",
   "execution_count": 14,
   "id": "d55bd194",
   "metadata": {},
   "outputs": [
    {
     "data": {
      "text/html": [
       "<div>\n",
       "<style scoped>\n",
       "    .dataframe tbody tr th:only-of-type {\n",
       "        vertical-align: middle;\n",
       "    }\n",
       "\n",
       "    .dataframe tbody tr th {\n",
       "        vertical-align: top;\n",
       "    }\n",
       "\n",
       "    .dataframe thead th {\n",
       "        text-align: right;\n",
       "    }\n",
       "</style>\n",
       "<table border=\"1\" class=\"dataframe\">\n",
       "  <thead>\n",
       "    <tr style=\"text-align: right;\">\n",
       "      <th></th>\n",
       "      <th>T_years</th>\n",
       "      <th>par_interp</th>\n",
       "      <th>spot</th>\n",
       "      <th>DF</th>\n",
       "    </tr>\n",
       "  </thead>\n",
       "  <tbody>\n",
       "    <tr>\n",
       "      <th>0</th>\n",
       "      <td>0.5</td>\n",
       "      <td>0.03810</td>\n",
       "      <td>0.038100</td>\n",
       "      <td>0.981130</td>\n",
       "    </tr>\n",
       "    <tr>\n",
       "      <th>1</th>\n",
       "      <td>1.0</td>\n",
       "      <td>0.03600</td>\n",
       "      <td>0.036000</td>\n",
       "      <td>0.964640</td>\n",
       "    </tr>\n",
       "    <tr>\n",
       "      <th>2</th>\n",
       "      <td>1.5</td>\n",
       "      <td>0.03585</td>\n",
       "      <td>0.035511</td>\n",
       "      <td>0.948127</td>\n",
       "    </tr>\n",
       "    <tr>\n",
       "      <th>3</th>\n",
       "      <td>2.0</td>\n",
       "      <td>0.03570</td>\n",
       "      <td>0.035365</td>\n",
       "      <td>0.931713</td>\n",
       "    </tr>\n",
       "    <tr>\n",
       "      <th>4</th>\n",
       "      <td>2.5</td>\n",
       "      <td>0.03565</td>\n",
       "      <td>0.035318</td>\n",
       "      <td>0.915490</td>\n",
       "    </tr>\n",
       "  </tbody>\n",
       "</table>\n",
       "</div>"
      ],
      "text/plain": [
       "   T_years  par_interp      spot        DF\n",
       "0      0.5     0.03810  0.038100  0.981130\n",
       "1      1.0     0.03600  0.036000  0.964640\n",
       "2      1.5     0.03585  0.035511  0.948127\n",
       "3      2.0     0.03570  0.035365  0.931713\n",
       "4      2.5     0.03565  0.035318  0.915490"
      ]
     },
     "execution_count": 14,
     "metadata": {},
     "output_type": "execute_result"
    }
   ],
   "source": [
    "bootstrapped_spot = bootstrap_spot_from_par_df(yields_par_zero_fwd_df)\n",
    "bootstrapped_spot.head()"
   ]
  },
  {
   "cell_type": "code",
   "execution_count": 15,
   "id": "926f7b65",
   "metadata": {},
   "outputs": [
    {
     "data": {
      "image/png": "[encoded data removed]",
      "text/plain": [
       "<Figure size 1200x800 with 1 Axes>"
      ]
     },
     "metadata": {},
     "output_type": "display_data"
    }
   ],
   "source": [
    "x = bootstrapped_spot[\"T_years\"].to_numpy()\n",
    "y = (bootstrapped_spot[\"spot\"].to_numpy() * 100)   # convert to percent\n",
    "\n",
    "plt.figure(figsize=(12,8))\n",
    "plt.plot(x, y, marker=\"o\")\n",
    "plt.xlabel(\"Maturity (years)\")\n",
    "plt.ylabel(\"Spot rate (%)\")\n",
    "plt.title(\"Bootstrapped Spot Curve\")\n",
    "plt.show()"
   ]
  },
  {
   "cell_type": "markdown",
   "id": "228c3890",
   "metadata": {},
   "source": [
    "# Question 5\n",
    "Calculate the 1 year forward rates from 1Y - 30Y (so 2Y1Y forward, 3Y1Y forward etc.). Plot the forward curve and classify the shape of it (inverted/normal etc.) Explain what that means!"
   ]
  },
  {
   "cell_type": "code",
   "execution_count": null,
   "id": "35f1d701",
   "metadata": {},
   "outputs": [],
   "source": [
    "def compute_1y_forwards(boot_df):\n",
    "\n",
    "    g = boot_df[[\"T_years\", \"DF\"]].dropna().copy().set_index(\"T_years\")\n",
    "    \n",
    "    key = np.round(g.index.values, 6)\n",
    "    D   = dict(zip(key, g[\"DF\"].values))\n",
    "\n",
    "    starts, fwds = [], []\n",
    "    for t in sorted(D.keys()):\n",
    "        if t < 1.0:\n",
    "            continue\n",
    "        t1 = round(t + 1.0, 6)\n",
    "        if t1 in D:\n",
    "            f = np.log(D[t] / D[t1])        \n",
    "            starts.append(t)\n",
    "            fwds.append(f)\n",
    "\n",
    "    return pd.DataFrame({\"start_year\": starts, \"fwd_1y_cont\": fwds})"
   ]
  },
  {
   "cell_type": "code",
   "execution_count": 17,
   "id": "b2aaa28d",
   "metadata": {},
   "outputs": [
    {
     "data": {
      "text/html": [
       "<div>\n",
       "<style scoped>\n",
       "    .dataframe tbody tr th:only-of-type {\n",
       "        vertical-align: middle;\n",
       "    }\n",
       "\n",
       "    .dataframe tbody tr th {\n",
       "        vertical-align: top;\n",
       "    }\n",
       "\n",
       "    .dataframe thead th {\n",
       "        text-align: right;\n",
       "    }\n",
       "</style>\n",
       "<table border=\"1\" class=\"dataframe\">\n",
       "  <thead>\n",
       "    <tr style=\"text-align: right;\">\n",
       "      <th></th>\n",
       "      <th>start_year</th>\n",
       "      <th>fwd_1y_cont</th>\n",
       "    </tr>\n",
       "  </thead>\n",
       "  <tbody>\n",
       "    <tr>\n",
       "      <th>0</th>\n",
       "      <td>1.0</td>\n",
       "      <td>0.034731</td>\n",
       "    </tr>\n",
       "    <tr>\n",
       "      <th>1</th>\n",
       "      <td>1.5</td>\n",
       "      <td>0.035029</td>\n",
       "    </tr>\n",
       "    <tr>\n",
       "      <th>2</th>\n",
       "      <td>2.0</td>\n",
       "      <td>0.035079</td>\n",
       "    </tr>\n",
       "    <tr>\n",
       "      <th>3</th>\n",
       "      <td>2.5</td>\n",
       "      <td>0.036246</td>\n",
       "    </tr>\n",
       "    <tr>\n",
       "      <th>4</th>\n",
       "      <td>3.0</td>\n",
       "      <td>0.037779</td>\n",
       "    </tr>\n",
       "  </tbody>\n",
       "</table>\n",
       "</div>"
      ],
      "text/plain": [
       "   start_year  fwd_1y_cont\n",
       "0         1.0     0.034731\n",
       "1         1.5     0.035029\n",
       "2         2.0     0.035079\n",
       "3         2.5     0.036246\n",
       "4         3.0     0.037779"
      ]
     },
     "execution_count": 17,
     "metadata": {},
     "output_type": "execute_result"
    }
   ],
   "source": [
    "fw1y = compute_1y_forwards(bootstrapped_spot)\n",
    "fw1y.head()"
   ]
  },
  {
   "cell_type": "code",
   "execution_count": 18,
   "id": "34d53962",
   "metadata": {},
   "outputs": [
    {
     "data": {
      "image/png": "[encoded data removed]",
      "text/plain": [
       "<Figure size 640x480 with 1 Axes>"
      ]
     },
     "metadata": {},
     "output_type": "display_data"
    }
   ],
   "source": [
    "plt.figure()\n",
    "plt.plot(fw1y[\"start_year\"], fw1y[\"fwd_1y_cont\"]*100, marker=\"o\")\n",
    "plt.xlabel(\"Forward start (years)\")\n",
    "plt.ylabel(\"1Y forward (%)\")\n",
    "plt.title(\"1Y Forward Curve\")\n",
    "plt.show()"
   ]
  },
  {
   "cell_type": "code",
   "execution_count": 19,
   "id": "256943d7",
   "metadata": {},
   "outputs": [],
   "source": [
    "# Humped: Medium-term forwards peak above both short and long ends. \n",
    "# Market expects rates to rise then fall."
   ]
  }
 ],
 "metadata": {
  "kernelspec": {
   "display_name": "base",
   "language": "python",
   "name": "python3"
  },
  "language_info": {
   "codemirror_mode": {
    "name": "ipython",
    "version": 3
   },
   "file_extension": ".py",
   "mimetype": "text/x-python",
   "name": "python",
   "nbconvert_exporter": "python",
   "pygments_lexer": "ipython3",
   "version": "3.11.5"
  }
 },
 "nbformat": 4,
 "nbformat_minor": 5
}
